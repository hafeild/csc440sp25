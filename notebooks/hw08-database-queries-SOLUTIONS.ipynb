{
 "cells": [
  {
   "cell_type": "markdown",
   "metadata": {
    "cell_id": "271d395c97ad4b3ea8e02b72ec7df008",
    "deepnote_cell_type": "markdown",
    "nbgrader": {
     "grade": false,
     "grade_id": "cell-f2828a0adb8f59d5",
     "locked": true,
     "schema_version": 3,
     "solution": false,
     "task": false
    }
   },
   "source": [
    "# Homework 8\n",
    "\n",
    "Answer the following questions using the Chinook database. You should download the Chinook data to your data folder (`../data/`).\n",
    "\n",
    "Here is the ERD of the database:\n",
    "\n",
    "![ERD](chinook-erd.png)"
   ]
  },
  {
   "cell_type": "markdown",
   "metadata": {
    "cell_id": "c1d45348bc12444b8602abdaea1486a7",
    "deepnote_cell_type": "markdown",
    "nbgrader": {
     "grade": false,
     "grade_id": "cell-bad2595163bd2678",
     "locked": true,
     "schema_version": 3,
     "solution": false,
     "task": false
    }
   },
   "source": [
    "## Setup \n",
    "\n",
    "Set up the connection and cursor to the database."
   ]
  },
  {
   "cell_type": "code",
   "execution_count": 2,
   "metadata": {
    "cell_id": "4a7dc6d2198b4c519c5a33854e6a8515",
    "deepnote_cell_type": "code",
    "deepnote_to_be_reexecuted": false,
    "execution_millis": 11,
    "execution_start": 1677785035303,
    "nbgrader": {
     "grade": true,
     "grade_id": "cell-b0f010110410ea15",
     "locked": false,
     "points": 1,
     "schema_version": 3,
     "solution": true,
     "task": false
    },
    "source_hash": "aba4efd4"
   },
   "outputs": [],
   "source": [
    "import sqlite3\n",
    "\n",
    "connection = sqlite3.connect(\"../data/Chinook_Sqlite.sqlite\")\n",
    "cursor = connection.cursor()"
   ]
  },
  {
   "cell_type": "markdown",
   "metadata": {
    "cell_id": "80a2eee377c846eeab3bad63da4b4b84",
    "deepnote_cell_type": "markdown",
    "nbgrader": {
     "grade": false,
     "grade_id": "cell-a163711f1cfdac40",
     "locked": true,
     "schema_version": 3,
     "solution": false,
     "task": false
    }
   },
   "source": [
    "## Question 1\n",
    "\n",
    "How many customers are there?\n",
    "\n",
    "Write the Python SQL statements below to answer this question."
   ]
  },
  {
   "cell_type": "code",
   "execution_count": 4,
   "metadata": {
    "cell_id": "7d4ab196c20b4a9ebb4e2fa29528f915",
    "deepnote_cell_type": "code",
    "deepnote_to_be_reexecuted": false,
    "execution_millis": 3,
    "execution_start": 1677785035355,
    "nbgrader": {
     "grade": true,
     "grade_id": "cell-97119b8177fdc67d",
     "locked": false,
     "points": 1,
     "schema_version": 3,
     "solution": true,
     "task": false
    },
    "source_hash": "cf445ff5"
   },
   "outputs": [
    {
     "data": {
      "text/plain": [
       "(59,)"
      ]
     },
     "execution_count": 4,
     "metadata": {},
     "output_type": "execute_result"
    }
   ],
   "source": [
    "# The Customer table contains all of the distinct customers, so to answer this question\n",
    "# we need to find out how many rows are in that table.\n",
    "cursor.execute(\"select count() from Customer\")\n",
    "cursor.fetchone()"
   ]
  },
  {
   "cell_type": "markdown",
   "metadata": {
    "cell_id": "7393da093ea04dc79432c3ddb7702d9a",
    "deepnote_cell_type": "markdown",
    "nbgrader": {
     "grade": false,
     "grade_id": "cell-d1702149cfcaf3d5",
     "locked": true,
     "schema_version": 3,
     "solution": false,
     "task": false
    }
   },
   "source": [
    "You should find that there are 59 customers."
   ]
  },
  {
   "cell_type": "markdown",
   "metadata": {
    "cell_id": "13e4056d0a6a49028b2e1a2a1ea7a26a",
    "deepnote_cell_type": "markdown",
    "nbgrader": {
     "grade": false,
     "grade_id": "cell-66950231bb2483db",
     "locked": true,
     "schema_version": 3,
     "solution": false,
     "task": false
    }
   },
   "source": [
    "## Question 2 \n",
    "\n",
    "Which customer bought the most number of tracks? How many tracks? Include the first and last name of the customer and the number of tracks purchased.\n",
    "\n",
    "Write the Python SQL statements below to answer this question."
   ]
  },
  {
   "cell_type": "code",
   "execution_count": 7,
   "metadata": {
    "cell_id": "983601e9087543f39553daa8f29a8be3",
    "deepnote_cell_type": "code",
    "deepnote_to_be_reexecuted": false,
    "execution_millis": 45,
    "execution_start": 1677785035356,
    "nbgrader": {
     "grade": true,
     "grade_id": "cell-26a026ada40dc6a9",
     "locked": false,
     "points": 1,
     "schema_version": 3,
     "solution": true,
     "task": false
    },
    "source_hash": "cf445ff5"
   },
   "outputs": [
    {
     "data": {
      "text/plain": [
       "('Luís', 'Gonçalves', 38)"
      ]
     },
     "execution_count": 7,
     "metadata": {},
     "output_type": "execute_result"
    }
   ],
   "source": [
    "# NOTE: I am not considering the quantity of each track, though I probably should be...if I were\n",
    "# to do that, I'd need to sum across the Quantity column.\n",
    "\n",
    "# We need to find how how many tracks each customer bought -- this requires a join between the\n",
    "# InvoiceLine table (which contains the tracks purchased) and the Invoice table (which gives\n",
    "# us the CustomerId); we need to group by CustomerId and count the rows within each group.\n",
    "# We also need the first and last name of the customer, so we need to join with the Customer\n",
    "# table to get that.\n",
    "# I'm only putting the \"Table.\" in front of columns that are ambiguous (that is, column names\n",
    "# that occur in more than one table involved in the query).\n",
    "cursor.execute(\"select firstName, lastName, count(*) as trackCount from \"+\n",
    "               \"InvoiceLine join Invoice on InvoiceLine.InvoiceId = Invoice.InvoiceId \"+\n",
    "               \"            join Customer on Invoice.CustomerId =  Customer.CustomerId \"+\n",
    "               \"group by Invoice.CustomerId \"+\n",
    "               \"order by trackCount desc\")\n",
    "cursor.fetchone()"
   ]
  },
  {
   "cell_type": "code",
   "execution_count": 10,
   "metadata": {},
   "outputs": [
    {
     "data": {
      "text/plain": [
       "('Luís', 'Gonçalves', 38)"
      ]
     },
     "execution_count": 10,
     "metadata": {},
     "output_type": "execute_result"
    }
   ],
   "source": [
    "# Here's the same query, but using natural joins, which prevents us from having to spell out\n",
    "# everything with the ON clause. It find the matching columns names and matches on those. \n",
    "# Just be careful with this, especially if there are multiple columns that overlap. If, for example,\n",
    "# every talbe has a column named \"id\", which contains ids that are unique to that table, you'll\n",
    "# run into problems using natural joins.\n",
    "cursor.execute(\"select firstName, lastName, count(*) as trackCount from \"+\n",
    "               \"InvoiceLine natural join Invoice \"+\n",
    "               \"            natural join Customer \"+\n",
    "               \"group by Invoice.CustomerId \"+\n",
    "               \"order by trackCount desc\")\n",
    "cursor.fetchone()"
   ]
  },
  {
   "cell_type": "code",
   "execution_count": 12,
   "metadata": {},
   "outputs": [
    {
     "data": {
      "text/plain": [
       "('Luís', 'Gonçalves', 38)"
      ]
     },
     "execution_count": 12,
     "metadata": {},
     "output_type": "execute_result"
    }
   ],
   "source": [
    "# Here's yet another way to writ it using a USING clause instead of ON clause;\n",
    "# USING allows you to specify one or more shared columns to join on -- kind of\n",
    "# a nice medium between the two examples above.\n",
    "cursor.execute(\"select firstName, lastName, count(*) as trackCount from \"+\n",
    "               \"InvoiceLine join Invoice using (InvoiceId) \"+\n",
    "               \"            join Customer using (CustomerId) \"+\n",
    "               \"group by Invoice.CustomerId \"+\n",
    "               \"order by trackCount desc\")\n",
    "cursor.fetchone()"
   ]
  },
  {
   "cell_type": "markdown",
   "metadata": {
    "cell_id": "be7d826bedce4c87970f2fb208b9277b",
    "deepnote_cell_type": "markdown",
    "nbgrader": {
     "grade": false,
     "grade_id": "cell-beaba7b3c02577cf",
     "locked": true,
     "schema_version": 3,
     "solution": false,
     "task": false
    }
   },
   "source": [
    "You should expect a user with 38 tracks. There are many such users, but the one at the top of my list is: `('Manoj', 'Pareek', 38)`."
   ]
  },
  {
   "cell_type": "markdown",
   "metadata": {
    "cell_id": "0805c4aaf909490484bc5973e22a12c6",
    "deepnote_cell_type": "markdown",
    "nbgrader": {
     "grade": false,
     "grade_id": "cell-569c4847c0c53b58",
     "locked": true,
     "schema_version": 3,
     "solution": false,
     "task": false
    }
   },
   "source": [
    "## Question 3\n",
    "\n",
    "What were the 10 most purchased tracks? Include the name, artist, album, and tracks sold for each.\n",
    "\n",
    "Write the Python SQL statements below to answer this question."
   ]
  },
  {
   "cell_type": "code",
   "execution_count": 13,
   "metadata": {
    "cell_id": "c1b3c21af56b45e6a07999997cd571f7",
    "deepnote_cell_type": "code",
    "deepnote_to_be_reexecuted": false,
    "execution_millis": 59,
    "execution_start": 1677785035400,
    "nbgrader": {
     "grade": true,
     "grade_id": "cell-95d3d1a09e3b3be6",
     "locked": false,
     "points": 1,
     "schema_version": 3,
     "solution": true,
     "task": false
    },
    "source_hash": "fadbe98e"
   },
   "outputs": [
    {
     "data": {
      "text/plain": [
       "[('Balls to the Wall', 'Accept', 'Balls to the Wall', 2),\n",
       " ('Inject The Venom', 'AC/DC', 'For Those About To Rock We Salute You', 2),\n",
       " ('Snowballed', 'AC/DC', 'For Those About To Rock We Salute You', 2),\n",
       " ('Overdose', 'AC/DC', 'Let There Be Rock', 2),\n",
       " ('Deuces Are Wild', 'Aerosmith', 'Big Ones', 2),\n",
       " ('Not The Doctor', 'Alanis Morissette', 'Jagged Little Pill', 2),\n",
       " ('Por Causa De Você', 'Antônio Carlos Jobim', 'Warner 25 Anos', 2),\n",
       " ('Welcome Home (Sanitarium)',\n",
       "  'Apocalyptica',\n",
       "  'Plays Metallica By Four Cellos',\n",
       "  2),\n",
       " ('Snowblind', 'Black Sabbath', 'Black Sabbath Vol. 4 (Remaster)', 2),\n",
       " ('Cornucopia', 'Black Sabbath', 'Black Sabbath Vol. 4 (Remaster)', 2)]"
      ]
     },
     "execution_count": 13,
     "metadata": {},
     "output_type": "execute_result"
    }
   ],
   "source": [
    "# NOTE: same note as for Question 2; I'm not considering the Quantity column of the\n",
    "# InvoiceLine table, but I probably should be.\n",
    "\n",
    "# We need to join the InvoiceLine table (which has the purchased tracks) with the Track\n",
    "# table (to get the track name), join with the Album table to get the album title, and\n",
    "# join with the Artist table to get the artist's name.\n",
    "# We need to group by TrackId, count the number of tracks and order descending.\n",
    "cursor.execute(\"select Track.Name, Artist.Name, Title, count() as tracksSold from \"+\n",
    "               \"InvoiceLine join Track using (TrackId) \"+\n",
    "               \"            join Album using (AlbumId) \"+\n",
    "               \"            join Artist using (ArtistId) \"+\n",
    "               \"group by InvoiceLine.TrackId \"+\n",
    "               \"order by tracksSold desc\")\n",
    "cursor.fetchmany(10)"
   ]
  }
 ],
 "metadata": {
  "deepnote_full_width": true,
  "deepnote_notebook_id": "73a1c6128df5422d8d18ff144f9e7268",
  "kernelspec": {
   "display_name": "Python 3 (ipykernel)",
   "language": "python",
   "name": "python3"
  },
  "language_info": {
   "codemirror_mode": {
    "name": "ipython",
    "version": 3
   },
   "file_extension": ".py",
   "mimetype": "text/x-python",
   "name": "python",
   "nbconvert_exporter": "python",
   "pygments_lexer": "ipython3",
   "version": "3.12.3"
  }
 },
 "nbformat": 4,
 "nbformat_minor": 4
}
