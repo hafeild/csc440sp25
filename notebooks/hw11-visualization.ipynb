{
 "cells": [
  {
   "cell_type": "markdown",
   "id": "456b55ab-d9a9-4198-ba77-3383ff871020",
   "metadata": {
    "editable": true,
    "slideshow": {
     "slide_type": ""
    },
    "tags": []
   },
   "source": [
    "# Homework 11\n",
    "In our examples in [the visualization notebook](07-visualization.ipynb), we looked at specific names.\n",
    "\n",
    "## Question 1\n",
    "  * how has the total number of SSN applications changed over time?\n",
    "  * is there a trend?\n"
   ]
  },
  {
   "cell_type": "code",
   "execution_count": null,
   "id": "d4e76ec8-fe57-4a97-9edb-e55bf441aeaa",
   "metadata": {
    "editable": true,
    "slideshow": {
     "slide_type": ""
    },
    "tags": []
   },
   "outputs": [],
   "source": [
    "# TODO"
   ]
  },
  {
   "cell_type": "markdown",
   "id": "d4bfab37-7210-4d9f-973d-ee6c0b1eedd7",
   "metadata": {
    "cell_id": "a7108978d2ae43ebafffdfa3943f2724",
    "colab_type": "text",
    "deepnote_cell_type": "markdown",
    "id": "CcJXap2iRB-L"
   },
   "source": [
    "## Question 2\n",
    "  * how does the total number of applications over time compare to the number of distinct names over time?"
   ]
  },
  {
   "cell_type": "code",
   "execution_count": 1,
   "id": "510eeb97-0f8f-4148-b685-71a8194f5781",
   "metadata": {
    "editable": true,
    "slideshow": {
     "slide_type": ""
    },
    "tags": []
   },
   "outputs": [],
   "source": [
    "# TODO"
   ]
  }
 ],
 "metadata": {
  "kernelspec": {
   "display_name": "Python 3 (ipykernel)",
   "language": "python",
   "name": "python3"
  },
  "language_info": {
   "codemirror_mode": {
    "name": "ipython",
    "version": 3
   },
   "file_extension": ".py",
   "mimetype": "text/x-python",
   "name": "python",
   "nbconvert_exporter": "python",
   "pygments_lexer": "ipython3",
   "version": "3.12.3"
  }
 },
 "nbformat": 4,
 "nbformat_minor": 5
}
