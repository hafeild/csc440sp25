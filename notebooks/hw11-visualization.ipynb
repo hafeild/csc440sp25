{
 "cells": [
  {
   "cell_type": "markdown",
   "id": "456b55ab-d9a9-4198-ba77-3383ff871020",
   "metadata": {
    "editable": true,
    "slideshow": {
     "slide_type": ""
    },
    "tags": []
   },
   "source": [
    "# Homework 11\n",
    "In our examples in [the visualization notebook](07-visualization.ipynb), we looked at specific names.\n",
    "\n",
    "## Question 1\n",
    "  * how has the total number of SSN applications changed over time?\n",
    "  * is there a trend?\n"
   ]
  },
  {
   "cell_type": "code",
   "execution_count": null,
   "id": "d4e76ec8-fe57-4a97-9edb-e55bf441aeaa",
   "metadata": {
    "editable": true,
    "slideshow": {
     "slide_type": ""
    },
    "tags": []
   },
   "outputs": [],
   "source": [
    "# TODO"
   ]
  },
  {
   "cell_type": "markdown",
   "id": "8c10d7d8-7020-474d-a803-8ba5ad556fd1",
   "metadata": {
    "cell_id": "e9e85aa2d3254ce88fe0737ead22bbda",
    "deepnote_cell_type": "markdown"
   },
   "source": [
    "### SOLUTIONS"
   ]
  },
  {
   "cell_type": "code",
   "execution_count": null,
   "id": "d57ff6b8-8e90-4532-bf3e-8eae2535f284",
   "metadata": {
    "cell_id": "fa88906404034b7b99de19383c5da4c7",
    "deepnote_cell_type": "code",
    "deepnote_to_be_reexecuted": false,
    "execution_millis": 375,
    "execution_start": 1680112370115,
    "source_hash": "89041492"
   },
   "outputs": [],
   "source": [
    "# This gives us a scatter plot with a regression line.\n",
    "sns.lmplot(x='yob', y='total', data=names_by_year)"
   ]
  },
  {
   "cell_type": "markdown",
   "id": "fa9f7609-d64f-4594-b0c5-c18b15906bc0",
   "metadata": {
    "cell_id": "e1f2b6d63ada4ee6a59338cfd082415e",
    "deepnote_cell_type": "markdown",
    "editable": true,
    "slideshow": {
     "slide_type": ""
    },
    "tags": []
   },
   "source": [
    "**Analysis**—We can see that SSN applications have in general been increasing, but appear to be leveling off and even declining in recent years."
   ]
  },
  {
   "cell_type": "markdown",
   "id": "d4bfab37-7210-4d9f-973d-ee6c0b1eedd7",
   "metadata": {
    "cell_id": "a7108978d2ae43ebafffdfa3943f2724",
    "colab_type": "text",
    "deepnote_cell_type": "markdown",
    "id": "CcJXap2iRB-L"
   },
   "source": [
    "## Question 2\n",
    "  * how does the total number of applications over time compare to the number of distinct names over time?"
   ]
  },
  {
   "cell_type": "code",
   "execution_count": 1,
   "id": "510eeb97-0f8f-4148-b685-71a8194f5781",
   "metadata": {},
   "outputs": [],
   "source": [
    "# TODO"
   ]
  },
  {
   "cell_type": "markdown",
   "id": "7709b71e-732a-4d3f-a44a-0c068b43cbda",
   "metadata": {
    "cell_id": "81c4874fff73408087e9868bb5461132",
    "deepnote_cell_type": "markdown"
   },
   "source": [
    "### SOLUTIONS"
   ]
  },
  {
   "cell_type": "code",
   "execution_count": null,
   "id": "2f3b5f6c-8bd8-422a-bf64-9f6fa74a7434",
   "metadata": {
    "cell_id": "1d7627d956d44e7ea96b0600585a1961",
    "deepnote_cell_type": "code",
    "deepnote_to_be_reexecuted": false,
    "execution_millis": 69,
    "execution_start": 1680113169899,
    "source_hash": "e990f04d"
   },
   "outputs": [],
   "source": [
    "# First, get the distinct number of names per year -- we just need to count names (not sum their frequency like we did above).\n",
    "# This way works, but is less clear:\n",
    "# distinct_name_by_year = names.groupby('yob').name.count().reset_index(name=\"distinct_names\")\n",
    "\n",
    "distinct_name_by_year = names.groupby('yob', as_index=False).agg(distinct_names=('name', 'count'))\n",
    "distinct_name_by_year"
   ]
  },
  {
   "cell_type": "code",
   "execution_count": null,
   "id": "0c93d001-669c-4a0e-802a-2f5f80f210f9",
   "metadata": {
    "cell_id": "852d9127601247089b0deb389a217261",
    "deepnote_cell_type": "code",
    "deepnote_to_be_reexecuted": false,
    "execution_millis": 65,
    "execution_start": 1680112682634,
    "source_hash": "14bd977d"
   },
   "outputs": [],
   "source": [
    "# Now we can plot the number of distinct names per year versus the number of SSNs registered:\n",
    "ax = names_by_year.plot(x='yob', y='total')\n",
    "distinct_name_by_year.plot(x='yob', y='distinct_names', ax=ax)\n",
    "plt.legend(['Total registered', 'Distinct names'])\n",
    "plt.xlabel('Year of birth')\n",
    "plt.ylabel('Count')"
   ]
  },
  {
   "cell_type": "code",
   "execution_count": null,
   "id": "62fad53b-8728-4df1-b4b0-ffd158322fe1",
   "metadata": {
    "cell_id": "da1a7e2644f743099d37bfb747819738",
    "deepnote_cell_type": "code",
    "deepnote_to_be_reexecuted": false,
    "execution_millis": 13,
    "execution_start": 1680113225436,
    "source_hash": "87ec6819"
   },
   "outputs": [],
   "source": [
    "# Yikes, that's difficult to read! The number of distinct names is so much smaller than the total number registred that it's \n",
    "# difficult to see how they relate to each other. Let's use min-max scaling to put them all in the range 0 to 1:\n",
    "min_total = names_by_year['total'].min()\n",
    "max_total = names_by_year['total'].max()\n",
    "names_by_year['total_scaled'] = (names_by_year['total'] - min_total) / (max_total - min_total)\n",
    "names_by_year"
   ]
  },
  {
   "cell_type": "code",
   "execution_count": null,
   "id": "adc55d35-e90b-4562-8ca3-96e22bcb7488",
   "metadata": {
    "cell_id": "052ddb87b08b45b9a0e6b1c8a95f437b",
    "deepnote_cell_type": "code",
    "deepnote_to_be_reexecuted": false,
    "execution_millis": 2,
    "execution_start": 1680113228156,
    "source_hash": "e38a88b6"
   },
   "outputs": [],
   "source": [
    "min_distinct = distinct_name_by_year['distinct_names'].min()\n",
    "max_distinct = distinct_name_by_year['distinct_names'].max()\n",
    "distinct_name_by_year['distinct_names_scaled'] = (distinct_name_by_year['distinct_names'] - min_distinct) / (max_distinct - min_distinct)\n",
    "distinct_name_by_year"
   ]
  },
  {
   "cell_type": "code",
   "execution_count": null,
   "id": "c6e1cc31-4196-4cde-9701-d7ae9be62ad2",
   "metadata": {
    "cell_id": "54899602108d4c7faeacc6d35710d891",
    "deepnote_cell_type": "code",
    "deepnote_to_be_reexecuted": false,
    "execution_millis": 102,
    "execution_start": 1680113242992,
    "source_hash": "4db18cbe"
   },
   "outputs": [],
   "source": [
    "# And finally we can plot them:\n",
    "ax = names_by_year.plot(x='yob', y='total_scaled')\n",
    "distinct_name_by_year.plot(x='yob', y='distinct_names_scaled', ax=ax)\n",
    "plt.legend(['Total registered', 'Distinct names'])\n",
    "plt.xlabel('Year of birth')\n",
    "plt.ylabel('Scaled count')"
   ]
  },
  {
   "cell_type": "markdown",
   "id": "1b83562f-8c17-4933-911c-43f37420ac85",
   "metadata": {
    "cell_id": "f3f6c58ba9f0492fa3d9aab0a9c01cbf",
    "deepnote_cell_type": "markdown"
   },
   "source": [
    "**Analysis**—while both the number of SSN registrations and distinct names generaly increase over time, the total registred count see many more extreme peaks, espeically around the \"baby boom\" period post WWII."
   ]
  }
 ],
 "metadata": {
  "kernelspec": {
   "display_name": "Python 3 (ipykernel)",
   "language": "python",
   "name": "python3"
  },
  "language_info": {
   "codemirror_mode": {
    "name": "ipython",
    "version": 3
   },
   "file_extension": ".py",
   "mimetype": "text/x-python",
   "name": "python",
   "nbconvert_exporter": "python",
   "pygments_lexer": "ipython3",
   "version": "3.12.3"
  }
 },
 "nbformat": 4,
 "nbformat_minor": 5
}
