{
 "cells": [
  {
   "cell_type": "markdown",
   "metadata": {
    "cell_id": "57c269a222184d62b25c36a80bfedace",
    "colab_type": "text",
    "deepnote_cell_type": "markdown",
    "editable": true,
    "id": "mx0GBsYfvXRp",
    "slideshow": {
     "slide_type": ""
    },
    "tags": []
   },
   "source": [
    "# Visualizing data in Python\n"
   ]
  },
  {
   "cell_type": "code",
   "execution_count": null,
   "metadata": {
    "cell_id": "1c114e7c8d76458d849493d91c74227a",
    "colab": {
     "base_uri": "https://localhost:8080/",
     "height": 129
    },
    "colab_type": "code",
    "deepnote_cell_type": "code",
    "deepnote_to_be_reexecuted": false,
    "execution_millis": 2896,
    "execution_start": 1680111067784,
    "id": "Th6d10itvTYx",
    "outputId": "9e687b15-45d1-4aa9-b475-a1a068f75a26",
    "source_hash": "84c4e7e"
   },
   "outputs": [],
   "source": [
    "# The following imports a number of libraries that we'll need, as well as\n",
    "# configures a number of options that will make interacting with the notebook\n",
    "# a little easier. If you don't have them in stalled, create a cell below\n",
    "# to install them using the magic pip command: \n",
    "#     %pip install LIBRARY\n",
    "# or install them from the command line:\n",
    "#     python3 -m pip install LIBRARY\n",
    "\n",
    "import pandas as pd    # For reading an manipulating tabular data.\n",
    "import seaborn as sns  # For making pretty plots.\n",
    "import matplotlib.pyplot as plt # For plotting options.\n",
    "\n",
    "## Import geopandas library for doing maps. This works with the map data in the `usa-map/` directory.\n",
    "## (You can download the `usa-map.tbz2` file, which is a bzip2 tar ball of the same directory. Untar it\n",
    "## with `tar xjf usa-map.tbz2`)\n",
    "import geopandas "
   ]
  },
  {
   "cell_type": "markdown",
   "metadata": {
    "cell_id": "240fb175a32e4efba13a162d5357a636",
    "colab_type": "text",
    "deepnote_cell_type": "markdown",
    "id": "BlJqINb_NwrC"
   },
   "source": [
    "## Datasets\n",
    "\n",
    "Aside from the continental USA map data (see above), we'll be using the following datasets in this\n",
    "notbook:\n",
    "  * **iris**—a classic dataset looking at various features across three species of irises\n",
    "  * **names**—first names on U.S. social security card applications between 1880 and 2017\n",
    "  * **namesByState**—first names on U.S. social security card applications by state from 1910 to 2017"
   ]
  },
  {
   "cell_type": "code",
   "execution_count": null,
   "metadata": {
    "cell_id": "89ba1fd1aa704d1caa1656892c3daf03",
    "colab": {},
    "colab_type": "code",
    "deepnote_cell_type": "code",
    "deepnote_to_be_reexecuted": false,
    "editable": true,
    "execution_millis": 411,
    "execution_start": 1680111070682,
    "id": "xRjLDuox4XXp",
    "slideshow": {
     "slide_type": ""
    },
    "source_hash": "a440ac7a",
    "tags": []
   },
   "outputs": [],
   "source": [
    "# Load the example iris dataset from seaborn (this is a classic dataset often used to demonstrate stats and visualization).\n",
    "iris = sns.load_dataset(\"iris\")\n",
    "iris.head()"
   ]
  },
  {
   "cell_type": "code",
   "execution_count": null,
   "metadata": {},
   "outputs": [],
   "source": [
    "# \"Melt\" the dataset to \"long-form\" representation. Take a look at how this\n",
    "# looks different from the \"unmelted\" (wide-form) version.\n",
    "iris_long = pd.melt(iris, \"species\", var_name=\"measurement\")\n",
    "iris_long.head()"
   ]
  },
  {
   "cell_type": "code",
   "execution_count": null,
   "metadata": {
    "cell_id": "3b2e229ad29a4d2e9e0a4e976ea77e27",
    "colab": {},
    "colab_type": "code",
    "deepnote_cell_type": "code",
    "deepnote_to_be_reexecuted": false,
    "execution_millis": 1219,
    "execution_start": 1680111071198,
    "id": "yNGUo9kzOUzm",
    "source_hash": "820af90b"
   },
   "outputs": [],
   "source": [
    "## Load the names data (we'll use this for time series). \n",
    "names = pd.read_csv('../data/names_1880-20180304.csv.bz2').sort_values(by='yob')"
   ]
  },
  {
   "cell_type": "code",
   "execution_count": null,
   "metadata": {
    "cell_id": "76f46c5451e1455d9b488f0e1bc2c42e",
    "colab": {
     "base_uri": "https://localhost:8080/",
     "height": 206
    },
    "colab_type": "code",
    "deepnote_cell_type": "code",
    "deepnote_to_be_reexecuted": false,
    "execution_millis": 2,
    "execution_start": 1680111072428,
    "id": "aVSA6LFwOddT",
    "outputId": "0840e5cb-1846-4987-da2c-30504baa2a67",
    "source_hash": "91e3b413"
   },
   "outputs": [],
   "source": [
    "names.head()"
   ]
  },
  {
   "cell_type": "code",
   "execution_count": null,
   "metadata": {
    "cell_id": "f4344cbd70094ffc8d6ad07134ebc5cf",
    "colab": {},
    "colab_type": "code",
    "deepnote_cell_type": "code",
    "deepnote_to_be_reexecuted": false,
    "execution_millis": 2538,
    "execution_start": 1680111072428,
    "id": "LNTG0dNx5UBG",
    "source_hash": "835e7b92"
   },
   "outputs": [],
   "source": [
    "namesByState = pd.read_csv('../data/names-by-states_1910-20180304.csv.bz2')"
   ]
  },
  {
   "cell_type": "code",
   "execution_count": null,
   "metadata": {
    "cell_id": "a11c0ed86ca34b95bd5c2a51c5d8862b",
    "colab": {
     "base_uri": "https://localhost:8080/",
     "height": 206
    },
    "colab_type": "code",
    "deepnote_cell_type": "code",
    "deepnote_to_be_reexecuted": false,
    "execution_millis": 13,
    "execution_start": 1680111074972,
    "id": "qFRdHqsf5b6H",
    "outputId": "9de4a869-3e4e-46e0-b013-bb7b5dee0cd6",
    "source_hash": "d36700ed"
   },
   "outputs": [],
   "source": [
    "namesByState.head()"
   ]
  },
  {
   "cell_type": "markdown",
   "metadata": {
    "cell_id": "9dc71bba23be4d2ea0b098a6043b652b",
    "colab_type": "text",
    "deepnote_cell_type": "markdown",
    "id": "f-nuWSAiFaaZ"
   },
   "source": [
    "\n",
    "\n",
    "---\n",
    "\n",
    "\n",
    "## Distributions\n",
    "  * box plots\n",
    "  * swarm plots\n",
    "  * histograms"
   ]
  },
  {
   "cell_type": "code",
   "execution_count": null,
   "metadata": {
    "cell_id": "adf4d8e3d4ca47e190eec273976ae4b4",
    "colab": {
     "base_uri": "https://localhost:8080/",
     "height": 365
    },
    "colab_type": "code",
    "deepnote_cell_type": "code",
    "deepnote_to_be_reexecuted": false,
    "execution_millis": 77,
    "execution_start": 1680111075035,
    "id": "7olC1ZHZ40fU",
    "outputId": "a42b1c71-a1f2-45c9-9cce-b375e098edd6",
    "source_hash": "5822d5eb"
   },
   "outputs": [],
   "source": [
    "# Make a box plot in pandas:\n",
    "iris.plot.box()"
   ]
  },
  {
   "cell_type": "code",
   "execution_count": null,
   "metadata": {
    "cell_id": "a5e83fc094014db0899e7c1253789b6d",
    "colab": {
     "base_uri": "https://localhost:8080/",
     "height": 400
    },
    "colab_type": "code",
    "deepnote_cell_type": "code",
    "deepnote_to_be_reexecuted": false,
    "execution_millis": 67,
    "execution_start": 1680111075276,
    "id": "Meh3_JbMApk4",
    "outputId": "86d068b0-1274-4609-80c0-7088c898ce99",
    "source_hash": "151b0666"
   },
   "outputs": [],
   "source": [
    "# Box plot in Seaborn.\n",
    "sns.boxplot(data=iris)"
   ]
  },
  {
   "cell_type": "code",
   "execution_count": null,
   "metadata": {
    "cell_id": "138674def9844bc2bf2c95f7b483da7f",
    "colab": {
     "base_uri": "https://localhost:8080/",
     "height": 414
    },
    "colab_type": "code",
    "deepnote_cell_type": "code",
    "deepnote_to_be_reexecuted": false,
    "execution_millis": 51,
    "execution_start": 1680111075539,
    "id": "s-R4J36DDHxR",
    "outputId": "7c0bac23-ee46-4fa1-a517-c6cac2a82bf8",
    "source_hash": "b7983f97"
   },
   "outputs": [],
   "source": [
    "# Box plot looking at each species separately.\n",
    "sns.boxplot(x='measurement', y='value', hue='species', data=iris_long)"
   ]
  },
  {
   "cell_type": "code",
   "execution_count": null,
   "metadata": {
    "cell_id": "25f123c663f445f2bc9b7208756dcd99",
    "deepnote_cell_type": "code",
    "deepnote_to_be_reexecuted": false,
    "execution_millis": 38,
    "execution_start": 1680111075835,
    "source_hash": "fb526d2d"
   },
   "outputs": [],
   "source": [
    "sns.boxplot(x='measurement', y='value', hue='species', data=iris_long[iris_long['measurement']=='sepal_length'])"
   ]
  },
  {
   "cell_type": "code",
   "execution_count": null,
   "metadata": {
    "cell_id": "849205e1cea7439e8ee29ab1a751193d",
    "colab": {
     "base_uri": "https://localhost:8080/",
     "height": 365
    },
    "colab_type": "code",
    "deepnote_cell_type": "code",
    "deepnote_to_be_reexecuted": false,
    "execution_millis": 507,
    "execution_start": 1680111076086,
    "id": "9z5s81HkBOCK",
    "outputId": "852ea58d-1a3c-404b-d1ec-4e5c0f3cedf9",
    "source_hash": "9b502d34"
   },
   "outputs": [],
   "source": [
    "# Swarm plot.\n",
    "sns.swarmplot(data=iris)"
   ]
  },
  {
   "cell_type": "code",
   "execution_count": null,
   "metadata": {
    "cell_id": "c04357e6a4054d3dab30dae683daf201",
    "colab": {
     "base_uri": "https://localhost:8080/",
     "height": 379
    },
    "colab_type": "code",
    "deepnote_cell_type": "code",
    "deepnote_to_be_reexecuted": false,
    "execution_millis": 441,
    "execution_start": 1680111077337,
    "id": "TKyOrEMcDAi1",
    "outputId": "68ccff4f-04b2-4579-ac8a-3f6309d5a193",
    "source_hash": "659726aa"
   },
   "outputs": [],
   "source": [
    "# Swarm plot -- each species has it's own color.\n",
    "sns.swarmplot(x='measurement', y='value', hue='species', data=iris_long)"
   ]
  },
  {
   "cell_type": "code",
   "execution_count": null,
   "metadata": {
    "cell_id": "149d7b9783b844f1812b6b1cbc7e6b27",
    "colab": {
     "base_uri": "https://localhost:8080/",
     "height": 367
    },
    "colab_type": "code",
    "deepnote_cell_type": "code",
    "deepnote_to_be_reexecuted": false,
    "execution_millis": 86,
    "execution_start": 1680111078602,
    "id": "llvBL-0vGHBx",
    "outputId": "b49cab21-73bb-4b5d-a3cc-20616b8123b3",
    "source_hash": "ce9e2155"
   },
   "outputs": [],
   "source": [
    "# Histogram.\n",
    "iris.plot.hist()\n"
   ]
  },
  {
   "cell_type": "code",
   "execution_count": null,
   "metadata": {
    "cell_id": "d7677fe207fe4edd94f6be672aeabb7f",
    "colab": {
     "base_uri": "https://localhost:8080/",
     "height": 379
    },
    "colab_type": "code",
    "deepnote_cell_type": "code",
    "deepnote_to_be_reexecuted": false,
    "execution_millis": 69,
    "execution_start": 1680111078945,
    "id": "71XeKfdvGk9H",
    "outputId": "7f8bbc7a-07ab-45b9-f481-eb97c6f253c3",
    "source_hash": "3b895e78"
   },
   "outputs": [],
   "source": [
    "# Plot the distribution of a single variable.\n",
    "sns.histplot(\n",
    "    iris['petal_length'], kde=True,\n",
    "    stat=\"density\", kde_kws=dict(cut=3)\n",
    ")"
   ]
  },
  {
   "cell_type": "markdown",
   "metadata": {
    "cell_id": "0427c01df93342e1a5acd7febd9a0366",
    "colab_type": "text",
    "deepnote_cell_type": "markdown",
    "id": "T6kzQH39FnUY"
   },
   "source": [
    "\n",
    "\n",
    "---\n",
    "\n",
    "## Relationships\n",
    "\n",
    "  * scatter plots\n",
    "  * joint plots\n",
    "  * pair plots\n",
    "  * line plots"
   ]
  },
  {
   "cell_type": "code",
   "execution_count": null,
   "metadata": {
    "cell_id": "239883753bc54b4aba6f64f4407de69e",
    "colab": {
     "base_uri": "https://localhost:8080/",
     "height": 379
    },
    "colab_type": "code",
    "deepnote_cell_type": "code",
    "deepnote_to_be_reexecuted": false,
    "execution_millis": 25,
    "execution_start": 1680111079171,
    "id": "P47U3LegJOjm",
    "outputId": "735b934a-cee6-4de7-95d5-2200d4b792ff",
    "source_hash": "41453297"
   },
   "outputs": [],
   "source": [
    "# Basic scatter plot.\n",
    "iris.plot.scatter(x='petal_length', y='petal_width')"
   ]
  },
  {
   "cell_type": "code",
   "execution_count": null,
   "metadata": {
    "cell_id": "3bd3a695f5cc4a77920de87706c7fae9",
    "colab": {
     "base_uri": "https://localhost:8080/",
     "height": 383
    },
    "colab_type": "code",
    "deepnote_cell_type": "code",
    "deepnote_to_be_reexecuted": false,
    "execution_millis": 353,
    "execution_start": 1680111079383,
    "id": "Pd_53KmCJoEE",
    "outputId": "852a530b-ee88-4719-8a67-08107ac4c19a",
    "source_hash": "1cce4d89"
   },
   "outputs": [],
   "source": [
    "# Seaborn makes it easy to add in color by a third categorial variable.\n",
    "sns.lmplot(x='petal_length', y='petal_width', data=iris, hue='species', fit_reg=False)"
   ]
  },
  {
   "cell_type": "code",
   "execution_count": null,
   "metadata": {
    "cell_id": "05396c35fa7b4f80a8e675aecc512ec3",
    "colab": {
     "base_uri": "https://localhost:8080/",
     "height": 383
    },
    "colab_type": "code",
    "deepnote_cell_type": "code",
    "deepnote_to_be_reexecuted": false,
    "execution_millis": 466,
    "execution_start": 1680111079915,
    "id": "NPyrVjcaKLO0",
    "outputId": "122743a6-56f0-4259-acdd-cf53a095929a",
    "source_hash": "48abfe05"
   },
   "outputs": [],
   "source": [
    "# You can also easily include regression fits by leaving out fit_reeg=False:\n",
    "sns.lmplot(x='petal_length', y='petal_width', data=iris, hue='species')"
   ]
  },
  {
   "cell_type": "code",
   "execution_count": null,
   "metadata": {
    "cell_id": "c4bc8dd46b1e43c8935d7cc4c1966d9b",
    "colab": {
     "base_uri": "https://localhost:8080/",
     "height": 455
    },
    "colab_type": "code",
    "deepnote_cell_type": "code",
    "deepnote_to_be_reexecuted": false,
    "execution_millis": 285,
    "execution_start": 1680111080554,
    "id": "x8sHmZ1OKamG",
    "outputId": "5e996e5a-d3a5-4e7b-84ad-2f0c87545162",
    "source_hash": "ccf1b6e1"
   },
   "outputs": [],
   "source": [
    "# To see the distribution of each variable in the scatter plot, use a joint plot:\n",
    "sns.jointplot(x='petal_length', y='petal_width', data=iris)"
   ]
  },
  {
   "cell_type": "code",
   "execution_count": null,
   "metadata": {
    "cell_id": "77c6894ccf1049dc9318acdc2b529f43",
    "colab": {
     "base_uri": "https://localhost:8080/",
     "height": 721
    },
    "colab_type": "code",
    "deepnote_cell_type": "code",
    "deepnote_to_be_reexecuted": false,
    "execution_millis": 2689,
    "execution_start": 1680111081098,
    "id": "gz6OXlV6FTj3",
    "outputId": "4e8d5333-e856-4404-b419-c6b163006f44",
    "source_hash": "fcdfb40b"
   },
   "outputs": [],
   "source": [
    "# Quickly see the relationship between different variables as well as their\n",
    "# individual distributions.\n",
    "sns.pairplot(iris);"
   ]
  },
  {
   "cell_type": "code",
   "execution_count": null,
   "metadata": {
    "cell_id": "52699578f40046b3bec4b8c7a8e1d3dd",
    "colab": {
     "base_uri": "https://localhost:8080/",
     "height": 721
    },
    "colab_type": "code",
    "deepnote_cell_type": "code",
    "deepnote_to_be_reexecuted": false,
    "execution_millis": 3737,
    "execution_start": 1680111083796,
    "id": "reSN3JrwIFPn",
    "outputId": "1f597c62-b0f5-4613-df4a-6a1f1b3a24b2",
    "source_hash": "e558b954"
   },
   "outputs": [],
   "source": [
    "# Let's add some color.\n",
    "sns.pairplot(iris, hue='species');"
   ]
  },
  {
   "cell_type": "code",
   "execution_count": null,
   "metadata": {
    "cell_id": "3082554009634c999836c26570c48acf",
    "colab": {
     "base_uri": "https://localhost:8080/",
     "height": 379
    },
    "colab_type": "code",
    "deepnote_cell_type": "code",
    "deepnote_to_be_reexecuted": false,
    "execution_millis": 127,
    "execution_start": 1680111087602,
    "id": "BtIHbA9Ne1v8",
    "outputId": "1dc88dee-48b2-41eb-b7a7-abbc7ac8bd3e",
    "source_hash": "d0bc0518"
   },
   "outputs": [],
   "source": [
    "# Line plots for time series.\n",
    "names[(names['gender'] == 'F') & (names['name'] == 'Mary')].plot(x='yob', y='count')"
   ]
  },
  {
   "cell_type": "code",
   "execution_count": null,
   "metadata": {
    "cell_id": "60ede72db4c04858ac46739e81a7bb72",
    "colab": {
     "base_uri": "https://localhost:8080/",
     "height": 379
    },
    "colab_type": "code",
    "deepnote_cell_type": "code",
    "deepnote_to_be_reexecuted": false,
    "execution_millis": 501,
    "execution_start": 1680111088124,
    "id": "08efnBcGf87p",
    "outputId": "d80b0243-5a72-47fd-d38e-240fb800442e",
    "source_hash": "b338ef6"
   },
   "outputs": [],
   "source": [
    "# Plot multiple lines on the same graph.\n",
    "ax = names[(names['gender'] == 'F') & (names['name'] == 'Mary')].plot(x='yob', y='count')\n",
    "names[(names['gender'] == 'F') & (names['name'] == 'Margaret')].plot(x='yob', y='count', ax=ax)\n",
    "names[(names['gender'] == 'F') & (names['name'] == 'Makenzie')].plot(x='yob', y='count', ax=ax)\n",
    "plt.legend(['Mary', 'Margaret', 'Makenzie'])\n",
    "plt.xlabel('Year of birth')\n",
    "plt.ylabel('Number registered')"
   ]
  },
  {
   "cell_type": "code",
   "execution_count": null,
   "metadata": {
    "cell_id": "8c8cbf293f494369854667713ab71902",
    "colab": {
     "base_uri": "https://localhost:8080/",
     "height": 455
    },
    "colab_type": "code",
    "deepnote_cell_type": "code",
    "deepnote_to_be_reexecuted": false,
    "execution_millis": 254,
    "execution_start": 1680111088785,
    "id": "iaqsqbmV3RJV",
    "outputId": "3822f569-98e1-4900-9c71-d7c008d32a7f",
    "source_hash": "796dbc7e"
   },
   "outputs": [],
   "source": [
    "# This isn't a heatmap, but it acts kind of like one with continuous data; helps\n",
    "# see density when points overlap.\n",
    "sns.jointplot(x='petal_length', y='petal_width', data=iris, kind='hex', gridsize=20)"
   ]
  },
  {
   "cell_type": "markdown",
   "metadata": {
    "cell_id": "f0a06197542944eb9bf69ecd7e8ea248",
    "colab_type": "text",
    "deepnote_cell_type": "markdown",
    "id": "ubARz57dF5tP"
   },
   "source": [
    "\n",
    "\n",
    "---\n",
    "\n",
    "## Comparison\n",
    "\n",
    "  * bar charts"
   ]
  },
  {
   "cell_type": "code",
   "execution_count": null,
   "metadata": {
    "cell_id": "2b294609625041eca15be340a8879799",
    "colab": {},
    "colab_type": "code",
    "deepnote_cell_type": "code",
    "deepnote_to_be_reexecuted": false,
    "execution_millis": 210,
    "execution_start": 1680111089425,
    "id": "SUjH4QUKF-7H",
    "source_hash": "523d5ab7"
   },
   "outputs": [],
   "source": [
    "# Compare frequencies for 2017.\n",
    "top2017MaleNames = names[(names['yob'] == 2017) & (names['gender'] == 'M')].sort_values(by='count', ascending=False).head(10)\n",
    "top2017FemaleNames = names[(names['yob']==2017) & (names['gender'] == 'F')].sort_values(by='count', ascending=False).head(10)"
   ]
  },
  {
   "cell_type": "code",
   "execution_count": null,
   "metadata": {
    "cell_id": "a6a28143f6154984a777940277c90e55",
    "colab": {
     "base_uri": "https://localhost:8080/",
     "height": 411
    },
    "colab_type": "code",
    "deepnote_cell_type": "code",
    "deepnote_to_be_reexecuted": false,
    "execution_millis": 44,
    "execution_start": 1680111089649,
    "id": "G5hy2QQYmwuD",
    "outputId": "1cb48633-178f-43cd-a13a-c92610832dfa",
    "source_hash": "c0f1fea6"
   },
   "outputs": [],
   "source": [
    "top2017MaleNames.plot.bar(x='name', y='count')"
   ]
  },
  {
   "cell_type": "code",
   "execution_count": null,
   "metadata": {
    "cell_id": "e766f19fc56c434ba4dd567dba7eb8cf",
    "colab": {
     "base_uri": "https://localhost:8080/",
     "height": 414
    },
    "colab_type": "code",
    "deepnote_cell_type": "code",
    "deepnote_to_be_reexecuted": false,
    "execution_millis": 30,
    "execution_start": 1680111089917,
    "id": "XQVQ8vKXnJQH",
    "outputId": "3b494574-5981-4581-84cc-1f4e489f8f0e",
    "source_hash": "d121154a"
   },
   "outputs": [],
   "source": [
    "sns.barplot(x='name', y='count', data=top2017FemaleNames, color='lightblue')"
   ]
  },
  {
   "cell_type": "code",
   "execution_count": null,
   "metadata": {
    "cell_id": "976510b905934681a9e795705a307135",
    "colab": {
     "base_uri": "https://localhost:8080/",
     "height": 414
    },
    "colab_type": "code",
    "deepnote_cell_type": "code",
    "deepnote_to_be_reexecuted": false,
    "execution_millis": 321,
    "execution_start": 1680111090168,
    "id": "4UN7puq7nMb3",
    "outputId": "9704f790-9070-424c-bec0-92793dc759e5",
    "source_hash": "8dda9ebb"
   },
   "outputs": [],
   "source": [
    "# Bar plots with subcategories -- this also calculates the means for us.\n",
    "sns.barplot(x='measurement', y='value', hue='species', data=iris_long)"
   ]
  },
  {
   "cell_type": "markdown",
   "metadata": {
    "cell_id": "4fd14d2e99a449f5b94420054959ecc6",
    "colab_type": "text",
    "deepnote_cell_type": "markdown",
    "editable": true,
    "id": "O9m0aoKS5uf1",
    "slideshow": {
     "slide_type": ""
    },
    "tags": []
   },
   "source": [
    "\n",
    "\n",
    "---\n",
    "\n",
    "## Geo spactial data"
   ]
  },
  {
   "cell_type": "code",
   "execution_count": null,
   "metadata": {
    "cell_id": "7743164cfe4141ce8c7dd436113b11e9",
    "colab": {},
    "colab_type": "code",
    "deepnote_cell_type": "code",
    "deepnote_to_be_reexecuted": false,
    "execution_millis": 357,
    "execution_start": 1680111090724,
    "id": "y-y6Dcgu6X7M",
    "source_hash": "9d073fae"
   },
   "outputs": [],
   "source": [
    "# Read in the map data -- This works with the map data in the `usa-map/` directory.\n",
    "## (You can download the `usa-map.tbz2` file into your ../data directory.  This is a bzip2 tar ball that you can untar\n",
    "## with `tar xjf usa-map.tbz2` from inside your ../data directory -- do that before you run this cell)\n",
    "continental_usa = geopandas.read_file('../data/usa-map/usa-states-census-2014.shp')"
   ]
  },
  {
   "cell_type": "code",
   "execution_count": null,
   "metadata": {
    "cell_id": "8ce006667d58463386ec1b12b6e57fd8",
    "colab": {
     "base_uri": "https://localhost:8080/",
     "height": 936
    },
    "colab_type": "code",
    "deepnote_cell_type": "code",
    "deepnote_to_be_reexecuted": false,
    "execution_millis": 23,
    "execution_start": 1680111091096,
    "id": "J7tymFmCxWUe",
    "outputId": "ba5f2754-8b6a-4341-909e-96ff578f211a",
    "source_hash": "f8a33d03"
   },
   "outputs": [],
   "source": [
    "# Here's what the map data looks like:\n",
    "continental_usa.head()"
   ]
  },
  {
   "cell_type": "code",
   "execution_count": null,
   "metadata": {
    "cell_id": "595adbaeb346485aa796e74424e5c67d",
    "colab": {
     "base_uri": "https://localhost:8080/",
     "height": 298
    },
    "colab_type": "code",
    "deepnote_cell_type": "code",
    "deepnote_to_be_reexecuted": false,
    "execution_millis": 25,
    "execution_start": 1680111091135,
    "id": "XsNQPD2Axiyc",
    "outputId": "17b84c54-6ea8-41d6-d015-abeebfd6a428",
    "source_hash": "c8e0b29d"
   },
   "outputs": [],
   "source": [
    "# The data we're using for maps uses a GIS (geographical information system) format called \n",
    "# WGS 84; we want the Spherical Mercator format, which is used by Google Maps, etc. (EPSG:3395).\n",
    "# Here, we'll convert it. \n",
    "continental_usa = continental_usa.to_crs('EPSG:3395')"
   ]
  },
  {
   "cell_type": "code",
   "execution_count": null,
   "metadata": {
    "cell_id": "e15d1321d42447ca983efbc35e78b37d",
    "colab": {},
    "colab_type": "code",
    "deepnote_cell_type": "code",
    "deepnote_to_be_reexecuted": false,
    "execution_millis": 129,
    "execution_start": 1680111091165,
    "id": "evQylTgx1cGZ",
    "source_hash": "2e5a1eac"
   },
   "outputs": [],
   "source": [
    "# Let's see what it looks like.\n",
    "continental_usa.plot() "
   ]
  },
  {
   "cell_type": "code",
   "execution_count": null,
   "metadata": {
    "cell_id": "b9dfcc8509574e808b1b5f081fe1ddd6",
    "colab": {
     "base_uri": "https://localhost:8080/",
     "height": 1300
    },
    "colab_type": "code",
    "deepnote_cell_type": "code",
    "deepnote_to_be_reexecuted": false,
    "execution_millis": 65,
    "execution_start": 1680111091604,
    "id": "E_J_4ll90M5i",
    "outputId": "75481a47-ea11-4746-fb4a-e16eb915f54b",
    "source_hash": "95c3c530"
   },
   "outputs": [],
   "source": [
    "name = 'John'\n",
    "year = 2015\n",
    "x = continental_usa.merge(namesByState[(namesByState.name == name) & (namesByState.yob == year)], \n",
    "    left_on='STUSPS', right_on='state')\n",
    "x.head()"
   ]
  },
  {
   "cell_type": "code",
   "execution_count": null,
   "metadata": {
    "cell_id": "bcd41ecc9db14a41aa9e5b39a313edc4",
    "colab": {
     "base_uri": "https://localhost:8080/",
     "height": 407
    },
    "colab_type": "code",
    "deepnote_cell_type": "code",
    "deepnote_to_be_reexecuted": false,
    "execution_millis": 1594,
    "execution_start": 1680111091673,
    "id": "rooIAe47zuZS",
    "outputId": "aeea1957-c58c-4a98-905f-73bf57466f2b",
    "source_hash": "3c871570"
   },
   "outputs": [],
   "source": [
    "def plotNameToAx(name, year, ax):\n",
    "    \"\"\"Reusable plotting wrapper. This will generate a map plot of \n",
    "    name popularity in the given year from the namesByState (global) dataset,\n",
    "    then place it at the position within the plot given by ax (an Axis object).\n",
    "\n",
    "    Parameters:\n",
    "        name (str): The name whose popularity should be plotted.\n",
    "        year (int): The year the name's popularity should be calculated over.\n",
    "        ax (Axis): A Matplotlib Axis object.\n",
    "    \"\"\"\n",
    "    mapData =  continental_usa.merge(\n",
    "        namesByState[(namesByState['name'] == name) & (namesByState['yob'] == year)], \n",
    "        left_on='STUSPS', right_on='state').reindex()\n",
    "    \n",
    "    mapData.plot(column='count', ax=ax, legend=True)\n",
    "\n",
    "# Make a 2x2 figure (four total plots)\n",
    "f, axarr = plt.subplots(2, 2, figsize=(11, 6))\n",
    "\n",
    "plt.suptitle('Popularity of names by state in 2015', fontsize=16)\n",
    "plt.subplots_adjust(top=0.95)\n",
    "\n",
    "plotNameToAx('Mary', 2015, axarr[0][0])\n",
    "axarr[0][0].set_title('Mary')\n",
    "\n",
    "plotNameToAx('Margaret', 2015, axarr[0][1])\n",
    "axarr[0][1].set_title('Margaret')\n",
    "\n",
    "plotNameToAx('Elizabeth', 2015, axarr[1][0])\n",
    "axarr[1][0].set_title('Elizabeth')\n",
    "\n",
    "plotNameToAx('Makenzie', 2015, axarr[1][1])\n",
    "axarr[1][1].set_title('Makenzie')"
   ]
  },
  {
   "cell_type": "code",
   "execution_count": null,
   "metadata": {
    "cell_id": "192da0f29042454db84814b7465189f6",
    "colab": {
     "base_uri": "https://localhost:8080/",
     "height": 414
    },
    "colab_type": "code",
    "deepnote_cell_type": "code",
    "deepnote_to_be_reexecuted": false,
    "execution_millis": 53939,
    "execution_start": 1680111093691,
    "id": "ImRyYuJ-5GpE",
    "outputId": "cdb69151-41db-4e30-be63-cedd32389696",
    "source_hash": "f8deb976"
   },
   "outputs": [],
   "source": [
    "# Hmm, the most populated states unsurprisingly have the highest occurrences.\n",
    "# Let's noramlize by state -- how exactly are we doing that???\n",
    "\n",
    "def plotNameToAx(name, year, ax):\n",
    "    \"\"\"Reusable plotting wrapper. This will generate a map plot of \n",
    "    name popularity in the given year from the namesByState (global) dataset,\n",
    "    then place it at the position within the plot given by ax (an Axis object).\n",
    "    Normalizes by state population.\n",
    "\n",
    "    Parameters:\n",
    "        name (str): The name whose popularity should be plotted.\n",
    "        year (int): The year the name's popularity should be calculated over.\n",
    "        ax (Axis): A Matplotlib Axis object.\n",
    "    \"\"\"\n",
    "    \n",
    "    mapData =  continental_usa.merge(\n",
    "        namesByState[(namesByState['name'] == name) & (namesByState['yob'] == year)], \n",
    "        left_on='STUSPS', right_on='state').reindex()\n",
    "    \n",
    "    \n",
    "    mapData['total_state'] = mapData['state'].map(\n",
    "        lambda s: namesByState[\n",
    "            (namesByState['state'] == s) & (namesByState['yob'] == year)]['count'].sum())\n",
    "    mapData['prop_within_state'] = mapData['count'] / mapData['total_state']\n",
    "    \n",
    "    mapData.plot(column='prop_within_state', ax=ax, legend=True)\n",
    "\n",
    "\n",
    "# Make a 2x2 figure (four total plots)\n",
    "f, axarr = plt.subplots(2, 2, figsize=(11, 6))\n",
    "\n",
    "plt.suptitle('Popularity of names by state in 2015', fontsize=16)\n",
    "plt.subplots_adjust(top=0.95)\n",
    "\n",
    "plotNameToAx('Mary', 2015, axarr[0][0])\n",
    "axarr[0][0].set_title('Mary')\n",
    "\n",
    "plotNameToAx('Margaret', 2015, axarr[0][1])\n",
    "axarr[0][1].set_title('Margaret')\n",
    "\n",
    "plotNameToAx('Elizabeth', 2015, axarr[1][0])\n",
    "axarr[1][0].set_title('Elizabeth')\n",
    "\n",
    "plotNameToAx('Makenzie', 2015, axarr[1][1])\n",
    "axarr[1][1].set_title('Makenzie')"
   ]
  },
  {
   "cell_type": "markdown",
   "metadata": {
    "cell_id": "144eb992947e47268f8a87afe3ea127d",
    "colab_type": "text",
    "deepnote_cell_type": "markdown",
    "id": "_6t1ZMDwKJH8"
   },
   "source": [
    "\n",
    "\n"
   ]
  },
  {
   "cell_type": "code",
   "execution_count": null,
   "metadata": {
    "cell_id": "ac1221abeee14a989d4a1228f3a6ac70",
    "deepnote_cell_type": "code",
    "deepnote_to_be_reexecuted": false,
    "execution_millis": 6,
    "execution_start": 1680111148262,
    "source_hash": "341c45a1",
    "tags": []
   },
   "outputs": [],
   "source": [
    "names[(names['gender'] == 'F') & (names['name'] == 'Mary')].groupby('yob').sum()['count']"
   ]
  },
  {
   "cell_type": "code",
   "execution_count": null,
   "metadata": {
    "cell_id": "1d0e87d843944558b8ae2377bd3553b9",
    "deepnote_cell_type": "code",
    "deepnote_to_be_reexecuted": false,
    "execution_millis": 88,
    "execution_start": 1680111148270,
    "source_hash": "5ad5931",
    "tags": []
   },
   "outputs": [],
   "source": [
    "names.groupby('yob').sum()"
   ]
  },
  {
   "cell_type": "code",
   "execution_count": null,
   "metadata": {
    "cell_id": "f17d714da1d04f7fbc8ca14156691b93",
    "deepnote_cell_type": "code",
    "deepnote_to_be_reexecuted": false,
    "execution_millis": 94,
    "execution_start": 1680111148516,
    "source_hash": "6cd7681b",
    "tags": []
   },
   "outputs": [],
   "source": [
    "names[(names['gender'] == 'F') & (names['name'] == 'Mary')].groupby('yob').sum() / names.groupby('yob').sum()"
   ]
  },
  {
   "cell_type": "code",
   "execution_count": null,
   "metadata": {
    "cell_id": "036c01213b804c18891c4ad7da14cb5b",
    "deepnote_cell_type": "code",
    "deepnote_to_be_reexecuted": false,
    "execution_millis": 137,
    "execution_start": 1680111148755,
    "source_hash": "1680118c",
    "tags": []
   },
   "outputs": [],
   "source": [
    "(names[(names['gender'] == 'F') & (names['name'] == 'Mary')].groupby('yob').sum() / names.groupby('yob').sum()).plot()"
   ]
  }
 ],
 "metadata": {
  "deepnote_execution_queue": [],
  "deepnote_full_width": true,
  "deepnote_notebook_id": "846812a2127f49768bef2074d2a7f612",
  "kernelspec": {
   "display_name": "Python 3 (ipykernel)",
   "language": "python",
   "name": "python3"
  },
  "language_info": {
   "codemirror_mode": {
    "name": "ipython",
    "version": 3
   },
   "file_extension": ".py",
   "mimetype": "text/x-python",
   "name": "python",
   "nbconvert_exporter": "python",
   "pygments_lexer": "ipython3",
   "version": "3.12.3"
  }
 },
 "nbformat": 4,
 "nbformat_minor": 4
}
