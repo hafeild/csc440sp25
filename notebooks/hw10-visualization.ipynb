{
 "cells": [
  {
   "cell_type": "markdown",
   "id": "d5fdff7b-177f-4361-8d5c-cd39137d6aeb",
   "metadata": {
    "editable": true,
    "slideshow": {
     "slide_type": ""
    },
    "tags": []
   },
   "source": [
    "# Homework 10\n",
    "In our examples in [the visualization notebook](07-visualization.ipynb), we considered raw counts over time.\n",
    "\n",
    "## Question 1\n",
    "  - what does the line plot of year vs. number registered for the names Mary, Margaret, and Makenzie look like if we plot the proportion of names that year?\n",
    "    * e.g. if there were 1000 names registered in 1950 and 100 of them were Mary, then the proportion should be 0.10\n",
    "  - do the plots look different?\n",
    "\n",
    "\n",
    "Here's the original plot (to view this on your computer, download `image-20230307-193605.png` from the git repo into the same directory as this notebook):\n",
    "\n",
    "![plot](image-20230307-193605.png)\n",
    "\n",
    "Don't forget to import the modules you need and read in the data that you need (all files are available in the `data/` folder on pCloud)."
   ]
  },
  {
   "cell_type": "code",
   "execution_count": 1,
   "id": "8bce734c-4ee6-4539-ad36-7858da7e79d7",
   "metadata": {},
   "outputs": [],
   "source": [
    "# TODO"
   ]
  },
  {
   "cell_type": "markdown",
   "id": "a819aa8d-47f5-466b-9ad8-982381c5ddc4",
   "metadata": {
    "cell_id": "e439008436064a93be7de668dc38c569",
    "colab_type": "text",
    "deepnote_cell_type": "markdown",
    "id": "5ZhUvgDCK1O6"
   },
   "source": [
    "## Question 2\n",
    "  - in [the visualization notebook](07-visualization.ipynb), we considered names that I randomly picked; for this question, plot the most popular *female* name of 2017 vs. 1880 over time\n",
    "  - do the same, but for *male* names"
   ]
  },
  {
   "cell_type": "code",
   "execution_count": null,
   "id": "cf99cc72-dca8-4e50-a913-6a3c267b33b6",
   "metadata": {
    "editable": true,
    "slideshow": {
     "slide_type": ""
    },
    "tags": []
   },
   "outputs": [],
   "source": [
    "# TODO"
   ]
  }
 ],
 "metadata": {
  "kernelspec": {
   "display_name": "Python 3 (ipykernel)",
   "language": "python",
   "name": "python3"
  },
  "language_info": {
   "codemirror_mode": {
    "name": "ipython",
    "version": 3
   },
   "file_extension": ".py",
   "mimetype": "text/x-python",
   "name": "python",
   "nbconvert_exporter": "python",
   "pygments_lexer": "ipython3",
   "version": "3.12.3"
  }
 },
 "nbformat": 4,
 "nbformat_minor": 5
}
