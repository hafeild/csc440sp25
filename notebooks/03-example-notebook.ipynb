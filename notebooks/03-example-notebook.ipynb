{
 "cells": [
  {
   "cell_type": "markdown",
   "metadata": {
    "cell_id": "0736c7700603461280079602eb9380c9",
    "deepnote_cell_type": "markdown",
    "tags": []
   },
   "source": [
    "# Example Notebook\n",
    "This notebook demonstrates some of the ways we can use a notebook for data science."
   ]
  },
  {
   "cell_type": "code",
   "execution_count": null,
   "metadata": {},
   "outputs": [],
   "source": []
  },
  {
   "cell_type": "markdown",
   "metadata": {},
   "source": [
    "There are lots of shortcuts, so check out \"Help\"->\"Keyboard shortcuts\" for a list. Here are some of the ones I use routinely:\n",
    "\n",
    "  * ctrl+enter (Windows) or cmd+enter (macOS) -- runs the current cell\n",
    "  * shift+enter -- runs the current cell then moves to the next cell\n",
    "  * alt+enter -- runs the current cell, creates a new cell below, then moves to that cell\n",
    "  * esc -- pressing this will put you into command mode for the selected shell; once there you can press...\n",
    "    - a -- adds a cell above, then moves to that cell in command mode\n",
    "    - b -- adds a cell below, then moves to that cell in command mode\n",
    "    - m -- convert the cell to a Markdown cell\n",
    "    - y -- convert the cell to a code cell\n",
    "    - enter -- puts you into edit mode for the selected cell\n",
    "    - up / down arrows to move between cells\n",
    "  * in edit mode:\n",
    "    - wihout anything selected, ctrl+x | cmd+x will cut the current line\n",
    "    - ctrl+/ | cmd+/ will toggle comments for the selected lines\n",
    "    - while typing a function name, hit shift+tab a few times to bring up the documentation in various ways"
   ]
  },
  {
   "cell_type": "markdown",
   "metadata": {},
   "source": [
    "$x = \\sqrt{a^5\\times\\frac{c}{d_1^4}}$"
   ]
  },
  {
   "cell_type": "code",
   "execution_count": null,
   "metadata": {},
   "outputs": [],
   "source": [
    "sum()"
   ]
  },
  {
   "cell_type": "code",
   "execution_count": 2,
   "metadata": {
    "cell_id": "c4bbc71b9fa74c97b6d1cee2b5faa807",
    "deepnote_cell_type": "code",
    "deepnote_to_be_reexecuted": false,
    "execution_millis": 27901,
    "execution_start": 1675694249122,
    "source_hash": "2996127",
    "tags": []
   },
   "outputs": [],
   "source": [
    "x = 10"
   ]
  },
  {
   "cell_type": "code",
   "execution_count": 3,
   "metadata": {
    "cell_id": "64e277913a4a4436b752cd9d7d1395cb",
    "deepnote_cell_type": "code",
    "deepnote_to_be_reexecuted": false,
    "execution_millis": 21,
    "execution_start": 1675694276545,
    "source_hash": "2213b9e7",
    "tags": []
   },
   "outputs": [
    {
     "data": {
      "text/plain": [
       "100"
      ]
     },
     "execution_count": 3,
     "metadata": {},
     "output_type": "execute_result"
    }
   ],
   "source": [
    "\n",
    "x = x**2\n",
    "x"
   ]
  },
  {
   "cell_type": "code",
   "execution_count": 4,
   "metadata": {
    "cell_id": "f30a6ba4abce4dbb9369cad22884655d",
    "deepnote_cell_type": "code",
    "deepnote_to_be_reexecuted": false,
    "execution_millis": 118,
    "execution_start": 1675694249170,
    "source_hash": "a551c291",
    "tags": []
   },
   "outputs": [
    {
     "data": {
      "text/plain": [
       "5"
      ]
     },
     "execution_count": 4,
     "metadata": {},
     "output_type": "execute_result"
    }
   ],
   "source": [
    "y = 50\n",
    "y\n",
    "x = 5\n",
    "x"
   ]
  },
  {
   "cell_type": "code",
   "execution_count": 5,
   "metadata": {
    "cell_id": "cc1580d61cf54ddeb3baaae6fc19e660",
    "deepnote_cell_type": "code",
    "deepnote_to_be_reexecuted": false,
    "execution_millis": 118,
    "execution_start": 1675694249171,
    "source_hash": "888325c6",
    "tags": []
   },
   "outputs": [
    {
     "name": "stdout",
     "output_type": "stream",
     "text": [
      "/mnt/c/Users/hfeild/Documents/classes/2025-sp/csc440/code/notebooks\n",
      "03-example-notebook.ipynb\n",
      "04-web-scraping.ipynb\n",
      "demo.ipynb\n",
      "rand-count-plot.ipynb\n"
     ]
    }
   ],
   "source": [
    "%%bash\n",
    "# What's %%bash does?\n",
    "pwd\n",
    "ls"
   ]
  },
  {
   "cell_type": "markdown",
   "metadata": {},
   "source": [
    "# Question 1\n",
    "What does the following do?"
   ]
  },
  {
   "cell_type": "code",
   "execution_count": 1,
   "metadata": {},
   "outputs": [],
   "source": [
    "import sys\n",
    "sys.path.append('../scripts')"
   ]
  },
  {
   "cell_type": "code",
   "execution_count": 6,
   "metadata": {},
   "outputs": [
    {
     "data": {
      "text/plain": [
       "['/mnt/c/Users/hfeild/Documents/classes/2025-sp/csc440/code/notebooks',\n",
       " '/mnt/c/Users/hfeild/Documents/classes/2025-sp/csc440/code/notebooks/PYTHONPATH',\n",
       " '//home/hfeild/research/thesis/scripts',\n",
       " '/usr/lib/python38.zip',\n",
       " '/usr/lib/python3.8',\n",
       " '/usr/lib/python3.8/lib-dynload',\n",
       " '',\n",
       " '/home/hfeild/.local/lib/python3.8/site-packages',\n",
       " '/usr/local/lib/python3.8/dist-packages',\n",
       " '/usr/lib/python3/dist-packages',\n",
       " '/usr/lib/python3/dist-packages/IPython/extensions',\n",
       " '/home/hfeild/.ipython',\n",
       " '../scripts']"
      ]
     },
     "execution_count": 6,
     "metadata": {},
     "output_type": "execute_result"
    }
   ],
   "source": [
    "sys.path"
   ]
  },
  {
   "cell_type": "code",
   "execution_count": 7,
   "metadata": {},
   "outputs": [],
   "source": [
    "import count_bots"
   ]
  },
  {
   "cell_type": "code",
   "execution_count": 9,
   "metadata": {},
   "outputs": [
    {
     "data": {
      "text/plain": [
       "defaultdict(int,\n",
       "            {'Mozilla/5.0 (compatible; YandexBot/3.0; +http://yandex.com/bots)': 3,\n",
       "             'Mozilla/5.0 (compatible; YandexBot/3.0; +http://yandex.com/bots) AppleWebKit/537.36 (KHTML, like Gecko) Chrome/81.0.4044.268': 13,\n",
       "             'Mozilla/5.0 (compatible; Yellowbrandprotectionbot/1.0; +https://www.yellowbp.com/bot.html)': 4,\n",
       "             'Mozilla/5.0 (Linux; Android 6.0.1; Nexus 5X Build/MMB29P) AppleWebKit/537.36 (KHTML, like Gecko) Chrome/107.0.5304.115 Mobile Safari/537.36 (compatible; Googlebot/2.1; +http://www.google.com/bot.html)': 14,\n",
       "             'Mozilla/5.0 (Linux; Android 6.0.1; Nexus 5X Build/MMB29P) AppleWebKit/537.36 (KHTML, like Gecko) Chrome/108.0.5359.130 Mobile Safari/537.36 (compatible; Googlebot/2.1; +http://www.google.com/bot.html)': 2,\n",
       "             'Mozilla/5.0 AppleWebKit/537.36 (KHTML, like Gecko; compatible; bingbot/2.0; +http://www.bing.com/bingbot.htm) Chrome/103.0.5060.134 Safari/537.36': 8,\n",
       "             'Mozilla/5.0 (Linux; Android 7.0;) AppleWebKit/537.36 (KHTML, like Gecko) Mobile Safari/537.36 (compatible; PetalBot;+https://webmaster.petalsearch.com/site/petalbot)': 7,\n",
       "             'Mozilla/5.0 (compatible; SeznamBot/4.0-RC1; +http://napoveda.seznam.cz/seznambot-intro/)': 4,\n",
       "             'Mozilla/5.0 (compatible; bingbot/2.0; +http://www.bing.com/bingbot.htm)': 9,\n",
       "             'Mozilla/5.0 (compatible; AhrefsBot/7.0; +http://ahrefs.com/robot/)': 30,\n",
       "             'Mozilla/5.0 (compatible; coccocbot-image/1.0; +http://help.coccoc.com/searchengine)': 9,\n",
       "             'Googlebot/2.1 (+http://www.google.com/bot.html)': 2,\n",
       "             'Mozilla/5.0 (compatible;PetalBot;+https://webmaster.petalsearch.com/site/petalbot)': 3,\n",
       "             'Mozilla/5.0 (compatible; Googlebot/2.1; +http://www.google.com/bot.html)': 9,\n",
       "             'Mozilla/5.0 (compatible; SemrushBot-SI/0.97; +http://www.semrush.com/bot.html)': 1,\n",
       "             'Mozilla/5.0 (compatible; YandexImages/3.0; +http://yandex.com/bots)': 1,\n",
       "             'Mozilla/5.0 (Linux; Android 6.0.1; Nexus 5X Build/MMB29P) AppleWebKit/537.36 (KHTML, like Gecko) Chrome/99.0.4844.84 Mobile Safari/537.36 (compatible; Googlebot/2.1; +http://www.google.com/bot.html)': 2,\n",
       "             'Mozilla/5.0 AppleWebKit/537.36 (KHTML, like Gecko; compatible; Googlebot/2.1; +http://www.google.com/bot.html) Chrome/108.0.5359.130 Safari/537.36': 1})"
      ]
     },
     "execution_count": 9,
     "metadata": {},
     "output_type": "execute_result"
    }
   ],
   "source": [
    "# HW 6\n",
    "\n",
    "import count_bots\n",
    "import apache2cols\n",
    "\n",
    "with open('../data/apache-logs/hank.feild.org-access.log', 'r') as file:\n",
    "    apacheData = [apache2cols.splitIntoColumns(line) for line in file]\n",
    "    counts = count_bots.countBots(apacheData)\n",
    "    \n",
    "counts"
   ]
  },
  {
   "cell_type": "code",
   "execution_count": null,
   "metadata": {},
   "outputs": [],
   "source": []
  },
  {
   "cell_type": "markdown",
   "metadata": {
    "cell_id": "e29bd58960c04829a76d48f196264ff8",
    "deepnote_cell_type": "markdown",
    "tags": []
   },
   "source": [
    "# Aapache log analysis\n",
    "\n",
    "How many events are in all 52 logs?"
   ]
  },
  {
   "cell_type": "code",
   "execution_count": 10,
   "metadata": {
    "cell_id": "2b130da76ecb4468a61c696eb3991f6d",
    "deepnote_cell_type": "code",
    "deepnote_to_be_reexecuted": false,
    "execution_millis": 572,
    "execution_start": 1675694717474,
    "source_hash": "17b404e6",
    "tags": []
   },
   "outputs": [
    {
     "name": "stdout",
     "output_type": "stream",
     "text": [
      "206488\n"
     ]
    }
   ],
   "source": [
    "%%bash\n",
    "cd ../data/apache-logs\n",
    "zcat -f * | wc -l"
   ]
  },
  {
   "cell_type": "markdown",
   "metadata": {},
   "source": [
    "We can capture the output of the bash environment into a Python variable using `--out`:"
   ]
  },
  {
   "cell_type": "code",
   "execution_count": 11,
   "metadata": {},
   "outputs": [],
   "source": [
    "%%bash --out eventCount\n",
    "cd ../data/apache-logs\n",
    "zcat -f * | wc -l"
   ]
  },
  {
   "cell_type": "code",
   "execution_count": 12,
   "metadata": {},
   "outputs": [
    {
     "data": {
      "text/plain": [
       "'206488\\n'"
      ]
     },
     "execution_count": 12,
     "metadata": {},
     "output_type": "execute_result"
    }
   ],
   "source": [
    "eventCount"
   ]
  },
  {
   "cell_type": "markdown",
   "metadata": {},
   "source": [
    "We can parse it as an int to treat it numerically. Here's we're getting the average event count per log."
   ]
  },
  {
   "cell_type": "code",
   "execution_count": 13,
   "metadata": {},
   "outputs": [
    {
     "data": {
      "text/plain": [
       "3970.923076923077"
      ]
     },
     "execution_count": 13,
     "metadata": {},
     "output_type": "execute_result"
    }
   ],
   "source": [
    "int(eventCount) / 52"
   ]
  },
  {
   "cell_type": "markdown",
   "metadata": {
    "cell_id": "431d1c276a6646cd8d42c00c5b77ab11",
    "deepnote_cell_type": "markdown",
    "tags": []
   },
   "source": [
    "# Python practice\n",
    "\n",
    "Iterate over an interval, e.g., \n",
    "print numbers 4 to 103\n"
   ]
  },
  {
   "cell_type": "code",
   "execution_count": null,
   "metadata": {
    "cell_id": "e5a076bf4f74499e82799283232f997a",
    "deepnote_cell_type": "code",
    "tags": []
   },
   "outputs": [],
   "source": []
  }
 ],
 "metadata": {
  "kernelspec": {
   "display_name": "Python 3",
   "language": "python",
   "name": "python3"
  },
  "language_info": {
   "codemirror_mode": {
    "name": "ipython",
    "version": 3
   },
   "file_extension": ".py",
   "mimetype": "text/x-python",
   "name": "python",
   "nbconvert_exporter": "python",
   "pygments_lexer": "ipython3",
   "version": "3.8.10"
  }
 },
 "nbformat": 4,
 "nbformat_minor": 1
}
