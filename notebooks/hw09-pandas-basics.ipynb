{
 "cells": [
  {
   "cell_type": "markdown",
   "metadata": {
    "cell_id": "7852c1c7453e4a5eb03fbdf31a147f66",
    "deepnote_cell_type": "markdown",
    "tags": []
   },
   "source": [
    "# Homework 9\n",
    "\n",
    "Please make a copy of this notebook and answer the questions here rather than in that other notebook."
   ]
  },
  {
   "cell_type": "markdown",
   "metadata": {
    "cell_id": "0d35ed85c9134ef792062944f59d9d04",
    "deepnote_cell_type": "markdown",
    "tags": []
   },
   "source": [
    "**Name:** _______________"
   ]
  },
  {
   "cell_type": "markdown",
   "metadata": {
    "cell_id": "1674235130234ff0a25888570f0c8ec3",
    "deepnote_cell_type": "markdown",
    "tags": []
   },
   "source": [
    "## Question 1\n",
    "\n",
    "Read in the concrete data, which you can find in `Concrete_Data.csv` in the `data/` folder on pcloud, into a DataFrame and summarize of all the numeric columns."
   ]
  },
  {
   "cell_type": "code",
   "execution_count": null,
   "metadata": {
    "cell_id": "63902333e6e44ae1a60feea2f99fecc0",
    "deepnote_cell_type": "code",
    "deepnote_to_be_reexecuted": false,
    "execution_millis": 11,
    "execution_start": 1677773897926,
    "source_hash": "583e9312",
    "tags": []
   },
   "outputs": [],
   "source": []
  },
  {
   "cell_type": "markdown",
   "metadata": {
    "cell_id": "7d05a063e10e49ce9513ea3bbba85879",
    "deepnote_cell_type": "markdown",
    "tags": []
   },
   "source": [
    "## Question 2\n",
    "\n",
    "What data, if any, is missing from the concrete data?"
   ]
  },
  {
   "cell_type": "code",
   "execution_count": null,
   "metadata": {},
   "outputs": [],
   "source": []
  },
  {
   "cell_type": "markdown",
   "metadata": {
    "cell_id": "2428169e5ac74dff95d83085de12ffc2",
    "deepnote_cell_type": "markdown",
    "tags": []
   },
   "source": [
    "## Question 3\n",
    "\n",
    "This data requires the mouse data. Try this one, which combines both the row selection with the column selection and aggregation:\n",
    "\n",
    "  * *what is the mean weight of all female mice of the DBA/2J strain?*\n"
   ]
  },
  {
   "cell_type": "code",
   "execution_count": null,
   "metadata": {},
   "outputs": [],
   "source": []
  },
  {
   "cell_type": "markdown",
   "metadata": {
    "cell_id": "933db92015114eef9bf9ef8242259bbb",
    "deepnote_cell_type": "markdown",
    "tags": []
   },
   "source": [
    "## Question 4\n",
    "\n",
    "What is the mean weight of mice by sex."
   ]
  },
  {
   "cell_type": "code",
   "execution_count": null,
   "metadata": {
    "cell_id": "6547895fccea4069ac06bc03b29852b9",
    "deepnote_cell_type": "code",
    "deepnote_to_be_reexecuted": false,
    "execution_millis": 2,
    "execution_start": 1677682157175,
    "source_hash": "d7b02769",
    "tags": []
   },
   "outputs": [],
   "source": []
  }
 ],
 "metadata": {
  "deepnote_notebook_id": "bd241ada449142b3aced7fd00e820710",
  "deepnote_persisted_session": {
   "createdAt": "2023-03-02T16:45:53.315Z"
  },
  "kernelspec": {
   "display_name": "Python 3 (ipykernel)",
   "language": "python",
   "name": "python3"
  },
  "language_info": {
   "codemirror_mode": {
    "name": "ipython",
    "version": 3
   },
   "file_extension": ".py",
   "mimetype": "text/x-python",
   "name": "python",
   "nbconvert_exporter": "python",
   "pygments_lexer": "ipython3",
   "version": "3.12.3"
  }
 },
 "nbformat": 4,
 "nbformat_minor": 4
}
