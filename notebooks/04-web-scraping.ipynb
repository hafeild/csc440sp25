{
 "cells": [
  {
   "cell_type": "markdown",
   "metadata": {
    "cell_id": "bde9cda7137b44a4bc8f36d56451c3ca"
   },
   "source": [
    "# Web scraping\n",
    "\n",
    "Agenda:\n",
    "  * use GET to grab a page (Endicott's CSC majors page)\n",
    "    - look at response\n",
    "  * use GET to grab a CSV response\n",
    "  * use POST to grab a CSV response\n",
    "  * cookies\n",
    "  * extract course requirements from Endicott's CSC majors page\n",
    "    \n",
    "## `requests` module\n",
    "This module will make working with HTTP requests much easier."
   ]
  },
  {
   "cell_type": "code",
   "execution_count": 1,
   "metadata": {
    "cell_id": "c549b6e72fae43d38c6c6883d7a4f66b",
    "execution_millis": 170812950,
    "execution_start": 1676038235962,
    "source_hash": "becacfbd"
   },
   "outputs": [],
   "source": [
    "import requests"
   ]
  },
  {
   "cell_type": "markdown",
   "metadata": {
    "cell_id": "cf979b0943964c188a0151752ff45752"
   },
   "source": [
    "## A simple get request\n",
    "\n",
    "Let's grab the Computer Science Major page from Endicott's catalog website: `https://catalog.endicott.edu/preview_program.php?catoid=46&poid=5251`"
   ]
  },
  {
   "cell_type": "code",
   "execution_count": 2,
   "metadata": {
    "cell_id": "535024740e7647d0a7f179711c7bc9b7",
    "execution_millis": 258,
    "execution_start": 1676038235998,
    "source_hash": "3bb3500e"
   },
   "outputs": [
    {
     "data": {
      "text/plain": [
       "<Response [200]>"
      ]
     },
     "execution_count": 2,
     "metadata": {},
     "output_type": "execute_result"
    }
   ],
   "source": [
    "response = requests.get('https://catalog.endicott.edu/preview_program.php?catoid=46&poid=5251', timeout=2)\n",
    "response"
   ]
  },
  {
   "cell_type": "markdown",
   "metadata": {
    "cell_id": "4abcfb5b713f4e8283afb66573c6842f",
    "slideshow": {
     "slide_type": "fragment"
    }
   },
   "source": [
    "Look at the content from the response as plain text:"
   ]
  },
  {
   "cell_type": "code",
   "execution_count": 3,
   "metadata": {
    "cell_id": "988c27ee629846d9acface7be3f98239",
    "execution_millis": 13,
    "execution_start": 1676038236269,
    "scrolled": true,
    "source_hash": "a532775b"
   },
   "outputs": [
    {
     "data": {
      "text/plain": [
       "'<!DOCTYPE html><html lang=\"en\">\\n\\t<head>\\n\\t\\t<title>Program: Computer Science Major (Bachelor of Science) - Endicott College - Modern Campus Catalog™</title>\\n\\t\\t\\t\\t<meta http-equiv=\"Content-Type\" content=\"text/html; charset=UTF-8\">\\n\\t\\t\\t\\t\\t\\t\\t<link rel=\"shortcut icon\" href=\"//acalog-clients.s3.amazonaws.com/production/endicott/img/favicon/favicon.ico\" />\\n\\t\\t<meta name=\"description\" content=\"Endicott College Academic Catalog. Endicott College, 376 Hale Street, Beverly, MA, USA. Endicott offers Bachelor of Arts, B.A., Bachelor of Fine Arts, B.F.A., Bachelor of Science, B.S., Master of Education, M.Ed., Master of Business Administration, M.B.A., Master of Science, M.S., Master of Arts, M.A., Master of Fine Arts, M.F.A., and Associate in Science (A.S.) degrees.Most students select Endicott after a personal tour of our oceanfront campus ends their search for the ideal academic experience.\"><meta name=\"keywords\" content=\"academic, catalogs, undergraduate, Endicott College, programs, courses, Endicott, endicott college, endicott, north shore, liberal arts, college, oceanfront campus, ecgulls, internships, graduate school, new england, massachusetts, ba, bfa, bs, med, mba, ms, mfa, ma, mexico, madrid, international studies, halle library, wylie center, center for the arts , graduate, undergraduate, global, internships, research center, arts, alumni, athletics, arts and sciences, business, communication, education, hospitality management, international, international education, nursing, sport science, visual and performing arts, performing arts, exhibits, bachelor of science, bachelor of arts, bachelor of fine arts, master of arts, master of science, master of fine arts, mba, med, master of education, management development, adult undergraduate, institute for behavioral studies, online learning, online, wylie inn, wylie inn and conference center, wylie inn and conference center at endicott college, political science\">\\t\\t\\t<link href=\"//acalog-clients.s3.amazonaws.com/production/endicott/css/gateway/user-styles.css\" rel=\"stylesheet\" type=\"text/css\">\\n\\t\\t\\t<link href=\"css/public_custom.php\" rel=\"stylesheet\" type=\"text/css\">\\n\\t\\t\\t<link href=\"global_styles.css\" rel=\"stylesheet\" type=\"text/css\">\\n\\t\\t\\t\\t\\t<!--[if IE]>\\n\\t\\t\\t<link rel=\"stylesheet\" type=\"text/css\" href=\"ie.css\" />\\n\\t\\t\\t<![endif]-->\\n\\n\\t\\t\\t\\t<!-- Cache-busting string (deploy date) added to asset URLS -->\\n\\t\\t<script src=\"js/jquery.js?v=01252018\" type=\"text/javascript\"></script>\\n\\t\\t<script src=\"js/Tooltip.js?v=01252018\" type=\"text/javascript\"></script>\\n \\t\\t<script src=\"javascripts.js?v=02232018\" type=\"text/javascript\"></script>\\n\\t\\t<script src=\"js/smlinks.js?v=01252018\" type=\"text/javascript\"></script>\\n\\t\\t\\t<script src=\"/js/highlight.js?v=01252018\" type=\"text/javascript\"></script>\\n\\t\\t<script type=\\'text/javascript\\'>\\nwindow.dataLayer = window.dataLayer || []; \\nfunction gtag(){dataLayer.push(arguments);} \\ngtag(\\'js\\', new Date());\\n\\ngtag(\\'config\\', \\'UA-2591870-4\\'); \\n</script><noscript><p><span class=\"error\">Javascript is currently not supported, or is disabled by this browser. Please enable Javascript for full functionality.</span></p></noscript>\\n<script type=\"text/javascript\">var gatewayFeatureSearchBar = true; var gatewayFeatureToolbarText = false; var gatewayFeatureBackToTopText = false;</script>\\n<link type=\"text/css\" rel=\"stylesheet\" href=\"//acalog-clients.s3.amazonaws.com/global/css/gateway-styles-reset.css\" />\\n<link type=\"text/css\" rel=\"stylesheet\" href=\"//acalog-clients.s3.amazonaws.com/global/css/gateway-styles-nojs.css\" id=\"gateway-styles-nojs\" />\\n<link type=\"text/css\" rel=\"stylesheet\" href=\"//acalog-clients.s3.amazonaws.com/production/endicott/css/gateway/gateway-styles.css?v=5\" />\\n<script type=\"text/javascript\">document.getElementById(\"gateway-styles-nojs\").parentNode.removeChild(document.getElementById(\"gateway-styles-nojs\"));</script>\\n<script type=\"text/javascript\" src=\"//ajax.googleapis.com/ajax/libs/jquery/1.8.1/jquery.min.js\"></script>\\n<script type=\"text/javascript\" src=\"//acalog-clients.s3.amazonaws.com/global/js/jquery.browser.js\"></script>\\n<script type=\"text/javascript\" src=\"//acalog-clients.s3.amazonaws.com/global/js/gateway-javascript.js\"></script>\\n<!--[if lte IE 8]><script type=\"text/javascript\" src=\"//acalog-clients.s3.amazonaws.com/global/js/select-fix.js\"></script><![endif]-->\\n\\t\\t<script src=\"https://ajax.googleapis.com/ajax/libs/jquery/3.4.1/jquery.min.js\"></script>\\n\\t\\t<script src=\"https://code.jquery.com/jquery-migrate-git.min.js\"></script>\\n\\t\\t<link href=\"https://cdnjs.cloudflare.com/ajax/libs/select2/4.0.12/css/select2.min.css\" rel=\"stylesheet\" />\\n\\t\\t<!-- Begin Responsive -->\\n\\t\\t\\t\\t\\t\\t<meta name=\"viewport\" content=\"width=device-width, initial-scale=1, minimum-scale=1\" />\\n\\t\\t\\t\\t<script src=\"https://kit.fontawesome.com/e35e04f508.js\" crossorigin=\"anonymous\"></script>\\n\\t\\t\\t\\t<script src=\"mobile-js.js\"></script>\\n\\t\\t\\t\\t<link href=\"mobile-styles.css\" rel=\"stylesheet\" type=\"text/css\">\\n\\t\\t\\t\\t\\t\\t<!-- End Responsive -->\\n\\t\\t<script src=\"/js/pathways.js\"></script>\\n\\t</head>\\n\\t<body>\\n        <!-- Skip to Navigation -->\\n        <nav id=\"skip\" aria-label=\"Skip to Main Content\">\\n            <a href=\"#select_catalog\" class=\"skip-nav\">Skip to Content</a>\\n        </nav>\\n\\t\\t<table class=\"toplevel table_default\">\\n\\t\\t\\t<tr role=\"banner\">\\n\\t\\t\\t\\t<td colspan=\"2\" class=\"block_n2_and_content\" id=\"acalog-header\"><div id=\"acalog-client-javascript\" class=\"acalog-custom\">\\n<script type=\"text/javascript\">\\n    jQuery(document).ready( function($) { if ($(\\'#gateway-page\\').length) {\\n\\n        $(\\'#acalog-client-header\\').wrapInner(\\'<div class=\"js\"><\\\\/div>\\');\\n\\n    $( \"html\" ).addClass( \"js\" );\\n\\n    $(\\'.gateway-footer-copyright-1\\').remove();\\n\\n    $(window).load(function(){\\n    $( \".subnav-dropdown\" ).click(function(e) {\\n    $( this ).toggleClass( \"active\" );\\n    $( \".top-nav, .subnav\" ).toggleClass( \"block\" );\\n    });\\n    });\\n\\n    }});\\n</script>\\n</div>\\n<!-- End Client Javascript -->\\n\\n<!-- Start Client Header -->\\n<div id=\"acalog-client-header\" class=\"acalog-custom\">\\n    <div>\\n        <header aria-label=\"site header container\">\\n            <div id=\"header-wrap\">\\n                <div data-selector-id=\"header\" class=\"sticky\" aria-label=\"Endicott College site header\">\\n                    <a href=\"#content\" class=\"screen-reader-text\">Skip to main content</a>\\n                    <div class=\"site-width\">\\n                        <div class=\"brand site-shift\">\\n                            <a href=\"https://www.endicott.edu/\">Endicott College</a>\\n                            <div data-selector-id=\"menu-toggle\"></div>\\n                        </div>\\n                        <div data-selector-id=\"main-menu\">\\n                            <div data-selector-id=\"main-search\">\\n                                <div class=\"stage\">\\n                                    <form action=\"https://www.endicott.edu/search-results\" method=\"get\">\\n                                        <label for=\"main-search-box\" class=\"screen-reader-text\">Search our site</label> <input type=\"text\" id=\"main-search-box\" data-selector-id=\"main-search-box\" name=\"q\" class=\"search-box\" placeholder=\"Search our site\"> <input type=\"submit\" value=\"Search\" class=\"search-button\">\\n                                    </form>\\n                                </div>\\n                            </div>\\n                            <nav data-selector-id=\"main-nav\" aria-label=\"main navigation\">\\n                                <ul>\\n                                    <li class=\"home\">\\n                                        <a href=\"https://www.endicott.edu/\">Home</a>\\n                                    </li>\\n                                    <li>\\n                                        <a href=\"javascript:void(0);\" aria-label=\"expand or collapse About menu\">About</a>\\n                                        <div class=\"stage\">\\n                                            <div class=\"grid\">\\n                                                <div class=\"col\">\\n                                                    <a class=\"title\" href=\"https://www.endicott.edu/about\">About</a>\\n                                                    <ul>\\n                                                        <li>\\n                                                            <a href=\"https://www.endicott.edu/about/why-endicott\">Why Endicott?</a>\\n                                                        </li>\\n                                                        <li>\\n                                                            <a href=\"https://www.endicott.edu/about/leadership\">Leadership</a>\\n                                                        </li>\\n                                                        <li>\\n                                                            <a href=\"https://www.endicott.edu/about/arts-culture\">Arts and Culture</a>\\n                                                        </li>\\n                                                        <li>\\n                                                            <a href=\"https://www.endicott.edu/about/research-at-endicott\">Research at Endicott</a>\\n                                                        </li>\\n                                                        <li>\\n                                                            <a href=\"https://www.endicott.edu/about/campus-planning-and-construction\">Campus Planning and Construction</a>\\n                                                        </li>\\n                                                        <li>\\n                                                            <a href=\"https://www.endicott.edu/about/sustainability\">Sustainability</a>\\n                                                        </li>\\n                                                        <li>\\n                                                            <a href=\"https://www.endicott.edu/about/faculty-staff-directory\">Faculty and Staff Directory</a>\\n                                                        </li>\\n                                                        <li>\\n                                                            <a href=\"https://www.endicott.edu/about/key-offices-departments\">Key Offices and Departments</a>\\n                                                        </li>\\n                                                        <li>\\n                                                            <a href=\"https://www.endicott.edu/about/locations-directions\">Locations and Directions</a>\\n                                                        </li>\\n                                                        <li>\\n                                                            <a href=\"https://www.endicott.edu/about/contact-us\">Contact Us</a>\\n                                                        </li>\\n                                                    </ul>\\n                                                </div>\\n                                            </div>\\n                                        </div>\\n                                    </li>\\n                                    <li>\\n                                        <a href=\"javascript:void(0);\" aria-label=\"expand or collapse Admission menu\">Admission</a>\\n                                        <div class=\"stage wide\">\\n                                            <div class=\"grid\">\\n                                                <div class=\"col-2/3\">\\n                                                    <a class=\"title\" href=\"https://www.endicott.edu/admission\">Undergraduate College Admission</a>\\n                                                    <ul>\\n                                                        <li>\\n                                                            <a href=\"https://www.endicott.edu/admission/how-to-apply\">How to Apply</a>\\n                                                        </li>\\n                                                        <li>\\n                                                            <a href=\"https://www.endicott.edu/admission/admission-criteria\">Admission Criteria</a>\\n                                                        </li>\\n                                                        <li>\\n                                                            <a href=\"https://www.endicott.edu/admission/tuition-financial-aid\">Tuition and Financial Aid</a>\\n                                                        </li>\\n                                                        <li>\\n                                                            <a href=\"https://www.endicott.edu/admission/meet-the-admission-team\">Meet the Admission Team</a>\\n                                                        </li>\\n                                                        <li>\\n                                                            <a href=\"https://www.endicott.edu/admission/plan-a-visit\">Plan A Visit</a>\\n                                                        </li>\\n                                                        <li>\\n                                                            <a href=\"https://www.endicott.edu/admission/information-for-accepted-students\"><em>for</em> Accepted Students</a>\\n                                                        </li>\\n                                                        <li>\\n                                                            <a href=\"https://www.endicott.edu/admission/information-for-parents-and-families\"><em>for</em> Parents and Families</a>\\n                                                        </li>\\n                                                        <li>\\n                                                            <a href=\"https://www.endicott.edu/admission/information-for-guidance-colleagues\"><em>for</em> Guidance Colleagues</a>\\n                                                        </li>\\n                                                    </ul>\\n                                                </div>\\n                                                <div class=\"col-1/3\">\\n                                                    <a class=\"title\" href=\"https://vanloan.endicott.edu/admission-registration\">Graduate and Professional Studies Admission</a>\\n                                                    <div class=\"info\">\\n                                                        <p>\\n                                                            Application information for the Van Loan School at Endicott College.\\n                                                        </p>\\n                                                    </div>\\n                                                </div>\\n                                            </div>\\n                                        </div>\\n                                    </li>\\n                                    <li>\\n                                        <a href=\"javascript:void(0);\" aria-label=\"expand or collapse Academics menu\">Academics</a>\\n                                        <div class=\"stage wide\">\\n                                            <div class=\"grid\">\\n                                                <div class=\"col-2/3\">\\n                                                    <a class=\"title\" href=\"https://www.endicott.edu/academics\">Academics</a>\\n                                                    <ul>\\n                                                        <li>\\n                                                            <a href=\"https://www.endicott.edu/academics/programs-of-study\">Programs of Study</a>\\n                                                        </li>\\n                                                        <li>\\n                                                            <a href=\"https://www.endicott.edu/academics/general-education-core-requirements\">General Education Core Requirements</a>\\n                                                        </li>\\n                                                        <li>\\n                                                            <a href=\"https://www.endicott.edu/academics/schools\">Schools</a>\\n                                                        </li>\\n                                                        <li>\\n                                                            <a href=\"https://www.endicott.edu/academics/academic-opportunities\">Academic Opportunities</a>\\n                                                        </li>\\n                                                        <li>\\n                                                            <a href=\"https://www.endicott.edu/academics/academic-resources-support\">Academic Resources and Support</a>\\n                                                        </li>\\n                                                        <li>\\n                                                            <a href=\"https://www.endicott.edu/academics/our-faculty\">Our Faculty</a>\\n                                                        </li>\\n                                                        <li>\\n                                                            <a href=\"https://www.endicott.edu/academics/international-education\">International Education</a>\\n                                                        </li>\\n                                                        <li>\\n                                                            <a href=\"https://www.endicott.edu/academics/centers-institutes\">Centers and Institutes</a>\\n                                                        </li>\\n                                                    </ul>\\n                                                </div>\\n                                                <div class=\"col-1/3\">\\n                                                    <a class=\"title\" href=\"https://vanloan.endicott.edu/programs-of-study\">Graduate and Professional Programs</a>\\n                                                    <div class=\"info\">\\n                                                        <p>\\n                                                            Endicott’s Van Loan School offers adult undergraduate and graduate programs in Beverly, Boston, and online, plus executive education.\\n                                                        </p>\\n                                                    </div>\\n                                                </div>\\n                                            </div>\\n                                        </div>\\n                                    </li>\\n                                    <li>\\n                                        <a href=\"javascript:void(0);\" aria-label=\"expand or collapse Student Life menu\">Student Life</a>\\n                                        <div class=\"stage endalign\">\\n                                            <div class=\"grid\">\\n                                                <div class=\"col\">\\n                                                    <a class=\"title\" href=\"https://www.endicott.edu/student-life\">Student Life</a>\\n                                                    <ul>\\n                                                        <li>\\n                                                            <a href=\"https://www.endicott.edu/student-life/housing-residence-life\">Housing and Residence Life</a>\\n                                                        </li>\\n                                                        <li>\\n                                                            <a href=\"https://www.endicott.edu/student-life/activities-events\">Activities and Events</a>\\n                                                        </li>\\n                                                        <li>\\n                                                            <a href=\"https://www.endicott.edu/student-life/athletics-recreation\">Athletics and Recreation</a>\\n                                                        </li>\\n                                                        <li>\\n                                                            <a href=\"https://www.endicott.edu/student-life/health-wellness\">Health and Wellness</a>\\n                                                        </li>\\n                                                        <li>\\n                                                            <a href=\"https://www.endicott.edu/student-life/community-service\">Community Service</a>\\n                                                        </li>\\n                                                        <li>\\n                                                            <a href=\"https://www.endicott.edu/student-life/student-services\">Student Services</a>\\n                                                        </li>\\n                                                        <li>\\n                                                            <a href=\"https://www.endicott.edu/student-life/safety-security\">Safety and Security</a>\\n                                                        </li>\\n                                                        <li>\\n                                                            <a href=\"https://www.endicott.edu/student-life/new-student-orientation\">New Student Orientation</a>\\n                                                        </li>\\n                                                        <li>\\n                                                            <a href=\"https://www.endicott.edu/student-life/contact-student-life\">Contact Student Life</a>\\n                                                        </li>\\n                                                    </ul>\\n                                                </div>\\n                                            </div>\\n                                        </div>\\n                                    </li>\\n                                    <li>\\n                                        <a href=\"javascript:void(0);\" aria-label=\"expand or collapse Internships and Careers menu\">Internships and Careers</a>\\n                                        <div class=\"stage endalign\">\\n                                            <div class=\"grid\">\\n                                                <div class=\"col\">\\n                                                    <a class=\"title\" href=\"https://www.endicott.edu/internships-careers\">Internships and Careers</a>\\n                                                    <ul>\\n                                                        <li>\\n                                                            <a href=\"https://www.endicott.edu/internships-careers/four-year-internship-program\">Four-Year Internship Program</a>\\n                                                        </li>\\n                                                        <li>\\n                                                            <a href=\"https://www.endicott.edu/internships-careers/internship-career-services-resources\">Internship and Career Services and Resources</a>\\n                                                        </li>\\n                                                        <li>\\n                                                            <a href=\"https://www.endicott.edu/internships-careers/internship-career-events\">Internship and Career Events</a>\\n                                                        </li>\\n                                                        <li>\\n                                                            <a href=\"https://www.endicott.edu/internships-careers/student-stories\">Student Stories</a>\\n                                                        </li>\\n                                                        <li>\\n                                                            <a href=\"https://www.endicott.edu/internships-careers/information-for-employers\"><em>for</em> Employers</a>\\n                                                        </li>\\n                                                        <li>\\n                                                            <a href=\"https://www.endicott.edu/internships-careers/information-for-alumni\"><em>for</em> Alumni</a>\\n                                                        </li>\\n                                                        <li>\\n                                                            <a href=\"https://www.endicott.edu/internships-careers/contact-internship-career-center\">Contact Internship and Career Center</a>\\n                                                        </li>\\n                                                    </ul>\\n                                                </div>\\n                                            </div>\\n                                        </div>\\n                                    </li>\\n                                    <li>\\n                                        <a href=\"javascript:void(0);\" aria-label=\"expand or collapse News and Events menu\">News and Events</a>\\n                                        <div class=\"stage endalign\">\\n                                            <div class=\"grid\">\\n                                                <div class=\"col\">\\n                                                    <a class=\"title\" href=\"https://www.endicott.edu/news-events\">News and Events</a>\\n                                                    <ul>\\n                                                        <li>\\n                                                            <a href=\"https://www.endicott.edu/news-events/news\">News</a>\\n                                                        </li>\\n                                                        <li>\\n                                                            <a href=\"https://www.endicott.edu/news-events/commencement\">Commencement</a>\\n                                                        </li>\\n                                                        <li>\\n                                                            <a href=\"https://www.endicott.edu/news-events/soundings-magazine\">Soundings Magazine</a>\\n                                                        </li>\\n                                                        <li>\\n                                                            <a href=\"https://www.endicott.edu/news-events/homecoming-and-family-weekend\">Homecoming and Family Weekend</a>\\n                                                        </li>\\n                                                        <li>\\n                                                            <a href=\"http://events.endicott.edu/\">Events Calendar</a>\\n                                                        </li>\\n                                                        <li>\\n                                                            <a href=\"https://www.endicott.edu/news-events/college-publications\">College Publications</a>\\n                                                        </li>\\n                                                    </ul>\\n                                                </div>\\n                                            </div>\\n                                        </div>\\n                                    </li>\\n                                    <li>\\n                                        <a href=\"javascript:void(0);\" aria-label=\"expand or collapse Alumni menu\">Alumni</a>\\n                                        <div class=\"stage endalign\">\\n                                            <div class=\"grid\">\\n                                                <div class=\"col\">\\n                                                    <a class=\"title\" href=\"https://www.endicott.edu/alumni\">Alumni</a>\\n                                                    <ul>\\n                                                        <li>\\n                                                            <a href=\"https://www.endicott.edu/alumni/alumni-news-events\">Alumni News and Events</a>\\n                                                        </li>\\n                                                        <li>\\n                                                            <a href=\"https://www.endicott.edu/alumni/reunion-weekend\">Reunion Weekend</a>\\n                                                        </li>\\n                                                        <li>\\n                                                            <a href=\"https://www.endicott.edu/alumni/alumni-resources-benefits\">Alumni Resources and Benefits</a>\\n                                                        </li>\\n                                                        <li>\\n                                                            <a href=\"https://www.endicott.edu/alumni/alumni-travel-program\">Alumni Travel Program</a>\\n                                                        </li>\\n                                                        <li>\\n                                                            <a href=\"https://www.endicott.edu/alumni/alumni-volunteer-opportunities\">Alumni Volunteer Opportunities</a>\\n                                                        </li>\\n                                                        <li>\\n                                                            <a href=\"https://www.endicott.edu/alumni/alumni-council\">Alumni Council</a>\\n                                                        </li>\\n                                                        <li>\\n                                                            <a href=\"https://www.endicott.edu/alumni/keep-in-touch-with-us\">Alumni - Keep in Touch with Us</a>\\n                                                        </li>\\n                                                    </ul>\\n                                                </div>\\n                                            </div>\\n                                        </div>\\n                                    </li>\\n                                    <li data-selector-id=\"search-toggle\">\\n                                        <a href=\"#\">Search</a>\\n                                    </li>\\n                                </ul>\\n                            </nav>\\n                            <div data-selector-id=\"sub-nav\">\\n                                <ul>\\n                                    <li>\\n                                        <a href=\"http://www.ecgulls.com/landing/index\">Athletics</a>\\n                                    </li>\\n                                    <li>\\n                                        <a href=\"https://www.endicott.edu/about/faculty-staff-directory\">Directory</a>\\n                                    </li>\\n                                    <li>\\n                                        <a href=\"https://vanloan.endicott.edu/\">Van Loan School</a>\\n                                    </li>\\n                                </ul><a class=\"give-link\" href=\"https://www.endicott.edu/give\">Give</a>\\n                            </div>\\n                            <div class=\"top-nav\" data-selector-id=\"tools\" role=\"navigation\" aria-label=\"Student Resources\">\\n                                <div class=\"site-width\">\\n                                    <a class=\"subnav-dropdown\" href=\"#\" data-selector-id=\"tools-toggle\">Student Resources</a>\\n                                    <ul class=\"subnav\">\\n                                        <li>\\n                                            <a href=\"http://catalog.endicott.edu/\">Academic Catalog</a>\\n                                        </li>\\n                                        <li>\\n                                            <a href=\"https://www.endicott.edu/academics/academic-resources-support/academic-calendar\">Academic Calendar</a>\\n                                        </li>\\n                                        <li>\\n                                            <a href=\"https://www.endicott.edu/academics/academic-resources-support/halle-library\">Halle Library</a>\\n                                        </li>\\n                                        <li>\\n                                            <a href=\"http://www.bkstr.com/endicottstore/home/en\">Bookstore</a>\\n                                        </li>\\n                                        <li>\\n                                            <a href=\"https://canvas.endicott.edu/login/ldap\">Canvas</a>\\n                                        </li>\\n                                        <li>\\n                                            <a href=\"https://www.endicott.edu/student-life/student-services/gull-card\">Gull Card</a>\\n                                        </li>\\n                                        <li>\\n                                            <a href=\"https://my.endicott.edu/ICS/\">My Endicott</a>\\n                                        </li>\\n                                    </ul>\\n                                </div>\\n                            </div>\\n                            <div class=\"action-calls\">\\n                                <a href=\"https://www.endicott.edu/admission/how-to-apply\" class=\"action apply\">Apply</a> <a href=\"https://apply.endicott.edu/register/requestinfo\" class=\"action info\">Request Info</a> <a href=\"https://www.endicott.edu/admission/plan-a-visit\" class=\"action plan\">Plan a Visit</a>\\n                            </div>\\n                        </div>\\n                    </div>\\n                </div>\\n            </div>\\n        </header>\\n    </div>\\n</div>\\n<!-- End Client Header -->\\n\\n<!-- Start Client Footer -->\\n<div id=\"acalog-client-footer\" class=\"acalog-custom\">\\n    <div>\\n        <footer id=\"footer\" class=\"site-shift\" aria-label=\"site footer container\">\\n            <div class=\"footer-border\"></div>\\n            <div class=\"footer\">\\n                <div class=\"site-width\">\\n                    <a href=\"https://www.usnews.com/best-colleges/endicott-college-2148\" target=\"_blank\" class=\"award-link\"><img alt=\"U.S. News &amp; World Report Best Colleges, Regional Universities - North 2019 award badge\" src=\"//acalog-clients.s3.amazonaws.com/production/endicott/img/gateway/best-colleges-regional-universities-north-2019.png\"></a>\\n                    <div class=\"stage\">\\n                        <div class=\"section brand\">\\n                            <a href=\"https://www.endicott.edu/\">Endicott College</a>\\n                        </div>\\n                        <div class=\"section contact\">\\n                            <div class=\"address\">\\n                                <strong>Endicott College</strong><br>\\n                                <a href=\"https://goo.gl/maps/ft9EcVLVgXN2\" target=\"_blank\">376 Hale Street<br>\\n                                Beverly, MA 01915</a>\\n                            </div>\\n                            <div class=\"phone\">\\n                                <a href=\"tel:9789270585\">978-927-0585</a> <a href=\"tel:8003251114\">800-325-1114</a>\\n                            </div><a href=\"https://www.endicott.edu/about/locations-directions\" class=\"icon-location\">Location and Directions</a> <a href=\"https://www.endicott.edu/about/faculty-staff-directory\" class=\"icon-profile\">Directory</a> <a href=\"https://www.endicott.edu/about/contact-us\" class=\"icon-info\">Contact Us</a>\\n                        </div>\\n                        <div class=\"section map\">\\n                            <a href=\"http://map.endicott.edu\"><img srcset=\"https://www.endicott.edu/images/campus-map-1x.jpg 1x, https://www.endicott.edu/images/campus-map-2x.jpg 2x\" src=\"https://www.endicott.edu/images/campus-map-1x.jpg\" alt=\"campus map graphic\"> <span>Campus Map</span></a>\\n                        </div>\\n                        <div class=\"section links-grid\">\\n                            <div class=\"connected\">\\n                                <a href=\"https://www.facebook.com/EndicottCollege\" class=\"social-facebook\">Facebook</a> <a href=\"https://twitter.com/EndicottCollege\" class=\"social-twitter\">Twitter</a> <a href=\"https://www.instagram.com/endicottcollege\" class=\"social-instagram\">Instagram</a> <a href=\"https://www.youtube.com/user/endicottcollege\" class=\"social-youtube\">YouTube</a> <a href=\"https://www.endicott.edu/about/key-offices-departments/communications-and-marketing/social-media\" class=\"arrow\">Stay Connected</a>\\n                            </div>\\n                            <div class=\"athletics\">\\n                                <a href=\"http://www.ecgulls.com/\"><img src=\"//acalog-clients.s3.amazonaws.com/production/endicott/img/gateway/logo-athletics.png\" alt=\"Endicott College Gulls\"> <span>Athletics</span></a>\\n                            </div>\\n                            <div class=\"links\">\\n                                <ul>\\n                                    <li>\\n                                        <a href=\"https://vanloan.endicott.edu/\">Van Loan School</a>\\n                                    </li>\\n                                    <li>\\n                                        <a href=\"https://www.endicott.edu/academics/academic-resources-support/halle-library\">Halle Library</a>\\n                                    </li>\\n                                    <li>\\n                                        <a href=\"http://www.bkstr.com/endicottstore/home/en\">Bookstore</a>\\n                                    </li>\\n                                    <li>\\n                                        <a href=\"https://www.endicott.edu/about/arts-culture\">Arts and Culture</a>\\n                                    </li>\\n                                    <li>\\n                                        <a href=\"https://www.eventbrite.com/o/endicott-college-4581762391\" target=\"_blank\">Event Tickets</a>\\n                                    </li>\\n                                    <li>\\n                                        <a href=\"https://www.misselwood.com/\">Misselwood Events</a>\\n                                    </li>\\n                                    <li>\\n                                        <a href=\"http://wyliecenter.com/\" target=\"_blank\">Wylie Inn and Conference Center</a>\\n                                    </li>\\n                                    <li>\\n                                        <a href=\"https://www.endicott.edu/about/key-offices-departments/human-resources/employment-opportunities\">Employment</a>\\n                                    </li>\\n                                    <li>\\n                                        <a href=\"https://www.endicott.edu/about/key-offices-departments/public-safety/emergency-alerts-communications\">Emergency Alerts</a>\\n                                    </li>\\n                                </ul>\\n                            </div>\\n                        </div>\\n                    </div>\\n                </div>\\n            </div>\\n            <section id=\"copyright\" class=\"site-shift\" role=\"navigation\" aria-label=\"copyright info\">\\n                <div class=\"site-width\">\\n                    <span>© Endicott College. All rights reserved. <a href=\"https://www.endicott.edu/consumer-disclosure\">Consumer Disclosure</a> <a href=\"https://www.endicott.edu/about/why-endicott/accreditation\">Accreditation</a> <a href=\"https://www.endicott.edu/privacy-policy\">Privacy Policy</a> <a href=\"https://www.endicott.edu/accessibility\">Accessibility</a></span>\\n                </div>\\n            </section>\\n        </footer>\\n    </div>\\n</div>\\n<!-- End Client Footer -->\\n<script type=\"text/javascript\" src=\"//acalog-clients.s3.amazonaws.com/production/endicott/img/gateway/script-block-02.js\"></script>\\n<script src=\"//acalog-clients.s3.amazonaws.com/production/endicott/img/gateway/main.min.js?v=11\" type=\"text/javascript\"></script>\\n<script src=\"//acalog-clients.s3.amazonaws.com/production/endicott/img/gateway/jquery-migrate-1.4.1.js\" type=\"text/javascript\"></script></td>\\n\\t\\t\\t</tr>\\n\\t\\t\\t<tr class=\"acalog-block-n1\" role=\"complementary\">\\n\\t\\t\\t\\t\\t<td class=\"block_n1_left\">&#160;&#160;&#160;</td>\\n\\t\\t\\t\\t<td class=\"block_n1_right\">\\n\\t\\t\\t\\t\\t<span class=\"n1_header\">\\n\\t\\t\\t\\tEndicott College\\t\\t\\t\\t\\t</span>\\n\\t\\t\\t\\t</td>\\n\\t\\t\\t\\t</tr>\\n\\t\\t\\t<tr role=\"main\">\\n\\t\\t\\t\\t\\t<td class=\"block_border_left\">&#160;&#160;&#160;</td>\\n\\t\\t\\t\\t\\t<td class=\"block_n2_and_content\">\\n\\t\\t\\t\\t\\t<table class=\"block_n2_and_content table_default\">\\n\\t\\t\\t\\t\\t\\t<tr>\\n\\t\\t\\t\\t\\t\\t\\t<!-- Begin N3 -->\\n\\t\\t\\t<td class=\"block_date_outer_left small_date_pad\">&#160;</td>\\n\\t\\t<td class=\"block_date_inner medium_date_pad\">\\n\\t\\t\\t<span class=\"date\">&#160;\\n\\t\\t\\t\\tFeb 12, 2025\\t\\t\\t</span>\\n\\t\\t</td>\\n\\t\\t<td class=\"block_date_outer_right small_date_pad\">&#160;</td>\\n\\t\\t<td class=\"block_n2_and_content\">\\n\\t<table class=\"table_default\">\\n\\t\\t<tr>\\n\\t\\t\\t<td class=\"block_n3_off block_n3_left\">\\n\\t\\t\\t\\t<span class=\"n3_header\"><span id=\"acalog-catalog-name\">2024-2025 Endicott College Academic Catalog</span>&#160;</span>\\n\\t\\t\\t</td>\\n\\t\\t\\t<td class=\"block_n3_off block_n3_right float_right\">\\n\\t\\t\\t\\t\\t\\t\\t\\t\\t\\t<form name=\"select_catalog\" method=\"post\" action=\"/index.php\">\\n\\t\\t\\t\\t\\t\\t\\t\\t\\t\\t\\t<table class=\"default_no_width\">\\n\\t\\t\\t\\t\\t\\t<tr>\\n\\t\\t\\t\\t\\t\\t\\t<td>\\n\\t\\t\\t\\t\\t\\t\\t\\t&#160;</td><td>&#160;\\t\\t\\t\\t\\t\\t\\t</td>\\n\\t\\t\\t\\t\\t\\t</tr>\\n\\t\\t\\t\\t\\t</table>\\n\\t\\t\\t\\t</form>\\n\\t\\t\\t</td>\\n\\t\\t</tr>\\n\\t</table>\\n</td>\\n<!-- End N3. -->\\n\\t\\t\\t\\t\\t\\t</tr>\\n\\t\\t\\t\\t\\t\\t<tr>\\n\\t\\t\\t\\t\\t\\t\\t\\t<!-- N2 goes here. -->\\n\\t\\t<td class=\"block_n2\" colspan=\"3\" id=\"acalog-nav\">\\n  <table class=\"block_n2_content links_table\">\\n\\t<tr>\\n\\t\\t<td role=\"search\" aria-labelledby=\"n2_search_header\" class=\"block_n2_search\\n\\t\\t\\t\">\\n\\t\\t<form name=\"n2_search\" method=\"get\" action=\"/search_advanced.php\" onSubmit=\"return validateSearchOptions()\">\\n\\t\\t<fieldset id=\"global-search-fieldset\">\\n\\t\\t\\t<legend>Global Search</legend>\\n\\t\\t  <input type=\"hidden\" title=\"Cur Cat OID\" name=\"cur_cat_oid\" value=\"46\">\\n\\t\\t  <input type=\"hidden\" title=\"Search Database\" name=\"search_database\" value=\"Search\">\\n\\t\\t  <input type=\"hidden\" title=\"Search\" name=\"search_db\" value=\"Search\">\\n\\t\\t  <input type=\"hidden\" title=\"cpage\" name=\"cpage\" value=\"1\">\\n\\t\\t  <input type=\"hidden\" title=\"ecpage\" name=\"ecpage\" value=\"1\">\\n\\t\\t  <input type=\"hidden\" title=\"ppage\" name=\"ppage\" value=\"1\">\\n\\t\\t  <input type=\"hidden\" title=\"spage\" name=\"spage\" value=\"1\">\\n\\t\\t  <input type=\"hidden\" title=\"tpage\" name=\"tpage\" value=\"1\">\\n\\t\\t\\t<span class=\"n2_search_header\" id=\"n2_search_header\">Catalog Search</span>\\t\\t\\t<br>\\n\\t\\t\\t<span class=\"show\">\\n\\t\\t\\t\\t<label for=\"location\" class=\"no_display\">Choose Search Location</label>\\n\\t\\t\\t\\t<div id=\"location_select_parent\">\\n\\t\\t\\t\\t\\t\\n\\t\\t\\t\\t\\t<script>\\n\\t\\t\\t\\t\\t\\tfunction reloadLocations() {\\n\\t\\t\\t\\t\\t\\t\\tvar locations_in_use = 0; \\n\\t\\t\\t\\t\\t\\t\\tvar chosen_locations_div = document.getElementById(\\'chosen_locations_div\\');\\n\\t\\t\\t\\t\\t\\t\\tvar category = document.getElementById(\\'location\\').value;\\n\\t\\t\\t\\t\\t\\t\\tif((category === \\'1\\' || category === \\'3\\' || category === \\'33\\') && (locations_in_use !== 0)){\\n\\t\\t\\t\\t\\t\\t\\t\\tchosen_locations_div.classList.remove(\"disabled\");\\n\\t\\t\\t\\t\\t\\t\\t} else {\\n\\t\\t\\t\\t\\t\\t\\t\\tchosen_locations_div.classList.add(\"disabled\");\\n\\t\\t\\t\\t\\t\\t\\t}\\n\\t\\t\\t\\t\\t\\t};\\n\\t\\t\\t\\t\\t</script>\\n\\n\\t\\t\\t\\t\\t<select name=\"location\" id=\"location\" title=\"Choose Search Location\" onChange=\"reloadLocations();\">\\n\\t\\t\\t\\t\\t\\t<option value=\"-1\">Select an option</option>\\n\\t\\t\\t\\t\\t\\t\\t\\t\\t\\t\\t\\t\\t\\t<option value=\"3\" selected>Courses</option>\\n\\t\\t\\t\\t\\t\\t\\t\\t\\t\\t\\t\\t\\t\\t\\t\\t<option value=\"1\" selected>Programs</option>\\n\\t\\t\\t\\t\\t\\t\\t\\t\\t\\t\\t\\t\\t\\t\\t\\t<option value=\"28\" selected>Schools/Colleges & Departments</option>\\n\\t\\t\\t\\t\\t\\t\\t\\t\\t\\t\\t\\t\\t\\t\\t\\t<option value=\"30\" selected>Policies and Other Non-Academic Content</option>\\n\\t\\t\\t\\t\\t\\t\\t\\t\\t\\t\\t\\t\\t\\t\\t\\t<option value=\"33\" selected>Entire Catalog</option>\\n\\t\\t\\t\\t\\t\\t\\t\\t\\t\\t\\t\\t\\t</select>\\n\\t\\t\\t\\t</div>\\n\\t\\t\\t\\t<br>\\n\\t\\t\\t</span>\\n\\n\\n\\t\\t\\t<span>\\n\\t\\t\\t\\t                <div id=\"chosen_locations_div\" class= >\\n\\t\\t\\t\\t\\t\\n                </div>\\t\\t\\t\\t\\t\\n\\n\\t\\t\\t</span>\\n\\t\\t\\t<span class=\"show\">\\n\\t\\t\\t\\t<label for=\"keyword\" class=\"no_display\">Search Keyword Field</label><input type=\"text\" title=\"Search Keyword Field, required\" name=\"filter[keyword]\" value=\"Enter Keyword  \" size=\"15\" maxlength=\"150\" id=\"keyword\" onFocus=\"if (this.value == \\'Enter Keyword  \\') { this.value=\\'\\'; }\" class=\"n2_form_words\" aria-required=\"true\" required>\\n\\t\\t\\t\\t<input type=\"submit\" title=\"GO\" value=\"GO\"><br>\\n\\t\\t\\t</span>\\n\\t\\t\\t<span class=\"show\"><br />\\n\\t\\t\\t\\t<input type=\"checkbox\" title=\"Exact Match\" name=\"filter[exact_match]\" value=\"1\" checked=\"checked\" id=\"exact_match_n2\"> \\n\\t\\t\\t\\t<label for=\"exact_match_n2\" class=\"n2_search\">Whole Word/Phrase</label>\\n\\t\\t\\t\\t<br />\\n\\t\\t\\t</span>\\n\\t\\t  \\t<span class=\"n2_search\">\\n\\t\\t\\t\\t<a href=\"/search_advanced.php?catoid=46\" class=\"navbar\">\\n\\t\\t\\t\\t\\tAdvanced Search\\t\\t\\t\\t</a>\\n\\t\\t\\t</span>\\n\\t\\t\\t<br>\\n\\t\\t</fieldset>\\n\\t</form>\\n\\t\\t</td>\\n\\t</tr>\\n\\t<tr>\\n\\t  <td>\\n\\t\\t<hr class=\"navbar\">\\n\\t  </td>\\n\\t</tr>\\n\\t<tr>\\n\\t  <td class=\"nowrap\">\\n\\n\\t\\t<!-- Begin Responsive -->\\n\\t\\t\\t\\t<div class=\"mobile-menu-toggle\" tabindex=0>Catalog Navigation</div>\\n\\t\\t\\t\\t<!-- End Responsive -->\\n\\t\\t\\n\\t\\t<table class=\"block_n2_links links_table\">\\n\\t\\t  <tr>\\n\\t\\t\\t<td id=\"acalog-navigation\">\\n\\t\\t\\t  <div class=\"n2_links\">&#160;&#160;<a href=\"/index.php?catoid=46\" class=\"navbar\">Catalog Home</a></div>\\n<hr class=\"navbar\">\\t\\t\\t</div>\\n\\t\\t\\t<br>\\t\\t\\t</div>\\n\\t\\t\\t\\t\\t\\t\\t<div class=\"n2_links\">&#160;&#160;<a href=\"/content.php?catoid=46&navoid=2548\" class=\"navbar\">General Information</a>\\t\\t\\t</div>\\n\\t\\t\\t\\t\\t\\t\\t<div class=\"n2_links\">&#160;&#160;<a href=\"/content.php?catoid=46&navoid=2574\" class=\"navbar\">Academic Policies &amp; Information</a>\\t\\t\\t</div>\\n\\t\\t\\t\\t\\t\\t\\t<div class=\"n2_links\">&#160;&#160;<a href=\"/content.php?catoid=46&navoid=2549\" class=\"navbar\">General College Policies &amp; Procedures</a>\\t\\t\\t</div>\\n\\t\\t\\t\\t\\t\\t\\t<div class=\"n2_links\">&#160;&#160;<a href=\"/content.php?catoid=46&navoid=2557\" class=\"navbar\">Endicott College Resources</a>\\t\\t\\t</div>\\n\\t\\t\\t\\t\\t\\t\\t<div class=\"n2_links\">&#160;&#160;<a href=\"/content.php?catoid=46&navoid=2558\" class=\"navbar\">Accreditations and Approvals</a>\\t\\t\\t</div>\\n\\t\\t\\t\\t\\t\\t\\t<div class=\"n2_links\">&#160;&#160;<a href=\"/content.php?catoid=46&navoid=2559\" class=\"navbar\">Off Site Locations</a>\\t\\t\\t</div>\\n\\t\\t\\t\\t\\t\\t\\t<div class=\"n2_links\">&#160;&#160;<a href=\"/content.php?catoid=46&navoid=2575\" class=\"navbar\">Admission at Endicott</a>\\t\\t\\t</div>\\n\\t\\t\\t\\t\\t\\t\\t<div class=\"n2_links\">&#160;&#160;<a href=\"/content.php?catoid=46&navoid=2588\" class=\"navbar\">Experiential Learning: Internship and Career Center</a>\\t\\t\\t</div>\\n\\t\\t\\t\\t\\t\\t\\t<div class=\"n2_links\">&#160;&#160;<a href=\"/content.php?catoid=46&navoid=2587\" class=\"navbar\">General Education / Core Requirements</a>\\t\\t\\t</div>\\n\\t\\t\\t\\t\\t\\t\\t<div class=\"n2_links\">&#160;&#160;<a href=\"/content.php?catoid=46&navoid=2550\" class=\"navbar\">Diversity, Equity and Inclusion Course Requirements</a>\\t\\t\\t</div>\\n\\t\\t\\t\\t\\t\\t\\t<div class=\"n2_links\">&#160;&#160;<a href=\"/content.php?catoid=46&navoid=2551\" class=\"navbar\">Writing Designated Course Requirements</a>\\t\\t\\t</div>\\n\\t\\t\\t\\t\\t\\t\\t<div class=\"n2_links\">&#160;&#160;<a href=\"/content.php?catoid=46&navoid=2483\" class=\"navbar\">Pre-Medical/Pre-Health Professional Pathway</a>\\t\\t\\t</div>\\n\\t\\t\\t<hr class=\"navbar\">\\t\\t\\t</div>\\n\\t\\t\\t\\t\\t\\t\\t<div class=\"n2_links\">&#160;&#160;<a href=\"/content.php?catoid=46&navoid=2564\" class=\"navbar\">Institute for Applied Behavioral Science</a>\\t\\t\\t</div>\\n\\t\\t\\t<hr class=\"navbar\">\\t\\t\\t</div>\\n\\t\\t\\t\\t\\t\\t\\t<div class=\"n2_links\">&#160;&#160;<a href=\"/content.php?catoid=46&navoid=2535\" class=\"navbar\">School of Business</a>\\t\\t\\t</div>\\n\\t\\t\\t<hr class=\"navbar\">\\t\\t\\t</div>\\n\\t\\t\\t\\t\\t\\t\\t<div class=\"n2_links\">&#160;&#160;<a href=\"/content.php?catoid=46&navoid=2515\" class=\"navbar\">Undergraduate Programs</a>\\t\\t\\t</div>\\n\\t\\t\\t\\t\\t\\t\\t<div class=\"n2_links\">&#160;&#160;<a href=\"/content.php?catoid=46&navoid=2516\" class=\"navbar\">Graduate Programs</a>\\t\\t\\t</div>\\n\\t\\t\\t\\t\\t\\t\\t<div class=\"n2_links\">&#160;&#160;<a href=\"/content.php?catoid=46&navoid=2534\" class=\"navbar\">Van Loan Division of Professional Studies</a>\\t\\t\\t</div>\\n\\t\\t\\t\\t\\t\\t\\t<div class=\"n2_links\">&#160;&#160;<a href=\"/content.php?catoid=46&navoid=2560\" class=\"navbar\">CIS Madrid Programs</a>\\t\\t\\t</div>\\n\\t\\t\\t<hr class=\"navbar\">\\t\\t\\t</div>\\n\\t\\t\\t\\t\\t\\t\\t<div class=\"n2_links\">&#160;&#160;<a href=\"/content.php?catoid=46&navoid=2536\" class=\"navbar\">School of Education</a>\\t\\t\\t</div>\\n\\t\\t\\t<hr class=\"navbar\">\\t\\t\\t</div>\\n\\t\\t\\t\\t\\t\\t\\t<div class=\"n2_links\">&#160;&#160;<a href=\"/content.php?catoid=46&navoid=2507\" class=\"navbar\">Undergraduate Programs</a>\\t\\t\\t</div>\\n\\t\\t\\t\\t\\t\\t\\t<div class=\"n2_links\">&#160;&#160;<a href=\"/content.php?catoid=46&navoid=2508\" class=\"navbar\">Graduate Programs</a>\\t\\t\\t</div>\\n\\t\\t\\t<hr class=\"navbar\">\\t\\t\\t</div>\\n\\t\\t\\t\\t\\t\\t\\t<div class=\"n2_links\">&#160;&#160;<a href=\"/content.php?catoid=46&navoid=2525\" class=\"navbar\">School of Nursing</a>\\t\\t\\t</div>\\n\\t\\t\\t<hr class=\"navbar\">\\t\\t\\t</div>\\n\\t\\t\\t\\t\\t\\t\\t<div class=\"n2_links\">&#160;&#160;<a href=\"/content.php?catoid=46&navoid=2509\" class=\"navbar\">Undergraduate Programs</a>\\t\\t\\t</div>\\n\\t\\t\\t\\t\\t\\t\\t<div class=\"n2_links\">&#160;&#160;<a href=\"/content.php?catoid=46&navoid=2510\" class=\"navbar\">Graduate Programs</a>\\t\\t\\t</div>\\n\\t\\t\\t\\t\\t\\t\\t<div class=\"n2_links\">&#160;&#160;<a href=\"/content.php?catoid=46&navoid=2556\" class=\"navbar\">Van Loan Division of Professional Studies</a>\\t\\t\\t</div>\\n\\t\\t\\t<hr class=\"navbar\">\\t\\t\\t</div>\\n\\t\\t\\t\\t\\t\\t\\t<div class=\"n2_links\">&#160;&#160;<a href=\"/content.php?catoid=46&navoid=2539\" class=\"navbar\">School of Science and Technology</a>\\t\\t\\t</div>\\n\\t\\t\\t<hr class=\"navbar\">\\t\\t\\t</div>\\n\\t\\t\\t\\t\\t\\t\\t<div class=\"n2_links\">&#160;&#160;<a href=\"/content.php?catoid=46&navoid=2517\" class=\"navbar\">Undergraduate Programs</a>\\t\\t\\t</div>\\n\\t\\t\\t\\t\\t\\t\\t<div class=\"n2_links\">&#160;&#160;<a href=\"/content.php?catoid=46&navoid=2563\" class=\"navbar\">Graduate Programs</a>\\t\\t\\t</div>\\n\\t\\t\\t<hr class=\"navbar\">\\t\\t\\t</div>\\n\\t\\t\\t\\t\\t\\t\\t<div class=\"n2_links\">&#160;&#160;<a href=\"/content.php?catoid=46&navoid=2540\" class=\"navbar\">School of Social Sciences, Communication, &amp; Humanities</a>\\t\\t\\t</div>\\n\\t\\t\\t<hr class=\"navbar\">\\t\\t\\t</div>\\n\\t\\t\\t\\t\\t\\t\\t<div class=\"n2_links\">&#160;&#160;<a href=\"/content.php?catoid=46&navoid=2518\" class=\"navbar\">Undergraduate Programs</a>\\t\\t\\t</div>\\n\\t\\t\\t\\t\\t\\t\\t<div class=\"n2_links\">&#160;&#160;<a href=\"/content.php?catoid=46&navoid=2519\" class=\"navbar\">Graduate Programs</a>\\t\\t\\t</div>\\n\\t\\t\\t\\t\\t\\t\\t<div class=\"n2_links\">&#160;&#160;<a href=\"/content.php?catoid=46&navoid=2533\" class=\"navbar\">Van Loan Division of Professional Studies</a>\\t\\t\\t</div>\\n\\t\\t\\t\\t\\t\\t\\t<div class=\"n2_links\">&#160;&#160;<a href=\"/content.php?catoid=46&navoid=2561\" class=\"navbar\">CIS Madrid Programs</a>\\t\\t\\t</div>\\n\\t\\t\\t<hr class=\"navbar\">\\t\\t\\t</div>\\n\\t\\t\\t\\t\\t\\t\\t<div class=\"n2_links\">&#160;&#160;<a href=\"/content.php?catoid=46&navoid=2541\" class=\"navbar\">School of Sport Science</a>\\t\\t\\t</div>\\n\\t\\t\\t<hr class=\"navbar\">\\t\\t\\t</div>\\n\\t\\t\\t\\t\\t\\t\\t<div class=\"n2_links\">&#160;&#160;<a href=\"/content.php?catoid=46&navoid=2513\" class=\"navbar\">Undergraduate Programs</a>\\t\\t\\t</div>\\n\\t\\t\\t\\t\\t\\t\\t<div class=\"n2_links\">&#160;&#160;<a href=\"/content.php?catoid=46&navoid=2514\" class=\"navbar\">Graduate Programs</a>\\t\\t\\t</div>\\n\\t\\t\\t<hr class=\"navbar\">\\t\\t\\t</div>\\n\\t\\t\\t\\t\\t\\t\\t<div class=\"n2_links\">&#160;&#160;<a href=\"/content.php?catoid=46&navoid=2542\" class=\"navbar\">School of Visual and Performing Arts</a>\\t\\t\\t</div>\\n\\t\\t\\t<hr class=\"navbar\">\\t\\t\\t</div>\\n\\t\\t\\t\\t\\t\\t\\t<div class=\"n2_links\">&#160;&#160;<a href=\"/content.php?catoid=46&navoid=2511\" class=\"navbar\">Undergraduate Programs</a>\\t\\t\\t</div>\\n\\t\\t\\t\\t\\t\\t\\t<div class=\"n2_links\">&#160;&#160;<a href=\"/content.php?catoid=46&navoid=2512\" class=\"navbar\">Graduate Programs</a>\\t\\t\\t</div>\\n\\t\\t\\t<hr class=\"navbar\">\\t\\t\\t</div>\\n\\t\\t\\t\\t\\t\\t\\t<div class=\"n2_links\">&#160;&#160;<a href=\"/content.php?catoid=46&navoid=2566\" class=\"navbar\">Microcredentials</a>\\t\\t\\t</div>\\n\\t\\t\\t<hr class=\"navbar\">\\t\\t\\t</div>\\n\\t\\t\\t\\t\\t\\t\\t<div class=\"n2_links\">&#160;&#160;<a href=\"/content.php?catoid=46&navoid=2701\" class=\"navbar\">Minors</a>\\t\\t\\t</div>\\n\\t\\t\\t<hr class=\"navbar\">\\t\\t\\t</div>\\n\\t\\t\\t<br>\\t\\t\\t</div>\\n\\t\\t\\t\\t\\t\\t\\t<div class=\"n2_links\">&#160;&#160;<a href=\"/content.php?catoid=46&navoid=2581\" class=\"navbar\">Course Descriptions</a>\\t\\t\\t</div>\\n\\t\\t\\t\\t\\t\\t\\t<div class=\"n2_links\">&#160;&#160;<a href=\"/content.php?catoid=46&navoid=2582\" class=\"navbar\">Course Listings By Department</a>\\t\\t\\t</div>\\n\\t\\t\\t<hr class=\"navbar\">\\t\\t\\t</div>\\n\\t\\t\\t<br>\\t\\t\\t</div>\\n\\t\\t\\t\\t\\t\\t\\t<div class=\"n2_links\">&#160;&#160;<a href=\"/content.php?catoid=46&navoid=2583\" class=\"navbar\">Directories</a>\\t\\t\\t</div>\\n\\t\\t\\t\\t\\t\\t\\t<div class=\"n2_links\">&#160;&#160;<a href=\"/content.php?catoid=46&navoid=2481\" class=\"navbar\">Archived Catalogs</a>\\t\\t\\t</div>\\n\\t\\t\\t<hr class=\"navbar\">\\t\\t\\t</div>\\n\\t\\t\\t\\t\\t\\t\\t<div class=\"n2_links\">&#160;&#160;<a href=\"/content.php?catoid=46&navoid=2552\" class=\"navbar\">Appendix A: Academic Calendars</a>\\t\\t\\t</div>\\n\\t\\t\\t\\t\\t\\t\\t<div class=\"n2_links\">&#160;&#160;<a href=\"/content.php?catoid=46&navoid=2553\" class=\"navbar\">Appendix B: Tuition and Fees</a>\\t\\t\\t</div>\\n\\t\\t\\t\\t\\t\\t\\t<div class=\"n2_links\">&#160;&#160;<a href=\"/content.php?catoid=46&navoid=2554\" class=\"navbar\">Appendix C: Endicott College Student Code of Conduct</a>\\t\\t\\t</div>\\n\\t\\t\\t\\t\\t\\t\\t<div class=\"n2_links\">&#160;&#160;<a href=\"/content.php?catoid=46&navoid=2555\" class=\"navbar\">Appendix D: Endicott College Sex Discrimination, Sexual Misconduct and Relationship Violence Policy and Procedures for Resolving Complaints against Students</a>\\t\\t\\t</div>\\n\\t\\t\\t\\t\\t\\t\\t<div class=\"n2_links\">&#160;&#160;<a href=\"/mime/media/view/46/2568/BCBA+logo.jpg\" aria-label=\"Download PDF of Catalog User Guide\" onclick=\"acalogPopup(\\'/mime/media/view/46/2568/BCBA+logo.jpg\\', \\'media_file\\', 770, 530, \\'yes\\');return false;\" target=\"false\" class=\"navbar\">BCBA logo</a>\\t\\t\\t</div>\\n\\t\\t\\t\\t\\t\\t</td>\\n\\t\\t  </tr>\\n\\t\\t</table>\\n\\t  </td>\\n\\t</tr>\\n\\t<tr>\\n\\t  <td>\\n\\t\\t<hr class=\"navbar\">\\n\\t  </td>\\n\\t</tr>\\n  </table>\\n\\t\\t</td>\\n<!-- End of N2 -->\\n\\t\\t\\t\\t\\t\\t\\t\\t<td class=\"block_content_outer\">\\n\\t\\t\\t\\t\\t\\t\\t\\t<table class=\"table_default\">\\n\\t\\t\\t\\t\\t\\t\\t\\t\\t<tr>\\n\\t\\t\\t\\t\\t\\t\\t\\t\\t\\t<td class=\"block_content\" colspan=\"2\">\\n\\t<table class=\"table_default\">\\n\\t<tr>\\n\\t\\t<td colspan=\"4\">\\n\\t\\t\\t<table class=\"table_default\">\\n\\t\\t\\t\\t<tr>\\n\\t\\t\\t\\t\\t<td>\\n\\t\\t\\t\\t\\t\\t<div class=\"help_block\" class=\"float_right\"><a href=\"help.php\" onclick=\"acalogPopup(\\'help.php\\', \\'help\\', 770, 530, \\'yes\\');return false;\" class=\"help acalog-highlight-ignore\" target=\"_blank\"><strong>HELP</strong></a></div>\\n\\t<span class=\"acalog_catalog_name\">2024-2025 Endicott College Academic Catalog</span>\\t\\t\\t\\t\\t\\t\\t\\t\\t\\t\\t\\t\\t\\t\\t\\t\\t<br>\\n\\t    <h1 id=\"acalog-content\">Computer Science Major (Bachelor of Science)</h1>\\n\\t\\t\\t\\t<div style=\"float: right\"><a rel=\"nofollow\" href=\"/preview_program.php?catoid=46&amp;poid=5251&amp;_gl=1%2Aa852yh%2A_gcl_au%2AMTg5OTU2Mzk5Ny4xNzM5Mjg5ODEy&amp;print\" onclick=\"acalogPopup(\\'/preview_program.php?catoid=46&amp;poid=5251&amp;_gl=1%2Aa852yh%2A_gcl_au%2AMTg5OTU2Mzk5Ny4xNzM5Mjg5ODEy&amp;print\\', \\'print_preview\\', 770, 530, \\'yes\\');return false;\" target=\"_blank\"  class=\"print_link acalog-highlight-ignore\" alt=\"Text Version\" title=\"Print-Friendly Page (opens a new window)\"><span class=\"sr-only\">Print-Friendly Page (opens a new window)</span></a></div><div class=\\'acalog-social-media-links float_right\\'>\\n\\t\\t\\t<div class=\"gateway-toolbar-facebook\">\\n\\t\\t\\t\\t<a href=\"http://www.facebook.com/sharer/sharer.php?u=http%3A%2F%2Fcatalog.endicott.edu%2Fpreview_program.php%3Fcatoid%3D46%26poid%3D5251&t=I just discovered \\'Computer Science Major (Bachelor of Science)\\' at Endicott College\" target=\"_blank\" title=\"Facebook this Page (opens a new window)\">\\n\\t\\t\\t\\t\\t<span class=\"sr-only\">Facebook this Page (opens a new window)</span>\\n\\t\\t\\t\\t</a> \\n\\t\\t\\t</div> \\n\\t\\t\\t<div class=\"gateway-toolbar-twitter\">\\n\\t\\t\\t\\t<a href=\"http://twitter.com/intent/tweet?u=u=http%3A%2F%2Fcatalog.endicott.edu%2Fpreview_program.php%3Fcatoid%3D46%26poid%3D5251&t=Check out this program at Endicott College\" target=\"_blank\" title=\"Tweet this Page (opens a new window)\">\\n\\t\\t\\t\\t\\t<span class=\"sr-only\">Tweet this Page (opens a new window)</span>\\n\\t\\t\\t\\t</a>\\n\\t\\t\\t</div></div>\\t\\t\\t\\t\\t\\t\\t\\t\\t\\t\\t\\t\\t\\t\\t\\t</td>\\n\\t\\t\\t\\t\\t\\t\\t\\t\\t\\t\\t\\t\\t\\t\\t</tr>\\n\\t\\t\\t\\t\\t\\t\\t\\t\\t\\t\\t\\t\\t\\t\\t<tr>\\n\\t\\t\\t\\t\\t\\t\\t\\t\\t\\t\\t\\t\\t\\t\\t\\t<td>\\n\\t\\t\\t\\t\\t\\t\\t\\t\\t\\t\\t\\t\\t\\t\\t\\t\\t<hr>\\n\\t\\t\\t\\t\\t\\t\\t\\t\\t\\t\\t\\t\\t\\t\\t\\t</td>\\n\\t\\t\\t\\t\\t\\t\\t\\t\\t\\t\\t\\t\\t\\t\\t</tr>\\n\\t\\t\\t\\t\\t\\t\\t\\t\\t\\t\\t\\t\\t\\t</table>\\n\\t\\t\\n\\t\\t\\t<div class=\"program_description \">\\n\\t\\t\\t\\t\\t\\t\\t</div>\\n\\n\\t\\t\\t\\t\\t\\t\\t\\t\\t\\t\\t\\t\\t\\t\\t\\t</td>\\n\\t\\t\\t\\t\\t\\t\\t\\t\\t\\t\\t\\t</tr>\\n\\t\\t\\t\\t\\t\\t\\t\\t\\t\\t\\t\\t<tr>\\n\\t\\t\\t\\t\\t\\t\\t\\t\\t\\t\\t\\t\\t<td colspan=\"4\" class=\"width\">\\n\\t\\t<div class=\"custom_leftpad_20\"><div class=\"acalog-core\"><h2><a name=\"CurriculumRequirementsMinimumCreditsRequired127\"></a><a name=\"curriculumrequirementsminimumcreditsrequired127\" id=\"core_27951\"></a>Curriculum Requirements - Minimum Credits Required: 127</h2><hr></div><div class=\"custom_leftpad_20\"><div class=\"acalog-core\"><h3><a name=\"FirstYearCredits34\"></a><a name=\"firstyearcredits34\" id=\"core_27952\"></a>First Year - Credits: 34</h3><hr><ul> <li>Individual and Society General Education Requirement (Cr. 3)</li> <li>Quantitative Reasoning General Education Requirement (Cr. 3)</li> <li>World Cultures General Education Requirement (Cr. 3)</li> <li>Free Elective (Cr. 3)</li> </ul><ul><li class=\"acalog-course\"><span><a href=\"#\" aria-expanded=\"false\" onClick=\"showCourse(\\'46\\', \\'54124\\',this, \\'a:2:{s:8:~location~;s:7:~program~;s:4:~core~;s:5:~27952~;}\\'); return false;\">CSC 101\\xa0-\\xa0Introduction to Computer Science</a> (Cr: 3)</span></li><li class=\"acalog-course\"><span><a href=\"#\" aria-expanded=\"false\" onClick=\"showCourse(\\'46\\', \\'54129\\',this, \\'a:2:{s:8:~location~;s:7:~program~;s:4:~core~;s:5:~27952~;}\\'); return false;\">CSC 102\\xa0-\\xa0Website Development and Programming</a> (Cr: 3)</span></li><li class=\"acalog-course\"><span><a href=\"#\" aria-expanded=\"false\" onClick=\"showCourse(\\'46\\', \\'54126\\',this, \\'a:2:{s:8:~location~;s:7:~program~;s:4:~core~;s:5:~27952~;}\\'); return false;\">CSC 160/160L\\xa0-\\xa0Introduction to Programming and Lab</a> (Cr: 4)</span></li><li class=\"acalog-course\"><span><a href=\"#\" aria-expanded=\"false\" onClick=\"showCourse(\\'46\\', \\'54127\\',this, \\'a:2:{s:8:~location~;s:7:~program~;s:4:~core~;s:5:~27952~;}\\'); return false;\">CSC 161/161L\\xa0-\\xa0Data Structures and Algorithms</a> (Cr: 4)</span></li><li class=\"acalog-course\"><span><a href=\"#\" aria-expanded=\"false\" onClick=\"showCourse(\\'46\\', \\'54885\\',this, \\'a:2:{s:8:~location~;s:7:~program~;s:4:~core~;s:5:~27952~;}\\'); return false;\">ENG 111\\xa0-\\xa0Critical Reading and Writing I</a> (Cr: 3)</span></li><li class=\"acalog-adhoc acalog-adhoc-after\" style=\"list-style: none;\"><p><em>Satisfies the Writing Designated Core requirement.</em></p></li><li class=\"acalog-course\"><span><a href=\"#\" aria-expanded=\"false\" onClick=\"showCourse(\\'46\\', \\'54886\\',this, \\'a:2:{s:8:~location~;s:7:~program~;s:4:~core~;s:5:~27952~;}\\'); return false;\">ENG 112\\xa0-\\xa0Critical Reading and Writing II</a> (Cr: 3)</span></li><li class=\"acalog-adhoc acalog-adhoc-after\" style=\"list-style: none;\"><p><em>Satisfies the Writing Designated Core requirement.</em></p></li><li class=\"acalog-course\"><span><a href=\"#\" aria-expanded=\"false\" onClick=\"showCourse(\\'46\\', \\'54395\\',this, \\'a:2:{s:8:~location~;s:7:~program~;s:4:~core~;s:5:~27952~;}\\'); return false;\">INT 100\\xa0-\\xa0Internship I</a> (Cr: 2)</span></li></ul></div><div class=\"acalog-core\"><h3><a name=\"SophomoreCredits32\"></a><a name=\"sophomorecredits32\" id=\"core_27953\"></a>Sophomore - Credits: 32</h3><hr><ul> <li>Aesthetic Awareness and Creative Expression General Education Requirement \\xa0 (Cr: 3)</li> <li>Global Issues General Education Elective (Cr. 3)</li> <li>Elective (Cr: 3)</li> <li>Computer Science Elective (Cr: 6)</li> </ul><ul><li class=\"acalog-course\"><span><a href=\"#\" aria-expanded=\"false\" onClick=\"showCourse(\\'46\\', \\'54139\\',this, \\'a:2:{s:8:~location~;s:7:~program~;s:4:~core~;s:5:~27953~;}\\'); return false;\">CSC 251\\xa0-\\xa0Network Fundamentals</a> (Cr: 3)</span></li><li class=\"acalog-course\"><span><a href=\"#\" aria-expanded=\"false\" onClick=\"showCourse(\\'46\\', \\'54130\\',this, \\'a:2:{s:8:~location~;s:7:~program~;s:4:~core~;s:5:~27953~;}\\'); return false;\">CSC 260\\xa0-\\xa0Visual Programming I</a> (Cr: 3)</span></li><li class=\"acalog-course\"><span><a href=\"#\" aria-expanded=\"false\" onClick=\"showCourse(\\'46\\', \\'54131\\',this, \\'a:2:{s:8:~location~;s:7:~program~;s:4:~core~;s:5:~27953~;}\\'); return false;\">CSC 261\\xa0-\\xa0Visual Programming II and Object-Oriented Design</a> (Cr: 3)</span></li><li class=\"acalog-course\"><span><a href=\"#\" aria-expanded=\"false\" onClick=\"showCourse(\\'46\\', \\'54467\\',this, \\'a:2:{s:8:~location~;s:7:~program~;s:4:~core~;s:5:~27953~;}\\'); return false;\">CSC 265\\xa0-\\xa0Discrete Structures</a> (Cr: 3)</span></li><li class=\"acalog-course\"><span><a href=\"#\" aria-expanded=\"false\" onClick=\"showCourse(\\'46\\', \\'54128\\',this, \\'a:2:{s:8:~location~;s:7:~program~;s:4:~core~;s:5:~27953~;}\\'); return false;\">CSC 280\\xa0-\\xa0Computer Architecture</a> (Cr: 3)</span></li><li class=\"acalog-course\"><span><a href=\"#\" aria-expanded=\"false\" onClick=\"showCourse(\\'46\\', \\'54397\\',this, \\'a:2:{s:8:~location~;s:7:~program~;s:4:~core~;s:5:~27953~;}\\'); return false;\">INT 200\\xa0-\\xa0Internship II</a> (Cr: 2)</span></li></ul></div><div class=\"acalog-core\"><h3><a name=\"JuniorCredits31\"></a><a name=\"juniorcredits31\" id=\"core_27954\"></a>Junior - Credits: 31</h3><hr><ul> <li>Values and Ethical Reasoning General Education Requirement\\xa0(Cr: 3)</li> <li>Computer Science Electives\\xa0(Cr: 9)</li> <li>Elective (Cr. 3)</li> <li>General Education Electives\\xa0(Cr: 6)</li> </ul><ul><li class=\"acalog-course\"><span><a href=\"#\" aria-expanded=\"false\" onClick=\"showCourse(\\'46\\', \\'54984\\',this, \\'a:2:{s:8:~location~;s:7:~program~;s:4:~core~;s:5:~27954~;}\\'); return false;\">CSC 355\\xa0-\\xa0Algorithm Design and Analysis</a> (Cr: 3)</span></li><li class=\"acalog-course\"><span><a href=\"#\" aria-expanded=\"false\" onClick=\"showCourse(\\'46\\', \\'54132\\',this, \\'a:2:{s:8:~location~;s:7:~program~;s:4:~core~;s:5:~27954~;}\\'); return false;\">CSC 360\\xa0-\\xa0Software Engineering</a> (Cr: 3)</span></li><li class=\"acalog-course\"><span><a href=\"#\" aria-expanded=\"false\" onClick=\"showCourse(\\'46\\', \\'54821\\',this, \\'a:2:{s:8:~location~;s:7:~program~;s:4:~core~;s:5:~27954~;}\\'); return false;\">CSC 379\\xa0-\\xa0Semester Internship Strategies</a> (Cr: 1)</span></li><li class=\"acalog-course\"><span><a href=\"#\" aria-expanded=\"false\" onClick=\"showCourse(\\'46\\', \\'54141\\',this, \\'a:2:{s:8:~location~;s:7:~program~;s:4:~core~;s:5:~27954~;}\\'); return false;\">CSC 380\\xa0-\\xa0Operating Systems</a> (Cr: 3)</span></li></ul></div><div class=\"acalog-core\"><h3><a name=\"SeniorCredits30\"></a><a name=\"seniorcredits30\" id=\"core_27955\"></a>Senior - Credits: 30</h3><hr><ul> <li>Literary Perspectives General Education Requirement (Cr. 3)</li> <li>Computer Science Elective (Cr: 3)</li> <li>General Education Elective\\xa0(Cr: 6)<br> (must be above the 100 level)</li> </ul><ul><li class=\"acalog-course\"><span><a href=\"#\" aria-expanded=\"false\" onClick=\"showCourse(\\'46\\', \\'54146\\',this, \\'a:2:{s:8:~location~;s:7:~program~;s:4:~core~;s:5:~27955~;}\\'); return false;\">CSC 480\\xa0-\\xa0Semester Internship</a> (Cr: 12)</span></li><li class=\"acalog-course\"><span><a href=\"#\" aria-expanded=\"false\" onClick=\"showCourse(\\'46\\', \\'54147\\',this, \\'a:2:{s:8:~location~;s:7:~program~;s:4:~core~;s:5:~27955~;}\\'); return false;\">CSC 489\\xa0-\\xa0Senior Research</a> (Cr: 3)</span></li><li class=\"acalog-course\"><span><a href=\"#\" aria-expanded=\"false\" onClick=\"showCourse(\\'46\\', \\'55891\\',this, \\'a:2:{s:8:~location~;s:7:~program~;s:4:~core~;s:5:~27955~;}\\'); return false;\">CSC 491\\xa0-\\xa0Senior Capstone</a> (Cr: 3)</span></li></ul></div><div class=\"acalog-core\"><h3><a name=\"ComputerScienceElectives\"></a><a name=\"computerscienceelectives\" id=\"core_28958\"></a>Computer Science Electives</h3><hr><p><em>Students may take any <strong>six</strong> additional 200+ level CSC courses including those listed below with the CSC prefix. Recommened courses in specific areas are listed below.</em></p></div><div class=\"custom_leftpad_20\"><div class=\"acalog-core\"><h4><a name=\"BigDataAndDataEngineering\"></a><a name=\"bigdataanddataengineering\" id=\"core_29167\"></a>Big Data and Data Engineering</h4><hr><ul><li class=\"acalog-course\"><span><a href=\"#\" aria-expanded=\"false\" onClick=\"showCourse(\\'46\\', \\'54138\\',this, \\'a:2:{s:8:~location~;s:7:~program~;s:4:~core~;s:5:~29167~;}\\'); return false;\">CSC 340\\xa0-\\xa0Database Management</a> (Cr: 3)</span></li><li class=\"acalog-course\"><span><a href=\"#\" aria-expanded=\"false\" onClick=\"showCourse(\\'46\\', \\'54884\\',this, \\'a:2:{s:8:~location~;s:7:~program~;s:4:~core~;s:5:~29167~;}\\'); return false;\">CSC 440\\xa0-\\xa0Data Mining and Visualization</a> (Cr: 3)</span></li><li class=\"acalog-course\"><span><a href=\"#\" aria-expanded=\"false\" onClick=\"showCourse(\\'46\\', \\'54874\\',this, \\'a:2:{s:8:~location~;s:7:~program~;s:4:~core~;s:5:~29167~;}\\'); return false;\">CSC 460\\xa0-\\xa0Introduction to Artificial Intelligence and Machine Learning</a> (Cr: 3)</span></li></ul></div><div class=\"acalog-core\"><h4><a name=\"GamesMobileAndWeb\"></a><a name=\"gamesmobileandweb\" id=\"core_29165\"></a>Games, Mobile, and Web</h4><hr><ul><li class=\"acalog-course\"><span><a href=\"#\" aria-expanded=\"false\" onClick=\"showCourse(\\'46\\', \\'54125\\',this, \\'a:2:{s:8:~location~;s:7:~program~;s:4:~core~;s:5:~29165~;}\\'); return false;\">CSC 255\\xa0-\\xa0Programming for Games and Interactive Technologies</a> (Cr: 3)</span></li><li class=\"acalog-course\"><span><a href=\"#\" aria-expanded=\"false\" onClick=\"showCourse(\\'46\\', \\'54143\\',this, \\'a:2:{s:8:~location~;s:7:~program~;s:4:~core~;s:5:~29165~;}\\'); return false;\">CSC 302\\xa0-\\xa0Web Programming II - Interactive Web Applications</a> (Cr: 3)</span></li><li class=\"acalog-course\"><span><a href=\"#\" aria-expanded=\"false\" onClick=\"showCourse(\\'46\\', \\'54137\\',this, \\'a:2:{s:8:~location~;s:7:~program~;s:4:~core~;s:5:~29165~;}\\'); return false;\">CSC 335\\xa0-\\xa0Mobile Application Programming and Design</a> (Cr: 3)</span></li></ul></div><div class=\"acalog-core\"><h4><a name=\"NetworkingAndSecurity\"></a><a name=\"networkingandsecurity\" id=\"core_29164\"></a>Networking and Security</h4><hr><ul><li class=\"acalog-course\"><span><a href=\"#\" aria-expanded=\"false\" onClick=\"showCourse(\\'46\\', \\'54142\\',this, \\'a:2:{s:8:~location~;s:7:~program~;s:4:~core~;s:5:~29164~;}\\'); return false;\">CSC 230\\xa0-\\xa0Cyber Threats and Security</a> (Cr: 3)</span></li><li class=\"acalog-course\"><span><a href=\"#\" aria-expanded=\"false\" onClick=\"showCourse(\\'46\\', \\'54138\\',this, \\'a:2:{s:8:~location~;s:7:~program~;s:4:~core~;s:5:~29164~;}\\'); return false;\">CSC 340\\xa0-\\xa0Database Management</a> (Cr: 3)</span></li><li class=\"acalog-course\"><span><a href=\"#\" aria-expanded=\"false\" onClick=\"showCourse(\\'46\\', \\'54145\\',this, \\'a:2:{s:8:~location~;s:7:~program~;s:4:~core~;s:5:~29164~;}\\'); return false;\">CSC 351\\xa0-\\xa0Advanced Networks and Security</a> (Cr: 3)</span></li><li class=\"acalog-course\"><span><a href=\"#\" aria-expanded=\"false\" onClick=\"showCourse(\\'46\\', \\'55398\\',this, \\'a:2:{s:8:~location~;s:7:~program~;s:4:~core~;s:5:~29164~;}\\'); return false;\">HLS 555\\xa0-\\xa0Cybersecurity for the Homeland Security Professional</a> (Cr: 3)</span></li><li class=\"acalog-course\"><span><a href=\"#\" aria-expanded=\"false\" onClick=\"showCourse(\\'46\\', \\'55406\\',this, \\'a:2:{s:8:~location~;s:7:~program~;s:4:~core~;s:5:~29164~;}\\'); return false;\">HLS 610\\xa0-\\xa0Cybersecurity Analyst</a> (Cr: 3</span></li><li class=\"acalog-course\"><span><a href=\"#\" aria-expanded=\"false\" onClick=\"showCourse(\\'46\\', \\'55407\\',this, \\'a:2:{s:8:~location~;s:7:~program~;s:4:~core~;s:5:~29164~;}\\'); return false;\">HLS 611\\xa0-\\xa0Information System Hardware and Networking</a> (Cr: 3</span></li></ul></div><div class=\"acalog-core\"><h4><a name=\"RoboticsAndPhysicalComputing\"></a><a name=\"roboticsandphysicalcomputing\" id=\"core_29166\"></a>Robotics and Physical Computing</h4><hr><ul><li class=\"acalog-course\"><span><a href=\"#\" aria-expanded=\"false\" onClick=\"showCourse(\\'46\\', \\'54871\\',this, \\'a:2:{s:8:~location~;s:7:~program~;s:4:~core~;s:5:~29166~;}\\'); return false;\">CSC 285\\xa0-\\xa0Introduction to Applied Robotics</a> (Cr: 3)</span></li><li class=\"acalog-course\"><span><a href=\"#\" aria-expanded=\"false\" onClick=\"showCourse(\\'46\\', \\'54873\\',this, \\'a:2:{s:8:~location~;s:7:~program~;s:4:~core~;s:5:~29166~;}\\'); return false;\">CSC 385\\xa0-\\xa0Sensor Networks and Physical Computing</a> (Cr: 3)</span></li><li class=\"acalog-course\"><span><a href=\"#\" aria-expanded=\"false\" onClick=\"showCourse(\\'46\\', \\'54874\\',this, \\'a:2:{s:8:~location~;s:7:~program~;s:4:~core~;s:5:~29166~;}\\'); return false;\">CSC 460\\xa0-\\xa0Introduction to Artificial Intelligence and Machine Learning</a> (Cr: 3)</span></li></ul></div></div><div class=\"acalog-core\"><h3><a name=\"LearningOutcomes\"></a><a name=\"learningoutcomes\" id=\"core_28431\"></a>Learning Outcomes</h3><hr><p>Upon completion of the computer science program, students will:</p> <ul> <li> <div>Analyze a complex computing problem and to apply principles of computing and other relevant disciplines to identify requirements for valid solutions.</div> </li> <li> <div>Implement a computing-based solution that meets a given set of computing requirements.</div> </li> <li> <div>Evaluate and assess the correctness of a given solution.</div> </li> <li> <div>Apply computer science theory and software development fundamentals to recognize trade-offs and produce computing-based solutions that have been optimized to satisfy performance or design criteria.</div> </li> <li> <div>Communicate effectively in a variety of professional contexts.</div> </li> <li> <div>Recognize and engage in professional methods, standards, and practices related to project planning and management.</div> </li> <li> <div>Make informed judgments in computing practice based on inclusive, ethical, and legal principles.</div> </li> <li> <div>Function effectively as a member or leader of a team engaged in activities appropriate to the program&#8217;s discipline.</div> </li> </ul></div></div></div>\\t\\t\\t\\t\\t\\t\\t\\t\\t\\t\\t\\t\\t</td>\\n\\t\\t\\t\\t\\t\\t\\t\\t\\t\\t\\t\\t</tr>\\n\\t\\t\\t\\t\\t\\t\\t\\t\\t\\t\\t</table>\\n\\t<br><hr><div style=\"float: right\">&#160;<a href=\"javascript:void(0);\" class=\"acalog_top_link acalog-highlight-ignore\">Back to Top</a> | <a rel=\"nofollow\" href=\"/preview_program.php?catoid=46&amp;poid=5251&amp;print\" onclick=\"acalogPopup(\\'/preview_program.php?catoid=46&amp;poid=5251&amp;print\\', \\'print_preview\\', 770, 530, \\'yes\\');return false;\" target=\"_blank\"  class=\"print_link acalog-highlight-ignore\" alt=\"Text Version\" title=\"Print-Friendly Page (opens a new window)\"><span class=\"sr-only\">Print-Friendly Page (opens a new window)</span></a></div><div class=\\'acalog-social-media-links float_right\\'>\\n\\t\\t\\t<div class=\"gateway-toolbar-facebook\">\\n\\t\\t\\t\\t<a href=\"http://www.facebook.com/sharer/sharer.php?u=http%3A%2F%2Fcatalog.endicott.edu%2Fpreview_program.php%3Fcatoid%3D46%26poid%3D5251&t=I just discovered \\'Computer Science Major (Bachelor of Science)\\' at Endicott College\" target=\"_blank\" title=\"Facebook this Page (opens a new window)\">\\n\\t\\t\\t\\t\\t<span class=\"sr-only\">Facebook this Page (opens a new window)</span>\\n\\t\\t\\t\\t</a> \\n\\t\\t\\t</div> \\n\\t\\t\\t<div class=\"gateway-toolbar-twitter\">\\n\\t\\t\\t\\t<a href=\"http://twitter.com/intent/tweet?u=u=http%3A%2F%2Fcatalog.endicott.edu%2Fpreview_program.php%3Fcatoid%3D46%26poid%3D5251&t=Check out this program at Endicott College\" target=\"_blank\" title=\"Tweet this Page (opens a new window)\">\\n\\t\\t\\t\\t\\t<span class=\"sr-only\">Tweet this Page (opens a new window)</span>\\n\\t\\t\\t\\t</a>\\n\\t\\t\\t</div></div>\\t\\t\\t\\t\\t\\t\\t\\t\\t\\t</td>\\n\\t\\t\\t\\t\\t\\t\\t\\t\\t</tr>\\n\\t\\t\\t\\t\\t\\t\\t\\t</table>\\n\\t\\t\\t\\t\\t\\t\\t</td>\\n\\t\\t\\t\\t\\t\\t\\t</tr>\\n\\t\\t\\t\\t\\t</table>\\n\\t\\t\\t\\t</td>\\n\\t\\t\\t\\t</tr>\\n\\t\\t\\t<tr role=\"contentinfo\" aria-label=\"Footer with copyright and information links\">\\n\\t\\t\\t\\t\\t<td class=\"block_footer_lb\">&#160;&#160;&#160;</td>\\n\\t\\t\\t\\t<td class=\"block_footer_rb\">\\n<div class=\"nobr\">All <a href=\"/misc/catalog_list.php?catoid=46\" class=\"footer\" >catalogs</a> &#169; 2025 Endicott College.</div> <div class=\"nobr\">Powered by <a href=\"http://www.moderncampus.com\" target=\"_blank\" class=\"footer\">Modern Campus Catalog™</a>.</div>\\n</td>\\n\\t\\t\\t\\t</tr>\\n\\t\\t</table>\\n<!-- \\t\\t<script src=\"js/smlinks.js\" type=\"text/javascript\"></script>\\n -->\\n\\t<script src=\"https://cdnjs.cloudflare.com/ajax/libs/select2/4.0.12/js/select2.full.min.js\"></script>\\n \\t</body>\\n</html>\\n'"
      ]
     },
     "execution_count": 3,
     "metadata": {},
     "output_type": "execute_result"
    }
   ],
   "source": [
    "response.text"
   ]
  },
  {
   "cell_type": "markdown",
   "metadata": {
    "cell_id": "d8a111e3c4484e6cafc1e2186ba858b1"
   },
   "source": [
    "Look at the content as a byte string (notice the `b` before the starting quote):"
   ]
  },
  {
   "cell_type": "code",
   "execution_count": 4,
   "metadata": {
    "cell_id": "9798c7ec448d43aca1e32e355f920f68",
    "execution_millis": 5,
    "execution_start": 1676038236282,
    "scrolled": true,
    "source_hash": "249e5ed1"
   },
   "outputs": [
    {
     "data": {
      "text/plain": [
       "b'<!DOCTYPE html><html lang=\"en\">\\n\\t<head>\\n\\t\\t<title>Program: Computer Science Major (Bachelor of Science) - Endicott College - Modern Campus Catalog\\xe2\\x84\\xa2</title>\\n\\t\\t\\t\\t<meta http-equiv=\"Content-Type\" content=\"text/html; charset=UTF-8\">\\n\\t\\t\\t\\t\\t\\t\\t<link rel=\"shortcut icon\" href=\"//acalog-clients.s3.amazonaws.com/production/endicott/img/favicon/favicon.ico\" />\\n\\t\\t<meta name=\"description\" content=\"Endicott College Academic Catalog. Endicott College, 376 Hale Street, Beverly, MA, USA. Endicott offers Bachelor of Arts, B.A., Bachelor of Fine Arts, B.F.A., Bachelor of Science, B.S., Master of Education, M.Ed., Master of Business Administration, M.B.A., Master of Science, M.S., Master of Arts, M.A., Master of Fine Arts, M.F.A., and Associate in Science (A.S.) degrees.Most students select Endicott after a personal tour of our oceanfront campus ends their search for the ideal academic experience.\"><meta name=\"keywords\" content=\"academic, catalogs, undergraduate, Endicott College, programs, courses, Endicott, endicott college, endicott, north shore, liberal arts, college, oceanfront campus, ecgulls, internships, graduate school, new england, massachusetts, ba, bfa, bs, med, mba, ms, mfa, ma, mexico, madrid, international studies, halle library, wylie center, center for the arts , graduate, undergraduate, global, internships, research center, arts, alumni, athletics, arts and sciences, business, communication, education, hospitality management, international, international education, nursing, sport science, visual and performing arts, performing arts, exhibits, bachelor of science, bachelor of arts, bachelor of fine arts, master of arts, master of science, master of fine arts, mba, med, master of education, management development, adult undergraduate, institute for behavioral studies, online learning, online, wylie inn, wylie inn and conference center, wylie inn and conference center at endicott college, political science\">\\t\\t\\t<link href=\"//acalog-clients.s3.amazonaws.com/production/endicott/css/gateway/user-styles.css\" rel=\"stylesheet\" type=\"text/css\">\\n\\t\\t\\t<link href=\"css/public_custom.php\" rel=\"stylesheet\" type=\"text/css\">\\n\\t\\t\\t<link href=\"global_styles.css\" rel=\"stylesheet\" type=\"text/css\">\\n\\t\\t\\t\\t\\t<!--[if IE]>\\n\\t\\t\\t<link rel=\"stylesheet\" type=\"text/css\" href=\"ie.css\" />\\n\\t\\t\\t<![endif]-->\\n\\n\\t\\t\\t\\t<!-- Cache-busting string (deploy date) added to asset URLS -->\\n\\t\\t<script src=\"js/jquery.js?v=01252018\" type=\"text/javascript\"></script>\\n\\t\\t<script src=\"js/Tooltip.js?v=01252018\" type=\"text/javascript\"></script>\\n \\t\\t<script src=\"javascripts.js?v=02232018\" type=\"text/javascript\"></script>\\n\\t\\t<script src=\"js/smlinks.js?v=01252018\" type=\"text/javascript\"></script>\\n\\t\\t\\t<script src=\"/js/highlight.js?v=01252018\" type=\"text/javascript\"></script>\\n\\t\\t<script type=\\'text/javascript\\'>\\nwindow.dataLayer = window.dataLayer || []; \\nfunction gtag(){dataLayer.push(arguments);} \\ngtag(\\'js\\', new Date());\\n\\ngtag(\\'config\\', \\'UA-2591870-4\\'); \\n</script><noscript><p><span class=\"error\">Javascript is currently not supported, or is disabled by this browser. Please enable Javascript for full functionality.</span></p></noscript>\\n<script type=\"text/javascript\">var gatewayFeatureSearchBar = true; var gatewayFeatureToolbarText = false; var gatewayFeatureBackToTopText = false;</script>\\n<link type=\"text/css\" rel=\"stylesheet\" href=\"//acalog-clients.s3.amazonaws.com/global/css/gateway-styles-reset.css\" />\\n<link type=\"text/css\" rel=\"stylesheet\" href=\"//acalog-clients.s3.amazonaws.com/global/css/gateway-styles-nojs.css\" id=\"gateway-styles-nojs\" />\\n<link type=\"text/css\" rel=\"stylesheet\" href=\"//acalog-clients.s3.amazonaws.com/production/endicott/css/gateway/gateway-styles.css?v=5\" />\\n<script type=\"text/javascript\">document.getElementById(\"gateway-styles-nojs\").parentNode.removeChild(document.getElementById(\"gateway-styles-nojs\"));</script>\\n<script type=\"text/javascript\" src=\"//ajax.googleapis.com/ajax/libs/jquery/1.8.1/jquery.min.js\"></script>\\n<script type=\"text/javascript\" src=\"//acalog-clients.s3.amazonaws.com/global/js/jquery.browser.js\"></script>\\n<script type=\"text/javascript\" src=\"//acalog-clients.s3.amazonaws.com/global/js/gateway-javascript.js\"></script>\\n<!--[if lte IE 8]><script type=\"text/javascript\" src=\"//acalog-clients.s3.amazonaws.com/global/js/select-fix.js\"></script><![endif]-->\\n\\t\\t<script src=\"https://ajax.googleapis.com/ajax/libs/jquery/3.4.1/jquery.min.js\"></script>\\n\\t\\t<script src=\"https://code.jquery.com/jquery-migrate-git.min.js\"></script>\\n\\t\\t<link href=\"https://cdnjs.cloudflare.com/ajax/libs/select2/4.0.12/css/select2.min.css\" rel=\"stylesheet\" />\\n\\t\\t<!-- Begin Responsive -->\\n\\t\\t\\t\\t\\t\\t<meta name=\"viewport\" content=\"width=device-width, initial-scale=1, minimum-scale=1\" />\\n\\t\\t\\t\\t<script src=\"https://kit.fontawesome.com/e35e04f508.js\" crossorigin=\"anonymous\"></script>\\n\\t\\t\\t\\t<script src=\"mobile-js.js\"></script>\\n\\t\\t\\t\\t<link href=\"mobile-styles.css\" rel=\"stylesheet\" type=\"text/css\">\\n\\t\\t\\t\\t\\t\\t<!-- End Responsive -->\\n\\t\\t<script src=\"/js/pathways.js\"></script>\\n\\t</head>\\n\\t<body>\\n        <!-- Skip to Navigation -->\\n        <nav id=\"skip\" aria-label=\"Skip to Main Content\">\\n            <a href=\"#select_catalog\" class=\"skip-nav\">Skip to Content</a>\\n        </nav>\\n\\t\\t<table class=\"toplevel table_default\">\\n\\t\\t\\t<tr role=\"banner\">\\n\\t\\t\\t\\t<td colspan=\"2\" class=\"block_n2_and_content\" id=\"acalog-header\"><div id=\"acalog-client-javascript\" class=\"acalog-custom\">\\n<script type=\"text/javascript\">\\n    jQuery(document).ready( function($) { if ($(\\'#gateway-page\\').length) {\\n\\n        $(\\'#acalog-client-header\\').wrapInner(\\'<div class=\"js\"><\\\\/div>\\');\\n\\n    $( \"html\" ).addClass( \"js\" );\\n\\n    $(\\'.gateway-footer-copyright-1\\').remove();\\n\\n    $(window).load(function(){\\n    $( \".subnav-dropdown\" ).click(function(e) {\\n    $( this ).toggleClass( \"active\" );\\n    $( \".top-nav, .subnav\" ).toggleClass( \"block\" );\\n    });\\n    });\\n\\n    }});\\n</script>\\n</div>\\n<!-- End Client Javascript -->\\n\\n<!-- Start Client Header -->\\n<div id=\"acalog-client-header\" class=\"acalog-custom\">\\n    <div>\\n        <header aria-label=\"site header container\">\\n            <div id=\"header-wrap\">\\n                <div data-selector-id=\"header\" class=\"sticky\" aria-label=\"Endicott College site header\">\\n                    <a href=\"#content\" class=\"screen-reader-text\">Skip to main content</a>\\n                    <div class=\"site-width\">\\n                        <div class=\"brand site-shift\">\\n                            <a href=\"https://www.endicott.edu/\">Endicott College</a>\\n                            <div data-selector-id=\"menu-toggle\"></div>\\n                        </div>\\n                        <div data-selector-id=\"main-menu\">\\n                            <div data-selector-id=\"main-search\">\\n                                <div class=\"stage\">\\n                                    <form action=\"https://www.endicott.edu/search-results\" method=\"get\">\\n                                        <label for=\"main-search-box\" class=\"screen-reader-text\">Search our site</label> <input type=\"text\" id=\"main-search-box\" data-selector-id=\"main-search-box\" name=\"q\" class=\"search-box\" placeholder=\"Search our site\"> <input type=\"submit\" value=\"Search\" class=\"search-button\">\\n                                    </form>\\n                                </div>\\n                            </div>\\n                            <nav data-selector-id=\"main-nav\" aria-label=\"main navigation\">\\n                                <ul>\\n                                    <li class=\"home\">\\n                                        <a href=\"https://www.endicott.edu/\">Home</a>\\n                                    </li>\\n                                    <li>\\n                                        <a href=\"javascript:void(0);\" aria-label=\"expand or collapse About menu\">About</a>\\n                                        <div class=\"stage\">\\n                                            <div class=\"grid\">\\n                                                <div class=\"col\">\\n                                                    <a class=\"title\" href=\"https://www.endicott.edu/about\">About</a>\\n                                                    <ul>\\n                                                        <li>\\n                                                            <a href=\"https://www.endicott.edu/about/why-endicott\">Why Endicott?</a>\\n                                                        </li>\\n                                                        <li>\\n                                                            <a href=\"https://www.endicott.edu/about/leadership\">Leadership</a>\\n                                                        </li>\\n                                                        <li>\\n                                                            <a href=\"https://www.endicott.edu/about/arts-culture\">Arts and Culture</a>\\n                                                        </li>\\n                                                        <li>\\n                                                            <a href=\"https://www.endicott.edu/about/research-at-endicott\">Research at Endicott</a>\\n                                                        </li>\\n                                                        <li>\\n                                                            <a href=\"https://www.endicott.edu/about/campus-planning-and-construction\">Campus Planning and Construction</a>\\n                                                        </li>\\n                                                        <li>\\n                                                            <a href=\"https://www.endicott.edu/about/sustainability\">Sustainability</a>\\n                                                        </li>\\n                                                        <li>\\n                                                            <a href=\"https://www.endicott.edu/about/faculty-staff-directory\">Faculty and Staff Directory</a>\\n                                                        </li>\\n                                                        <li>\\n                                                            <a href=\"https://www.endicott.edu/about/key-offices-departments\">Key Offices and Departments</a>\\n                                                        </li>\\n                                                        <li>\\n                                                            <a href=\"https://www.endicott.edu/about/locations-directions\">Locations and Directions</a>\\n                                                        </li>\\n                                                        <li>\\n                                                            <a href=\"https://www.endicott.edu/about/contact-us\">Contact Us</a>\\n                                                        </li>\\n                                                    </ul>\\n                                                </div>\\n                                            </div>\\n                                        </div>\\n                                    </li>\\n                                    <li>\\n                                        <a href=\"javascript:void(0);\" aria-label=\"expand or collapse Admission menu\">Admission</a>\\n                                        <div class=\"stage wide\">\\n                                            <div class=\"grid\">\\n                                                <div class=\"col-2/3\">\\n                                                    <a class=\"title\" href=\"https://www.endicott.edu/admission\">Undergraduate College Admission</a>\\n                                                    <ul>\\n                                                        <li>\\n                                                            <a href=\"https://www.endicott.edu/admission/how-to-apply\">How to Apply</a>\\n                                                        </li>\\n                                                        <li>\\n                                                            <a href=\"https://www.endicott.edu/admission/admission-criteria\">Admission Criteria</a>\\n                                                        </li>\\n                                                        <li>\\n                                                            <a href=\"https://www.endicott.edu/admission/tuition-financial-aid\">Tuition and Financial Aid</a>\\n                                                        </li>\\n                                                        <li>\\n                                                            <a href=\"https://www.endicott.edu/admission/meet-the-admission-team\">Meet the Admission Team</a>\\n                                                        </li>\\n                                                        <li>\\n                                                            <a href=\"https://www.endicott.edu/admission/plan-a-visit\">Plan A Visit</a>\\n                                                        </li>\\n                                                        <li>\\n                                                            <a href=\"https://www.endicott.edu/admission/information-for-accepted-students\"><em>for</em> Accepted Students</a>\\n                                                        </li>\\n                                                        <li>\\n                                                            <a href=\"https://www.endicott.edu/admission/information-for-parents-and-families\"><em>for</em> Parents and Families</a>\\n                                                        </li>\\n                                                        <li>\\n                                                            <a href=\"https://www.endicott.edu/admission/information-for-guidance-colleagues\"><em>for</em> Guidance Colleagues</a>\\n                                                        </li>\\n                                                    </ul>\\n                                                </div>\\n                                                <div class=\"col-1/3\">\\n                                                    <a class=\"title\" href=\"https://vanloan.endicott.edu/admission-registration\">Graduate and Professional Studies Admission</a>\\n                                                    <div class=\"info\">\\n                                                        <p>\\n                                                            Application information for the Van Loan School at Endicott College.\\n                                                        </p>\\n                                                    </div>\\n                                                </div>\\n                                            </div>\\n                                        </div>\\n                                    </li>\\n                                    <li>\\n                                        <a href=\"javascript:void(0);\" aria-label=\"expand or collapse Academics menu\">Academics</a>\\n                                        <div class=\"stage wide\">\\n                                            <div class=\"grid\">\\n                                                <div class=\"col-2/3\">\\n                                                    <a class=\"title\" href=\"https://www.endicott.edu/academics\">Academics</a>\\n                                                    <ul>\\n                                                        <li>\\n                                                            <a href=\"https://www.endicott.edu/academics/programs-of-study\">Programs of Study</a>\\n                                                        </li>\\n                                                        <li>\\n                                                            <a href=\"https://www.endicott.edu/academics/general-education-core-requirements\">General Education Core Requirements</a>\\n                                                        </li>\\n                                                        <li>\\n                                                            <a href=\"https://www.endicott.edu/academics/schools\">Schools</a>\\n                                                        </li>\\n                                                        <li>\\n                                                            <a href=\"https://www.endicott.edu/academics/academic-opportunities\">Academic Opportunities</a>\\n                                                        </li>\\n                                                        <li>\\n                                                            <a href=\"https://www.endicott.edu/academics/academic-resources-support\">Academic Resources and Support</a>\\n                                                        </li>\\n                                                        <li>\\n                                                            <a href=\"https://www.endicott.edu/academics/our-faculty\">Our Faculty</a>\\n                                                        </li>\\n                                                        <li>\\n                                                            <a href=\"https://www.endicott.edu/academics/international-education\">International Education</a>\\n                                                        </li>\\n                                                        <li>\\n                                                            <a href=\"https://www.endicott.edu/academics/centers-institutes\">Centers and Institutes</a>\\n                                                        </li>\\n                                                    </ul>\\n                                                </div>\\n                                                <div class=\"col-1/3\">\\n                                                    <a class=\"title\" href=\"https://vanloan.endicott.edu/programs-of-study\">Graduate and Professional Programs</a>\\n                                                    <div class=\"info\">\\n                                                        <p>\\n                                                            Endicott\\xe2\\x80\\x99s Van Loan School offers adult undergraduate and graduate programs in Beverly, Boston, and online, plus executive education.\\n                                                        </p>\\n                                                    </div>\\n                                                </div>\\n                                            </div>\\n                                        </div>\\n                                    </li>\\n                                    <li>\\n                                        <a href=\"javascript:void(0);\" aria-label=\"expand or collapse Student Life menu\">Student Life</a>\\n                                        <div class=\"stage endalign\">\\n                                            <div class=\"grid\">\\n                                                <div class=\"col\">\\n                                                    <a class=\"title\" href=\"https://www.endicott.edu/student-life\">Student Life</a>\\n                                                    <ul>\\n                                                        <li>\\n                                                            <a href=\"https://www.endicott.edu/student-life/housing-residence-life\">Housing and Residence Life</a>\\n                                                        </li>\\n                                                        <li>\\n                                                            <a href=\"https://www.endicott.edu/student-life/activities-events\">Activities and Events</a>\\n                                                        </li>\\n                                                        <li>\\n                                                            <a href=\"https://www.endicott.edu/student-life/athletics-recreation\">Athletics and Recreation</a>\\n                                                        </li>\\n                                                        <li>\\n                                                            <a href=\"https://www.endicott.edu/student-life/health-wellness\">Health and Wellness</a>\\n                                                        </li>\\n                                                        <li>\\n                                                            <a href=\"https://www.endicott.edu/student-life/community-service\">Community Service</a>\\n                                                        </li>\\n                                                        <li>\\n                                                            <a href=\"https://www.endicott.edu/student-life/student-services\">Student Services</a>\\n                                                        </li>\\n                                                        <li>\\n                                                            <a href=\"https://www.endicott.edu/student-life/safety-security\">Safety and Security</a>\\n                                                        </li>\\n                                                        <li>\\n                                                            <a href=\"https://www.endicott.edu/student-life/new-student-orientation\">New Student Orientation</a>\\n                                                        </li>\\n                                                        <li>\\n                                                            <a href=\"https://www.endicott.edu/student-life/contact-student-life\">Contact Student Life</a>\\n                                                        </li>\\n                                                    </ul>\\n                                                </div>\\n                                            </div>\\n                                        </div>\\n                                    </li>\\n                                    <li>\\n                                        <a href=\"javascript:void(0);\" aria-label=\"expand or collapse Internships and Careers menu\">Internships and Careers</a>\\n                                        <div class=\"stage endalign\">\\n                                            <div class=\"grid\">\\n                                                <div class=\"col\">\\n                                                    <a class=\"title\" href=\"https://www.endicott.edu/internships-careers\">Internships and Careers</a>\\n                                                    <ul>\\n                                                        <li>\\n                                                            <a href=\"https://www.endicott.edu/internships-careers/four-year-internship-program\">Four-Year Internship Program</a>\\n                                                        </li>\\n                                                        <li>\\n                                                            <a href=\"https://www.endicott.edu/internships-careers/internship-career-services-resources\">Internship and Career Services and Resources</a>\\n                                                        </li>\\n                                                        <li>\\n                                                            <a href=\"https://www.endicott.edu/internships-careers/internship-career-events\">Internship and Career Events</a>\\n                                                        </li>\\n                                                        <li>\\n                                                            <a href=\"https://www.endicott.edu/internships-careers/student-stories\">Student Stories</a>\\n                                                        </li>\\n                                                        <li>\\n                                                            <a href=\"https://www.endicott.edu/internships-careers/information-for-employers\"><em>for</em> Employers</a>\\n                                                        </li>\\n                                                        <li>\\n                                                            <a href=\"https://www.endicott.edu/internships-careers/information-for-alumni\"><em>for</em> Alumni</a>\\n                                                        </li>\\n                                                        <li>\\n                                                            <a href=\"https://www.endicott.edu/internships-careers/contact-internship-career-center\">Contact Internship and Career Center</a>\\n                                                        </li>\\n                                                    </ul>\\n                                                </div>\\n                                            </div>\\n                                        </div>\\n                                    </li>\\n                                    <li>\\n                                        <a href=\"javascript:void(0);\" aria-label=\"expand or collapse News and Events menu\">News and Events</a>\\n                                        <div class=\"stage endalign\">\\n                                            <div class=\"grid\">\\n                                                <div class=\"col\">\\n                                                    <a class=\"title\" href=\"https://www.endicott.edu/news-events\">News and Events</a>\\n                                                    <ul>\\n                                                        <li>\\n                                                            <a href=\"https://www.endicott.edu/news-events/news\">News</a>\\n                                                        </li>\\n                                                        <li>\\n                                                            <a href=\"https://www.endicott.edu/news-events/commencement\">Commencement</a>\\n                                                        </li>\\n                                                        <li>\\n                                                            <a href=\"https://www.endicott.edu/news-events/soundings-magazine\">Soundings Magazine</a>\\n                                                        </li>\\n                                                        <li>\\n                                                            <a href=\"https://www.endicott.edu/news-events/homecoming-and-family-weekend\">Homecoming and Family Weekend</a>\\n                                                        </li>\\n                                                        <li>\\n                                                            <a href=\"http://events.endicott.edu/\">Events Calendar</a>\\n                                                        </li>\\n                                                        <li>\\n                                                            <a href=\"https://www.endicott.edu/news-events/college-publications\">College Publications</a>\\n                                                        </li>\\n                                                    </ul>\\n                                                </div>\\n                                            </div>\\n                                        </div>\\n                                    </li>\\n                                    <li>\\n                                        <a href=\"javascript:void(0);\" aria-label=\"expand or collapse Alumni menu\">Alumni</a>\\n                                        <div class=\"stage endalign\">\\n                                            <div class=\"grid\">\\n                                                <div class=\"col\">\\n                                                    <a class=\"title\" href=\"https://www.endicott.edu/alumni\">Alumni</a>\\n                                                    <ul>\\n                                                        <li>\\n                                                            <a href=\"https://www.endicott.edu/alumni/alumni-news-events\">Alumni News and Events</a>\\n                                                        </li>\\n                                                        <li>\\n                                                            <a href=\"https://www.endicott.edu/alumni/reunion-weekend\">Reunion Weekend</a>\\n                                                        </li>\\n                                                        <li>\\n                                                            <a href=\"https://www.endicott.edu/alumni/alumni-resources-benefits\">Alumni Resources and Benefits</a>\\n                                                        </li>\\n                                                        <li>\\n                                                            <a href=\"https://www.endicott.edu/alumni/alumni-travel-program\">Alumni Travel Program</a>\\n                                                        </li>\\n                                                        <li>\\n                                                            <a href=\"https://www.endicott.edu/alumni/alumni-volunteer-opportunities\">Alumni Volunteer Opportunities</a>\\n                                                        </li>\\n                                                        <li>\\n                                                            <a href=\"https://www.endicott.edu/alumni/alumni-council\">Alumni Council</a>\\n                                                        </li>\\n                                                        <li>\\n                                                            <a href=\"https://www.endicott.edu/alumni/keep-in-touch-with-us\">Alumni - Keep in Touch with Us</a>\\n                                                        </li>\\n                                                    </ul>\\n                                                </div>\\n                                            </div>\\n                                        </div>\\n                                    </li>\\n                                    <li data-selector-id=\"search-toggle\">\\n                                        <a href=\"#\">Search</a>\\n                                    </li>\\n                                </ul>\\n                            </nav>\\n                            <div data-selector-id=\"sub-nav\">\\n                                <ul>\\n                                    <li>\\n                                        <a href=\"http://www.ecgulls.com/landing/index\">Athletics</a>\\n                                    </li>\\n                                    <li>\\n                                        <a href=\"https://www.endicott.edu/about/faculty-staff-directory\">Directory</a>\\n                                    </li>\\n                                    <li>\\n                                        <a href=\"https://vanloan.endicott.edu/\">Van Loan School</a>\\n                                    </li>\\n                                </ul><a class=\"give-link\" href=\"https://www.endicott.edu/give\">Give</a>\\n                            </div>\\n                            <div class=\"top-nav\" data-selector-id=\"tools\" role=\"navigation\" aria-label=\"Student Resources\">\\n                                <div class=\"site-width\">\\n                                    <a class=\"subnav-dropdown\" href=\"#\" data-selector-id=\"tools-toggle\">Student Resources</a>\\n                                    <ul class=\"subnav\">\\n                                        <li>\\n                                            <a href=\"http://catalog.endicott.edu/\">Academic Catalog</a>\\n                                        </li>\\n                                        <li>\\n                                            <a href=\"https://www.endicott.edu/academics/academic-resources-support/academic-calendar\">Academic Calendar</a>\\n                                        </li>\\n                                        <li>\\n                                            <a href=\"https://www.endicott.edu/academics/academic-resources-support/halle-library\">Halle Library</a>\\n                                        </li>\\n                                        <li>\\n                                            <a href=\"http://www.bkstr.com/endicottstore/home/en\">Bookstore</a>\\n                                        </li>\\n                                        <li>\\n                                            <a href=\"https://canvas.endicott.edu/login/ldap\">Canvas</a>\\n                                        </li>\\n                                        <li>\\n                                            <a href=\"https://www.endicott.edu/student-life/student-services/gull-card\">Gull Card</a>\\n                                        </li>\\n                                        <li>\\n                                            <a href=\"https://my.endicott.edu/ICS/\">My Endicott</a>\\n                                        </li>\\n                                    </ul>\\n                                </div>\\n                            </div>\\n                            <div class=\"action-calls\">\\n                                <a href=\"https://www.endicott.edu/admission/how-to-apply\" class=\"action apply\">Apply</a> <a href=\"https://apply.endicott.edu/register/requestinfo\" class=\"action info\">Request Info</a> <a href=\"https://www.endicott.edu/admission/plan-a-visit\" class=\"action plan\">Plan a Visit</a>\\n                            </div>\\n                        </div>\\n                    </div>\\n                </div>\\n            </div>\\n        </header>\\n    </div>\\n</div>\\n<!-- End Client Header -->\\n\\n<!-- Start Client Footer -->\\n<div id=\"acalog-client-footer\" class=\"acalog-custom\">\\n    <div>\\n        <footer id=\"footer\" class=\"site-shift\" aria-label=\"site footer container\">\\n            <div class=\"footer-border\"></div>\\n            <div class=\"footer\">\\n                <div class=\"site-width\">\\n                    <a href=\"https://www.usnews.com/best-colleges/endicott-college-2148\" target=\"_blank\" class=\"award-link\"><img alt=\"U.S. News &amp; World Report Best Colleges, Regional Universities - North 2019 award badge\" src=\"//acalog-clients.s3.amazonaws.com/production/endicott/img/gateway/best-colleges-regional-universities-north-2019.png\"></a>\\n                    <div class=\"stage\">\\n                        <div class=\"section brand\">\\n                            <a href=\"https://www.endicott.edu/\">Endicott College</a>\\n                        </div>\\n                        <div class=\"section contact\">\\n                            <div class=\"address\">\\n                                <strong>Endicott College</strong><br>\\n                                <a href=\"https://goo.gl/maps/ft9EcVLVgXN2\" target=\"_blank\">376 Hale Street<br>\\n                                Beverly, MA 01915</a>\\n                            </div>\\n                            <div class=\"phone\">\\n                                <a href=\"tel:9789270585\">978-927-0585</a> <a href=\"tel:8003251114\">800-325-1114</a>\\n                            </div><a href=\"https://www.endicott.edu/about/locations-directions\" class=\"icon-location\">Location and Directions</a> <a href=\"https://www.endicott.edu/about/faculty-staff-directory\" class=\"icon-profile\">Directory</a> <a href=\"https://www.endicott.edu/about/contact-us\" class=\"icon-info\">Contact Us</a>\\n                        </div>\\n                        <div class=\"section map\">\\n                            <a href=\"http://map.endicott.edu\"><img srcset=\"https://www.endicott.edu/images/campus-map-1x.jpg 1x, https://www.endicott.edu/images/campus-map-2x.jpg 2x\" src=\"https://www.endicott.edu/images/campus-map-1x.jpg\" alt=\"campus map graphic\"> <span>Campus Map</span></a>\\n                        </div>\\n                        <div class=\"section links-grid\">\\n                            <div class=\"connected\">\\n                                <a href=\"https://www.facebook.com/EndicottCollege\" class=\"social-facebook\">Facebook</a> <a href=\"https://twitter.com/EndicottCollege\" class=\"social-twitter\">Twitter</a> <a href=\"https://www.instagram.com/endicottcollege\" class=\"social-instagram\">Instagram</a> <a href=\"https://www.youtube.com/user/endicottcollege\" class=\"social-youtube\">YouTube</a> <a href=\"https://www.endicott.edu/about/key-offices-departments/communications-and-marketing/social-media\" class=\"arrow\">Stay Connected</a>\\n                            </div>\\n                            <div class=\"athletics\">\\n                                <a href=\"http://www.ecgulls.com/\"><img src=\"//acalog-clients.s3.amazonaws.com/production/endicott/img/gateway/logo-athletics.png\" alt=\"Endicott College Gulls\"> <span>Athletics</span></a>\\n                            </div>\\n                            <div class=\"links\">\\n                                <ul>\\n                                    <li>\\n                                        <a href=\"https://vanloan.endicott.edu/\">Van Loan School</a>\\n                                    </li>\\n                                    <li>\\n                                        <a href=\"https://www.endicott.edu/academics/academic-resources-support/halle-library\">Halle Library</a>\\n                                    </li>\\n                                    <li>\\n                                        <a href=\"http://www.bkstr.com/endicottstore/home/en\">Bookstore</a>\\n                                    </li>\\n                                    <li>\\n                                        <a href=\"https://www.endicott.edu/about/arts-culture\">Arts and Culture</a>\\n                                    </li>\\n                                    <li>\\n                                        <a href=\"https://www.eventbrite.com/o/endicott-college-4581762391\" target=\"_blank\">Event Tickets</a>\\n                                    </li>\\n                                    <li>\\n                                        <a href=\"https://www.misselwood.com/\">Misselwood Events</a>\\n                                    </li>\\n                                    <li>\\n                                        <a href=\"http://wyliecenter.com/\" target=\"_blank\">Wylie Inn and Conference Center</a>\\n                                    </li>\\n                                    <li>\\n                                        <a href=\"https://www.endicott.edu/about/key-offices-departments/human-resources/employment-opportunities\">Employment</a>\\n                                    </li>\\n                                    <li>\\n                                        <a href=\"https://www.endicott.edu/about/key-offices-departments/public-safety/emergency-alerts-communications\">Emergency Alerts</a>\\n                                    </li>\\n                                </ul>\\n                            </div>\\n                        </div>\\n                    </div>\\n                </div>\\n            </div>\\n            <section id=\"copyright\" class=\"site-shift\" role=\"navigation\" aria-label=\"copyright info\">\\n                <div class=\"site-width\">\\n                    <span>\\xc2\\xa9 Endicott College. All rights reserved. <a href=\"https://www.endicott.edu/consumer-disclosure\">Consumer Disclosure</a> <a href=\"https://www.endicott.edu/about/why-endicott/accreditation\">Accreditation</a> <a href=\"https://www.endicott.edu/privacy-policy\">Privacy Policy</a> <a href=\"https://www.endicott.edu/accessibility\">Accessibility</a></span>\\n                </div>\\n            </section>\\n        </footer>\\n    </div>\\n</div>\\n<!-- End Client Footer -->\\n<script type=\"text/javascript\" src=\"//acalog-clients.s3.amazonaws.com/production/endicott/img/gateway/script-block-02.js\"></script>\\n<script src=\"//acalog-clients.s3.amazonaws.com/production/endicott/img/gateway/main.min.js?v=11\" type=\"text/javascript\"></script>\\n<script src=\"//acalog-clients.s3.amazonaws.com/production/endicott/img/gateway/jquery-migrate-1.4.1.js\" type=\"text/javascript\"></script></td>\\n\\t\\t\\t</tr>\\n\\t\\t\\t<tr class=\"acalog-block-n1\" role=\"complementary\">\\n\\t\\t\\t\\t\\t<td class=\"block_n1_left\">&#160;&#160;&#160;</td>\\n\\t\\t\\t\\t<td class=\"block_n1_right\">\\n\\t\\t\\t\\t\\t<span class=\"n1_header\">\\n\\t\\t\\t\\tEndicott College\\t\\t\\t\\t\\t</span>\\n\\t\\t\\t\\t</td>\\n\\t\\t\\t\\t</tr>\\n\\t\\t\\t<tr role=\"main\">\\n\\t\\t\\t\\t\\t<td class=\"block_border_left\">&#160;&#160;&#160;</td>\\n\\t\\t\\t\\t\\t<td class=\"block_n2_and_content\">\\n\\t\\t\\t\\t\\t<table class=\"block_n2_and_content table_default\">\\n\\t\\t\\t\\t\\t\\t<tr>\\n\\t\\t\\t\\t\\t\\t\\t<!-- Begin N3 -->\\n\\t\\t\\t<td class=\"block_date_outer_left small_date_pad\">&#160;</td>\\n\\t\\t<td class=\"block_date_inner medium_date_pad\">\\n\\t\\t\\t<span class=\"date\">&#160;\\n\\t\\t\\t\\tFeb 12, 2025\\t\\t\\t</span>\\n\\t\\t</td>\\n\\t\\t<td class=\"block_date_outer_right small_date_pad\">&#160;</td>\\n\\t\\t<td class=\"block_n2_and_content\">\\n\\t<table class=\"table_default\">\\n\\t\\t<tr>\\n\\t\\t\\t<td class=\"block_n3_off block_n3_left\">\\n\\t\\t\\t\\t<span class=\"n3_header\"><span id=\"acalog-catalog-name\">2024-2025 Endicott College Academic Catalog</span>&#160;</span>\\n\\t\\t\\t</td>\\n\\t\\t\\t<td class=\"block_n3_off block_n3_right float_right\">\\n\\t\\t\\t\\t\\t\\t\\t\\t\\t\\t<form name=\"select_catalog\" method=\"post\" action=\"/index.php\">\\n\\t\\t\\t\\t\\t\\t\\t\\t\\t\\t\\t<table class=\"default_no_width\">\\n\\t\\t\\t\\t\\t\\t<tr>\\n\\t\\t\\t\\t\\t\\t\\t<td>\\n\\t\\t\\t\\t\\t\\t\\t\\t&#160;</td><td>&#160;\\t\\t\\t\\t\\t\\t\\t</td>\\n\\t\\t\\t\\t\\t\\t</tr>\\n\\t\\t\\t\\t\\t</table>\\n\\t\\t\\t\\t</form>\\n\\t\\t\\t</td>\\n\\t\\t</tr>\\n\\t</table>\\n</td>\\n<!-- End N3. -->\\n\\t\\t\\t\\t\\t\\t</tr>\\n\\t\\t\\t\\t\\t\\t<tr>\\n\\t\\t\\t\\t\\t\\t\\t\\t<!-- N2 goes here. -->\\n\\t\\t<td class=\"block_n2\" colspan=\"3\" id=\"acalog-nav\">\\n  <table class=\"block_n2_content links_table\">\\n\\t<tr>\\n\\t\\t<td role=\"search\" aria-labelledby=\"n2_search_header\" class=\"block_n2_search\\n\\t\\t\\t\">\\n\\t\\t<form name=\"n2_search\" method=\"get\" action=\"/search_advanced.php\" onSubmit=\"return validateSearchOptions()\">\\n\\t\\t<fieldset id=\"global-search-fieldset\">\\n\\t\\t\\t<legend>Global Search</legend>\\n\\t\\t  <input type=\"hidden\" title=\"Cur Cat OID\" name=\"cur_cat_oid\" value=\"46\">\\n\\t\\t  <input type=\"hidden\" title=\"Search Database\" name=\"search_database\" value=\"Search\">\\n\\t\\t  <input type=\"hidden\" title=\"Search\" name=\"search_db\" value=\"Search\">\\n\\t\\t  <input type=\"hidden\" title=\"cpage\" name=\"cpage\" value=\"1\">\\n\\t\\t  <input type=\"hidden\" title=\"ecpage\" name=\"ecpage\" value=\"1\">\\n\\t\\t  <input type=\"hidden\" title=\"ppage\" name=\"ppage\" value=\"1\">\\n\\t\\t  <input type=\"hidden\" title=\"spage\" name=\"spage\" value=\"1\">\\n\\t\\t  <input type=\"hidden\" title=\"tpage\" name=\"tpage\" value=\"1\">\\n\\t\\t\\t<span class=\"n2_search_header\" id=\"n2_search_header\">Catalog Search</span>\\t\\t\\t<br>\\n\\t\\t\\t<span class=\"show\">\\n\\t\\t\\t\\t<label for=\"location\" class=\"no_display\">Choose Search Location</label>\\n\\t\\t\\t\\t<div id=\"location_select_parent\">\\n\\t\\t\\t\\t\\t\\n\\t\\t\\t\\t\\t<script>\\n\\t\\t\\t\\t\\t\\tfunction reloadLocations() {\\n\\t\\t\\t\\t\\t\\t\\tvar locations_in_use = 0; \\n\\t\\t\\t\\t\\t\\t\\tvar chosen_locations_div = document.getElementById(\\'chosen_locations_div\\');\\n\\t\\t\\t\\t\\t\\t\\tvar category = document.getElementById(\\'location\\').value;\\n\\t\\t\\t\\t\\t\\t\\tif((category === \\'1\\' || category === \\'3\\' || category === \\'33\\') && (locations_in_use !== 0)){\\n\\t\\t\\t\\t\\t\\t\\t\\tchosen_locations_div.classList.remove(\"disabled\");\\n\\t\\t\\t\\t\\t\\t\\t} else {\\n\\t\\t\\t\\t\\t\\t\\t\\tchosen_locations_div.classList.add(\"disabled\");\\n\\t\\t\\t\\t\\t\\t\\t}\\n\\t\\t\\t\\t\\t\\t};\\n\\t\\t\\t\\t\\t</script>\\n\\n\\t\\t\\t\\t\\t<select name=\"location\" id=\"location\" title=\"Choose Search Location\" onChange=\"reloadLocations();\">\\n\\t\\t\\t\\t\\t\\t<option value=\"-1\">Select an option</option>\\n\\t\\t\\t\\t\\t\\t\\t\\t\\t\\t\\t\\t\\t\\t<option value=\"3\" selected>Courses</option>\\n\\t\\t\\t\\t\\t\\t\\t\\t\\t\\t\\t\\t\\t\\t\\t\\t<option value=\"1\" selected>Programs</option>\\n\\t\\t\\t\\t\\t\\t\\t\\t\\t\\t\\t\\t\\t\\t\\t\\t<option value=\"28\" selected>Schools/Colleges & Departments</option>\\n\\t\\t\\t\\t\\t\\t\\t\\t\\t\\t\\t\\t\\t\\t\\t\\t<option value=\"30\" selected>Policies and Other Non-Academic Content</option>\\n\\t\\t\\t\\t\\t\\t\\t\\t\\t\\t\\t\\t\\t\\t\\t\\t<option value=\"33\" selected>Entire Catalog</option>\\n\\t\\t\\t\\t\\t\\t\\t\\t\\t\\t\\t\\t\\t</select>\\n\\t\\t\\t\\t</div>\\n\\t\\t\\t\\t<br>\\n\\t\\t\\t</span>\\n\\n\\n\\t\\t\\t<span>\\n\\t\\t\\t\\t                <div id=\"chosen_locations_div\" class= >\\n\\t\\t\\t\\t\\t\\n                </div>\\t\\t\\t\\t\\t\\n\\n\\t\\t\\t</span>\\n\\t\\t\\t<span class=\"show\">\\n\\t\\t\\t\\t<label for=\"keyword\" class=\"no_display\">Search Keyword Field</label><input type=\"text\" title=\"Search Keyword Field, required\" name=\"filter[keyword]\" value=\"Enter Keyword  \" size=\"15\" maxlength=\"150\" id=\"keyword\" onFocus=\"if (this.value == \\'Enter Keyword  \\') { this.value=\\'\\'; }\" class=\"n2_form_words\" aria-required=\"true\" required>\\n\\t\\t\\t\\t<input type=\"submit\" title=\"GO\" value=\"GO\"><br>\\n\\t\\t\\t</span>\\n\\t\\t\\t<span class=\"show\"><br />\\n\\t\\t\\t\\t<input type=\"checkbox\" title=\"Exact Match\" name=\"filter[exact_match]\" value=\"1\" checked=\"checked\" id=\"exact_match_n2\"> \\n\\t\\t\\t\\t<label for=\"exact_match_n2\" class=\"n2_search\">Whole Word/Phrase</label>\\n\\t\\t\\t\\t<br />\\n\\t\\t\\t</span>\\n\\t\\t  \\t<span class=\"n2_search\">\\n\\t\\t\\t\\t<a href=\"/search_advanced.php?catoid=46\" class=\"navbar\">\\n\\t\\t\\t\\t\\tAdvanced Search\\t\\t\\t\\t</a>\\n\\t\\t\\t</span>\\n\\t\\t\\t<br>\\n\\t\\t</fieldset>\\n\\t</form>\\n\\t\\t</td>\\n\\t</tr>\\n\\t<tr>\\n\\t  <td>\\n\\t\\t<hr class=\"navbar\">\\n\\t  </td>\\n\\t</tr>\\n\\t<tr>\\n\\t  <td class=\"nowrap\">\\n\\n\\t\\t<!-- Begin Responsive -->\\n\\t\\t\\t\\t<div class=\"mobile-menu-toggle\" tabindex=0>Catalog Navigation</div>\\n\\t\\t\\t\\t<!-- End Responsive -->\\n\\t\\t\\n\\t\\t<table class=\"block_n2_links links_table\">\\n\\t\\t  <tr>\\n\\t\\t\\t<td id=\"acalog-navigation\">\\n\\t\\t\\t  <div class=\"n2_links\">&#160;&#160;<a href=\"/index.php?catoid=46\" class=\"navbar\">Catalog Home</a></div>\\n<hr class=\"navbar\">\\t\\t\\t</div>\\n\\t\\t\\t<br>\\t\\t\\t</div>\\n\\t\\t\\t\\t\\t\\t\\t<div class=\"n2_links\">&#160;&#160;<a href=\"/content.php?catoid=46&navoid=2548\" class=\"navbar\">General Information</a>\\t\\t\\t</div>\\n\\t\\t\\t\\t\\t\\t\\t<div class=\"n2_links\">&#160;&#160;<a href=\"/content.php?catoid=46&navoid=2574\" class=\"navbar\">Academic Policies &amp; Information</a>\\t\\t\\t</div>\\n\\t\\t\\t\\t\\t\\t\\t<div class=\"n2_links\">&#160;&#160;<a href=\"/content.php?catoid=46&navoid=2549\" class=\"navbar\">General College Policies &amp; Procedures</a>\\t\\t\\t</div>\\n\\t\\t\\t\\t\\t\\t\\t<div class=\"n2_links\">&#160;&#160;<a href=\"/content.php?catoid=46&navoid=2557\" class=\"navbar\">Endicott College Resources</a>\\t\\t\\t</div>\\n\\t\\t\\t\\t\\t\\t\\t<div class=\"n2_links\">&#160;&#160;<a href=\"/content.php?catoid=46&navoid=2558\" class=\"navbar\">Accreditations and Approvals</a>\\t\\t\\t</div>\\n\\t\\t\\t\\t\\t\\t\\t<div class=\"n2_links\">&#160;&#160;<a href=\"/content.php?catoid=46&navoid=2559\" class=\"navbar\">Off Site Locations</a>\\t\\t\\t</div>\\n\\t\\t\\t\\t\\t\\t\\t<div class=\"n2_links\">&#160;&#160;<a href=\"/content.php?catoid=46&navoid=2575\" class=\"navbar\">Admission at Endicott</a>\\t\\t\\t</div>\\n\\t\\t\\t\\t\\t\\t\\t<div class=\"n2_links\">&#160;&#160;<a href=\"/content.php?catoid=46&navoid=2588\" class=\"navbar\">Experiential Learning: Internship and Career Center</a>\\t\\t\\t</div>\\n\\t\\t\\t\\t\\t\\t\\t<div class=\"n2_links\">&#160;&#160;<a href=\"/content.php?catoid=46&navoid=2587\" class=\"navbar\">General Education / Core Requirements</a>\\t\\t\\t</div>\\n\\t\\t\\t\\t\\t\\t\\t<div class=\"n2_links\">&#160;&#160;<a href=\"/content.php?catoid=46&navoid=2550\" class=\"navbar\">Diversity, Equity and Inclusion Course Requirements</a>\\t\\t\\t</div>\\n\\t\\t\\t\\t\\t\\t\\t<div class=\"n2_links\">&#160;&#160;<a href=\"/content.php?catoid=46&navoid=2551\" class=\"navbar\">Writing Designated Course Requirements</a>\\t\\t\\t</div>\\n\\t\\t\\t\\t\\t\\t\\t<div class=\"n2_links\">&#160;&#160;<a href=\"/content.php?catoid=46&navoid=2483\" class=\"navbar\">Pre-Medical/Pre-Health Professional Pathway</a>\\t\\t\\t</div>\\n\\t\\t\\t<hr class=\"navbar\">\\t\\t\\t</div>\\n\\t\\t\\t\\t\\t\\t\\t<div class=\"n2_links\">&#160;&#160;<a href=\"/content.php?catoid=46&navoid=2564\" class=\"navbar\">Institute for Applied Behavioral Science</a>\\t\\t\\t</div>\\n\\t\\t\\t<hr class=\"navbar\">\\t\\t\\t</div>\\n\\t\\t\\t\\t\\t\\t\\t<div class=\"n2_links\">&#160;&#160;<a href=\"/content.php?catoid=46&navoid=2535\" class=\"navbar\">School of Business</a>\\t\\t\\t</div>\\n\\t\\t\\t<hr class=\"navbar\">\\t\\t\\t</div>\\n\\t\\t\\t\\t\\t\\t\\t<div class=\"n2_links\">&#160;&#160;<a href=\"/content.php?catoid=46&navoid=2515\" class=\"navbar\">Undergraduate Programs</a>\\t\\t\\t</div>\\n\\t\\t\\t\\t\\t\\t\\t<div class=\"n2_links\">&#160;&#160;<a href=\"/content.php?catoid=46&navoid=2516\" class=\"navbar\">Graduate Programs</a>\\t\\t\\t</div>\\n\\t\\t\\t\\t\\t\\t\\t<div class=\"n2_links\">&#160;&#160;<a href=\"/content.php?catoid=46&navoid=2534\" class=\"navbar\">Van Loan Division of Professional Studies</a>\\t\\t\\t</div>\\n\\t\\t\\t\\t\\t\\t\\t<div class=\"n2_links\">&#160;&#160;<a href=\"/content.php?catoid=46&navoid=2560\" class=\"navbar\">CIS Madrid Programs</a>\\t\\t\\t</div>\\n\\t\\t\\t<hr class=\"navbar\">\\t\\t\\t</div>\\n\\t\\t\\t\\t\\t\\t\\t<div class=\"n2_links\">&#160;&#160;<a href=\"/content.php?catoid=46&navoid=2536\" class=\"navbar\">School of Education</a>\\t\\t\\t</div>\\n\\t\\t\\t<hr class=\"navbar\">\\t\\t\\t</div>\\n\\t\\t\\t\\t\\t\\t\\t<div class=\"n2_links\">&#160;&#160;<a href=\"/content.php?catoid=46&navoid=2507\" class=\"navbar\">Undergraduate Programs</a>\\t\\t\\t</div>\\n\\t\\t\\t\\t\\t\\t\\t<div class=\"n2_links\">&#160;&#160;<a href=\"/content.php?catoid=46&navoid=2508\" class=\"navbar\">Graduate Programs</a>\\t\\t\\t</div>\\n\\t\\t\\t<hr class=\"navbar\">\\t\\t\\t</div>\\n\\t\\t\\t\\t\\t\\t\\t<div class=\"n2_links\">&#160;&#160;<a href=\"/content.php?catoid=46&navoid=2525\" class=\"navbar\">School of Nursing</a>\\t\\t\\t</div>\\n\\t\\t\\t<hr class=\"navbar\">\\t\\t\\t</div>\\n\\t\\t\\t\\t\\t\\t\\t<div class=\"n2_links\">&#160;&#160;<a href=\"/content.php?catoid=46&navoid=2509\" class=\"navbar\">Undergraduate Programs</a>\\t\\t\\t</div>\\n\\t\\t\\t\\t\\t\\t\\t<div class=\"n2_links\">&#160;&#160;<a href=\"/content.php?catoid=46&navoid=2510\" class=\"navbar\">Graduate Programs</a>\\t\\t\\t</div>\\n\\t\\t\\t\\t\\t\\t\\t<div class=\"n2_links\">&#160;&#160;<a href=\"/content.php?catoid=46&navoid=2556\" class=\"navbar\">Van Loan Division of Professional Studies</a>\\t\\t\\t</div>\\n\\t\\t\\t<hr class=\"navbar\">\\t\\t\\t</div>\\n\\t\\t\\t\\t\\t\\t\\t<div class=\"n2_links\">&#160;&#160;<a href=\"/content.php?catoid=46&navoid=2539\" class=\"navbar\">School of Science and Technology</a>\\t\\t\\t</div>\\n\\t\\t\\t<hr class=\"navbar\">\\t\\t\\t</div>\\n\\t\\t\\t\\t\\t\\t\\t<div class=\"n2_links\">&#160;&#160;<a href=\"/content.php?catoid=46&navoid=2517\" class=\"navbar\">Undergraduate Programs</a>\\t\\t\\t</div>\\n\\t\\t\\t\\t\\t\\t\\t<div class=\"n2_links\">&#160;&#160;<a href=\"/content.php?catoid=46&navoid=2563\" class=\"navbar\">Graduate Programs</a>\\t\\t\\t</div>\\n\\t\\t\\t<hr class=\"navbar\">\\t\\t\\t</div>\\n\\t\\t\\t\\t\\t\\t\\t<div class=\"n2_links\">&#160;&#160;<a href=\"/content.php?catoid=46&navoid=2540\" class=\"navbar\">School of Social Sciences, Communication, &amp; Humanities</a>\\t\\t\\t</div>\\n\\t\\t\\t<hr class=\"navbar\">\\t\\t\\t</div>\\n\\t\\t\\t\\t\\t\\t\\t<div class=\"n2_links\">&#160;&#160;<a href=\"/content.php?catoid=46&navoid=2518\" class=\"navbar\">Undergraduate Programs</a>\\t\\t\\t</div>\\n\\t\\t\\t\\t\\t\\t\\t<div class=\"n2_links\">&#160;&#160;<a href=\"/content.php?catoid=46&navoid=2519\" class=\"navbar\">Graduate Programs</a>\\t\\t\\t</div>\\n\\t\\t\\t\\t\\t\\t\\t<div class=\"n2_links\">&#160;&#160;<a href=\"/content.php?catoid=46&navoid=2533\" class=\"navbar\">Van Loan Division of Professional Studies</a>\\t\\t\\t</div>\\n\\t\\t\\t\\t\\t\\t\\t<div class=\"n2_links\">&#160;&#160;<a href=\"/content.php?catoid=46&navoid=2561\" class=\"navbar\">CIS Madrid Programs</a>\\t\\t\\t</div>\\n\\t\\t\\t<hr class=\"navbar\">\\t\\t\\t</div>\\n\\t\\t\\t\\t\\t\\t\\t<div class=\"n2_links\">&#160;&#160;<a href=\"/content.php?catoid=46&navoid=2541\" class=\"navbar\">School of Sport Science</a>\\t\\t\\t</div>\\n\\t\\t\\t<hr class=\"navbar\">\\t\\t\\t</div>\\n\\t\\t\\t\\t\\t\\t\\t<div class=\"n2_links\">&#160;&#160;<a href=\"/content.php?catoid=46&navoid=2513\" class=\"navbar\">Undergraduate Programs</a>\\t\\t\\t</div>\\n\\t\\t\\t\\t\\t\\t\\t<div class=\"n2_links\">&#160;&#160;<a href=\"/content.php?catoid=46&navoid=2514\" class=\"navbar\">Graduate Programs</a>\\t\\t\\t</div>\\n\\t\\t\\t<hr class=\"navbar\">\\t\\t\\t</div>\\n\\t\\t\\t\\t\\t\\t\\t<div class=\"n2_links\">&#160;&#160;<a href=\"/content.php?catoid=46&navoid=2542\" class=\"navbar\">School of Visual and Performing Arts</a>\\t\\t\\t</div>\\n\\t\\t\\t<hr class=\"navbar\">\\t\\t\\t</div>\\n\\t\\t\\t\\t\\t\\t\\t<div class=\"n2_links\">&#160;&#160;<a href=\"/content.php?catoid=46&navoid=2511\" class=\"navbar\">Undergraduate Programs</a>\\t\\t\\t</div>\\n\\t\\t\\t\\t\\t\\t\\t<div class=\"n2_links\">&#160;&#160;<a href=\"/content.php?catoid=46&navoid=2512\" class=\"navbar\">Graduate Programs</a>\\t\\t\\t</div>\\n\\t\\t\\t<hr class=\"navbar\">\\t\\t\\t</div>\\n\\t\\t\\t\\t\\t\\t\\t<div class=\"n2_links\">&#160;&#160;<a href=\"/content.php?catoid=46&navoid=2566\" class=\"navbar\">Microcredentials</a>\\t\\t\\t</div>\\n\\t\\t\\t<hr class=\"navbar\">\\t\\t\\t</div>\\n\\t\\t\\t\\t\\t\\t\\t<div class=\"n2_links\">&#160;&#160;<a href=\"/content.php?catoid=46&navoid=2701\" class=\"navbar\">Minors</a>\\t\\t\\t</div>\\n\\t\\t\\t<hr class=\"navbar\">\\t\\t\\t</div>\\n\\t\\t\\t<br>\\t\\t\\t</div>\\n\\t\\t\\t\\t\\t\\t\\t<div class=\"n2_links\">&#160;&#160;<a href=\"/content.php?catoid=46&navoid=2581\" class=\"navbar\">Course Descriptions</a>\\t\\t\\t</div>\\n\\t\\t\\t\\t\\t\\t\\t<div class=\"n2_links\">&#160;&#160;<a href=\"/content.php?catoid=46&navoid=2582\" class=\"navbar\">Course Listings By Department</a>\\t\\t\\t</div>\\n\\t\\t\\t<hr class=\"navbar\">\\t\\t\\t</div>\\n\\t\\t\\t<br>\\t\\t\\t</div>\\n\\t\\t\\t\\t\\t\\t\\t<div class=\"n2_links\">&#160;&#160;<a href=\"/content.php?catoid=46&navoid=2583\" class=\"navbar\">Directories</a>\\t\\t\\t</div>\\n\\t\\t\\t\\t\\t\\t\\t<div class=\"n2_links\">&#160;&#160;<a href=\"/content.php?catoid=46&navoid=2481\" class=\"navbar\">Archived Catalogs</a>\\t\\t\\t</div>\\n\\t\\t\\t<hr class=\"navbar\">\\t\\t\\t</div>\\n\\t\\t\\t\\t\\t\\t\\t<div class=\"n2_links\">&#160;&#160;<a href=\"/content.php?catoid=46&navoid=2552\" class=\"navbar\">Appendix A: Academic Calendars</a>\\t\\t\\t</div>\\n\\t\\t\\t\\t\\t\\t\\t<div class=\"n2_links\">&#160;&#160;<a href=\"/content.php?catoid=46&navoid=2553\" class=\"navbar\">Appendix B: Tuition and Fees</a>\\t\\t\\t</div>\\n\\t\\t\\t\\t\\t\\t\\t<div class=\"n2_links\">&#160;&#160;<a href=\"/content.php?catoid=46&navoid=2554\" class=\"navbar\">Appendix C: Endicott College Student Code of Conduct</a>\\t\\t\\t</div>\\n\\t\\t\\t\\t\\t\\t\\t<div class=\"n2_links\">&#160;&#160;<a href=\"/content.php?catoid=46&navoid=2555\" class=\"navbar\">Appendix D: Endicott College Sex Discrimination, Sexual Misconduct and Relationship Violence Policy and Procedures for Resolving Complaints against Students</a>\\t\\t\\t</div>\\n\\t\\t\\t\\t\\t\\t\\t<div class=\"n2_links\">&#160;&#160;<a href=\"/mime/media/view/46/2568/BCBA+logo.jpg\" aria-label=\"Download PDF of Catalog User Guide\" onclick=\"acalogPopup(\\'/mime/media/view/46/2568/BCBA+logo.jpg\\', \\'media_file\\', 770, 530, \\'yes\\');return false;\" target=\"false\" class=\"navbar\">BCBA logo</a>\\t\\t\\t</div>\\n\\t\\t\\t\\t\\t\\t</td>\\n\\t\\t  </tr>\\n\\t\\t</table>\\n\\t  </td>\\n\\t</tr>\\n\\t<tr>\\n\\t  <td>\\n\\t\\t<hr class=\"navbar\">\\n\\t  </td>\\n\\t</tr>\\n  </table>\\n\\t\\t</td>\\n<!-- End of N2 -->\\n\\t\\t\\t\\t\\t\\t\\t\\t<td class=\"block_content_outer\">\\n\\t\\t\\t\\t\\t\\t\\t\\t<table class=\"table_default\">\\n\\t\\t\\t\\t\\t\\t\\t\\t\\t<tr>\\n\\t\\t\\t\\t\\t\\t\\t\\t\\t\\t<td class=\"block_content\" colspan=\"2\">\\n\\t<table class=\"table_default\">\\n\\t<tr>\\n\\t\\t<td colspan=\"4\">\\n\\t\\t\\t<table class=\"table_default\">\\n\\t\\t\\t\\t<tr>\\n\\t\\t\\t\\t\\t<td>\\n\\t\\t\\t\\t\\t\\t<div class=\"help_block\" class=\"float_right\"><a href=\"help.php\" onclick=\"acalogPopup(\\'help.php\\', \\'help\\', 770, 530, \\'yes\\');return false;\" class=\"help acalog-highlight-ignore\" target=\"_blank\"><strong>HELP</strong></a></div>\\n\\t<span class=\"acalog_catalog_name\">2024-2025 Endicott College Academic Catalog</span>\\t\\t\\t\\t\\t\\t\\t\\t\\t\\t\\t\\t\\t\\t\\t\\t\\t<br>\\n\\t    <h1 id=\"acalog-content\">Computer Science Major (Bachelor of Science)</h1>\\n\\t\\t\\t\\t<div style=\"float: right\"><a rel=\"nofollow\" href=\"/preview_program.php?catoid=46&amp;poid=5251&amp;_gl=1%2Aa852yh%2A_gcl_au%2AMTg5OTU2Mzk5Ny4xNzM5Mjg5ODEy&amp;print\" onclick=\"acalogPopup(\\'/preview_program.php?catoid=46&amp;poid=5251&amp;_gl=1%2Aa852yh%2A_gcl_au%2AMTg5OTU2Mzk5Ny4xNzM5Mjg5ODEy&amp;print\\', \\'print_preview\\', 770, 530, \\'yes\\');return false;\" target=\"_blank\"  class=\"print_link acalog-highlight-ignore\" alt=\"Text Version\" title=\"Print-Friendly Page (opens a new window)\"><span class=\"sr-only\">Print-Friendly Page (opens a new window)</span></a></div><div class=\\'acalog-social-media-links float_right\\'>\\n\\t\\t\\t<div class=\"gateway-toolbar-facebook\">\\n\\t\\t\\t\\t<a href=\"http://www.facebook.com/sharer/sharer.php?u=http%3A%2F%2Fcatalog.endicott.edu%2Fpreview_program.php%3Fcatoid%3D46%26poid%3D5251&t=I just discovered \\'Computer Science Major (Bachelor of Science)\\' at Endicott College\" target=\"_blank\" title=\"Facebook this Page (opens a new window)\">\\n\\t\\t\\t\\t\\t<span class=\"sr-only\">Facebook this Page (opens a new window)</span>\\n\\t\\t\\t\\t</a> \\n\\t\\t\\t</div> \\n\\t\\t\\t<div class=\"gateway-toolbar-twitter\">\\n\\t\\t\\t\\t<a href=\"http://twitter.com/intent/tweet?u=u=http%3A%2F%2Fcatalog.endicott.edu%2Fpreview_program.php%3Fcatoid%3D46%26poid%3D5251&t=Check out this program at Endicott College\" target=\"_blank\" title=\"Tweet this Page (opens a new window)\">\\n\\t\\t\\t\\t\\t<span class=\"sr-only\">Tweet this Page (opens a new window)</span>\\n\\t\\t\\t\\t</a>\\n\\t\\t\\t</div></div>\\t\\t\\t\\t\\t\\t\\t\\t\\t\\t\\t\\t\\t\\t\\t\\t</td>\\n\\t\\t\\t\\t\\t\\t\\t\\t\\t\\t\\t\\t\\t\\t\\t</tr>\\n\\t\\t\\t\\t\\t\\t\\t\\t\\t\\t\\t\\t\\t\\t\\t<tr>\\n\\t\\t\\t\\t\\t\\t\\t\\t\\t\\t\\t\\t\\t\\t\\t\\t<td>\\n\\t\\t\\t\\t\\t\\t\\t\\t\\t\\t\\t\\t\\t\\t\\t\\t\\t<hr>\\n\\t\\t\\t\\t\\t\\t\\t\\t\\t\\t\\t\\t\\t\\t\\t\\t</td>\\n\\t\\t\\t\\t\\t\\t\\t\\t\\t\\t\\t\\t\\t\\t\\t</tr>\\n\\t\\t\\t\\t\\t\\t\\t\\t\\t\\t\\t\\t\\t\\t</table>\\n\\t\\t\\n\\t\\t\\t<div class=\"program_description \">\\n\\t\\t\\t\\t\\t\\t\\t</div>\\n\\n\\t\\t\\t\\t\\t\\t\\t\\t\\t\\t\\t\\t\\t\\t\\t\\t</td>\\n\\t\\t\\t\\t\\t\\t\\t\\t\\t\\t\\t\\t</tr>\\n\\t\\t\\t\\t\\t\\t\\t\\t\\t\\t\\t\\t<tr>\\n\\t\\t\\t\\t\\t\\t\\t\\t\\t\\t\\t\\t\\t<td colspan=\"4\" class=\"width\">\\n\\t\\t<div class=\"custom_leftpad_20\"><div class=\"acalog-core\"><h2><a name=\"CurriculumRequirementsMinimumCreditsRequired127\"></a><a name=\"curriculumrequirementsminimumcreditsrequired127\" id=\"core_27951\"></a>Curriculum Requirements - Minimum Credits Required: 127</h2><hr></div><div class=\"custom_leftpad_20\"><div class=\"acalog-core\"><h3><a name=\"FirstYearCredits34\"></a><a name=\"firstyearcredits34\" id=\"core_27952\"></a>First Year - Credits: 34</h3><hr><ul> <li>Individual and Society General Education Requirement (Cr. 3)</li> <li>Quantitative Reasoning General Education Requirement (Cr. 3)</li> <li>World Cultures General Education Requirement (Cr. 3)</li> <li>Free Elective (Cr. 3)</li> </ul><ul><li class=\"acalog-course\"><span><a href=\"#\" aria-expanded=\"false\" onClick=\"showCourse(\\'46\\', \\'54124\\',this, \\'a:2:{s:8:~location~;s:7:~program~;s:4:~core~;s:5:~27952~;}\\'); return false;\">CSC 101\\xc2\\xa0-\\xc2\\xa0Introduction to Computer Science</a> (Cr: 3)</span></li><li class=\"acalog-course\"><span><a href=\"#\" aria-expanded=\"false\" onClick=\"showCourse(\\'46\\', \\'54129\\',this, \\'a:2:{s:8:~location~;s:7:~program~;s:4:~core~;s:5:~27952~;}\\'); return false;\">CSC 102\\xc2\\xa0-\\xc2\\xa0Website Development and Programming</a> (Cr: 3)</span></li><li class=\"acalog-course\"><span><a href=\"#\" aria-expanded=\"false\" onClick=\"showCourse(\\'46\\', \\'54126\\',this, \\'a:2:{s:8:~location~;s:7:~program~;s:4:~core~;s:5:~27952~;}\\'); return false;\">CSC 160/160L\\xc2\\xa0-\\xc2\\xa0Introduction to Programming and Lab</a> (Cr: 4)</span></li><li class=\"acalog-course\"><span><a href=\"#\" aria-expanded=\"false\" onClick=\"showCourse(\\'46\\', \\'54127\\',this, \\'a:2:{s:8:~location~;s:7:~program~;s:4:~core~;s:5:~27952~;}\\'); return false;\">CSC 161/161L\\xc2\\xa0-\\xc2\\xa0Data Structures and Algorithms</a> (Cr: 4)</span></li><li class=\"acalog-course\"><span><a href=\"#\" aria-expanded=\"false\" onClick=\"showCourse(\\'46\\', \\'54885\\',this, \\'a:2:{s:8:~location~;s:7:~program~;s:4:~core~;s:5:~27952~;}\\'); return false;\">ENG 111\\xc2\\xa0-\\xc2\\xa0Critical Reading and Writing I</a> (Cr: 3)</span></li><li class=\"acalog-adhoc acalog-adhoc-after\" style=\"list-style: none;\"><p><em>Satisfies the Writing Designated Core requirement.</em></p></li><li class=\"acalog-course\"><span><a href=\"#\" aria-expanded=\"false\" onClick=\"showCourse(\\'46\\', \\'54886\\',this, \\'a:2:{s:8:~location~;s:7:~program~;s:4:~core~;s:5:~27952~;}\\'); return false;\">ENG 112\\xc2\\xa0-\\xc2\\xa0Critical Reading and Writing II</a> (Cr: 3)</span></li><li class=\"acalog-adhoc acalog-adhoc-after\" style=\"list-style: none;\"><p><em>Satisfies the Writing Designated Core requirement.</em></p></li><li class=\"acalog-course\"><span><a href=\"#\" aria-expanded=\"false\" onClick=\"showCourse(\\'46\\', \\'54395\\',this, \\'a:2:{s:8:~location~;s:7:~program~;s:4:~core~;s:5:~27952~;}\\'); return false;\">INT 100\\xc2\\xa0-\\xc2\\xa0Internship I</a> (Cr: 2)</span></li></ul></div><div class=\"acalog-core\"><h3><a name=\"SophomoreCredits32\"></a><a name=\"sophomorecredits32\" id=\"core_27953\"></a>Sophomore - Credits: 32</h3><hr><ul> <li>Aesthetic Awareness and Creative Expression General Education Requirement \\xc2\\xa0 (Cr: 3)</li> <li>Global Issues General Education Elective (Cr. 3)</li> <li>Elective (Cr: 3)</li> <li>Computer Science Elective (Cr: 6)</li> </ul><ul><li class=\"acalog-course\"><span><a href=\"#\" aria-expanded=\"false\" onClick=\"showCourse(\\'46\\', \\'54139\\',this, \\'a:2:{s:8:~location~;s:7:~program~;s:4:~core~;s:5:~27953~;}\\'); return false;\">CSC 251\\xc2\\xa0-\\xc2\\xa0Network Fundamentals</a> (Cr: 3)</span></li><li class=\"acalog-course\"><span><a href=\"#\" aria-expanded=\"false\" onClick=\"showCourse(\\'46\\', \\'54130\\',this, \\'a:2:{s:8:~location~;s:7:~program~;s:4:~core~;s:5:~27953~;}\\'); return false;\">CSC 260\\xc2\\xa0-\\xc2\\xa0Visual Programming I</a> (Cr: 3)</span></li><li class=\"acalog-course\"><span><a href=\"#\" aria-expanded=\"false\" onClick=\"showCourse(\\'46\\', \\'54131\\',this, \\'a:2:{s:8:~location~;s:7:~program~;s:4:~core~;s:5:~27953~;}\\'); return false;\">CSC 261\\xc2\\xa0-\\xc2\\xa0Visual Programming II and Object-Oriented Design</a> (Cr: 3)</span></li><li class=\"acalog-course\"><span><a href=\"#\" aria-expanded=\"false\" onClick=\"showCourse(\\'46\\', \\'54467\\',this, \\'a:2:{s:8:~location~;s:7:~program~;s:4:~core~;s:5:~27953~;}\\'); return false;\">CSC 265\\xc2\\xa0-\\xc2\\xa0Discrete Structures</a> (Cr: 3)</span></li><li class=\"acalog-course\"><span><a href=\"#\" aria-expanded=\"false\" onClick=\"showCourse(\\'46\\', \\'54128\\',this, \\'a:2:{s:8:~location~;s:7:~program~;s:4:~core~;s:5:~27953~;}\\'); return false;\">CSC 280\\xc2\\xa0-\\xc2\\xa0Computer Architecture</a> (Cr: 3)</span></li><li class=\"acalog-course\"><span><a href=\"#\" aria-expanded=\"false\" onClick=\"showCourse(\\'46\\', \\'54397\\',this, \\'a:2:{s:8:~location~;s:7:~program~;s:4:~core~;s:5:~27953~;}\\'); return false;\">INT 200\\xc2\\xa0-\\xc2\\xa0Internship II</a> (Cr: 2)</span></li></ul></div><div class=\"acalog-core\"><h3><a name=\"JuniorCredits31\"></a><a name=\"juniorcredits31\" id=\"core_27954\"></a>Junior - Credits: 31</h3><hr><ul> <li>Values and Ethical Reasoning General Education Requirement\\xc2\\xa0(Cr: 3)</li> <li>Computer Science Electives\\xc2\\xa0(Cr: 9)</li> <li>Elective (Cr. 3)</li> <li>General Education Electives\\xc2\\xa0(Cr: 6)</li> </ul><ul><li class=\"acalog-course\"><span><a href=\"#\" aria-expanded=\"false\" onClick=\"showCourse(\\'46\\', \\'54984\\',this, \\'a:2:{s:8:~location~;s:7:~program~;s:4:~core~;s:5:~27954~;}\\'); return false;\">CSC 355\\xc2\\xa0-\\xc2\\xa0Algorithm Design and Analysis</a> (Cr: 3)</span></li><li class=\"acalog-course\"><span><a href=\"#\" aria-expanded=\"false\" onClick=\"showCourse(\\'46\\', \\'54132\\',this, \\'a:2:{s:8:~location~;s:7:~program~;s:4:~core~;s:5:~27954~;}\\'); return false;\">CSC 360\\xc2\\xa0-\\xc2\\xa0Software Engineering</a> (Cr: 3)</span></li><li class=\"acalog-course\"><span><a href=\"#\" aria-expanded=\"false\" onClick=\"showCourse(\\'46\\', \\'54821\\',this, \\'a:2:{s:8:~location~;s:7:~program~;s:4:~core~;s:5:~27954~;}\\'); return false;\">CSC 379\\xc2\\xa0-\\xc2\\xa0Semester Internship Strategies</a> (Cr: 1)</span></li><li class=\"acalog-course\"><span><a href=\"#\" aria-expanded=\"false\" onClick=\"showCourse(\\'46\\', \\'54141\\',this, \\'a:2:{s:8:~location~;s:7:~program~;s:4:~core~;s:5:~27954~;}\\'); return false;\">CSC 380\\xc2\\xa0-\\xc2\\xa0Operating Systems</a> (Cr: 3)</span></li></ul></div><div class=\"acalog-core\"><h3><a name=\"SeniorCredits30\"></a><a name=\"seniorcredits30\" id=\"core_27955\"></a>Senior - Credits: 30</h3><hr><ul> <li>Literary Perspectives General Education Requirement (Cr. 3)</li> <li>Computer Science Elective (Cr: 3)</li> <li>General Education Elective\\xc2\\xa0(Cr: 6)<br> (must be above the 100 level)</li> </ul><ul><li class=\"acalog-course\"><span><a href=\"#\" aria-expanded=\"false\" onClick=\"showCourse(\\'46\\', \\'54146\\',this, \\'a:2:{s:8:~location~;s:7:~program~;s:4:~core~;s:5:~27955~;}\\'); return false;\">CSC 480\\xc2\\xa0-\\xc2\\xa0Semester Internship</a> (Cr: 12)</span></li><li class=\"acalog-course\"><span><a href=\"#\" aria-expanded=\"false\" onClick=\"showCourse(\\'46\\', \\'54147\\',this, \\'a:2:{s:8:~location~;s:7:~program~;s:4:~core~;s:5:~27955~;}\\'); return false;\">CSC 489\\xc2\\xa0-\\xc2\\xa0Senior Research</a> (Cr: 3)</span></li><li class=\"acalog-course\"><span><a href=\"#\" aria-expanded=\"false\" onClick=\"showCourse(\\'46\\', \\'55891\\',this, \\'a:2:{s:8:~location~;s:7:~program~;s:4:~core~;s:5:~27955~;}\\'); return false;\">CSC 491\\xc2\\xa0-\\xc2\\xa0Senior Capstone</a> (Cr: 3)</span></li></ul></div><div class=\"acalog-core\"><h3><a name=\"ComputerScienceElectives\"></a><a name=\"computerscienceelectives\" id=\"core_28958\"></a>Computer Science Electives</h3><hr><p><em>Students may take any <strong>six</strong> additional 200+ level CSC courses including those listed below with the CSC prefix. Recommened courses in specific areas are listed below.</em></p></div><div class=\"custom_leftpad_20\"><div class=\"acalog-core\"><h4><a name=\"BigDataAndDataEngineering\"></a><a name=\"bigdataanddataengineering\" id=\"core_29167\"></a>Big Data and Data Engineering</h4><hr><ul><li class=\"acalog-course\"><span><a href=\"#\" aria-expanded=\"false\" onClick=\"showCourse(\\'46\\', \\'54138\\',this, \\'a:2:{s:8:~location~;s:7:~program~;s:4:~core~;s:5:~29167~;}\\'); return false;\">CSC 340\\xc2\\xa0-\\xc2\\xa0Database Management</a> (Cr: 3)</span></li><li class=\"acalog-course\"><span><a href=\"#\" aria-expanded=\"false\" onClick=\"showCourse(\\'46\\', \\'54884\\',this, \\'a:2:{s:8:~location~;s:7:~program~;s:4:~core~;s:5:~29167~;}\\'); return false;\">CSC 440\\xc2\\xa0-\\xc2\\xa0Data Mining and Visualization</a> (Cr: 3)</span></li><li class=\"acalog-course\"><span><a href=\"#\" aria-expanded=\"false\" onClick=\"showCourse(\\'46\\', \\'54874\\',this, \\'a:2:{s:8:~location~;s:7:~program~;s:4:~core~;s:5:~29167~;}\\'); return false;\">CSC 460\\xc2\\xa0-\\xc2\\xa0Introduction to Artificial Intelligence and Machine Learning</a> (Cr: 3)</span></li></ul></div><div class=\"acalog-core\"><h4><a name=\"GamesMobileAndWeb\"></a><a name=\"gamesmobileandweb\" id=\"core_29165\"></a>Games, Mobile, and Web</h4><hr><ul><li class=\"acalog-course\"><span><a href=\"#\" aria-expanded=\"false\" onClick=\"showCourse(\\'46\\', \\'54125\\',this, \\'a:2:{s:8:~location~;s:7:~program~;s:4:~core~;s:5:~29165~;}\\'); return false;\">CSC 255\\xc2\\xa0-\\xc2\\xa0Programming for Games and Interactive Technologies</a> (Cr: 3)</span></li><li class=\"acalog-course\"><span><a href=\"#\" aria-expanded=\"false\" onClick=\"showCourse(\\'46\\', \\'54143\\',this, \\'a:2:{s:8:~location~;s:7:~program~;s:4:~core~;s:5:~29165~;}\\'); return false;\">CSC 302\\xc2\\xa0-\\xc2\\xa0Web Programming II - Interactive Web Applications</a> (Cr: 3)</span></li><li class=\"acalog-course\"><span><a href=\"#\" aria-expanded=\"false\" onClick=\"showCourse(\\'46\\', \\'54137\\',this, \\'a:2:{s:8:~location~;s:7:~program~;s:4:~core~;s:5:~29165~;}\\'); return false;\">CSC 335\\xc2\\xa0-\\xc2\\xa0Mobile Application Programming and Design</a> (Cr: 3)</span></li></ul></div><div class=\"acalog-core\"><h4><a name=\"NetworkingAndSecurity\"></a><a name=\"networkingandsecurity\" id=\"core_29164\"></a>Networking and Security</h4><hr><ul><li class=\"acalog-course\"><span><a href=\"#\" aria-expanded=\"false\" onClick=\"showCourse(\\'46\\', \\'54142\\',this, \\'a:2:{s:8:~location~;s:7:~program~;s:4:~core~;s:5:~29164~;}\\'); return false;\">CSC 230\\xc2\\xa0-\\xc2\\xa0Cyber Threats and Security</a> (Cr: 3)</span></li><li class=\"acalog-course\"><span><a href=\"#\" aria-expanded=\"false\" onClick=\"showCourse(\\'46\\', \\'54138\\',this, \\'a:2:{s:8:~location~;s:7:~program~;s:4:~core~;s:5:~29164~;}\\'); return false;\">CSC 340\\xc2\\xa0-\\xc2\\xa0Database Management</a> (Cr: 3)</span></li><li class=\"acalog-course\"><span><a href=\"#\" aria-expanded=\"false\" onClick=\"showCourse(\\'46\\', \\'54145\\',this, \\'a:2:{s:8:~location~;s:7:~program~;s:4:~core~;s:5:~29164~;}\\'); return false;\">CSC 351\\xc2\\xa0-\\xc2\\xa0Advanced Networks and Security</a> (Cr: 3)</span></li><li class=\"acalog-course\"><span><a href=\"#\" aria-expanded=\"false\" onClick=\"showCourse(\\'46\\', \\'55398\\',this, \\'a:2:{s:8:~location~;s:7:~program~;s:4:~core~;s:5:~29164~;}\\'); return false;\">HLS 555\\xc2\\xa0-\\xc2\\xa0Cybersecurity for the Homeland Security Professional</a> (Cr: 3)</span></li><li class=\"acalog-course\"><span><a href=\"#\" aria-expanded=\"false\" onClick=\"showCourse(\\'46\\', \\'55406\\',this, \\'a:2:{s:8:~location~;s:7:~program~;s:4:~core~;s:5:~29164~;}\\'); return false;\">HLS 610\\xc2\\xa0-\\xc2\\xa0Cybersecurity Analyst</a> (Cr: 3</span></li><li class=\"acalog-course\"><span><a href=\"#\" aria-expanded=\"false\" onClick=\"showCourse(\\'46\\', \\'55407\\',this, \\'a:2:{s:8:~location~;s:7:~program~;s:4:~core~;s:5:~29164~;}\\'); return false;\">HLS 611\\xc2\\xa0-\\xc2\\xa0Information System Hardware and Networking</a> (Cr: 3</span></li></ul></div><div class=\"acalog-core\"><h4><a name=\"RoboticsAndPhysicalComputing\"></a><a name=\"roboticsandphysicalcomputing\" id=\"core_29166\"></a>Robotics and Physical Computing</h4><hr><ul><li class=\"acalog-course\"><span><a href=\"#\" aria-expanded=\"false\" onClick=\"showCourse(\\'46\\', \\'54871\\',this, \\'a:2:{s:8:~location~;s:7:~program~;s:4:~core~;s:5:~29166~;}\\'); return false;\">CSC 285\\xc2\\xa0-\\xc2\\xa0Introduction to Applied Robotics</a> (Cr: 3)</span></li><li class=\"acalog-course\"><span><a href=\"#\" aria-expanded=\"false\" onClick=\"showCourse(\\'46\\', \\'54873\\',this, \\'a:2:{s:8:~location~;s:7:~program~;s:4:~core~;s:5:~29166~;}\\'); return false;\">CSC 385\\xc2\\xa0-\\xc2\\xa0Sensor Networks and Physical Computing</a> (Cr: 3)</span></li><li class=\"acalog-course\"><span><a href=\"#\" aria-expanded=\"false\" onClick=\"showCourse(\\'46\\', \\'54874\\',this, \\'a:2:{s:8:~location~;s:7:~program~;s:4:~core~;s:5:~29166~;}\\'); return false;\">CSC 460\\xc2\\xa0-\\xc2\\xa0Introduction to Artificial Intelligence and Machine Learning</a> (Cr: 3)</span></li></ul></div></div><div class=\"acalog-core\"><h3><a name=\"LearningOutcomes\"></a><a name=\"learningoutcomes\" id=\"core_28431\"></a>Learning Outcomes</h3><hr><p>Upon completion of the computer science program, students will:</p> <ul> <li> <div>Analyze a complex computing problem and to apply principles of computing and other relevant disciplines to identify requirements for valid solutions.</div> </li> <li> <div>Implement a computing-based solution that meets a given set of computing requirements.</div> </li> <li> <div>Evaluate and assess the correctness of a given solution.</div> </li> <li> <div>Apply computer science theory and software development fundamentals to recognize trade-offs and produce computing-based solutions that have been optimized to satisfy performance or design criteria.</div> </li> <li> <div>Communicate effectively in a variety of professional contexts.</div> </li> <li> <div>Recognize and engage in professional methods, standards, and practices related to project planning and management.</div> </li> <li> <div>Make informed judgments in computing practice based on inclusive, ethical, and legal principles.</div> </li> <li> <div>Function effectively as a member or leader of a team engaged in activities appropriate to the program&#8217;s discipline.</div> </li> </ul></div></div></div>\\t\\t\\t\\t\\t\\t\\t\\t\\t\\t\\t\\t\\t</td>\\n\\t\\t\\t\\t\\t\\t\\t\\t\\t\\t\\t\\t</tr>\\n\\t\\t\\t\\t\\t\\t\\t\\t\\t\\t\\t</table>\\n\\t<br><hr><div style=\"float: right\">&#160;<a href=\"javascript:void(0);\" class=\"acalog_top_link acalog-highlight-ignore\">Back to Top</a> | <a rel=\"nofollow\" href=\"/preview_program.php?catoid=46&amp;poid=5251&amp;print\" onclick=\"acalogPopup(\\'/preview_program.php?catoid=46&amp;poid=5251&amp;print\\', \\'print_preview\\', 770, 530, \\'yes\\');return false;\" target=\"_blank\"  class=\"print_link acalog-highlight-ignore\" alt=\"Text Version\" title=\"Print-Friendly Page (opens a new window)\"><span class=\"sr-only\">Print-Friendly Page (opens a new window)</span></a></div><div class=\\'acalog-social-media-links float_right\\'>\\n\\t\\t\\t<div class=\"gateway-toolbar-facebook\">\\n\\t\\t\\t\\t<a href=\"http://www.facebook.com/sharer/sharer.php?u=http%3A%2F%2Fcatalog.endicott.edu%2Fpreview_program.php%3Fcatoid%3D46%26poid%3D5251&t=I just discovered \\'Computer Science Major (Bachelor of Science)\\' at Endicott College\" target=\"_blank\" title=\"Facebook this Page (opens a new window)\">\\n\\t\\t\\t\\t\\t<span class=\"sr-only\">Facebook this Page (opens a new window)</span>\\n\\t\\t\\t\\t</a> \\n\\t\\t\\t</div> \\n\\t\\t\\t<div class=\"gateway-toolbar-twitter\">\\n\\t\\t\\t\\t<a href=\"http://twitter.com/intent/tweet?u=u=http%3A%2F%2Fcatalog.endicott.edu%2Fpreview_program.php%3Fcatoid%3D46%26poid%3D5251&t=Check out this program at Endicott College\" target=\"_blank\" title=\"Tweet this Page (opens a new window)\">\\n\\t\\t\\t\\t\\t<span class=\"sr-only\">Tweet this Page (opens a new window)</span>\\n\\t\\t\\t\\t</a>\\n\\t\\t\\t</div></div>\\t\\t\\t\\t\\t\\t\\t\\t\\t\\t</td>\\n\\t\\t\\t\\t\\t\\t\\t\\t\\t</tr>\\n\\t\\t\\t\\t\\t\\t\\t\\t</table>\\n\\t\\t\\t\\t\\t\\t\\t</td>\\n\\t\\t\\t\\t\\t\\t\\t</tr>\\n\\t\\t\\t\\t\\t</table>\\n\\t\\t\\t\\t</td>\\n\\t\\t\\t\\t</tr>\\n\\t\\t\\t<tr role=\"contentinfo\" aria-label=\"Footer with copyright and information links\">\\n\\t\\t\\t\\t\\t<td class=\"block_footer_lb\">&#160;&#160;&#160;</td>\\n\\t\\t\\t\\t<td class=\"block_footer_rb\">\\n<div class=\"nobr\">All <a href=\"/misc/catalog_list.php?catoid=46\" class=\"footer\" >catalogs</a> &#169; 2025 Endicott College.</div> <div class=\"nobr\">Powered by <a href=\"http://www.moderncampus.com\" target=\"_blank\" class=\"footer\">Modern Campus Catalog\\xe2\\x84\\xa2</a>.</div>\\n</td>\\n\\t\\t\\t\\t</tr>\\n\\t\\t</table>\\n<!-- \\t\\t<script src=\"js/smlinks.js\" type=\"text/javascript\"></script>\\n -->\\n\\t<script src=\"https://cdnjs.cloudflare.com/ajax/libs/select2/4.0.12/js/select2.full.min.js\"></script>\\n \\t</body>\\n</html>\\n'"
      ]
     },
     "execution_count": 4,
     "metadata": {},
     "output_type": "execute_result"
    }
   ],
   "source": [
    "response.content"
   ]
  },
  {
   "cell_type": "markdown",
   "metadata": {
    "cell_id": "b02f48b8a56f4dc79f5c86d36c9dc17f"
   },
   "source": [
    "Let's look at the headers:"
   ]
  },
  {
   "cell_type": "code",
   "execution_count": 5,
   "metadata": {
    "cell_id": "15634197d1b645ff9fa7a98fb3c50e91",
    "execution_millis": 20,
    "execution_start": 1676038236287,
    "source_hash": "e36bd1"
   },
   "outputs": [
    {
     "data": {
      "text/plain": [
       "{'Date': 'Wed, 12 Feb 2025 14:32:52 GMT', 'Content-Type': 'text/html; charset=UTF-8', 'Content-Length': '11367', 'Connection': 'keep-alive', 'Set-Cookie': 'AWSALB=IOs0B907MELvKaWgsj+DTtrhzVcZFo3diBGeo1ftQMo9GNuKcFJxkOXmVxG70QCcxPBBf1b0vnDIBkkCrkgRbpUo9EJEgg5RPwps7XqEOVB88G+2/+/7G6ClCfkH; Expires=Wed, 19 Feb 2025 14:32:52 GMT; Path=/; secure, AWSALBCORS=IOs0B907MELvKaWgsj+DTtrhzVcZFo3diBGeo1ftQMo9GNuKcFJxkOXmVxG70QCcxPBBf1b0vnDIBkkCrkgRbpUo9EJEgg5RPwps7XqEOVB88G+2/+/7G6ClCfkH; Expires=Wed, 19 Feb 2025 14:32:52 GMT; Path=/; secure; SameSite=None, acalog_theme=1; expires=Tue, 15-Jun-3024 14:33:52 GMT; Max-Age=31536000060; path=/; secure, PHPSESSID=659277948b9eea5f8b2c206fe4d8dc06; path=/; secure, PHPSESSID=659277948b9eea5f8b2c206fe4d8dc06; path=/; secure; HttpOnly, ADRUM_BT=R%3A0%7Cg%3A51479b13-1423-42e2-9d67-708bcc133f3e1857%7Cn%3Adigarc_881d5e4b-64f1-425e-8ceb-5e44d2b69b37%7Cd%3A98; expires=Wed, 12-Feb-2025 14:33:22 GMT; Max-Age=30; path=/; secure', 'Expires': 'Thu, 19 Nov 1981 08:52:00 GMT', 'Cache-Control': 'no-cache, must-revalidate', 'Pragma': 'no-cache', 'X-Cache-Hit': '1', 'Last-Modified': 'Tue, 11 Feb 2025 16:05:08 GMT', 'Vary': 'Accept-Encoding', 'Content-Encoding': 'gzip', 'X-Frame-Options': 'SAMEORIGIN', 'X-Content-Type-Options': 'nosniff', 'Server': 'director', 'Strict-Transport-Security': 'max-age=31536000; includeSubDomains'}"
      ]
     },
     "execution_count": 5,
     "metadata": {},
     "output_type": "execute_result"
    }
   ],
   "source": [
    "# import json\n",
    "# json.dumps(response.headers, indent=2)\n",
    "response.headers"
   ]
  },
  {
   "cell_type": "code",
   "execution_count": 6,
   "metadata": {
    "cell_id": "9fd30f7aa7e2473ab66baf6e645ad2fa",
    "execution_millis": 3,
    "execution_start": 1676038236309,
    "source_hash": "77949d45"
   },
   "outputs": [
    {
     "data": {
      "text/plain": [
       "200"
      ]
     },
     "execution_count": 6,
     "metadata": {},
     "output_type": "execute_result"
    }
   ],
   "source": [
    "response.status_code"
   ]
  },
  {
   "cell_type": "code",
   "execution_count": 7,
   "metadata": {
    "cell_id": "5a129345d9104971a20c8fd4af4dcd9b",
    "execution_millis": 3,
    "execution_start": 1676038236327,
    "source_hash": "69f763fd"
   },
   "outputs": [
    {
     "data": {
      "text/plain": [
       "'OK'"
      ]
     },
     "execution_count": 7,
     "metadata": {},
     "output_type": "execute_result"
    }
   ],
   "source": [
    "response.reason"
   ]
  },
  {
   "cell_type": "markdown",
   "metadata": {
    "cell_id": "25c7ed18327b4df790cfcef68f12ee69"
   },
   "source": [
    "If we don't want to manually check, e.g., `response.status_code == 200`, we can use the built in constants from `requests.codes`:"
   ]
  },
  {
   "cell_type": "code",
   "execution_count": 8,
   "metadata": {
    "cell_id": "fdf134336c724f60a87036dde408f79d",
    "execution_millis": 2,
    "execution_start": 1676038236328,
    "source_hash": "6fb57a77"
   },
   "outputs": [
    {
     "name": "stdout",
     "output_type": "stream",
     "text": [
      "Success!\n"
     ]
    }
   ],
   "source": [
    "if response.status_code == requests.codes.ALL_OK:\n",
    "    print(\"Success!\")\n",
    "    ## Process response..."
   ]
  },
  {
   "cell_type": "code",
   "execution_count": 9,
   "metadata": {
    "cell_id": "434f1d2d86f34091ba3137bb689b447d",
    "execution_millis": 2,
    "execution_start": 1676038236328,
    "source_hash": "70a9e639"
   },
   "outputs": [
    {
     "data": {
      "text/plain": [
       "200"
      ]
     },
     "execution_count": 9,
     "metadata": {},
     "output_type": "execute_result"
    }
   ],
   "source": [
    "requests.codes.ALL_OK"
   ]
  },
  {
   "cell_type": "markdown",
   "metadata": {
    "cell_id": "3207786ee9484d84a5b6b1683b7ce10e"
   },
   "source": [
    "## POST vs. GET + arguments\n",
    "\n",
    "I've put up a page where we can get a few different versions of the a data file from a study of mouse weights: https://digdug.cs.endicott.edu/~hfeild/csc440/mouse.php\n",
    "\n",
    "The page supports one GET *or* POST argument, `format`, and it can take on three different values: `csv`, `json`, or `tsv`. What happens if we don't provide the argument?\n"
   ]
  },
  {
   "cell_type": "code",
   "execution_count": 10,
   "metadata": {
    "cell_id": "4ea8b2cee1914da7a879e854ee9452f8",
    "execution_millis": 54,
    "execution_start": 1676038236331,
    "source_hash": "2c6c08e7"
   },
   "outputs": [],
   "source": [
    "response = requests.get('https://digdug.cs.endicott.edu/~hfeild/ds303/mouse.php', timeout=2)"
   ]
  },
  {
   "cell_type": "code",
   "execution_count": 11,
   "metadata": {
    "cell_id": "b660e7d807ad432e88d9b41edf3f2a12",
    "execution_millis": 4,
    "execution_start": 1676038236386,
    "source_hash": "77949d45"
   },
   "outputs": [
    {
     "data": {
      "text/plain": [
       "400"
      ]
     },
     "execution_count": 11,
     "metadata": {},
     "output_type": "execute_result"
    }
   ],
   "source": [
    "response.status_code"
   ]
  },
  {
   "cell_type": "code",
   "execution_count": 12,
   "metadata": {
    "cell_id": "3e87a3e1a2fe432582a0b6e4c985a013",
    "execution_millis": 3,
    "execution_start": 1676038236405,
    "source_hash": "69f763fd"
   },
   "outputs": [
    {
     "data": {
      "text/plain": [
       "'Bad Request'"
      ]
     },
     "execution_count": 12,
     "metadata": {},
     "output_type": "execute_result"
    }
   ],
   "source": [
    "response.reason"
   ]
  },
  {
   "cell_type": "code",
   "execution_count": 13,
   "metadata": {
    "cell_id": "085e620676d7478e8f18ef5e6c5f3893",
    "execution_millis": 3,
    "execution_start": 1676038236405,
    "source_hash": "e36bd1"
   },
   "outputs": [
    {
     "data": {
      "text/plain": [
       "{'Date': 'Wed, 12 Feb 2025 14:32:53 GMT', 'Server': 'Apache/2.4.58 (Ubuntu)', 'Content-Length': '20', 'Connection': 'close', 'Content-Type': 'text/html; charset=UTF-8'}"
      ]
     },
     "execution_count": 13,
     "metadata": {},
     "output_type": "execute_result"
    }
   ],
   "source": [
    "response.headers"
   ]
  },
  {
   "cell_type": "code",
   "execution_count": 14,
   "metadata": {
    "cell_id": "f06ea0832f0648a8a0d9ded284d7d1d7",
    "execution_millis": 2,
    "execution_start": 1676038236406,
    "source_hash": "a532775b"
   },
   "outputs": [
    {
     "data": {
      "text/plain": [
       "'No format specified.'"
      ]
     },
     "execution_count": 14,
     "metadata": {},
     "output_type": "execute_result"
    }
   ],
   "source": [
    "response.text"
   ]
  },
  {
   "cell_type": "markdown",
   "metadata": {
    "cell_id": "cb9623ee07e14e4ca6de65a621b948bb"
   },
   "source": [
    "What happens if we provide an incorrect argument?"
   ]
  },
  {
   "cell_type": "code",
   "execution_count": 15,
   "metadata": {
    "cell_id": "e443c55339d048f6ada96735c06a2b2e",
    "execution_millis": 32,
    "execution_start": 1676038236449,
    "source_hash": "1489170d"
   },
   "outputs": [],
   "source": [
    "response = requests.get('https://digdug.cs.endicott.edu/~hfeild/csc440/mouse.php',\n",
    "                        {'format': 'cv'} , timeout=2)"
   ]
  },
  {
   "cell_type": "code",
   "execution_count": 16,
   "metadata": {
    "cell_id": "6d59617410ce4e7fba48e7387e84ded2",
    "execution_millis": 3,
    "execution_start": 1676038236481,
    "source_hash": "77949d45"
   },
   "outputs": [
    {
     "data": {
      "text/plain": [
       "400"
      ]
     },
     "execution_count": 16,
     "metadata": {},
     "output_type": "execute_result"
    }
   ],
   "source": [
    "response.status_code"
   ]
  },
  {
   "cell_type": "code",
   "execution_count": 17,
   "metadata": {
    "cell_id": "9870665f9d65414586557198605826d4",
    "execution_millis": 2,
    "execution_start": 1676038236482,
    "source_hash": "69f763fd"
   },
   "outputs": [
    {
     "data": {
      "text/plain": [
       "'Bad Request'"
      ]
     },
     "execution_count": 17,
     "metadata": {},
     "output_type": "execute_result"
    }
   ],
   "source": [
    "response.reason"
   ]
  },
  {
   "cell_type": "code",
   "execution_count": 18,
   "metadata": {
    "cell_id": "2d30ae8c4da14b20a59deb9e3a9c1d3f",
    "execution_millis": 8,
    "execution_start": 1676038236482,
    "source_hash": "e36bd1"
   },
   "outputs": [
    {
     "data": {
      "text/plain": [
       "{'Date': 'Wed, 12 Feb 2025 14:32:53 GMT', 'Server': 'Apache/2.4.58 (Ubuntu)', 'Content-Length': '28', 'Connection': 'close', 'Content-Type': 'text/html; charset=UTF-8'}"
      ]
     },
     "execution_count": 18,
     "metadata": {},
     "output_type": "execute_result"
    }
   ],
   "source": [
    "response.headers"
   ]
  },
  {
   "cell_type": "code",
   "execution_count": 19,
   "metadata": {
    "cell_id": "6fadefc992f240e8a863eb94d42bb3f7",
    "execution_millis": 5,
    "execution_start": 1676038236487,
    "source_hash": "a532775b"
   },
   "outputs": [
    {
     "data": {
      "text/plain": [
       "'Invalid format specified: cv'"
      ]
     },
     "execution_count": 19,
     "metadata": {},
     "output_type": "execute_result"
    }
   ],
   "source": [
    "response.text"
   ]
  },
  {
   "cell_type": "markdown",
   "metadata": {
    "cell_id": "64e7ea46c224450cb13d4ccb6075ef65"
   },
   "source": [
    "Let's grab the CSV version of the data. We'll talk about parsing tabular data later in the course."
   ]
  },
  {
   "cell_type": "code",
   "execution_count": 20,
   "metadata": {
    "cell_id": "79a7b09872fc41f59eccaf09482917d5",
    "execution_millis": 2,
    "execution_start": 1676038236491,
    "scrolled": true,
    "source_hash": "421b763f"
   },
   "outputs": [
    {
     "name": "stdout",
     "output_type": "stream",
     "text": [
      "Success!\n",
      "strain,sex,weight\n",
      "C57Bl/6J,M,27.59675331333915\n",
      "C57Bl/6J,M,29.635837290427975\n",
      "C57Bl/6J,M,28.4606850523734\n",
      "C57Bl/6J,M,29.248224513188948\n",
      "C57Bl/6J,M,25.702118112188177\n",
      "C57Bl/6J,M,26.972695857278342\n",
      "C57Bl/6J,M,30.352503586931082\n",
      "C57Bl/6J,M,29.05602355618237\n",
      "C57Bl/6J,M,27.869611829423285\n",
      "C57Bl/6J,M,31.025557869722743\n",
      "C57Bl/6J,M,26.4514244620284\n",
      "C57Bl/6J,M,29.015105617301778\n",
      "C57Bl/6J,M,24.88924725446606\n",
      "C57Bl/6J,M,29.874311671891547\n",
      "C57Bl/6J,M,25.52512438476657\n",
      "C57Bl/6J,M,24.670567191691454\n",
      "C57Bl/6J,M,26.742198725332102\n",
      "C57Bl/6J,M,28.131760610169305\n",
      "C57Bl/6J,M,28.72482798481937\n",
      "C57Bl/6J,M,25.277441061646307\n",
      "C57Bl/6J,M,27.774556974580587\n",
      "C57Bl/6J,M,28.393142210576897\n",
      "C57Bl/6J,M,24.775898723580788\n",
      "C57Bl/6J,M,25.042079443710662\n",
      "C57Bl/6J,M,25.44514160586376\n",
      "C57Bl/6J,M,27.805460215504564\n",
      "C57Bl/6J,M,26.598269218252614\n",
      "C57Bl/6J,M,25.744341266714354\n",
      "C57Bl/6J,M,28.248257070355297\n",
      "C57Bl/6J,M,26.010734389148837\n",
      "C57Bl/6J,M,28.431915788937303\n",
      "C57Bl/6J,M,27.87918279182886\n",
      "C57Bl/6J,M,28.900976196136405\n",
      "C57Bl/6J,M,26.759577168043275\n",
      "C57Bl/6J,M,26.30947952876081\n",
      "C57Bl/6J,M,29.340544029169784\n",
      "C57Bl/6J,M,27.285144357870674\n",
      "C57Bl/6J,M,27.97838992855271\n",
      "C57Bl/6J,M,27.183612708174994\n",
      "C57Bl/6J,M,30.555156177677652\n",
      "C57Bl/6J,M,28.22718946368862\n",
      "C57Bl/6J,M,28.427392304612436\n",
      "C57Bl/6J,M,25.56798876768685\n",
      "C57Bl/6J,M,26.933173663796747\n",
      "C57Bl/6J,M,26.36367944244792\n",
      "C57Bl/6J,M,29.074832425401127\n",
      "C57Bl/6J,M,29.663555018013458\n",
      "C57Bl/6J,M,29.11784300106428\n",
      "C57Bl/6J,M,28.531084282604855\n",
      "C57Bl/6J,M,25.020688996870422\n",
      "C57Bl/6J,M,29.082698226180987\n",
      "C57Bl/6J,M,27.851872992658535\n",
      "C57Bl/6J,M,26.98292426739379\n",
      "C57Bl/6J,M,31.79310587718336\n",
      "C57Bl/6J,M,26.49242785934428\n",
      "C57Bl/6J,M,26.360183222977163\n",
      "C57Bl/6J,M,24.813348709961634\n",
      "C57Bl/6J,M,29.08954537409458\n",
      "C57Bl/6J,M,24.491754658072995\n",
      "C57Bl/6J,M,27.835002562847325\n",
      "C57Bl/6J,M,26.608677545574363\n",
      "C57Bl/6J,M,28.212117421330856\n",
      "C57Bl/6J,M,26.098498187564655\n",
      "C57Bl/6J,M,28.148897048595188\n",
      "C57Bl/6J,M,27.76382629408185\n",
      "C57Bl/6J,M,28.53902543973522\n",
      "C57Bl/6J,M,27.47415756107286\n",
      "C57Bl/6J,M,29.622847132711936\n",
      "C57Bl/6J,M,26.918160989511897\n",
      "C57Bl/6J,M,28.807248249379185\n",
      "C57Bl/6J,M,27.09953272983202\n",
      "C57Bl/6J,M,28.99945681533921\n",
      "C57Bl/6J,M,26.616011140146256\n",
      "C57Bl/6J,M,27.611038452407556\n",
      "C57Bl/6J,M,27.054400687880346\n",
      "C57Bl/6J,M,27.61836975341264\n",
      "C57Bl/6J,M,26.007446035718687\n",
      "C57Bl/6J,M,28.984005021703492\n",
      "C57Bl/6J,M,31.118648258405155\n",
      "C57Bl/6J,M,26.42121059113301\n",
      "C57Bl/6J,M,26.88618128884726\n",
      "C57Bl/6J,M,31.63955983313251\n",
      "C57Bl/6J,M,27.668653321739374\n",
      "C57Bl/6J,M,28.27647717916022\n",
      "C57Bl/6J,M,26.424913089110028\n",
      "C57Bl/6J,M,28.281818002494926\n",
      "C57Bl/6J,M,27.078734254151712\n",
      "C57Bl/6J,M,28.535487077729176\n",
      "C57Bl/6J,M,28.038621205258924\n",
      "C57Bl/6J,M,31.404027146678928\n",
      "C57Bl/6J,M,26.700213660961857\n",
      "C57Bl/6J,M,29.709791984910936\n",
      "C57Bl/6J,M,27.884396911759566\n",
      "C57Bl/6J,M,27.201304862323628\n",
      "C57Bl/6J,M,27.603551486799073\n",
      "C57Bl/6J,M,28.45680465403834\n",
      "C57Bl/6J,M,28.181539019160187\n",
      "C57Bl/6J,M,24.15754972678596\n",
      "C57Bl/6J,M,28.059095254455713\n",
      "C57Bl/6J,M,26.003440701596574\n",
      "C57Bl/6J,F,21.08311681906335\n",
      "C57Bl/6J,F,21.465877644852863\n",
      "C57Bl/6J,F,20.94102480653284\n",
      "C57Bl/6J,F,19.974493180125314\n",
      "C57Bl/6J,F,20.738075070343946\n",
      "C57Bl/6J,F,20.319403472184153\n",
      "C57Bl/6J,F,22.232146964329758\n",
      "C57Bl/6J,F,20.179565730079133\n",
      "C57Bl/6J,F,21.31427956024926\n",
      "C57Bl/6J,F,20.436976098996798\n",
      "C57Bl/6J,F,21.822300385166592\n",
      "C57Bl/6J,F,18.87442498124936\n",
      "C57Bl/6J,F,19.076524722828292\n",
      "C57Bl/6J,F,19.616984982892053\n",
      "C57Bl/6J,F,20.606039768448543\n",
      "C57Bl/6J,F,22.85518932173198\n",
      "C57Bl/6J,F,23.509523797654683\n",
      "C57Bl/6J,F,20.514974707347594\n",
      "C57Bl/6J,F,20.555932353275068\n",
      "C57Bl/6J,F,22.77910273371129\n",
      "C57Bl/6J,F,20.937964687511684\n",
      "C57Bl/6J,F,21.43380566775286\n",
      "C57Bl/6J,F,19.986722672533816\n",
      "C57Bl/6J,F,20.649078074758613\n",
      "C57Bl/6J,F,21.34893268860618\n",
      "C57Bl/6J,F,19.774879614487475\n",
      "C57Bl/6J,F,20.078612546470076\n",
      "C57Bl/6J,F,20.05089549956898\n",
      "C57Bl/6J,F,21.9101094543134\n",
      "C57Bl/6J,F,19.588724770697567\n",
      "C57Bl/6J,F,20.31737841243219\n",
      "C57Bl/6J,F,21.412341617636397\n",
      "C57Bl/6J,F,18.49539957972148\n",
      "C57Bl/6J,F,21.2525690148476\n",
      "C57Bl/6J,F,22.856653380530087\n",
      "C57Bl/6J,F,18.22425244127341\n",
      "C57Bl/6J,F,21.203476586146163\n",
      "C57Bl/6J,F,20.67574088794775\n",
      "C57Bl/6J,F,20.167154109252873\n",
      "C57Bl/6J,F,22.016817010813636\n",
      "C57Bl/6J,F,20.824550684366468\n",
      "C57Bl/6J,F,20.812860691357685\n",
      "C57Bl/6J,F,21.424248817061834\n",
      "C57Bl/6J,F,19.650055370523322\n",
      "C57Bl/6J,F,20.614021903746515\n",
      "C57Bl/6J,F,21.34723642758199\n",
      "C57Bl/6J,F,21.131058500512363\n",
      "C57Bl/6J,F,20.738278960734082\n",
      "C57Bl/6J,F,21.0901514253286\n",
      "C57Bl/6J,F,21.683857351671527\n",
      "C57Bl/6J,F,21.07232543192955\n",
      "C57Bl/6J,F,20.095543372353287\n",
      "C57Bl/6J,F,22.616669610713885\n",
      "C57Bl/6J,F,21.64147331659303\n",
      "C57Bl/6J,F,20.555971458742757\n",
      "C57Bl/6J,F,20.41606632197587\n",
      "C57Bl/6J,F,21.363366715660106\n",
      "C57Bl/6J,F,19.562350345681992\n",
      "C57Bl/6J,F,20.522763436469656\n",
      "C57Bl/6J,F,21.84215704255988\n",
      "C57Bl/6J,F,19.760680994312164\n",
      "C57Bl/6J,F,18.247201254962874\n",
      "C57Bl/6J,F,20.58656086439105\n",
      "C57Bl/6J,F,21.78555459278472\n",
      "C57Bl/6J,F,19.043582992363913\n",
      "C57Bl/6J,F,20.022909263693894\n",
      "C57Bl/6J,F,22.229489680971326\n",
      "C57Bl/6J,F,18.97468851808988\n",
      "C57Bl/6J,F,19.15685361034645\n",
      "C57Bl/6J,F,18.6433252144774\n",
      "C57Bl/6J,F,18.397338015706787\n",
      "C57Bl/6J,F,20.9548833191389\n",
      "C57Bl/6J,F,22.683536209689514\n",
      "C57Bl/6J,F,20.674422601662968\n",
      "C57Bl/6J,F,18.058337602390683\n",
      "C57Bl/6J,F,20.61469030022569\n",
      "C57Bl/6J,F,21.798682994474373\n",
      "C57Bl/6J,F,21.262815717133677\n",
      "C57Bl/6J,F,19.05755792922752\n",
      "C57Bl/6J,F,20.96288341413608\n",
      "C57Bl/6J,F,20.075896223319642\n",
      "C57Bl/6J,F,19.77650212836765\n",
      "C57Bl/6J,F,20.541644527700548\n",
      "C57Bl/6J,F,20.991512142644087\n",
      "C57Bl/6J,F,22.208215638843868\n",
      "C57Bl/6J,F,20.307403923165765\n",
      "C57Bl/6J,F,20.490097411178734\n",
      "C57Bl/6J,F,20.146003003148955\n",
      "C57Bl/6J,F,19.13492063532937\n",
      "C57Bl/6J,F,19.813685079598514\n",
      "C57Bl/6J,F,21.90358648093423\n",
      "C57Bl/6J,F,21.950040961129947\n",
      "C57Bl/6J,F,20.586928661159536\n",
      "C57Bl/6J,F,20.832145950774166\n",
      "C57Bl/6J,F,21.30743914520779\n",
      "C57Bl/6J,F,20.771038883188332\n",
      "C57Bl/6J,F,21.844452041906262\n",
      "C57Bl/6J,F,17.66240429793382\n",
      "C57Bl/6J,F,21.116583873856733\n",
      "C57Bl/6J,F,19.323717533176787\n",
      "DBA/2J,M,25.904389823452682\n",
      "DBA/2J,M,26.53104212082351\n",
      "DBA/2J,M,27.97523440251494\n",
      "DBA/2J,M,28.852402163110018\n",
      "DBA/2J,M,27.480579070080232\n",
      "DBA/2J,M,25.58705220440558\n",
      "DBA/2J,M,23.77655210378093\n",
      "DBA/2J,M,24.70049550171614\n",
      "DBA/2J,M,26.942022164343527\n",
      "DBA/2J,M,26.846456293107664\n",
      "DBA/2J,M,26.69446807190371\n",
      "DBA/2J,M,28.058833054488986\n",
      "DBA/2J,M,25.11283653026291\n",
      "DBA/2J,M,25.774939642822396\n",
      "DBA/2J,M,26.568561208099183\n",
      "DBA/2J,M,27.23554058987687\n",
      "DBA/2J,M,20.948356116530213\n",
      "DBA/2J,M,22.94304389129412\n",
      "DBA/2J,M,28.572701703870788\n",
      "DBA/2J,M,25.9206883605791\n",
      "DBA/2J,M,27.562189615007057\n",
      "DBA/2J,M,25.492163459113925\n",
      "DBA/2J,M,27.711137095319614\n",
      "DBA/2J,M,30.107406475485963\n",
      "DBA/2J,M,23.383018907082022\n",
      "DBA/2J,M,24.522122103880818\n",
      "DBA/2J,M,21.99747842723728\n",
      "DBA/2J,M,26.759406001117473\n",
      "DBA/2J,M,29.932049758316026\n",
      "DBA/2J,M,27.31046344201688\n",
      "DBA/2J,M,27.667157377186456\n",
      "DBA/2J,M,28.622008384721116\n",
      "DBA/2J,M,27.794052969984506\n",
      "DBA/2J,M,22.963553112953637\n",
      "DBA/2J,M,28.18760892211596\n",
      "DBA/2J,M,25.5478102953064\n",
      "DBA/2J,M,28.02774721522999\n",
      "DBA/2J,M,23.048628745398144\n",
      "DBA/2J,M,23.052910285966494\n",
      "DBA/2J,M,31.659247915935772\n",
      "DBA/2J,M,28.890028386483095\n",
      "DBA/2J,M,23.505803624696092\n",
      "DBA/2J,M,28.380888333132955\n",
      "DBA/2J,M,26.678887282918563\n",
      "DBA/2J,M,21.001669115468268\n",
      "DBA/2J,M,23.224116637090848\n",
      "DBA/2J,M,25.116540215138183\n",
      "DBA/2J,M,24.340191855128314\n",
      "DBA/2J,M,26.85962413501171\n",
      "DBA/2J,M,28.726819823354674\n",
      "DBA/2J,M,27.78732153901502\n",
      "DBA/2J,M,26.55714542789931\n",
      "DBA/2J,M,23.008980942091778\n",
      "DBA/2J,M,26.332162905439418\n",
      "DBA/2J,M,25.692544505920086\n",
      "DBA/2J,M,25.999691562042752\n",
      "DBA/2J,M,25.602815276378095\n",
      "DBA/2J,M,25.387311608126943\n",
      "DBA/2J,M,23.660950086967844\n",
      "DBA/2J,M,29.667876443004207\n",
      "DBA/2J,M,28.35322776171727\n",
      "DBA/2J,M,23.71578408985612\n",
      "DBA/2J,M,25.980798236543517\n",
      "DBA/2J,M,23.628486567931684\n",
      "DBA/2J,M,28.35287491328102\n",
      "DBA/2J,M,24.405443304737815\n",
      "DBA/2J,M,26.170958458968972\n",
      "DBA/2J,M,20.988524424478964\n",
      "DBA/2J,M,27.41461849202586\n",
      "DBA/2J,M,25.72277211708109\n",
      "DBA/2J,M,27.36787854083054\n",
      "DBA/2J,M,26.579665287294297\n",
      "DBA/2J,M,27.048061490700395\n",
      "DBA/2J,M,26.35784772515177\n",
      "DBA/2J,M,28.142244455479577\n",
      "DBA/2J,M,26.045923940056646\n",
      "DBA/2J,M,29.1524814037942\n",
      "DBA/2J,M,28.754204386694937\n",
      "DBA/2J,M,28.136772797482667\n",
      "DBA/2J,M,28.863384870021687\n",
      "DBA/2J,M,24.347595070106625\n",
      "DBA/2J,M,27.03254737612518\n",
      "DBA/2J,M,26.21499304413637\n",
      "DBA/2J,M,27.449380861085817\n",
      "DBA/2J,M,24.68541171767461\n",
      "DBA/2J,M,29.170823223262396\n",
      "DBA/2J,M,28.886779912674168\n",
      "DBA/2J,M,24.440387873876396\n",
      "DBA/2J,M,26.71821179308177\n",
      "DBA/2J,M,25.576410860499443\n",
      "DBA/2J,M,23.669939702286204\n",
      "DBA/2J,M,28.082726395066036\n",
      "DBA/2J,M,28.988429441733654\n",
      "DBA/2J,M,24.982344199558437\n",
      "DBA/2J,M,26.96574356806755\n",
      "DBA/2J,M,26.716292559937276\n",
      "DBA/2J,M,25.21123705960247\n",
      "DBA/2J,M,32.84822749238732\n",
      "DBA/2J,M,29.093882754844273\n",
      "DBA/2J,M,27.92085804344383\n",
      "DBA/2J,F,21.17974233579937\n",
      "DBA/2J,F,19.90305081375038\n",
      "DBA/2J,F,22.772565918622107\n",
      "DBA/2J,F,22.083173771944036\n",
      "DBA/2J,F,23.728558416911376\n",
      "DBA/2J,F,19.878103854050817\n",
      "DBA/2J,F,22.313846840489976\n",
      "DBA/2J,F,19.407845576399374\n",
      "DBA/2J,F,20.777771178509845\n",
      "DBA/2J,F,21.008243383770996\n",
      "DBA/2J,F,19.825213300939414\n",
      "DBA/2J,F,21.980381837396028\n",
      "DBA/2J,F,20.49139687070702\n",
      "DBA/2J,F,21.74505862439293\n",
      "DBA/2J,F,25.66196889314767\n",
      "DBA/2J,F,22.71324117017816\n",
      "DBA/2J,F,24.912001417033835\n",
      "DBA/2J,F,21.303434556183625\n",
      "DBA/2J,F,19.232783950903055\n",
      "DBA/2J,F,19.358331608638697\n",
      "DBA/2J,F,24.115654283053622\n",
      "DBA/2J,F,21.312142920856008\n",
      "DBA/2J,F,20.902013462173628\n",
      "DBA/2J,F,23.49752942218886\n",
      "DBA/2J,F,21.21672907358785\n",
      "DBA/2J,F,22.564268647856334\n",
      "DBA/2J,F,21.649434061189154\n",
      "DBA/2J,F,22.09905510588008\n",
      "DBA/2J,F,21.50155754638893\n",
      "DBA/2J,F,19.306072762463646\n",
      "DBA/2J,F,22.27501926983022\n",
      "DBA/2J,F,22.929310760050555\n",
      "DBA/2J,F,19.846868130280598\n",
      "DBA/2J,F,21.322485102646976\n",
      "DBA/2J,F,21.708861595650948\n",
      "DBA/2J,F,19.413607070910817\n",
      "DBA/2J,F,18.0914986871708\n",
      "DBA/2J,F,22.52703244211561\n",
      "DBA/2J,F,21.143851497941817\n",
      "DBA/2J,F,20.289422477430577\n",
      "DBA/2J,F,22.57762313302114\n",
      "DBA/2J,F,21.991308783716235\n",
      "DBA/2J,F,20.251252288008914\n",
      "DBA/2J,F,23.42862456978699\n",
      "DBA/2J,F,20.950242298038336\n",
      "DBA/2J,F,23.959039538547973\n",
      "DBA/2J,F,19.8515328574509\n",
      "DBA/2J,F,20.32329244173589\n",
      "DBA/2J,F,20.807710420049503\n",
      "DBA/2J,F,22.758766127055914\n",
      "DBA/2J,F,21.521046992053563\n",
      "DBA/2J,F,21.38886945188247\n",
      "DBA/2J,F,20.60139538635463\n",
      "DBA/2J,F,18.956160772537032\n",
      "DBA/2J,F,22.96406471328322\n",
      "DBA/2J,F,20.27707450613878\n",
      "DBA/2J,F,25.609932564831055\n",
      "DBA/2J,F,20.93246843044378\n",
      "DBA/2J,F,19.451095217238226\n",
      "DBA/2J,F,23.063811308719572\n",
      "DBA/2J,F,21.23595860703738\n",
      "DBA/2J,F,23.88734423379025\n",
      "DBA/2J,F,18.138660420324623\n",
      "DBA/2J,F,21.169590362768357\n",
      "DBA/2J,F,20.417927430435554\n",
      "DBA/2J,F,21.137812751067177\n",
      "DBA/2J,F,22.757338892807933\n",
      "DBA/2J,F,19.112438761849894\n",
      "DBA/2J,F,17.62835932495335\n",
      "DBA/2J,F,21.819121273440373\n",
      "DBA/2J,F,20.505681969293125\n",
      "DBA/2J,F,19.52912053352961\n",
      "DBA/2J,F,22.461093840014065\n",
      "DBA/2J,F,23.760301003203605\n",
      "DBA/2J,F,21.09237139693302\n",
      "DBA/2J,F,19.664923469743908\n",
      "DBA/2J,F,22.060463735175894\n",
      "DBA/2J,F,22.406016404611453\n",
      "DBA/2J,F,22.34029001386334\n",
      "DBA/2J,F,18.162330925092366\n",
      "DBA/2J,F,23.48421284636201\n",
      "DBA/2J,F,17.8896201232682\n",
      "DBA/2J,F,20.18698389036571\n",
      "DBA/2J,F,23.22505138824193\n",
      "DBA/2J,F,21.91894997606802\n",
      "DBA/2J,F,23.465553173099774\n",
      "DBA/2J,F,17.4110338035612\n",
      "DBA/2J,F,20.804041091509717\n",
      "DBA/2J,F,21.238919602635672\n",
      "DBA/2J,F,21.60176114748551\n",
      "DBA/2J,F,23.008116261866153\n",
      "DBA/2J,F,19.08432987458327\n",
      "DBA/2J,F,18.807993624007548\n",
      "DBA/2J,F,22.9775149287221\n",
      "DBA/2J,F,22.153449682867475\n",
      "DBA/2J,F,20.489587176647547\n",
      "DBA/2J,F,21.512788656125956\n",
      "DBA/2J,F,18.67733772989566\n",
      "DBA/2J,F,22.974728518480262\n",
      "DBA/2J,F,19.312053682005498\n",
      "\n"
     ]
    }
   ],
   "source": [
    "## TODO -- get the data in CSV format using GET.\n",
    "response = requests.get('https://digdug.cs.endicott.edu/~hfeild/csc440/mouse.php',\n",
    "                        {'format': 'csv'} , timeout=2)\n",
    "\n",
    "if response.status_code == requests.codes.ALL_OK:\n",
    "    print('Success!')\n",
    "else:\n",
    "    print('ERROR!')\n",
    "print(response.text)"
   ]
  },
  {
   "cell_type": "markdown",
   "metadata": {
    "cell_id": "cb9c13523110405bb7663b5745ccdd18"
   },
   "source": [
    "Let's do the same thing, but use POST instead of GET."
   ]
  },
  {
   "cell_type": "code",
   "execution_count": 21,
   "metadata": {
    "cell_id": "8a3000c7dc0541c9925c0b4040c4107c",
    "execution_millis": 2,
    "execution_start": 1676038236497,
    "scrolled": true,
    "source_hash": "9b7b9df7"
   },
   "outputs": [
    {
     "name": "stdout",
     "output_type": "stream",
     "text": [
      "Success!\n",
      "strain,sex,weight\n",
      "C57Bl/6J,M,27.59675331333915\n",
      "C57Bl/6J,M,29.635837290427975\n",
      "C57Bl/6J,M,28.4606850523734\n",
      "C57Bl/6J,M,29.248224513188948\n",
      "C57Bl/6J,M,25.702118112188177\n",
      "C57Bl/6J,M,26.972695857278342\n",
      "C57Bl/6J,M,30.352503586931082\n",
      "C57Bl/6J,M,29.05602355618237\n",
      "C57Bl/6J,M,27.869611829423285\n",
      "C57Bl/6J,M,31.025557869722743\n",
      "C57Bl/6J,M,26.4514244620284\n",
      "C57Bl/6J,M,29.015105617301778\n",
      "C57Bl/6J,M,24.88924725446606\n",
      "C57Bl/6J,M,29.874311671891547\n",
      "C57Bl/6J,M,25.52512438476657\n",
      "C57Bl/6J,M,24.670567191691454\n",
      "C57Bl/6J,M,26.742198725332102\n",
      "C57Bl/6J,M,28.131760610169305\n",
      "C57Bl/6J,M,28.72482798481937\n",
      "C57Bl/6J,M,25.277441061646307\n",
      "C57Bl/6J,M,27.774556974580587\n",
      "C57Bl/6J,M,28.393142210576897\n",
      "C57Bl/6J,M,24.775898723580788\n",
      "C57Bl/6J,M,25.042079443710662\n",
      "C57Bl/6J,M,25.44514160586376\n",
      "C57Bl/6J,M,27.805460215504564\n",
      "C57Bl/6J,M,26.598269218252614\n",
      "C57Bl/6J,M,25.744341266714354\n",
      "C57Bl/6J,M,28.248257070355297\n",
      "C57Bl/6J,M,26.010734389148837\n",
      "C57Bl/6J,M,28.431915788937303\n",
      "C57Bl/6J,M,27.87918279182886\n",
      "C57Bl/6J,M,28.900976196136405\n",
      "C57Bl/6J,M,26.759577168043275\n",
      "C57Bl/6J,M,26.30947952876081\n",
      "C57Bl/6J,M,29.340544029169784\n",
      "C57Bl/6J,M,27.285144357870674\n",
      "C57Bl/6J,M,27.97838992855271\n",
      "C57Bl/6J,M,27.183612708174994\n",
      "C57Bl/6J,M,30.555156177677652\n",
      "C57Bl/6J,M,28.22718946368862\n",
      "C57Bl/6J,M,28.427392304612436\n",
      "C57Bl/6J,M,25.56798876768685\n",
      "C57Bl/6J,M,26.933173663796747\n",
      "C57Bl/6J,M,26.36367944244792\n",
      "C57Bl/6J,M,29.074832425401127\n",
      "C57Bl/6J,M,29.663555018013458\n",
      "C57Bl/6J,M,29.11784300106428\n",
      "C57Bl/6J,M,28.531084282604855\n",
      "C57Bl/6J,M,25.020688996870422\n",
      "C57Bl/6J,M,29.082698226180987\n",
      "C57Bl/6J,M,27.851872992658535\n",
      "C57Bl/6J,M,26.98292426739379\n",
      "C57Bl/6J,M,31.79310587718336\n",
      "C57Bl/6J,M,26.49242785934428\n",
      "C57Bl/6J,M,26.360183222977163\n",
      "C57Bl/6J,M,24.813348709961634\n",
      "C57Bl/6J,M,29.08954537409458\n",
      "C57Bl/6J,M,24.491754658072995\n",
      "C57Bl/6J,M,27.835002562847325\n",
      "C57Bl/6J,M,26.608677545574363\n",
      "C57Bl/6J,M,28.212117421330856\n",
      "C57Bl/6J,M,26.098498187564655\n",
      "C57Bl/6J,M,28.148897048595188\n",
      "C57Bl/6J,M,27.76382629408185\n",
      "C57Bl/6J,M,28.53902543973522\n",
      "C57Bl/6J,M,27.47415756107286\n",
      "C57Bl/6J,M,29.622847132711936\n",
      "C57Bl/6J,M,26.918160989511897\n",
      "C57Bl/6J,M,28.807248249379185\n",
      "C57Bl/6J,M,27.09953272983202\n",
      "C57Bl/6J,M,28.99945681533921\n",
      "C57Bl/6J,M,26.616011140146256\n",
      "C57Bl/6J,M,27.611038452407556\n",
      "C57Bl/6J,M,27.054400687880346\n",
      "C57Bl/6J,M,27.61836975341264\n",
      "C57Bl/6J,M,26.007446035718687\n",
      "C57Bl/6J,M,28.984005021703492\n",
      "C57Bl/6J,M,31.118648258405155\n",
      "C57Bl/6J,M,26.42121059113301\n",
      "C57Bl/6J,M,26.88618128884726\n",
      "C57Bl/6J,M,31.63955983313251\n",
      "C57Bl/6J,M,27.668653321739374\n",
      "C57Bl/6J,M,28.27647717916022\n",
      "C57Bl/6J,M,26.424913089110028\n",
      "C57Bl/6J,M,28.281818002494926\n",
      "C57Bl/6J,M,27.078734254151712\n",
      "C57Bl/6J,M,28.535487077729176\n",
      "C57Bl/6J,M,28.038621205258924\n",
      "C57Bl/6J,M,31.404027146678928\n",
      "C57Bl/6J,M,26.700213660961857\n",
      "C57Bl/6J,M,29.709791984910936\n",
      "C57Bl/6J,M,27.884396911759566\n",
      "C57Bl/6J,M,27.201304862323628\n",
      "C57Bl/6J,M,27.603551486799073\n",
      "C57Bl/6J,M,28.45680465403834\n",
      "C57Bl/6J,M,28.181539019160187\n",
      "C57Bl/6J,M,24.15754972678596\n",
      "C57Bl/6J,M,28.059095254455713\n",
      "C57Bl/6J,M,26.003440701596574\n",
      "C57Bl/6J,F,21.08311681906335\n",
      "C57Bl/6J,F,21.465877644852863\n",
      "C57Bl/6J,F,20.94102480653284\n",
      "C57Bl/6J,F,19.974493180125314\n",
      "C57Bl/6J,F,20.738075070343946\n",
      "C57Bl/6J,F,20.319403472184153\n",
      "C57Bl/6J,F,22.232146964329758\n",
      "C57Bl/6J,F,20.179565730079133\n",
      "C57Bl/6J,F,21.31427956024926\n",
      "C57Bl/6J,F,20.436976098996798\n",
      "C57Bl/6J,F,21.822300385166592\n",
      "C57Bl/6J,F,18.87442498124936\n",
      "C57Bl/6J,F,19.076524722828292\n",
      "C57Bl/6J,F,19.616984982892053\n",
      "C57Bl/6J,F,20.606039768448543\n",
      "C57Bl/6J,F,22.85518932173198\n",
      "C57Bl/6J,F,23.509523797654683\n",
      "C57Bl/6J,F,20.514974707347594\n",
      "C57Bl/6J,F,20.555932353275068\n",
      "C57Bl/6J,F,22.77910273371129\n",
      "C57Bl/6J,F,20.937964687511684\n",
      "C57Bl/6J,F,21.43380566775286\n",
      "C57Bl/6J,F,19.986722672533816\n",
      "C57Bl/6J,F,20.649078074758613\n",
      "C57Bl/6J,F,21.34893268860618\n",
      "C57Bl/6J,F,19.774879614487475\n",
      "C57Bl/6J,F,20.078612546470076\n",
      "C57Bl/6J,F,20.05089549956898\n",
      "C57Bl/6J,F,21.9101094543134\n",
      "C57Bl/6J,F,19.588724770697567\n",
      "C57Bl/6J,F,20.31737841243219\n",
      "C57Bl/6J,F,21.412341617636397\n",
      "C57Bl/6J,F,18.49539957972148\n",
      "C57Bl/6J,F,21.2525690148476\n",
      "C57Bl/6J,F,22.856653380530087\n",
      "C57Bl/6J,F,18.22425244127341\n",
      "C57Bl/6J,F,21.203476586146163\n",
      "C57Bl/6J,F,20.67574088794775\n",
      "C57Bl/6J,F,20.167154109252873\n",
      "C57Bl/6J,F,22.016817010813636\n",
      "C57Bl/6J,F,20.824550684366468\n",
      "C57Bl/6J,F,20.812860691357685\n",
      "C57Bl/6J,F,21.424248817061834\n",
      "C57Bl/6J,F,19.650055370523322\n",
      "C57Bl/6J,F,20.614021903746515\n",
      "C57Bl/6J,F,21.34723642758199\n",
      "C57Bl/6J,F,21.131058500512363\n",
      "C57Bl/6J,F,20.738278960734082\n",
      "C57Bl/6J,F,21.0901514253286\n",
      "C57Bl/6J,F,21.683857351671527\n",
      "C57Bl/6J,F,21.07232543192955\n",
      "C57Bl/6J,F,20.095543372353287\n",
      "C57Bl/6J,F,22.616669610713885\n",
      "C57Bl/6J,F,21.64147331659303\n",
      "C57Bl/6J,F,20.555971458742757\n",
      "C57Bl/6J,F,20.41606632197587\n",
      "C57Bl/6J,F,21.363366715660106\n",
      "C57Bl/6J,F,19.562350345681992\n",
      "C57Bl/6J,F,20.522763436469656\n",
      "C57Bl/6J,F,21.84215704255988\n",
      "C57Bl/6J,F,19.760680994312164\n",
      "C57Bl/6J,F,18.247201254962874\n",
      "C57Bl/6J,F,20.58656086439105\n",
      "C57Bl/6J,F,21.78555459278472\n",
      "C57Bl/6J,F,19.043582992363913\n",
      "C57Bl/6J,F,20.022909263693894\n",
      "C57Bl/6J,F,22.229489680971326\n",
      "C57Bl/6J,F,18.97468851808988\n",
      "C57Bl/6J,F,19.15685361034645\n",
      "C57Bl/6J,F,18.6433252144774\n",
      "C57Bl/6J,F,18.397338015706787\n",
      "C57Bl/6J,F,20.9548833191389\n",
      "C57Bl/6J,F,22.683536209689514\n",
      "C57Bl/6J,F,20.674422601662968\n",
      "C57Bl/6J,F,18.058337602390683\n",
      "C57Bl/6J,F,20.61469030022569\n",
      "C57Bl/6J,F,21.798682994474373\n",
      "C57Bl/6J,F,21.262815717133677\n",
      "C57Bl/6J,F,19.05755792922752\n",
      "C57Bl/6J,F,20.96288341413608\n",
      "C57Bl/6J,F,20.075896223319642\n",
      "C57Bl/6J,F,19.77650212836765\n",
      "C57Bl/6J,F,20.541644527700548\n",
      "C57Bl/6J,F,20.991512142644087\n",
      "C57Bl/6J,F,22.208215638843868\n",
      "C57Bl/6J,F,20.307403923165765\n",
      "C57Bl/6J,F,20.490097411178734\n",
      "C57Bl/6J,F,20.146003003148955\n",
      "C57Bl/6J,F,19.13492063532937\n",
      "C57Bl/6J,F,19.813685079598514\n",
      "C57Bl/6J,F,21.90358648093423\n",
      "C57Bl/6J,F,21.950040961129947\n",
      "C57Bl/6J,F,20.586928661159536\n",
      "C57Bl/6J,F,20.832145950774166\n",
      "C57Bl/6J,F,21.30743914520779\n",
      "C57Bl/6J,F,20.771038883188332\n",
      "C57Bl/6J,F,21.844452041906262\n",
      "C57Bl/6J,F,17.66240429793382\n",
      "C57Bl/6J,F,21.116583873856733\n",
      "C57Bl/6J,F,19.323717533176787\n",
      "DBA/2J,M,25.904389823452682\n",
      "DBA/2J,M,26.53104212082351\n",
      "DBA/2J,M,27.97523440251494\n",
      "DBA/2J,M,28.852402163110018\n",
      "DBA/2J,M,27.480579070080232\n",
      "DBA/2J,M,25.58705220440558\n",
      "DBA/2J,M,23.77655210378093\n",
      "DBA/2J,M,24.70049550171614\n",
      "DBA/2J,M,26.942022164343527\n",
      "DBA/2J,M,26.846456293107664\n",
      "DBA/2J,M,26.69446807190371\n",
      "DBA/2J,M,28.058833054488986\n",
      "DBA/2J,M,25.11283653026291\n",
      "DBA/2J,M,25.774939642822396\n",
      "DBA/2J,M,26.568561208099183\n",
      "DBA/2J,M,27.23554058987687\n",
      "DBA/2J,M,20.948356116530213\n",
      "DBA/2J,M,22.94304389129412\n",
      "DBA/2J,M,28.572701703870788\n",
      "DBA/2J,M,25.9206883605791\n",
      "DBA/2J,M,27.562189615007057\n",
      "DBA/2J,M,25.492163459113925\n",
      "DBA/2J,M,27.711137095319614\n",
      "DBA/2J,M,30.107406475485963\n",
      "DBA/2J,M,23.383018907082022\n",
      "DBA/2J,M,24.522122103880818\n",
      "DBA/2J,M,21.99747842723728\n",
      "DBA/2J,M,26.759406001117473\n",
      "DBA/2J,M,29.932049758316026\n",
      "DBA/2J,M,27.31046344201688\n",
      "DBA/2J,M,27.667157377186456\n",
      "DBA/2J,M,28.622008384721116\n",
      "DBA/2J,M,27.794052969984506\n",
      "DBA/2J,M,22.963553112953637\n",
      "DBA/2J,M,28.18760892211596\n",
      "DBA/2J,M,25.5478102953064\n",
      "DBA/2J,M,28.02774721522999\n",
      "DBA/2J,M,23.048628745398144\n",
      "DBA/2J,M,23.052910285966494\n",
      "DBA/2J,M,31.659247915935772\n",
      "DBA/2J,M,28.890028386483095\n",
      "DBA/2J,M,23.505803624696092\n",
      "DBA/2J,M,28.380888333132955\n",
      "DBA/2J,M,26.678887282918563\n",
      "DBA/2J,M,21.001669115468268\n",
      "DBA/2J,M,23.224116637090848\n",
      "DBA/2J,M,25.116540215138183\n",
      "DBA/2J,M,24.340191855128314\n",
      "DBA/2J,M,26.85962413501171\n",
      "DBA/2J,M,28.726819823354674\n",
      "DBA/2J,M,27.78732153901502\n",
      "DBA/2J,M,26.55714542789931\n",
      "DBA/2J,M,23.008980942091778\n",
      "DBA/2J,M,26.332162905439418\n",
      "DBA/2J,M,25.692544505920086\n",
      "DBA/2J,M,25.999691562042752\n",
      "DBA/2J,M,25.602815276378095\n",
      "DBA/2J,M,25.387311608126943\n",
      "DBA/2J,M,23.660950086967844\n",
      "DBA/2J,M,29.667876443004207\n",
      "DBA/2J,M,28.35322776171727\n",
      "DBA/2J,M,23.71578408985612\n",
      "DBA/2J,M,25.980798236543517\n",
      "DBA/2J,M,23.628486567931684\n",
      "DBA/2J,M,28.35287491328102\n",
      "DBA/2J,M,24.405443304737815\n",
      "DBA/2J,M,26.170958458968972\n",
      "DBA/2J,M,20.988524424478964\n",
      "DBA/2J,M,27.41461849202586\n",
      "DBA/2J,M,25.72277211708109\n",
      "DBA/2J,M,27.36787854083054\n",
      "DBA/2J,M,26.579665287294297\n",
      "DBA/2J,M,27.048061490700395\n",
      "DBA/2J,M,26.35784772515177\n",
      "DBA/2J,M,28.142244455479577\n",
      "DBA/2J,M,26.045923940056646\n",
      "DBA/2J,M,29.1524814037942\n",
      "DBA/2J,M,28.754204386694937\n",
      "DBA/2J,M,28.136772797482667\n",
      "DBA/2J,M,28.863384870021687\n",
      "DBA/2J,M,24.347595070106625\n",
      "DBA/2J,M,27.03254737612518\n",
      "DBA/2J,M,26.21499304413637\n",
      "DBA/2J,M,27.449380861085817\n",
      "DBA/2J,M,24.68541171767461\n",
      "DBA/2J,M,29.170823223262396\n",
      "DBA/2J,M,28.886779912674168\n",
      "DBA/2J,M,24.440387873876396\n",
      "DBA/2J,M,26.71821179308177\n",
      "DBA/2J,M,25.576410860499443\n",
      "DBA/2J,M,23.669939702286204\n",
      "DBA/2J,M,28.082726395066036\n",
      "DBA/2J,M,28.988429441733654\n",
      "DBA/2J,M,24.982344199558437\n",
      "DBA/2J,M,26.96574356806755\n",
      "DBA/2J,M,26.716292559937276\n",
      "DBA/2J,M,25.21123705960247\n",
      "DBA/2J,M,32.84822749238732\n",
      "DBA/2J,M,29.093882754844273\n",
      "DBA/2J,M,27.92085804344383\n",
      "DBA/2J,F,21.17974233579937\n",
      "DBA/2J,F,19.90305081375038\n",
      "DBA/2J,F,22.772565918622107\n",
      "DBA/2J,F,22.083173771944036\n",
      "DBA/2J,F,23.728558416911376\n",
      "DBA/2J,F,19.878103854050817\n",
      "DBA/2J,F,22.313846840489976\n",
      "DBA/2J,F,19.407845576399374\n",
      "DBA/2J,F,20.777771178509845\n",
      "DBA/2J,F,21.008243383770996\n",
      "DBA/2J,F,19.825213300939414\n",
      "DBA/2J,F,21.980381837396028\n",
      "DBA/2J,F,20.49139687070702\n",
      "DBA/2J,F,21.74505862439293\n",
      "DBA/2J,F,25.66196889314767\n",
      "DBA/2J,F,22.71324117017816\n",
      "DBA/2J,F,24.912001417033835\n",
      "DBA/2J,F,21.303434556183625\n",
      "DBA/2J,F,19.232783950903055\n",
      "DBA/2J,F,19.358331608638697\n",
      "DBA/2J,F,24.115654283053622\n",
      "DBA/2J,F,21.312142920856008\n",
      "DBA/2J,F,20.902013462173628\n",
      "DBA/2J,F,23.49752942218886\n",
      "DBA/2J,F,21.21672907358785\n",
      "DBA/2J,F,22.564268647856334\n",
      "DBA/2J,F,21.649434061189154\n",
      "DBA/2J,F,22.09905510588008\n",
      "DBA/2J,F,21.50155754638893\n",
      "DBA/2J,F,19.306072762463646\n",
      "DBA/2J,F,22.27501926983022\n",
      "DBA/2J,F,22.929310760050555\n",
      "DBA/2J,F,19.846868130280598\n",
      "DBA/2J,F,21.322485102646976\n",
      "DBA/2J,F,21.708861595650948\n",
      "DBA/2J,F,19.413607070910817\n",
      "DBA/2J,F,18.0914986871708\n",
      "DBA/2J,F,22.52703244211561\n",
      "DBA/2J,F,21.143851497941817\n",
      "DBA/2J,F,20.289422477430577\n",
      "DBA/2J,F,22.57762313302114\n",
      "DBA/2J,F,21.991308783716235\n",
      "DBA/2J,F,20.251252288008914\n",
      "DBA/2J,F,23.42862456978699\n",
      "DBA/2J,F,20.950242298038336\n",
      "DBA/2J,F,23.959039538547973\n",
      "DBA/2J,F,19.8515328574509\n",
      "DBA/2J,F,20.32329244173589\n",
      "DBA/2J,F,20.807710420049503\n",
      "DBA/2J,F,22.758766127055914\n",
      "DBA/2J,F,21.521046992053563\n",
      "DBA/2J,F,21.38886945188247\n",
      "DBA/2J,F,20.60139538635463\n",
      "DBA/2J,F,18.956160772537032\n",
      "DBA/2J,F,22.96406471328322\n",
      "DBA/2J,F,20.27707450613878\n",
      "DBA/2J,F,25.609932564831055\n",
      "DBA/2J,F,20.93246843044378\n",
      "DBA/2J,F,19.451095217238226\n",
      "DBA/2J,F,23.063811308719572\n",
      "DBA/2J,F,21.23595860703738\n",
      "DBA/2J,F,23.88734423379025\n",
      "DBA/2J,F,18.138660420324623\n",
      "DBA/2J,F,21.169590362768357\n",
      "DBA/2J,F,20.417927430435554\n",
      "DBA/2J,F,21.137812751067177\n",
      "DBA/2J,F,22.757338892807933\n",
      "DBA/2J,F,19.112438761849894\n",
      "DBA/2J,F,17.62835932495335\n",
      "DBA/2J,F,21.819121273440373\n",
      "DBA/2J,F,20.505681969293125\n",
      "DBA/2J,F,19.52912053352961\n",
      "DBA/2J,F,22.461093840014065\n",
      "DBA/2J,F,23.760301003203605\n",
      "DBA/2J,F,21.09237139693302\n",
      "DBA/2J,F,19.664923469743908\n",
      "DBA/2J,F,22.060463735175894\n",
      "DBA/2J,F,22.406016404611453\n",
      "DBA/2J,F,22.34029001386334\n",
      "DBA/2J,F,18.162330925092366\n",
      "DBA/2J,F,23.48421284636201\n",
      "DBA/2J,F,17.8896201232682\n",
      "DBA/2J,F,20.18698389036571\n",
      "DBA/2J,F,23.22505138824193\n",
      "DBA/2J,F,21.91894997606802\n",
      "DBA/2J,F,23.465553173099774\n",
      "DBA/2J,F,17.4110338035612\n",
      "DBA/2J,F,20.804041091509717\n",
      "DBA/2J,F,21.238919602635672\n",
      "DBA/2J,F,21.60176114748551\n",
      "DBA/2J,F,23.008116261866153\n",
      "DBA/2J,F,19.08432987458327\n",
      "DBA/2J,F,18.807993624007548\n",
      "DBA/2J,F,22.9775149287221\n",
      "DBA/2J,F,22.153449682867475\n",
      "DBA/2J,F,20.489587176647547\n",
      "DBA/2J,F,21.512788656125956\n",
      "DBA/2J,F,18.67733772989566\n",
      "DBA/2J,F,22.974728518480262\n",
      "DBA/2J,F,19.312053682005498\n",
      "\n"
     ]
    }
   ],
   "source": [
    "## TODO -- request the CSV version of the data using POST.\n",
    "response = requests.post('https://digdug.cs.endicott.edu/~hfeild/csc440/mouse.php',\n",
    "                        {'format': 'csv'} , timeout=2)\n",
    "if response.status_code == requests.codes.ALL_OK:\n",
    "    print('Success!')\n",
    "else:\n",
    "    print('ERROR!')\n",
    "print(response.text)"
   ]
  },
  {
   "cell_type": "markdown",
   "metadata": {
    "cell_id": "3f21330e90fd41d0a7c0d56ecbbe88a0"
   },
   "source": [
    "## Cookies & sessions\n",
    "\n",
    "In some situations, you may be accessing data from a site that stores information in cookies (e.g., for authentication). If that's the case, use sessions:"
   ]
  },
  {
   "cell_type": "code",
   "execution_count": 22,
   "metadata": {
    "cell_id": "32e905c940a440feba0112546dac8bc0",
    "execution_millis": 268,
    "execution_start": 1676038236499,
    "source_hash": "d8587a7b"
   },
   "outputs": [],
   "source": [
    "currentSession = requests.Session()\n",
    "response = currentSession.get('https://catalog.endicott.edu/preview_program.php?catoid=46&poid=5251', timeout=2)"
   ]
  },
  {
   "cell_type": "markdown",
   "metadata": {
    "cell_id": "17e8919b11874aa5989eb8a0648cd264"
   },
   "source": [
    "You can view the cookies received in the reponse by examining the `cookies` field:"
   ]
  },
  {
   "cell_type": "code",
   "execution_count": 23,
   "metadata": {
    "cell_id": "57661867e9c54ee5af677691ed157fac",
    "execution_millis": 44,
    "execution_start": 1676038236771,
    "source_hash": "41bafe42"
   },
   "outputs": [
    {
     "data": {
      "text/plain": [
       "<RequestsCookieJar[Cookie(version=0, name='AWSALB', value='T/PKqoY/PGIrvvDRZi89xXSYkbPsox28u8DoMOtPvSoaKS6bz30PeGr1hbydFngGl5fiuNdt6fKalWxiUx5bDTKlNb54jKpAIbtNd3wJC7t4i22GrzQzALWwzLa7', port=None, port_specified=False, domain='catalog.endicott.edu', domain_specified=False, domain_initial_dot=False, path='/', path_specified=True, secure=True, expires=1739975574, discard=False, comment=None, comment_url=None, rest={}, rfc2109=False), Cookie(version=0, name='AWSALBCORS', value='T/PKqoY/PGIrvvDRZi89xXSYkbPsox28u8DoMOtPvSoaKS6bz30PeGr1hbydFngGl5fiuNdt6fKalWxiUx5bDTKlNb54jKpAIbtNd3wJC7t4i22GrzQzALWwzLa7', port=None, port_specified=False, domain='catalog.endicott.edu', domain_specified=False, domain_initial_dot=False, path='/', path_specified=True, secure=True, expires=1739975574, discard=False, comment=None, comment_url=None, rest={'SameSite': 'None'}, rfc2109=False), Cookie(version=0, name='acalog_theme', value='1', port=None, port_specified=False, domain='catalog.endicott.edu', domain_specified=False, domain_initial_dot=False, path='/', path_specified=True, secure=True, expires=33275370835, discard=False, comment=None, comment_url=None, rest={}, rfc2109=False), Cookie(version=0, name='PHPSESSID', value='f3cc5630847d89192b8e83ccfc415510', port=None, port_specified=False, domain='catalog.endicott.edu', domain_specified=False, domain_initial_dot=False, path='/', path_specified=True, secure=True, expires=None, discard=True, comment=None, comment_url=None, rest={'HttpOnly': None}, rfc2109=False), Cookie(version=0, name='ADRUM_BT', value='R%3A0%7Cg%3A678b1ac5-559c-479a-92de-4f5c5832b8671347%7Cn%3Adigarc_881d5e4b-64f1-425e-8ceb-5e44d2b69b37%7Cd%3A94', port=None, port_specified=False, domain='catalog.endicott.edu', domain_specified=False, domain_initial_dot=False, path='/', path_specified=True, secure=True, expires=1739370805, discard=False, comment=None, comment_url=None, rest={}, rfc2109=False)]>"
      ]
     },
     "execution_count": 23,
     "metadata": {},
     "output_type": "execute_result"
    }
   ],
   "source": [
    "# This holds the cookies sent from the server.\n",
    "response.cookies\n"
   ]
  },
  {
   "cell_type": "markdown",
   "metadata": {
    "cell_id": "e9201960a79844b1b69706dd7ce2be71"
   },
   "source": [
    "## Scraping\n",
    "\n",
    "Let's use [BeautifulSoup](https://beautiful-soup-4.readthedocs.io/en/latest/) to extract the list of CSC courses a major should take in their Sophomore year."
   ]
  },
  {
   "cell_type": "code",
   "execution_count": 24,
   "metadata": {
    "cell_id": "8e9323bda46449dcb447b2a6e90c39c9",
    "execution_millis": 361,
    "execution_start": 1676038236814,
    "scrolled": true,
    "source_hash": "750bdde4"
   },
   "outputs": [
    {
     "data": {
      "text/plain": [
       "<!DOCTYPE html>\n",
       "<html lang=\"en\">\n",
       "<head>\n",
       "<title>Program: Computer Science Major (Bachelor of Science) - Endicott College - Modern Campus Catalog™</title>\n",
       "<meta content=\"text/html; charset=utf-8\" http-equiv=\"Content-Type\"/>\n",
       "<link href=\"//acalog-clients.s3.amazonaws.com/production/endicott/img/favicon/favicon.ico\" rel=\"shortcut icon\"/>\n",
       "<meta content=\"Endicott College Academic Catalog. Endicott College, 376 Hale Street, Beverly, MA, USA. Endicott offers Bachelor of Arts, B.A., Bachelor of Fine Arts, B.F.A., Bachelor of Science, B.S., Master of Education, M.Ed., Master of Business Administration, M.B.A., Master of Science, M.S., Master of Arts, M.A., Master of Fine Arts, M.F.A., and Associate in Science (A.S.) degrees.Most students select Endicott after a personal tour of our oceanfront campus ends their search for the ideal academic experience.\" name=\"description\"/><meta content=\"academic, catalogs, undergraduate, Endicott College, programs, courses, Endicott, endicott college, endicott, north shore, liberal arts, college, oceanfront campus, ecgulls, internships, graduate school, new england, massachusetts, ba, bfa, bs, med, mba, ms, mfa, ma, mexico, madrid, international studies, halle library, wylie center, center for the arts , graduate, undergraduate, global, internships, research center, arts, alumni, athletics, arts and sciences, business, communication, education, hospitality management, international, international education, nursing, sport science, visual and performing arts, performing arts, exhibits, bachelor of science, bachelor of arts, bachelor of fine arts, master of arts, master of science, master of fine arts, mba, med, master of education, management development, adult undergraduate, institute for behavioral studies, online learning, online, wylie inn, wylie inn and conference center, wylie inn and conference center at endicott college, political science\" name=\"keywords\"/> <link href=\"//acalog-clients.s3.amazonaws.com/production/endicott/css/gateway/user-styles.css\" rel=\"stylesheet\" type=\"text/css\"/>\n",
       "<link href=\"css/public_custom.php\" rel=\"stylesheet\" type=\"text/css\"/>\n",
       "<link href=\"global_styles.css\" rel=\"stylesheet\" type=\"text/css\"/>\n",
       "<!--[if IE]>\n",
       "\t\t\t<link rel=\"stylesheet\" type=\"text/css\" href=\"ie.css\" />\n",
       "\t\t\t<![endif]-->\n",
       "<!-- Cache-busting string (deploy date) added to asset URLS -->\n",
       "<script src=\"js/jquery.js?v=01252018\" type=\"text/javascript\"></script>\n",
       "<script src=\"js/Tooltip.js?v=01252018\" type=\"text/javascript\"></script>\n",
       "<script src=\"javascripts.js?v=02232018\" type=\"text/javascript\"></script>\n",
       "<script src=\"js/smlinks.js?v=01252018\" type=\"text/javascript\"></script>\n",
       "<script src=\"/js/highlight.js?v=01252018\" type=\"text/javascript\"></script>\n",
       "<script type=\"text/javascript\">\n",
       "window.dataLayer = window.dataLayer || []; \n",
       "function gtag(){dataLayer.push(arguments);} \n",
       "gtag('js', new Date());\n",
       "\n",
       "gtag('config', 'UA-2591870-4'); \n",
       "</script><noscript><p><span class=\"error\">Javascript is currently not supported, or is disabled by this browser. Please enable Javascript for full functionality.</span></p></noscript>\n",
       "<script type=\"text/javascript\">var gatewayFeatureSearchBar = true; var gatewayFeatureToolbarText = false; var gatewayFeatureBackToTopText = false;</script>\n",
       "<link href=\"//acalog-clients.s3.amazonaws.com/global/css/gateway-styles-reset.css\" rel=\"stylesheet\" type=\"text/css\">\n",
       "<link href=\"//acalog-clients.s3.amazonaws.com/global/css/gateway-styles-nojs.css\" id=\"gateway-styles-nojs\" rel=\"stylesheet\" type=\"text/css\">\n",
       "<link href=\"//acalog-clients.s3.amazonaws.com/production/endicott/css/gateway/gateway-styles.css?v=5\" rel=\"stylesheet\" type=\"text/css\">\n",
       "<script type=\"text/javascript\">document.getElementById(\"gateway-styles-nojs\").parentNode.removeChild(document.getElementById(\"gateway-styles-nojs\"));</script>\n",
       "<script src=\"//ajax.googleapis.com/ajax/libs/jquery/1.8.1/jquery.min.js\" type=\"text/javascript\"></script>\n",
       "<script src=\"//acalog-clients.s3.amazonaws.com/global/js/jquery.browser.js\" type=\"text/javascript\"></script>\n",
       "<script src=\"//acalog-clients.s3.amazonaws.com/global/js/gateway-javascript.js\" type=\"text/javascript\"></script>\n",
       "<!--[if lte IE 8]><script type=\"text/javascript\" src=\"//acalog-clients.s3.amazonaws.com/global/js/select-fix.js\"></script><![endif]-->\n",
       "<script src=\"https://ajax.googleapis.com/ajax/libs/jquery/3.4.1/jquery.min.js\"></script>\n",
       "<script src=\"https://code.jquery.com/jquery-migrate-git.min.js\"></script>\n",
       "<link href=\"https://cdnjs.cloudflare.com/ajax/libs/select2/4.0.12/css/select2.min.css\" rel=\"stylesheet\"/>\n",
       "<!-- Begin Responsive -->\n",
       "<meta content=\"width=device-width, initial-scale=1, minimum-scale=1\" name=\"viewport\">\n",
       "<script crossorigin=\"anonymous\" src=\"https://kit.fontawesome.com/e35e04f508.js\"></script>\n",
       "<script src=\"mobile-js.js\"></script>\n",
       "<link href=\"mobile-styles.css\" rel=\"stylesheet\" type=\"text/css\"/>\n",
       "<!-- End Responsive -->\n",
       "<script src=\"/js/pathways.js\"></script>\n",
       "</meta></link></link></link></head>\n",
       "<body>\n",
       "<!-- Skip to Navigation -->\n",
       "<nav aria-label=\"Skip to Main Content\" id=\"skip\">\n",
       "<a class=\"skip-nav\" href=\"#select_catalog\">Skip to Content</a>\n",
       "</nav>\n",
       "<table class=\"toplevel table_default\">\n",
       "<tr role=\"banner\">\n",
       "<td class=\"block_n2_and_content\" colspan=\"2\" id=\"acalog-header\"><div class=\"acalog-custom\" id=\"acalog-client-javascript\">\n",
       "<script type=\"text/javascript\">\n",
       "    jQuery(document).ready( function($) { if ($('#gateway-page').length) {\n",
       "\n",
       "        $('#acalog-client-header').wrapInner('<div class=\"js\"><\\/div>');\n",
       "\n",
       "    $( \"html\" ).addClass( \"js\" );\n",
       "\n",
       "    $('.gateway-footer-copyright-1').remove();\n",
       "\n",
       "    $(window).load(function(){\n",
       "    $( \".subnav-dropdown\" ).click(function(e) {\n",
       "    $( this ).toggleClass( \"active\" );\n",
       "    $( \".top-nav, .subnav\" ).toggleClass( \"block\" );\n",
       "    });\n",
       "    });\n",
       "\n",
       "    }});\n",
       "</script>\n",
       "</div>\n",
       "<!-- End Client Javascript -->\n",
       "<!-- Start Client Header -->\n",
       "<div class=\"acalog-custom\" id=\"acalog-client-header\">\n",
       "<div>\n",
       "<header aria-label=\"site header container\">\n",
       "<div id=\"header-wrap\">\n",
       "<div aria-label=\"Endicott College site header\" class=\"sticky\" data-selector-id=\"header\">\n",
       "<a class=\"screen-reader-text\" href=\"#content\">Skip to main content</a>\n",
       "<div class=\"site-width\">\n",
       "<div class=\"brand site-shift\">\n",
       "<a href=\"https://www.endicott.edu/\">Endicott College</a>\n",
       "<div data-selector-id=\"menu-toggle\"></div>\n",
       "</div>\n",
       "<div data-selector-id=\"main-menu\">\n",
       "<div data-selector-id=\"main-search\">\n",
       "<div class=\"stage\">\n",
       "<form action=\"https://www.endicott.edu/search-results\" method=\"get\">\n",
       "<label class=\"screen-reader-text\" for=\"main-search-box\">Search our site</label> <input class=\"search-box\" data-selector-id=\"main-search-box\" id=\"main-search-box\" name=\"q\" placeholder=\"Search our site\" type=\"text\"/> <input class=\"search-button\" type=\"submit\" value=\"Search\"/>\n",
       "</form>\n",
       "</div>\n",
       "</div>\n",
       "<nav aria-label=\"main navigation\" data-selector-id=\"main-nav\">\n",
       "<ul>\n",
       "<li class=\"home\">\n",
       "<a href=\"https://www.endicott.edu/\">Home</a>\n",
       "</li>\n",
       "<li>\n",
       "<a aria-label=\"expand or collapse About menu\" href=\"javascript:void(0);\">About</a>\n",
       "<div class=\"stage\">\n",
       "<div class=\"grid\">\n",
       "<div class=\"col\">\n",
       "<a class=\"title\" href=\"https://www.endicott.edu/about\">About</a>\n",
       "<ul>\n",
       "<li>\n",
       "<a href=\"https://www.endicott.edu/about/why-endicott\">Why Endicott?</a>\n",
       "</li>\n",
       "<li>\n",
       "<a href=\"https://www.endicott.edu/about/leadership\">Leadership</a>\n",
       "</li>\n",
       "<li>\n",
       "<a href=\"https://www.endicott.edu/about/arts-culture\">Arts and Culture</a>\n",
       "</li>\n",
       "<li>\n",
       "<a href=\"https://www.endicott.edu/about/research-at-endicott\">Research at Endicott</a>\n",
       "</li>\n",
       "<li>\n",
       "<a href=\"https://www.endicott.edu/about/campus-planning-and-construction\">Campus Planning and Construction</a>\n",
       "</li>\n",
       "<li>\n",
       "<a href=\"https://www.endicott.edu/about/sustainability\">Sustainability</a>\n",
       "</li>\n",
       "<li>\n",
       "<a href=\"https://www.endicott.edu/about/faculty-staff-directory\">Faculty and Staff Directory</a>\n",
       "</li>\n",
       "<li>\n",
       "<a href=\"https://www.endicott.edu/about/key-offices-departments\">Key Offices and Departments</a>\n",
       "</li>\n",
       "<li>\n",
       "<a href=\"https://www.endicott.edu/about/locations-directions\">Locations and Directions</a>\n",
       "</li>\n",
       "<li>\n",
       "<a href=\"https://www.endicott.edu/about/contact-us\">Contact Us</a>\n",
       "</li>\n",
       "</ul>\n",
       "</div>\n",
       "</div>\n",
       "</div>\n",
       "</li>\n",
       "<li>\n",
       "<a aria-label=\"expand or collapse Admission menu\" href=\"javascript:void(0);\">Admission</a>\n",
       "<div class=\"stage wide\">\n",
       "<div class=\"grid\">\n",
       "<div class=\"col-2/3\">\n",
       "<a class=\"title\" href=\"https://www.endicott.edu/admission\">Undergraduate College Admission</a>\n",
       "<ul>\n",
       "<li>\n",
       "<a href=\"https://www.endicott.edu/admission/how-to-apply\">How to Apply</a>\n",
       "</li>\n",
       "<li>\n",
       "<a href=\"https://www.endicott.edu/admission/admission-criteria\">Admission Criteria</a>\n",
       "</li>\n",
       "<li>\n",
       "<a href=\"https://www.endicott.edu/admission/tuition-financial-aid\">Tuition and Financial Aid</a>\n",
       "</li>\n",
       "<li>\n",
       "<a href=\"https://www.endicott.edu/admission/meet-the-admission-team\">Meet the Admission Team</a>\n",
       "</li>\n",
       "<li>\n",
       "<a href=\"https://www.endicott.edu/admission/plan-a-visit\">Plan A Visit</a>\n",
       "</li>\n",
       "<li>\n",
       "<a href=\"https://www.endicott.edu/admission/information-for-accepted-students\"><em>for</em> Accepted Students</a>\n",
       "</li>\n",
       "<li>\n",
       "<a href=\"https://www.endicott.edu/admission/information-for-parents-and-families\"><em>for</em> Parents and Families</a>\n",
       "</li>\n",
       "<li>\n",
       "<a href=\"https://www.endicott.edu/admission/information-for-guidance-colleagues\"><em>for</em> Guidance Colleagues</a>\n",
       "</li>\n",
       "</ul>\n",
       "</div>\n",
       "<div class=\"col-1/3\">\n",
       "<a class=\"title\" href=\"https://vanloan.endicott.edu/admission-registration\">Graduate and Professional Studies Admission</a>\n",
       "<div class=\"info\">\n",
       "<p>\n",
       "                                                            Application information for the Van Loan School at Endicott College.\n",
       "                                                        </p>\n",
       "</div>\n",
       "</div>\n",
       "</div>\n",
       "</div>\n",
       "</li>\n",
       "<li>\n",
       "<a aria-label=\"expand or collapse Academics menu\" href=\"javascript:void(0);\">Academics</a>\n",
       "<div class=\"stage wide\">\n",
       "<div class=\"grid\">\n",
       "<div class=\"col-2/3\">\n",
       "<a class=\"title\" href=\"https://www.endicott.edu/academics\">Academics</a>\n",
       "<ul>\n",
       "<li>\n",
       "<a href=\"https://www.endicott.edu/academics/programs-of-study\">Programs of Study</a>\n",
       "</li>\n",
       "<li>\n",
       "<a href=\"https://www.endicott.edu/academics/general-education-core-requirements\">General Education Core Requirements</a>\n",
       "</li>\n",
       "<li>\n",
       "<a href=\"https://www.endicott.edu/academics/schools\">Schools</a>\n",
       "</li>\n",
       "<li>\n",
       "<a href=\"https://www.endicott.edu/academics/academic-opportunities\">Academic Opportunities</a>\n",
       "</li>\n",
       "<li>\n",
       "<a href=\"https://www.endicott.edu/academics/academic-resources-support\">Academic Resources and Support</a>\n",
       "</li>\n",
       "<li>\n",
       "<a href=\"https://www.endicott.edu/academics/our-faculty\">Our Faculty</a>\n",
       "</li>\n",
       "<li>\n",
       "<a href=\"https://www.endicott.edu/academics/international-education\">International Education</a>\n",
       "</li>\n",
       "<li>\n",
       "<a href=\"https://www.endicott.edu/academics/centers-institutes\">Centers and Institutes</a>\n",
       "</li>\n",
       "</ul>\n",
       "</div>\n",
       "<div class=\"col-1/3\">\n",
       "<a class=\"title\" href=\"https://vanloan.endicott.edu/programs-of-study\">Graduate and Professional Programs</a>\n",
       "<div class=\"info\">\n",
       "<p>\n",
       "                                                            Endicott’s Van Loan School offers adult undergraduate and graduate programs in Beverly, Boston, and online, plus executive education.\n",
       "                                                        </p>\n",
       "</div>\n",
       "</div>\n",
       "</div>\n",
       "</div>\n",
       "</li>\n",
       "<li>\n",
       "<a aria-label=\"expand or collapse Student Life menu\" href=\"javascript:void(0);\">Student Life</a>\n",
       "<div class=\"stage endalign\">\n",
       "<div class=\"grid\">\n",
       "<div class=\"col\">\n",
       "<a class=\"title\" href=\"https://www.endicott.edu/student-life\">Student Life</a>\n",
       "<ul>\n",
       "<li>\n",
       "<a href=\"https://www.endicott.edu/student-life/housing-residence-life\">Housing and Residence Life</a>\n",
       "</li>\n",
       "<li>\n",
       "<a href=\"https://www.endicott.edu/student-life/activities-events\">Activities and Events</a>\n",
       "</li>\n",
       "<li>\n",
       "<a href=\"https://www.endicott.edu/student-life/athletics-recreation\">Athletics and Recreation</a>\n",
       "</li>\n",
       "<li>\n",
       "<a href=\"https://www.endicott.edu/student-life/health-wellness\">Health and Wellness</a>\n",
       "</li>\n",
       "<li>\n",
       "<a href=\"https://www.endicott.edu/student-life/community-service\">Community Service</a>\n",
       "</li>\n",
       "<li>\n",
       "<a href=\"https://www.endicott.edu/student-life/student-services\">Student Services</a>\n",
       "</li>\n",
       "<li>\n",
       "<a href=\"https://www.endicott.edu/student-life/safety-security\">Safety and Security</a>\n",
       "</li>\n",
       "<li>\n",
       "<a href=\"https://www.endicott.edu/student-life/new-student-orientation\">New Student Orientation</a>\n",
       "</li>\n",
       "<li>\n",
       "<a href=\"https://www.endicott.edu/student-life/contact-student-life\">Contact Student Life</a>\n",
       "</li>\n",
       "</ul>\n",
       "</div>\n",
       "</div>\n",
       "</div>\n",
       "</li>\n",
       "<li>\n",
       "<a aria-label=\"expand or collapse Internships and Careers menu\" href=\"javascript:void(0);\">Internships and Careers</a>\n",
       "<div class=\"stage endalign\">\n",
       "<div class=\"grid\">\n",
       "<div class=\"col\">\n",
       "<a class=\"title\" href=\"https://www.endicott.edu/internships-careers\">Internships and Careers</a>\n",
       "<ul>\n",
       "<li>\n",
       "<a href=\"https://www.endicott.edu/internships-careers/four-year-internship-program\">Four-Year Internship Program</a>\n",
       "</li>\n",
       "<li>\n",
       "<a href=\"https://www.endicott.edu/internships-careers/internship-career-services-resources\">Internship and Career Services and Resources</a>\n",
       "</li>\n",
       "<li>\n",
       "<a href=\"https://www.endicott.edu/internships-careers/internship-career-events\">Internship and Career Events</a>\n",
       "</li>\n",
       "<li>\n",
       "<a href=\"https://www.endicott.edu/internships-careers/student-stories\">Student Stories</a>\n",
       "</li>\n",
       "<li>\n",
       "<a href=\"https://www.endicott.edu/internships-careers/information-for-employers\"><em>for</em> Employers</a>\n",
       "</li>\n",
       "<li>\n",
       "<a href=\"https://www.endicott.edu/internships-careers/information-for-alumni\"><em>for</em> Alumni</a>\n",
       "</li>\n",
       "<li>\n",
       "<a href=\"https://www.endicott.edu/internships-careers/contact-internship-career-center\">Contact Internship and Career Center</a>\n",
       "</li>\n",
       "</ul>\n",
       "</div>\n",
       "</div>\n",
       "</div>\n",
       "</li>\n",
       "<li>\n",
       "<a aria-label=\"expand or collapse News and Events menu\" href=\"javascript:void(0);\">News and Events</a>\n",
       "<div class=\"stage endalign\">\n",
       "<div class=\"grid\">\n",
       "<div class=\"col\">\n",
       "<a class=\"title\" href=\"https://www.endicott.edu/news-events\">News and Events</a>\n",
       "<ul>\n",
       "<li>\n",
       "<a href=\"https://www.endicott.edu/news-events/news\">News</a>\n",
       "</li>\n",
       "<li>\n",
       "<a href=\"https://www.endicott.edu/news-events/commencement\">Commencement</a>\n",
       "</li>\n",
       "<li>\n",
       "<a href=\"https://www.endicott.edu/news-events/soundings-magazine\">Soundings Magazine</a>\n",
       "</li>\n",
       "<li>\n",
       "<a href=\"https://www.endicott.edu/news-events/homecoming-and-family-weekend\">Homecoming and Family Weekend</a>\n",
       "</li>\n",
       "<li>\n",
       "<a href=\"http://events.endicott.edu/\">Events Calendar</a>\n",
       "</li>\n",
       "<li>\n",
       "<a href=\"https://www.endicott.edu/news-events/college-publications\">College Publications</a>\n",
       "</li>\n",
       "</ul>\n",
       "</div>\n",
       "</div>\n",
       "</div>\n",
       "</li>\n",
       "<li>\n",
       "<a aria-label=\"expand or collapse Alumni menu\" href=\"javascript:void(0);\">Alumni</a>\n",
       "<div class=\"stage endalign\">\n",
       "<div class=\"grid\">\n",
       "<div class=\"col\">\n",
       "<a class=\"title\" href=\"https://www.endicott.edu/alumni\">Alumni</a>\n",
       "<ul>\n",
       "<li>\n",
       "<a href=\"https://www.endicott.edu/alumni/alumni-news-events\">Alumni News and Events</a>\n",
       "</li>\n",
       "<li>\n",
       "<a href=\"https://www.endicott.edu/alumni/reunion-weekend\">Reunion Weekend</a>\n",
       "</li>\n",
       "<li>\n",
       "<a href=\"https://www.endicott.edu/alumni/alumni-resources-benefits\">Alumni Resources and Benefits</a>\n",
       "</li>\n",
       "<li>\n",
       "<a href=\"https://www.endicott.edu/alumni/alumni-travel-program\">Alumni Travel Program</a>\n",
       "</li>\n",
       "<li>\n",
       "<a href=\"https://www.endicott.edu/alumni/alumni-volunteer-opportunities\">Alumni Volunteer Opportunities</a>\n",
       "</li>\n",
       "<li>\n",
       "<a href=\"https://www.endicott.edu/alumni/alumni-council\">Alumni Council</a>\n",
       "</li>\n",
       "<li>\n",
       "<a href=\"https://www.endicott.edu/alumni/keep-in-touch-with-us\">Alumni - Keep in Touch with Us</a>\n",
       "</li>\n",
       "</ul>\n",
       "</div>\n",
       "</div>\n",
       "</div>\n",
       "</li>\n",
       "<li data-selector-id=\"search-toggle\">\n",
       "<a href=\"#\">Search</a>\n",
       "</li>\n",
       "</ul>\n",
       "</nav>\n",
       "<div data-selector-id=\"sub-nav\">\n",
       "<ul>\n",
       "<li>\n",
       "<a href=\"http://www.ecgulls.com/landing/index\">Athletics</a>\n",
       "</li>\n",
       "<li>\n",
       "<a href=\"https://www.endicott.edu/about/faculty-staff-directory\">Directory</a>\n",
       "</li>\n",
       "<li>\n",
       "<a href=\"https://vanloan.endicott.edu/\">Van Loan School</a>\n",
       "</li>\n",
       "</ul><a class=\"give-link\" href=\"https://www.endicott.edu/give\">Give</a>\n",
       "</div>\n",
       "<div aria-label=\"Student Resources\" class=\"top-nav\" data-selector-id=\"tools\" role=\"navigation\">\n",
       "<div class=\"site-width\">\n",
       "<a class=\"subnav-dropdown\" data-selector-id=\"tools-toggle\" href=\"#\">Student Resources</a>\n",
       "<ul class=\"subnav\">\n",
       "<li>\n",
       "<a href=\"http://catalog.endicott.edu/\">Academic Catalog</a>\n",
       "</li>\n",
       "<li>\n",
       "<a href=\"https://www.endicott.edu/academics/academic-resources-support/academic-calendar\">Academic Calendar</a>\n",
       "</li>\n",
       "<li>\n",
       "<a href=\"https://www.endicott.edu/academics/academic-resources-support/halle-library\">Halle Library</a>\n",
       "</li>\n",
       "<li>\n",
       "<a href=\"http://www.bkstr.com/endicottstore/home/en\">Bookstore</a>\n",
       "</li>\n",
       "<li>\n",
       "<a href=\"https://canvas.endicott.edu/login/ldap\">Canvas</a>\n",
       "</li>\n",
       "<li>\n",
       "<a href=\"https://www.endicott.edu/student-life/student-services/gull-card\">Gull Card</a>\n",
       "</li>\n",
       "<li>\n",
       "<a href=\"https://my.endicott.edu/ICS/\">My Endicott</a>\n",
       "</li>\n",
       "</ul>\n",
       "</div>\n",
       "</div>\n",
       "<div class=\"action-calls\">\n",
       "<a class=\"action apply\" href=\"https://www.endicott.edu/admission/how-to-apply\">Apply</a> <a class=\"action info\" href=\"https://apply.endicott.edu/register/requestinfo\">Request Info</a> <a class=\"action plan\" href=\"https://www.endicott.edu/admission/plan-a-visit\">Plan a Visit</a>\n",
       "</div>\n",
       "</div>\n",
       "</div>\n",
       "</div>\n",
       "</div>\n",
       "</header>\n",
       "</div>\n",
       "</div>\n",
       "<!-- End Client Header -->\n",
       "<!-- Start Client Footer -->\n",
       "<div class=\"acalog-custom\" id=\"acalog-client-footer\">\n",
       "<div>\n",
       "<footer aria-label=\"site footer container\" class=\"site-shift\" id=\"footer\">\n",
       "<div class=\"footer-border\"></div>\n",
       "<div class=\"footer\">\n",
       "<div class=\"site-width\">\n",
       "<a class=\"award-link\" href=\"https://www.usnews.com/best-colleges/endicott-college-2148\" target=\"_blank\"><img alt=\"U.S. News &amp; World Report Best Colleges, Regional Universities - North 2019 award badge\" src=\"//acalog-clients.s3.amazonaws.com/production/endicott/img/gateway/best-colleges-regional-universities-north-2019.png\"/></a>\n",
       "<div class=\"stage\">\n",
       "<div class=\"section brand\">\n",
       "<a href=\"https://www.endicott.edu/\">Endicott College</a>\n",
       "</div>\n",
       "<div class=\"section contact\">\n",
       "<div class=\"address\">\n",
       "<strong>Endicott College</strong><br/>\n",
       "<a href=\"https://goo.gl/maps/ft9EcVLVgXN2\" target=\"_blank\">376 Hale Street<br/>\n",
       "                                Beverly, MA 01915</a>\n",
       "</div>\n",
       "<div class=\"phone\">\n",
       "<a href=\"tel:9789270585\">978-927-0585</a> <a href=\"tel:8003251114\">800-325-1114</a>\n",
       "</div><a class=\"icon-location\" href=\"https://www.endicott.edu/about/locations-directions\">Location and Directions</a> <a class=\"icon-profile\" href=\"https://www.endicott.edu/about/faculty-staff-directory\">Directory</a> <a class=\"icon-info\" href=\"https://www.endicott.edu/about/contact-us\">Contact Us</a>\n",
       "</div>\n",
       "<div class=\"section map\">\n",
       "<a href=\"http://map.endicott.edu\"><img alt=\"campus map graphic\" src=\"https://www.endicott.edu/images/campus-map-1x.jpg\" srcset=\"https://www.endicott.edu/images/campus-map-1x.jpg 1x, https://www.endicott.edu/images/campus-map-2x.jpg 2x\"/> <span>Campus Map</span></a>\n",
       "</div>\n",
       "<div class=\"section links-grid\">\n",
       "<div class=\"connected\">\n",
       "<a class=\"social-facebook\" href=\"https://www.facebook.com/EndicottCollege\">Facebook</a> <a class=\"social-twitter\" href=\"https://twitter.com/EndicottCollege\">Twitter</a> <a class=\"social-instagram\" href=\"https://www.instagram.com/endicottcollege\">Instagram</a> <a class=\"social-youtube\" href=\"https://www.youtube.com/user/endicottcollege\">YouTube</a> <a class=\"arrow\" href=\"https://www.endicott.edu/about/key-offices-departments/communications-and-marketing/social-media\">Stay Connected</a>\n",
       "</div>\n",
       "<div class=\"athletics\">\n",
       "<a href=\"http://www.ecgulls.com/\"><img alt=\"Endicott College Gulls\" src=\"//acalog-clients.s3.amazonaws.com/production/endicott/img/gateway/logo-athletics.png\"/> <span>Athletics</span></a>\n",
       "</div>\n",
       "<div class=\"links\">\n",
       "<ul>\n",
       "<li>\n",
       "<a href=\"https://vanloan.endicott.edu/\">Van Loan School</a>\n",
       "</li>\n",
       "<li>\n",
       "<a href=\"https://www.endicott.edu/academics/academic-resources-support/halle-library\">Halle Library</a>\n",
       "</li>\n",
       "<li>\n",
       "<a href=\"http://www.bkstr.com/endicottstore/home/en\">Bookstore</a>\n",
       "</li>\n",
       "<li>\n",
       "<a href=\"https://www.endicott.edu/about/arts-culture\">Arts and Culture</a>\n",
       "</li>\n",
       "<li>\n",
       "<a href=\"https://www.eventbrite.com/o/endicott-college-4581762391\" target=\"_blank\">Event Tickets</a>\n",
       "</li>\n",
       "<li>\n",
       "<a href=\"https://www.misselwood.com/\">Misselwood Events</a>\n",
       "</li>\n",
       "<li>\n",
       "<a href=\"http://wyliecenter.com/\" target=\"_blank\">Wylie Inn and Conference Center</a>\n",
       "</li>\n",
       "<li>\n",
       "<a href=\"https://www.endicott.edu/about/key-offices-departments/human-resources/employment-opportunities\">Employment</a>\n",
       "</li>\n",
       "<li>\n",
       "<a href=\"https://www.endicott.edu/about/key-offices-departments/public-safety/emergency-alerts-communications\">Emergency Alerts</a>\n",
       "</li>\n",
       "</ul>\n",
       "</div>\n",
       "</div>\n",
       "</div>\n",
       "</div>\n",
       "</div>\n",
       "<section aria-label=\"copyright info\" class=\"site-shift\" id=\"copyright\" role=\"navigation\">\n",
       "<div class=\"site-width\">\n",
       "<span>© Endicott College. All rights reserved. <a href=\"https://www.endicott.edu/consumer-disclosure\">Consumer Disclosure</a> <a href=\"https://www.endicott.edu/about/why-endicott/accreditation\">Accreditation</a> <a href=\"https://www.endicott.edu/privacy-policy\">Privacy Policy</a> <a href=\"https://www.endicott.edu/accessibility\">Accessibility</a></span>\n",
       "</div>\n",
       "</section>\n",
       "</footer>\n",
       "</div>\n",
       "</div>\n",
       "<!-- End Client Footer -->\n",
       "<script src=\"//acalog-clients.s3.amazonaws.com/production/endicott/img/gateway/script-block-02.js\" type=\"text/javascript\"></script>\n",
       "<script src=\"//acalog-clients.s3.amazonaws.com/production/endicott/img/gateway/main.min.js?v=11\" type=\"text/javascript\"></script>\n",
       "<script src=\"//acalog-clients.s3.amazonaws.com/production/endicott/img/gateway/jquery-migrate-1.4.1.js\" type=\"text/javascript\"></script></td>\n",
       "</tr>\n",
       "<tr class=\"acalog-block-n1\" role=\"complementary\">\n",
       "<td class=\"block_n1_left\">   </td>\n",
       "<td class=\"block_n1_right\">\n",
       "<span class=\"n1_header\">\n",
       "\t\t\t\tEndicott College\t\t\t\t\t</span>\n",
       "</td>\n",
       "</tr>\n",
       "<tr role=\"main\">\n",
       "<td class=\"block_border_left\">   </td>\n",
       "<td class=\"block_n2_and_content\">\n",
       "<table class=\"block_n2_and_content table_default\">\n",
       "<tr>\n",
       "<!-- Begin N3 -->\n",
       "<td class=\"block_date_outer_left small_date_pad\"> </td>\n",
       "<td class=\"block_date_inner medium_date_pad\">\n",
       "<span class=\"date\"> \n",
       "\t\t\t\tFeb 12, 2025\t\t\t</span>\n",
       "</td>\n",
       "<td class=\"block_date_outer_right small_date_pad\"> </td>\n",
       "<td class=\"block_n2_and_content\">\n",
       "<table class=\"table_default\">\n",
       "<tr>\n",
       "<td class=\"block_n3_off block_n3_left\">\n",
       "<span class=\"n3_header\"><span id=\"acalog-catalog-name\">2024-2025 Endicott College Academic Catalog</span> </span>\n",
       "</td>\n",
       "<td class=\"block_n3_off block_n3_right float_right\">\n",
       "<form action=\"/index.php\" method=\"post\" name=\"select_catalog\">\n",
       "<table class=\"default_no_width\">\n",
       "<tr>\n",
       "<td>\n",
       "\t\t\t\t\t\t\t\t </td><td> \t\t\t\t\t\t\t</td>\n",
       "</tr>\n",
       "</table>\n",
       "</form>\n",
       "</td>\n",
       "</tr>\n",
       "</table>\n",
       "</td>\n",
       "<!-- End N3. -->\n",
       "</tr>\n",
       "<tr>\n",
       "<!-- N2 goes here. -->\n",
       "<td class=\"block_n2\" colspan=\"3\" id=\"acalog-nav\">\n",
       "<table class=\"block_n2_content links_table\">\n",
       "<tr>\n",
       "<td aria-labelledby=\"n2_search_header\" class=\"block_n2_search\" role=\"search\">\n",
       "<form action=\"/search_advanced.php\" method=\"get\" name=\"n2_search\" onsubmit=\"return validateSearchOptions()\">\n",
       "<fieldset id=\"global-search-fieldset\">\n",
       "<legend>Global Search</legend>\n",
       "<input name=\"cur_cat_oid\" title=\"Cur Cat OID\" type=\"hidden\" value=\"46\"/>\n",
       "<input name=\"search_database\" title=\"Search Database\" type=\"hidden\" value=\"Search\"/>\n",
       "<input name=\"search_db\" title=\"Search\" type=\"hidden\" value=\"Search\"/>\n",
       "<input name=\"cpage\" title=\"cpage\" type=\"hidden\" value=\"1\"/>\n",
       "<input name=\"ecpage\" title=\"ecpage\" type=\"hidden\" value=\"1\"/>\n",
       "<input name=\"ppage\" title=\"ppage\" type=\"hidden\" value=\"1\"/>\n",
       "<input name=\"spage\" title=\"spage\" type=\"hidden\" value=\"1\"/>\n",
       "<input name=\"tpage\" title=\"tpage\" type=\"hidden\" value=\"1\"/>\n",
       "<span class=\"n2_search_header\" id=\"n2_search_header\">Catalog Search</span> <br/>\n",
       "<span class=\"show\">\n",
       "<label class=\"no_display\" for=\"location\">Choose Search Location</label>\n",
       "<div id=\"location_select_parent\">\n",
       "<script>\n",
       "\t\t\t\t\t\tfunction reloadLocations() {\n",
       "\t\t\t\t\t\t\tvar locations_in_use = 0; \n",
       "\t\t\t\t\t\t\tvar chosen_locations_div = document.getElementById('chosen_locations_div');\n",
       "\t\t\t\t\t\t\tvar category = document.getElementById('location').value;\n",
       "\t\t\t\t\t\t\tif((category === '1' || category === '3' || category === '33') && (locations_in_use !== 0)){\n",
       "\t\t\t\t\t\t\t\tchosen_locations_div.classList.remove(\"disabled\");\n",
       "\t\t\t\t\t\t\t} else {\n",
       "\t\t\t\t\t\t\t\tchosen_locations_div.classList.add(\"disabled\");\n",
       "\t\t\t\t\t\t\t}\n",
       "\t\t\t\t\t\t};\n",
       "\t\t\t\t\t</script>\n",
       "<select id=\"location\" name=\"location\" onchange=\"reloadLocations();\" title=\"Choose Search Location\">\n",
       "<option value=\"-1\">Select an option</option>\n",
       "<option selected=\"\" value=\"3\">Courses</option>\n",
       "<option selected=\"\" value=\"1\">Programs</option>\n",
       "<option selected=\"\" value=\"28\">Schools/Colleges &amp; Departments</option>\n",
       "<option selected=\"\" value=\"30\">Policies and Other Non-Academic Content</option>\n",
       "<option selected=\"\" value=\"33\">Entire Catalog</option>\n",
       "</select>\n",
       "</div>\n",
       "<br/>\n",
       "</span>\n",
       "<span>\n",
       "<div class=\"\" id=\"chosen_locations_div\">\n",
       "</div>\n",
       "</span>\n",
       "<span class=\"show\">\n",
       "<label class=\"no_display\" for=\"keyword\">Search Keyword Field</label><input aria-required=\"true\" class=\"n2_form_words\" id=\"keyword\" maxlength=\"150\" name=\"filter[keyword]\" onfocus=\"if (this.value == 'Enter Keyword  ') { this.value=''; }\" required=\"\" size=\"15\" title=\"Search Keyword Field, required\" type=\"text\" value=\"Enter Keyword  \"/>\n",
       "<input title=\"GO\" type=\"submit\" value=\"GO\"/><br/>\n",
       "</span>\n",
       "<span class=\"show\"><br>\n",
       "<input checked=\"checked\" id=\"exact_match_n2\" name=\"filter[exact_match]\" title=\"Exact Match\" type=\"checkbox\" value=\"1\"/>\n",
       "<label class=\"n2_search\" for=\"exact_match_n2\">Whole Word/Phrase</label>\n",
       "<br>\n",
       "</br></br></span>\n",
       "<span class=\"n2_search\">\n",
       "<a class=\"navbar\" href=\"/search_advanced.php?catoid=46\">\n",
       "\t\t\t\t\tAdvanced Search\t\t\t\t</a>\n",
       "</span>\n",
       "<br/>\n",
       "</fieldset>\n",
       "</form>\n",
       "</td>\n",
       "</tr>\n",
       "<tr>\n",
       "<td>\n",
       "<hr class=\"navbar\"/>\n",
       "</td>\n",
       "</tr>\n",
       "<tr>\n",
       "<td class=\"nowrap\">\n",
       "<!-- Begin Responsive -->\n",
       "<div class=\"mobile-menu-toggle\" tabindex=\"0\">Catalog Navigation</div>\n",
       "<!-- End Responsive -->\n",
       "<table class=\"block_n2_links links_table\">\n",
       "<tr>\n",
       "<td id=\"acalog-navigation\">\n",
       "<div class=\"n2_links\">  <a class=\"navbar\" href=\"/index.php?catoid=46\">Catalog Home</a></div>\n",
       "<hr class=\"navbar\"/> \n",
       "<br/> \n",
       "<div class=\"n2_links\">  <a class=\"navbar\" href=\"/content.php?catoid=46&amp;navoid=2548\">General Information</a> </div>\n",
       "<div class=\"n2_links\">  <a class=\"navbar\" href=\"/content.php?catoid=46&amp;navoid=2574\">Academic Policies &amp; Information</a> </div>\n",
       "<div class=\"n2_links\">  <a class=\"navbar\" href=\"/content.php?catoid=46&amp;navoid=2549\">General College Policies &amp; Procedures</a> </div>\n",
       "<div class=\"n2_links\">  <a class=\"navbar\" href=\"/content.php?catoid=46&amp;navoid=2557\">Endicott College Resources</a> </div>\n",
       "<div class=\"n2_links\">  <a class=\"navbar\" href=\"/content.php?catoid=46&amp;navoid=2558\">Accreditations and Approvals</a> </div>\n",
       "<div class=\"n2_links\">  <a class=\"navbar\" href=\"/content.php?catoid=46&amp;navoid=2559\">Off Site Locations</a> </div>\n",
       "<div class=\"n2_links\">  <a class=\"navbar\" href=\"/content.php?catoid=46&amp;navoid=2575\">Admission at Endicott</a> </div>\n",
       "<div class=\"n2_links\">  <a class=\"navbar\" href=\"/content.php?catoid=46&amp;navoid=2588\">Experiential Learning: Internship and Career Center</a> </div>\n",
       "<div class=\"n2_links\">  <a class=\"navbar\" href=\"/content.php?catoid=46&amp;navoid=2587\">General Education / Core Requirements</a> </div>\n",
       "<div class=\"n2_links\">  <a class=\"navbar\" href=\"/content.php?catoid=46&amp;navoid=2550\">Diversity, Equity and Inclusion Course Requirements</a> </div>\n",
       "<div class=\"n2_links\">  <a class=\"navbar\" href=\"/content.php?catoid=46&amp;navoid=2551\">Writing Designated Course Requirements</a> </div>\n",
       "<div class=\"n2_links\">  <a class=\"navbar\" href=\"/content.php?catoid=46&amp;navoid=2483\">Pre-Medical/Pre-Health Professional Pathway</a> </div>\n",
       "<hr class=\"navbar\"/> \n",
       "<div class=\"n2_links\">  <a class=\"navbar\" href=\"/content.php?catoid=46&amp;navoid=2564\">Institute for Applied Behavioral Science</a> </div>\n",
       "<hr class=\"navbar\"/> \n",
       "<div class=\"n2_links\">  <a class=\"navbar\" href=\"/content.php?catoid=46&amp;navoid=2535\">School of Business</a> </div>\n",
       "<hr class=\"navbar\"/> \n",
       "<div class=\"n2_links\">  <a class=\"navbar\" href=\"/content.php?catoid=46&amp;navoid=2515\">Undergraduate Programs</a> </div>\n",
       "<div class=\"n2_links\">  <a class=\"navbar\" href=\"/content.php?catoid=46&amp;navoid=2516\">Graduate Programs</a> </div>\n",
       "<div class=\"n2_links\">  <a class=\"navbar\" href=\"/content.php?catoid=46&amp;navoid=2534\">Van Loan Division of Professional Studies</a> </div>\n",
       "<div class=\"n2_links\">  <a class=\"navbar\" href=\"/content.php?catoid=46&amp;navoid=2560\">CIS Madrid Programs</a> </div>\n",
       "<hr class=\"navbar\"/> \n",
       "<div class=\"n2_links\">  <a class=\"navbar\" href=\"/content.php?catoid=46&amp;navoid=2536\">School of Education</a> </div>\n",
       "<hr class=\"navbar\"/> \n",
       "<div class=\"n2_links\">  <a class=\"navbar\" href=\"/content.php?catoid=46&amp;navoid=2507\">Undergraduate Programs</a> </div>\n",
       "<div class=\"n2_links\">  <a class=\"navbar\" href=\"/content.php?catoid=46&amp;navoid=2508\">Graduate Programs</a> </div>\n",
       "<hr class=\"navbar\"/> \n",
       "<div class=\"n2_links\">  <a class=\"navbar\" href=\"/content.php?catoid=46&amp;navoid=2525\">School of Nursing</a> </div>\n",
       "<hr class=\"navbar\"/> \n",
       "<div class=\"n2_links\">  <a class=\"navbar\" href=\"/content.php?catoid=46&amp;navoid=2509\">Undergraduate Programs</a> </div>\n",
       "<div class=\"n2_links\">  <a class=\"navbar\" href=\"/content.php?catoid=46&amp;navoid=2510\">Graduate Programs</a> </div>\n",
       "<div class=\"n2_links\">  <a class=\"navbar\" href=\"/content.php?catoid=46&amp;navoid=2556\">Van Loan Division of Professional Studies</a> </div>\n",
       "<hr class=\"navbar\"/> \n",
       "<div class=\"n2_links\">  <a class=\"navbar\" href=\"/content.php?catoid=46&amp;navoid=2539\">School of Science and Technology</a> </div>\n",
       "<hr class=\"navbar\"/> \n",
       "<div class=\"n2_links\">  <a class=\"navbar\" href=\"/content.php?catoid=46&amp;navoid=2517\">Undergraduate Programs</a> </div>\n",
       "<div class=\"n2_links\">  <a class=\"navbar\" href=\"/content.php?catoid=46&amp;navoid=2563\">Graduate Programs</a> </div>\n",
       "<hr class=\"navbar\"/> \n",
       "<div class=\"n2_links\">  <a class=\"navbar\" href=\"/content.php?catoid=46&amp;navoid=2540\">School of Social Sciences, Communication, &amp; Humanities</a> </div>\n",
       "<hr class=\"navbar\"/> \n",
       "<div class=\"n2_links\">  <a class=\"navbar\" href=\"/content.php?catoid=46&amp;navoid=2518\">Undergraduate Programs</a> </div>\n",
       "<div class=\"n2_links\">  <a class=\"navbar\" href=\"/content.php?catoid=46&amp;navoid=2519\">Graduate Programs</a> </div>\n",
       "<div class=\"n2_links\">  <a class=\"navbar\" href=\"/content.php?catoid=46&amp;navoid=2533\">Van Loan Division of Professional Studies</a> </div>\n",
       "<div class=\"n2_links\">  <a class=\"navbar\" href=\"/content.php?catoid=46&amp;navoid=2561\">CIS Madrid Programs</a> </div>\n",
       "<hr class=\"navbar\"/> \n",
       "<div class=\"n2_links\">  <a class=\"navbar\" href=\"/content.php?catoid=46&amp;navoid=2541\">School of Sport Science</a> </div>\n",
       "<hr class=\"navbar\"/> \n",
       "<div class=\"n2_links\">  <a class=\"navbar\" href=\"/content.php?catoid=46&amp;navoid=2513\">Undergraduate Programs</a> </div>\n",
       "<div class=\"n2_links\">  <a class=\"navbar\" href=\"/content.php?catoid=46&amp;navoid=2514\">Graduate Programs</a> </div>\n",
       "<hr class=\"navbar\"/> \n",
       "<div class=\"n2_links\">  <a class=\"navbar\" href=\"/content.php?catoid=46&amp;navoid=2542\">School of Visual and Performing Arts</a> </div>\n",
       "<hr class=\"navbar\"/> \n",
       "<div class=\"n2_links\">  <a class=\"navbar\" href=\"/content.php?catoid=46&amp;navoid=2511\">Undergraduate Programs</a> </div>\n",
       "<div class=\"n2_links\">  <a class=\"navbar\" href=\"/content.php?catoid=46&amp;navoid=2512\">Graduate Programs</a> </div>\n",
       "<hr class=\"navbar\"/> \n",
       "<div class=\"n2_links\">  <a class=\"navbar\" href=\"/content.php?catoid=46&amp;navoid=2566\">Microcredentials</a> </div>\n",
       "<hr class=\"navbar\"/> \n",
       "<div class=\"n2_links\">  <a class=\"navbar\" href=\"/content.php?catoid=46&amp;navoid=2701\">Minors</a> </div>\n",
       "<hr class=\"navbar\"/> \n",
       "<br/> \n",
       "<div class=\"n2_links\">  <a class=\"navbar\" href=\"/content.php?catoid=46&amp;navoid=2581\">Course Descriptions</a> </div>\n",
       "<div class=\"n2_links\">  <a class=\"navbar\" href=\"/content.php?catoid=46&amp;navoid=2582\">Course Listings By Department</a> </div>\n",
       "<hr class=\"navbar\"/> \n",
       "<br/> \n",
       "<div class=\"n2_links\">  <a class=\"navbar\" href=\"/content.php?catoid=46&amp;navoid=2583\">Directories</a> </div>\n",
       "<div class=\"n2_links\">  <a class=\"navbar\" href=\"/content.php?catoid=46&amp;navoid=2481\">Archived Catalogs</a> </div>\n",
       "<hr class=\"navbar\"/> \n",
       "<div class=\"n2_links\">  <a class=\"navbar\" href=\"/content.php?catoid=46&amp;navoid=2552\">Appendix A: Academic Calendars</a> </div>\n",
       "<div class=\"n2_links\">  <a class=\"navbar\" href=\"/content.php?catoid=46&amp;navoid=2553\">Appendix B: Tuition and Fees</a> </div>\n",
       "<div class=\"n2_links\">  <a class=\"navbar\" href=\"/content.php?catoid=46&amp;navoid=2554\">Appendix C: Endicott College Student Code of Conduct</a> </div>\n",
       "<div class=\"n2_links\">  <a class=\"navbar\" href=\"/content.php?catoid=46&amp;navoid=2555\">Appendix D: Endicott College Sex Discrimination, Sexual Misconduct and Relationship Violence Policy and Procedures for Resolving Complaints against Students</a> </div>\n",
       "<div class=\"n2_links\">  <a aria-label=\"Download PDF of Catalog User Guide\" class=\"navbar\" href=\"/mime/media/view/46/2568/BCBA+logo.jpg\" onclick=\"acalogPopup('/mime/media/view/46/2568/BCBA+logo.jpg', 'media_file', 770, 530, 'yes');return false;\" target=\"false\">BCBA logo</a> </div>\n",
       "</td>\n",
       "</tr>\n",
       "</table>\n",
       "</td>\n",
       "</tr>\n",
       "<tr>\n",
       "<td>\n",
       "<hr class=\"navbar\"/>\n",
       "</td>\n",
       "</tr>\n",
       "</table>\n",
       "</td>\n",
       "<!-- End of N2 -->\n",
       "<td class=\"block_content_outer\">\n",
       "<table class=\"table_default\">\n",
       "<tr>\n",
       "<td class=\"block_content\" colspan=\"2\">\n",
       "<table class=\"table_default\">\n",
       "<tr>\n",
       "<td colspan=\"4\">\n",
       "<table class=\"table_default\">\n",
       "<tr>\n",
       "<td>\n",
       "<div class=\"float_right\"><a class=\"help acalog-highlight-ignore\" href=\"help.php\" onclick=\"acalogPopup('help.php', 'help', 770, 530, 'yes');return false;\" target=\"_blank\"><strong>HELP</strong></a></div>\n",
       "<span class=\"acalog_catalog_name\">2024-2025 Endicott College Academic Catalog</span> <br/>\n",
       "<h1 id=\"acalog-content\">Computer Science Major (Bachelor of Science)</h1>\n",
       "<div style=\"float: right\"><a alt=\"Text Version\" class=\"print_link acalog-highlight-ignore\" href=\"/preview_program.php?catoid=46&amp;poid=5251&amp;_gl=1%2Aa852yh%2A_gcl_au%2AMTg5OTU2Mzk5Ny4xNzM5Mjg5ODEy&amp;print\" onclick=\"acalogPopup('/preview_program.php?catoid=46&amp;poid=5251&amp;_gl=1%2Aa852yh%2A_gcl_au%2AMTg5OTU2Mzk5Ny4xNzM5Mjg5ODEy&amp;print', 'print_preview', 770, 530, 'yes');return false;\" rel=\"nofollow\" target=\"_blank\" title=\"Print-Friendly Page (opens a new window)\"><span class=\"sr-only\">Print-Friendly Page (opens a new window)</span></a></div><div class=\"acalog-social-media-links float_right\">\n",
       "<div class=\"gateway-toolbar-facebook\">\n",
       "<a href=\"http://www.facebook.com/sharer/sharer.php?u=http%3A%2F%2Fcatalog.endicott.edu%2Fpreview_program.php%3Fcatoid%3D46%26poid%3D5251&amp;t=I just discovered 'Computer Science Major (Bachelor of Science)' at Endicott College\" target=\"_blank\" title=\"Facebook this Page (opens a new window)\">\n",
       "<span class=\"sr-only\">Facebook this Page (opens a new window)</span>\n",
       "</a>\n",
       "</div>\n",
       "<div class=\"gateway-toolbar-twitter\">\n",
       "<a href=\"http://twitter.com/intent/tweet?u=u=http%3A%2F%2Fcatalog.endicott.edu%2Fpreview_program.php%3Fcatoid%3D46%26poid%3D5251&amp;t=Check out this program at Endicott College\" target=\"_blank\" title=\"Tweet this Page (opens a new window)\">\n",
       "<span class=\"sr-only\">Tweet this Page (opens a new window)</span>\n",
       "</a>\n",
       "</div></div> </td>\n",
       "</tr>\n",
       "<tr>\n",
       "<td>\n",
       "<hr/>\n",
       "</td>\n",
       "</tr>\n",
       "</table>\n",
       "<div class=\"program_description\">\n",
       "</div>\n",
       "</td>\n",
       "</tr>\n",
       "<tr>\n",
       "<td class=\"width\" colspan=\"4\">\n",
       "<div class=\"custom_leftpad_20\"><div class=\"acalog-core\"><h2><a name=\"CurriculumRequirementsMinimumCreditsRequired127\"></a><a id=\"core_27951\" name=\"curriculumrequirementsminimumcreditsrequired127\"></a>Curriculum Requirements - Minimum Credits Required: 127</h2><hr/></div><div class=\"custom_leftpad_20\"><div class=\"acalog-core\"><h3><a name=\"FirstYearCredits34\"></a><a id=\"core_27952\" name=\"firstyearcredits34\"></a>First Year - Credits: 34</h3><hr/><ul> <li>Individual and Society General Education Requirement (Cr. 3)</li> <li>Quantitative Reasoning General Education Requirement (Cr. 3)</li> <li>World Cultures General Education Requirement (Cr. 3)</li> <li>Free Elective (Cr. 3)</li> </ul><ul><li class=\"acalog-course\"><span><a aria-expanded=\"false\" href=\"#\" onclick=\"showCourse('46', '54124',this, 'a:2:{s:8:~location~;s:7:~program~;s:4:~core~;s:5:~27952~;}'); return false;\">CSC 101 - Introduction to Computer Science</a> (Cr: 3)</span></li><li class=\"acalog-course\"><span><a aria-expanded=\"false\" href=\"#\" onclick=\"showCourse('46', '54129',this, 'a:2:{s:8:~location~;s:7:~program~;s:4:~core~;s:5:~27952~;}'); return false;\">CSC 102 - Website Development and Programming</a> (Cr: 3)</span></li><li class=\"acalog-course\"><span><a aria-expanded=\"false\" href=\"#\" onclick=\"showCourse('46', '54126',this, 'a:2:{s:8:~location~;s:7:~program~;s:4:~core~;s:5:~27952~;}'); return false;\">CSC 160/160L - Introduction to Programming and Lab</a> (Cr: 4)</span></li><li class=\"acalog-course\"><span><a aria-expanded=\"false\" href=\"#\" onclick=\"showCourse('46', '54127',this, 'a:2:{s:8:~location~;s:7:~program~;s:4:~core~;s:5:~27952~;}'); return false;\">CSC 161/161L - Data Structures and Algorithms</a> (Cr: 4)</span></li><li class=\"acalog-course\"><span><a aria-expanded=\"false\" href=\"#\" onclick=\"showCourse('46', '54885',this, 'a:2:{s:8:~location~;s:7:~program~;s:4:~core~;s:5:~27952~;}'); return false;\">ENG 111 - Critical Reading and Writing I</a> (Cr: 3)</span></li><li class=\"acalog-adhoc acalog-adhoc-after\" style=\"list-style: none;\"><p><em>Satisfies the Writing Designated Core requirement.</em></p></li><li class=\"acalog-course\"><span><a aria-expanded=\"false\" href=\"#\" onclick=\"showCourse('46', '54886',this, 'a:2:{s:8:~location~;s:7:~program~;s:4:~core~;s:5:~27952~;}'); return false;\">ENG 112 - Critical Reading and Writing II</a> (Cr: 3)</span></li><li class=\"acalog-adhoc acalog-adhoc-after\" style=\"list-style: none;\"><p><em>Satisfies the Writing Designated Core requirement.</em></p></li><li class=\"acalog-course\"><span><a aria-expanded=\"false\" href=\"#\" onclick=\"showCourse('46', '54395',this, 'a:2:{s:8:~location~;s:7:~program~;s:4:~core~;s:5:~27952~;}'); return false;\">INT 100 - Internship I</a> (Cr: 2)</span></li></ul></div><div class=\"acalog-core\"><h3><a name=\"SophomoreCredits32\"></a><a id=\"core_27953\" name=\"sophomorecredits32\"></a>Sophomore - Credits: 32</h3><hr/><ul> <li>Aesthetic Awareness and Creative Expression General Education Requirement   (Cr: 3)</li> <li>Global Issues General Education Elective (Cr. 3)</li> <li>Elective (Cr: 3)</li> <li>Computer Science Elective (Cr: 6)</li> </ul><ul><li class=\"acalog-course\"><span><a aria-expanded=\"false\" href=\"#\" onclick=\"showCourse('46', '54139',this, 'a:2:{s:8:~location~;s:7:~program~;s:4:~core~;s:5:~27953~;}'); return false;\">CSC 251 - Network Fundamentals</a> (Cr: 3)</span></li><li class=\"acalog-course\"><span><a aria-expanded=\"false\" href=\"#\" onclick=\"showCourse('46', '54130',this, 'a:2:{s:8:~location~;s:7:~program~;s:4:~core~;s:5:~27953~;}'); return false;\">CSC 260 - Visual Programming I</a> (Cr: 3)</span></li><li class=\"acalog-course\"><span><a aria-expanded=\"false\" href=\"#\" onclick=\"showCourse('46', '54131',this, 'a:2:{s:8:~location~;s:7:~program~;s:4:~core~;s:5:~27953~;}'); return false;\">CSC 261 - Visual Programming II and Object-Oriented Design</a> (Cr: 3)</span></li><li class=\"acalog-course\"><span><a aria-expanded=\"false\" href=\"#\" onclick=\"showCourse('46', '54467',this, 'a:2:{s:8:~location~;s:7:~program~;s:4:~core~;s:5:~27953~;}'); return false;\">CSC 265 - Discrete Structures</a> (Cr: 3)</span></li><li class=\"acalog-course\"><span><a aria-expanded=\"false\" href=\"#\" onclick=\"showCourse('46', '54128',this, 'a:2:{s:8:~location~;s:7:~program~;s:4:~core~;s:5:~27953~;}'); return false;\">CSC 280 - Computer Architecture</a> (Cr: 3)</span></li><li class=\"acalog-course\"><span><a aria-expanded=\"false\" href=\"#\" onclick=\"showCourse('46', '54397',this, 'a:2:{s:8:~location~;s:7:~program~;s:4:~core~;s:5:~27953~;}'); return false;\">INT 200 - Internship II</a> (Cr: 2)</span></li></ul></div><div class=\"acalog-core\"><h3><a name=\"JuniorCredits31\"></a><a id=\"core_27954\" name=\"juniorcredits31\"></a>Junior - Credits: 31</h3><hr/><ul> <li>Values and Ethical Reasoning General Education Requirement (Cr: 3)</li> <li>Computer Science Electives (Cr: 9)</li> <li>Elective (Cr. 3)</li> <li>General Education Electives (Cr: 6)</li> </ul><ul><li class=\"acalog-course\"><span><a aria-expanded=\"false\" href=\"#\" onclick=\"showCourse('46', '54984',this, 'a:2:{s:8:~location~;s:7:~program~;s:4:~core~;s:5:~27954~;}'); return false;\">CSC 355 - Algorithm Design and Analysis</a> (Cr: 3)</span></li><li class=\"acalog-course\"><span><a aria-expanded=\"false\" href=\"#\" onclick=\"showCourse('46', '54132',this, 'a:2:{s:8:~location~;s:7:~program~;s:4:~core~;s:5:~27954~;}'); return false;\">CSC 360 - Software Engineering</a> (Cr: 3)</span></li><li class=\"acalog-course\"><span><a aria-expanded=\"false\" href=\"#\" onclick=\"showCourse('46', '54821',this, 'a:2:{s:8:~location~;s:7:~program~;s:4:~core~;s:5:~27954~;}'); return false;\">CSC 379 - Semester Internship Strategies</a> (Cr: 1)</span></li><li class=\"acalog-course\"><span><a aria-expanded=\"false\" href=\"#\" onclick=\"showCourse('46', '54141',this, 'a:2:{s:8:~location~;s:7:~program~;s:4:~core~;s:5:~27954~;}'); return false;\">CSC 380 - Operating Systems</a> (Cr: 3)</span></li></ul></div><div class=\"acalog-core\"><h3><a name=\"SeniorCredits30\"></a><a id=\"core_27955\" name=\"seniorcredits30\"></a>Senior - Credits: 30</h3><hr/><ul> <li>Literary Perspectives General Education Requirement (Cr. 3)</li> <li>Computer Science Elective (Cr: 3)</li> <li>General Education Elective (Cr: 6)<br/> (must be above the 100 level)</li> </ul><ul><li class=\"acalog-course\"><span><a aria-expanded=\"false\" href=\"#\" onclick=\"showCourse('46', '54146',this, 'a:2:{s:8:~location~;s:7:~program~;s:4:~core~;s:5:~27955~;}'); return false;\">CSC 480 - Semester Internship</a> (Cr: 12)</span></li><li class=\"acalog-course\"><span><a aria-expanded=\"false\" href=\"#\" onclick=\"showCourse('46', '54147',this, 'a:2:{s:8:~location~;s:7:~program~;s:4:~core~;s:5:~27955~;}'); return false;\">CSC 489 - Senior Research</a> (Cr: 3)</span></li><li class=\"acalog-course\"><span><a aria-expanded=\"false\" href=\"#\" onclick=\"showCourse('46', '55891',this, 'a:2:{s:8:~location~;s:7:~program~;s:4:~core~;s:5:~27955~;}'); return false;\">CSC 491 - Senior Capstone</a> (Cr: 3)</span></li></ul></div><div class=\"acalog-core\"><h3><a name=\"ComputerScienceElectives\"></a><a id=\"core_28958\" name=\"computerscienceelectives\"></a>Computer Science Electives</h3><hr/><p><em>Students may take any <strong>six</strong> additional 200+ level CSC courses including those listed below with the CSC prefix. Recommened courses in specific areas are listed below.</em></p></div><div class=\"custom_leftpad_20\"><div class=\"acalog-core\"><h4><a name=\"BigDataAndDataEngineering\"></a><a id=\"core_29167\" name=\"bigdataanddataengineering\"></a>Big Data and Data Engineering</h4><hr/><ul><li class=\"acalog-course\"><span><a aria-expanded=\"false\" href=\"#\" onclick=\"showCourse('46', '54138',this, 'a:2:{s:8:~location~;s:7:~program~;s:4:~core~;s:5:~29167~;}'); return false;\">CSC 340 - Database Management</a> (Cr: 3)</span></li><li class=\"acalog-course\"><span><a aria-expanded=\"false\" href=\"#\" onclick=\"showCourse('46', '54884',this, 'a:2:{s:8:~location~;s:7:~program~;s:4:~core~;s:5:~29167~;}'); return false;\">CSC 440 - Data Mining and Visualization</a> (Cr: 3)</span></li><li class=\"acalog-course\"><span><a aria-expanded=\"false\" href=\"#\" onclick=\"showCourse('46', '54874',this, 'a:2:{s:8:~location~;s:7:~program~;s:4:~core~;s:5:~29167~;}'); return false;\">CSC 460 - Introduction to Artificial Intelligence and Machine Learning</a> (Cr: 3)</span></li></ul></div><div class=\"acalog-core\"><h4><a name=\"GamesMobileAndWeb\"></a><a id=\"core_29165\" name=\"gamesmobileandweb\"></a>Games, Mobile, and Web</h4><hr/><ul><li class=\"acalog-course\"><span><a aria-expanded=\"false\" href=\"#\" onclick=\"showCourse('46', '54125',this, 'a:2:{s:8:~location~;s:7:~program~;s:4:~core~;s:5:~29165~;}'); return false;\">CSC 255 - Programming for Games and Interactive Technologies</a> (Cr: 3)</span></li><li class=\"acalog-course\"><span><a aria-expanded=\"false\" href=\"#\" onclick=\"showCourse('46', '54143',this, 'a:2:{s:8:~location~;s:7:~program~;s:4:~core~;s:5:~29165~;}'); return false;\">CSC 302 - Web Programming II - Interactive Web Applications</a> (Cr: 3)</span></li><li class=\"acalog-course\"><span><a aria-expanded=\"false\" href=\"#\" onclick=\"showCourse('46', '54137',this, 'a:2:{s:8:~location~;s:7:~program~;s:4:~core~;s:5:~29165~;}'); return false;\">CSC 335 - Mobile Application Programming and Design</a> (Cr: 3)</span></li></ul></div><div class=\"acalog-core\"><h4><a name=\"NetworkingAndSecurity\"></a><a id=\"core_29164\" name=\"networkingandsecurity\"></a>Networking and Security</h4><hr/><ul><li class=\"acalog-course\"><span><a aria-expanded=\"false\" href=\"#\" onclick=\"showCourse('46', '54142',this, 'a:2:{s:8:~location~;s:7:~program~;s:4:~core~;s:5:~29164~;}'); return false;\">CSC 230 - Cyber Threats and Security</a> (Cr: 3)</span></li><li class=\"acalog-course\"><span><a aria-expanded=\"false\" href=\"#\" onclick=\"showCourse('46', '54138',this, 'a:2:{s:8:~location~;s:7:~program~;s:4:~core~;s:5:~29164~;}'); return false;\">CSC 340 - Database Management</a> (Cr: 3)</span></li><li class=\"acalog-course\"><span><a aria-expanded=\"false\" href=\"#\" onclick=\"showCourse('46', '54145',this, 'a:2:{s:8:~location~;s:7:~program~;s:4:~core~;s:5:~29164~;}'); return false;\">CSC 351 - Advanced Networks and Security</a> (Cr: 3)</span></li><li class=\"acalog-course\"><span><a aria-expanded=\"false\" href=\"#\" onclick=\"showCourse('46', '55398',this, 'a:2:{s:8:~location~;s:7:~program~;s:4:~core~;s:5:~29164~;}'); return false;\">HLS 555 - Cybersecurity for the Homeland Security Professional</a> (Cr: 3)</span></li><li class=\"acalog-course\"><span><a aria-expanded=\"false\" href=\"#\" onclick=\"showCourse('46', '55406',this, 'a:2:{s:8:~location~;s:7:~program~;s:4:~core~;s:5:~29164~;}'); return false;\">HLS 610 - Cybersecurity Analyst</a> (Cr: 3</span></li><li class=\"acalog-course\"><span><a aria-expanded=\"false\" href=\"#\" onclick=\"showCourse('46', '55407',this, 'a:2:{s:8:~location~;s:7:~program~;s:4:~core~;s:5:~29164~;}'); return false;\">HLS 611 - Information System Hardware and Networking</a> (Cr: 3</span></li></ul></div><div class=\"acalog-core\"><h4><a name=\"RoboticsAndPhysicalComputing\"></a><a id=\"core_29166\" name=\"roboticsandphysicalcomputing\"></a>Robotics and Physical Computing</h4><hr/><ul><li class=\"acalog-course\"><span><a aria-expanded=\"false\" href=\"#\" onclick=\"showCourse('46', '54871',this, 'a:2:{s:8:~location~;s:7:~program~;s:4:~core~;s:5:~29166~;}'); return false;\">CSC 285 - Introduction to Applied Robotics</a> (Cr: 3)</span></li><li class=\"acalog-course\"><span><a aria-expanded=\"false\" href=\"#\" onclick=\"showCourse('46', '54873',this, 'a:2:{s:8:~location~;s:7:~program~;s:4:~core~;s:5:~29166~;}'); return false;\">CSC 385 - Sensor Networks and Physical Computing</a> (Cr: 3)</span></li><li class=\"acalog-course\"><span><a aria-expanded=\"false\" href=\"#\" onclick=\"showCourse('46', '54874',this, 'a:2:{s:8:~location~;s:7:~program~;s:4:~core~;s:5:~29166~;}'); return false;\">CSC 460 - Introduction to Artificial Intelligence and Machine Learning</a> (Cr: 3)</span></li></ul></div></div><div class=\"acalog-core\"><h3><a name=\"LearningOutcomes\"></a><a id=\"core_28431\" name=\"learningoutcomes\"></a>Learning Outcomes</h3><hr/><p>Upon completion of the computer science program, students will:</p> <ul> <li> <div>Analyze a complex computing problem and to apply principles of computing and other relevant disciplines to identify requirements for valid solutions.</div> </li> <li> <div>Implement a computing-based solution that meets a given set of computing requirements.</div> </li> <li> <div>Evaluate and assess the correctness of a given solution.</div> </li> <li> <div>Apply computer science theory and software development fundamentals to recognize trade-offs and produce computing-based solutions that have been optimized to satisfy performance or design criteria.</div> </li> <li> <div>Communicate effectively in a variety of professional contexts.</div> </li> <li> <div>Recognize and engage in professional methods, standards, and practices related to project planning and management.</div> </li> <li> <div>Make informed judgments in computing practice based on inclusive, ethical, and legal principles.</div> </li> <li> <div>Function effectively as a member or leader of a team engaged in activities appropriate to the program’s discipline.</div> </li> </ul></div></div></div> </td>\n",
       "</tr>\n",
       "</table>\n",
       "<br/><hr/><div style=\"float: right\"> <a class=\"acalog_top_link acalog-highlight-ignore\" href=\"javascript:void(0);\">Back to Top</a> | <a alt=\"Text Version\" class=\"print_link acalog-highlight-ignore\" href=\"/preview_program.php?catoid=46&amp;poid=5251&amp;print\" onclick=\"acalogPopup('/preview_program.php?catoid=46&amp;poid=5251&amp;print', 'print_preview', 770, 530, 'yes');return false;\" rel=\"nofollow\" target=\"_blank\" title=\"Print-Friendly Page (opens a new window)\"><span class=\"sr-only\">Print-Friendly Page (opens a new window)</span></a></div><div class=\"acalog-social-media-links float_right\">\n",
       "<div class=\"gateway-toolbar-facebook\">\n",
       "<a href=\"http://www.facebook.com/sharer/sharer.php?u=http%3A%2F%2Fcatalog.endicott.edu%2Fpreview_program.php%3Fcatoid%3D46%26poid%3D5251&amp;t=I just discovered 'Computer Science Major (Bachelor of Science)' at Endicott College\" target=\"_blank\" title=\"Facebook this Page (opens a new window)\">\n",
       "<span class=\"sr-only\">Facebook this Page (opens a new window)</span>\n",
       "</a>\n",
       "</div>\n",
       "<div class=\"gateway-toolbar-twitter\">\n",
       "<a href=\"http://twitter.com/intent/tweet?u=u=http%3A%2F%2Fcatalog.endicott.edu%2Fpreview_program.php%3Fcatoid%3D46%26poid%3D5251&amp;t=Check out this program at Endicott College\" target=\"_blank\" title=\"Tweet this Page (opens a new window)\">\n",
       "<span class=\"sr-only\">Tweet this Page (opens a new window)</span>\n",
       "</a>\n",
       "</div></div> </td>\n",
       "</tr>\n",
       "</table>\n",
       "</td>\n",
       "</tr>\n",
       "</table>\n",
       "</td>\n",
       "</tr>\n",
       "<tr aria-label=\"Footer with copyright and information links\" role=\"contentinfo\">\n",
       "<td class=\"block_footer_lb\">   </td>\n",
       "<td class=\"block_footer_rb\">\n",
       "<div class=\"nobr\">All <a class=\"footer\" href=\"/misc/catalog_list.php?catoid=46\">catalogs</a> © 2025 Endicott College.</div> <div class=\"nobr\">Powered by <a class=\"footer\" href=\"http://www.moderncampus.com\" target=\"_blank\">Modern Campus Catalog™</a>.</div>\n",
       "</td>\n",
       "</tr>\n",
       "</table>\n",
       "<!-- \t\t<script src=\"js/smlinks.js\" type=\"text/javascript\"></script>\n",
       " -->\n",
       "<script src=\"https://cdnjs.cloudflare.com/ajax/libs/select2/4.0.12/js/select2.full.min.js\"></script>\n",
       "</body>\n",
       "</html>"
      ]
     },
     "execution_count": 24,
     "metadata": {},
     "output_type": "execute_result"
    }
   ],
   "source": [
    "from bs4 import BeautifulSoup\n",
    "\n",
    "# We'll continue using `currentSession` from before.\n",
    "response = currentSession.get('https://catalog.endicott.edu/preview_program.php?catoid=46&poid=5251', timeout=2)\n",
    "content = response.text\n",
    "\n",
    "soup = BeautifulSoup(content, \"html.parser\")\n",
    "soup"
   ]
  },
  {
   "cell_type": "code",
   "execution_count": 25,
   "metadata": {
    "cell_id": "1dd137d365a540239c85a9b785c0a8c9",
    "execution_millis": 4,
    "execution_start": 1676038237190,
    "source_hash": "90d51ee2"
   },
   "outputs": [
    {
     "data": {
      "text/plain": [
       "<title>Program: Computer Science Major (Bachelor of Science) - Endicott College - Modern Campus Catalog™</title>"
      ]
     },
     "execution_count": 25,
     "metadata": {},
     "output_type": "execute_result"
    }
   ],
   "source": [
    "soup.title"
   ]
  },
  {
   "cell_type": "code",
   "execution_count": 26,
   "metadata": {
    "cell_id": "5baf6bcf93a84dfdbd0b2e11be202fb9",
    "execution_millis": 3,
    "execution_start": 1676038237191,
    "source_hash": "68b032b9"
   },
   "outputs": [
    {
     "data": {
      "text/plain": [
       "[<h3><a name=\"FirstYearCredits34\"></a><a id=\"core_27952\" name=\"firstyearcredits34\"></a>First Year - Credits: 34</h3>,\n",
       " <h3><a name=\"SophomoreCredits32\"></a><a id=\"core_27953\" name=\"sophomorecredits32\"></a>Sophomore - Credits: 32</h3>,\n",
       " <h3><a name=\"JuniorCredits31\"></a><a id=\"core_27954\" name=\"juniorcredits31\"></a>Junior - Credits: 31</h3>,\n",
       " <h3><a name=\"SeniorCredits30\"></a><a id=\"core_27955\" name=\"seniorcredits30\"></a>Senior - Credits: 30</h3>,\n",
       " <h3><a name=\"ComputerScienceElectives\"></a><a id=\"core_28958\" name=\"computerscienceelectives\"></a>Computer Science Electives</h3>,\n",
       " <h3><a name=\"LearningOutcomes\"></a><a id=\"core_28431\" name=\"learningoutcomes\"></a>Learning Outcomes</h3>]"
      ]
     },
     "execution_count": 26,
     "metadata": {},
     "output_type": "execute_result"
    }
   ],
   "source": [
    "soup.find_all(\"h3\")"
   ]
  },
  {
   "cell_type": "code",
   "execution_count": 27,
   "metadata": {
    "cell_id": "b93e5d7ada714a398f56cfc446eec771",
    "execution_millis": 4,
    "execution_start": 1676038237192,
    "source_hash": "91e75aff"
   },
   "outputs": [
    {
     "data": {
      "text/plain": [
       "[<a name=\"SophomoreCredits32\"></a>]"
      ]
     },
     "execution_count": 27,
     "metadata": {},
     "output_type": "execute_result"
    }
   ],
   "source": [
    "soup.find_all(\"a\", attrs={'name': 'SophomoreCredits32'})"
   ]
  },
  {
   "cell_type": "code",
   "execution_count": 28,
   "metadata": {
    "cell_id": "0f0354937544435ebeb5fc97de1be987",
    "execution_millis": 6,
    "execution_start": 1676038237207,
    "source_hash": "4327bf46"
   },
   "outputs": [
    {
     "data": {
      "text/plain": [
       "['Sophomore - Credits: 32']"
      ]
     },
     "execution_count": 28,
     "metadata": {},
     "output_type": "execute_result"
    }
   ],
   "source": [
    "import re # For regular expressions (e.g., pattern and partial text matching).\n",
    "\n",
    "soup.find_all(string=re.compile('Sophomore'))"
   ]
  },
  {
   "cell_type": "code",
   "execution_count": 29,
   "metadata": {
    "cell_id": "ec9fa300495247a087c0176ec7a35047",
    "execution_millis": 2,
    "execution_start": 1676038237215,
    "source_hash": "3f5e529d"
   },
   "outputs": [
    {
     "data": {
      "text/plain": [
       "<h3><a name=\"SophomoreCredits32\"></a><a id=\"core_27953\" name=\"sophomorecredits32\"></a>Sophomore - Credits: 32</h3>"
      ]
     },
     "execution_count": 29,
     "metadata": {},
     "output_type": "execute_result"
    }
   ],
   "source": [
    "soup.find_all(string=re.compile('Sophomore'))[0].parent"
   ]
  },
  {
   "cell_type": "code",
   "execution_count": 30,
   "metadata": {
    "cell_id": "9f5c85602f8743b288a2aa41d4c0bb77",
    "execution_millis": 4,
    "execution_start": 1676038237222,
    "source_hash": "df172965"
   },
   "outputs": [
    {
     "data": {
      "text/plain": [
       "<div class=\"acalog-core\"><h3><a name=\"SophomoreCredits32\"></a><a id=\"core_27953\" name=\"sophomorecredits32\"></a>Sophomore - Credits: 32</h3><hr/><ul> <li>Aesthetic Awareness and Creative Expression General Education Requirement   (Cr: 3)</li> <li>Global Issues General Education Elective (Cr. 3)</li> <li>Elective (Cr: 3)</li> <li>Computer Science Elective (Cr: 6)</li> </ul><ul><li class=\"acalog-course\"><span><a aria-expanded=\"false\" href=\"#\" onclick=\"showCourse('46', '54139',this, 'a:2:{s:8:~location~;s:7:~program~;s:4:~core~;s:5:~27953~;}'); return false;\">CSC 251 - Network Fundamentals</a> (Cr: 3)</span></li><li class=\"acalog-course\"><span><a aria-expanded=\"false\" href=\"#\" onclick=\"showCourse('46', '54130',this, 'a:2:{s:8:~location~;s:7:~program~;s:4:~core~;s:5:~27953~;}'); return false;\">CSC 260 - Visual Programming I</a> (Cr: 3)</span></li><li class=\"acalog-course\"><span><a aria-expanded=\"false\" href=\"#\" onclick=\"showCourse('46', '54131',this, 'a:2:{s:8:~location~;s:7:~program~;s:4:~core~;s:5:~27953~;}'); return false;\">CSC 261 - Visual Programming II and Object-Oriented Design</a> (Cr: 3)</span></li><li class=\"acalog-course\"><span><a aria-expanded=\"false\" href=\"#\" onclick=\"showCourse('46', '54467',this, 'a:2:{s:8:~location~;s:7:~program~;s:4:~core~;s:5:~27953~;}'); return false;\">CSC 265 - Discrete Structures</a> (Cr: 3)</span></li><li class=\"acalog-course\"><span><a aria-expanded=\"false\" href=\"#\" onclick=\"showCourse('46', '54128',this, 'a:2:{s:8:~location~;s:7:~program~;s:4:~core~;s:5:~27953~;}'); return false;\">CSC 280 - Computer Architecture</a> (Cr: 3)</span></li><li class=\"acalog-course\"><span><a aria-expanded=\"false\" href=\"#\" onclick=\"showCourse('46', '54397',this, 'a:2:{s:8:~location~;s:7:~program~;s:4:~core~;s:5:~27953~;}'); return false;\">INT 200 - Internship II</a> (Cr: 2)</span></li></ul></div>"
      ]
     },
     "execution_count": 30,
     "metadata": {},
     "output_type": "execute_result"
    }
   ],
   "source": [
    "soup.find_all(string=re.compile('Sophomore'))[0].parent.parent"
   ]
  },
  {
   "cell_type": "code",
   "execution_count": 31,
   "metadata": {
    "cell_id": "bc9d18ab28de478e89337ae56a84245a",
    "execution_millis": 8,
    "execution_start": 1676038237340,
    "source_hash": "343eb0d8"
   },
   "outputs": [
    {
     "data": {
      "text/plain": [
       "['CSC 251\\xa0-\\xa0Network Fundamentals',\n",
       " 'CSC 260\\xa0-\\xa0Visual Programming I',\n",
       " 'CSC 261\\xa0-\\xa0Visual Programming II and Object-Oriented Design',\n",
       " 'CSC 265\\xa0-\\xa0Discrete Structures',\n",
       " 'CSC 280\\xa0-\\xa0Computer Architecture']"
      ]
     },
     "execution_count": 31,
     "metadata": {},
     "output_type": "execute_result"
    }
   ],
   "source": [
    "soup.find_all(string=re.compile('Sophomore'))[0].parent.parent.find_all(string=re.compile('CSC'))"
   ]
  },
  {
   "cell_type": "code",
   "execution_count": 32,
   "metadata": {
    "cell_id": "3d1d5f31288445a7878384f30741e4dd",
    "execution_millis": 8,
    "execution_start": 1676038237340,
    "source_hash": "a08a0c26"
   },
   "outputs": [
    {
     "ename": "ValueError",
     "evalue": "not enough values to unpack (expected 2, got 1)",
     "output_type": "error",
     "traceback": [
      "\u001b[0;31m---------------------------------------------------------------------------\u001b[0m",
      "\u001b[0;31mValueError\u001b[0m                                Traceback (most recent call last)",
      "Cell \u001b[0;32mIn[32], line 9\u001b[0m\n\u001b[1;32m      6\u001b[0m \u001b[38;5;28;01mif\u001b[39;00m \u001b[38;5;28mlen\u001b[39m(course) \u001b[38;5;241m==\u001b[39m \u001b[38;5;241m0\u001b[39m:\n\u001b[1;32m      7\u001b[0m     \u001b[38;5;28;01mcontinue\u001b[39;00m\n\u001b[0;32m----> 9\u001b[0m majorCourse, title \u001b[38;5;241m=\u001b[39m course\u001b[38;5;241m.\u001b[39msplit(\u001b[38;5;124m'\u001b[39m\u001b[38;5;124m - \u001b[39m\u001b[38;5;124m'\u001b[39m)\n\u001b[1;32m     10\u001b[0m major, courseNo \u001b[38;5;241m=\u001b[39m majorCourse\u001b[38;5;241m.\u001b[39mstrip()\u001b[38;5;241m.\u001b[39msplit()\n\u001b[1;32m     12\u001b[0m courses\u001b[38;5;241m.\u001b[39mappend({\n\u001b[1;32m     13\u001b[0m     \u001b[38;5;124m'\u001b[39m\u001b[38;5;124mmajor\u001b[39m\u001b[38;5;124m'\u001b[39m: major,\n\u001b[1;32m     14\u001b[0m     \u001b[38;5;124m'\u001b[39m\u001b[38;5;124mcourseNo\u001b[39m\u001b[38;5;124m'\u001b[39m: courseNo,\n\u001b[1;32m     15\u001b[0m     \u001b[38;5;124m'\u001b[39m\u001b[38;5;124mtitle\u001b[39m\u001b[38;5;124m'\u001b[39m: title\u001b[38;5;241m.\u001b[39mstrip()\n\u001b[1;32m     16\u001b[0m })\n",
      "\u001b[0;31mValueError\u001b[0m: not enough values to unpack (expected 2, got 1)"
     ]
    }
   ],
   "source": [
    "coursesStr = soup.find_all(string=re.compile('Sophomore'))[0].parent.parent.find_all(string=re.compile('CSC'))\n",
    "\n",
    "courses = []\n",
    "\n",
    "for course in coursesStr:\n",
    "    if len(course) == 0:\n",
    "        continue\n",
    "        \n",
    "    majorCourse, title = course.split(' - ')\n",
    "    major, courseNo = majorCourse.strip().split()\n",
    "    \n",
    "    courses.append({\n",
    "        'major': major,\n",
    "        'courseNo': courseNo,\n",
    "        'title': title.strip()\n",
    "    })\n",
    "\n",
    "courses"
   ]
  },
  {
   "cell_type": "markdown",
   "metadata": {},
   "source": [
    "# HTML example (Prof. Feild's homepage)"
   ]
  },
  {
   "cell_type": "code",
   "execution_count": 38,
   "metadata": {},
   "outputs": [
    {
     "data": {
      "text/plain": [
       "<head>\n",
       "<title>\n",
       "        Henry Feild\n",
       "    </title>\n",
       "<link href=\"/currentCSS.css\" rel=\"stylesheet\" type=\"text/css\"/>\n",
       "<link href=\"/favicon.ico\" rel=\"icon\" type=\"image/ico\"/>\n",
       "</head>"
      ]
     },
     "execution_count": 38,
     "metadata": {},
     "output_type": "execute_result"
    }
   ],
   "source": [
    "homepageHTML = requests.get('https://hank.feild.org', timeout=2).text\n",
    "homepageSoup = BeautifulSoup(homepageHTML, 'html.parser')\n",
    "homepageHead = homepageSoup.find('head')\n",
    "homepageHead"
   ]
  },
  {
   "cell_type": "code",
   "execution_count": 44,
   "metadata": {},
   "outputs": [
    {
     "data": {
      "text/plain": [
       "{'rel': ['stylesheet'], 'type': 'text/css', 'href': '/currentCSS.css'}"
      ]
     },
     "execution_count": 44,
     "metadata": {},
     "output_type": "execute_result"
    }
   ],
   "source": [
    "homepageHead.find_all('link')[0].attrs"
   ]
  },
  {
   "cell_type": "code",
   "execution_count": 52,
   "metadata": {},
   "outputs": [
    {
     "data": {
      "text/plain": [
       "'http://scholarworks.umass.edu/open_access_dissertations/790/'"
      ]
     },
     "execution_count": 52,
     "metadata": {},
     "output_type": "execute_result"
    }
   ],
   "source": [
    "# Find link to dissertation.\n",
    "homepageSoup.find(string=re.compile('Ph.D.')).parent.find_all('a')[2].attrs['href']"
   ]
  },
  {
   "cell_type": "markdown",
   "metadata": {
    "cell_id": "bbd22b89c99f4a679e76ae2ad9afe03b",
    "tags": []
   },
   "source": [
    "## Exercises \n",
    "\n",
    "### Junior Applied Math Major courses\n",
    "\n",
    "Write the code to extract the Junior year courses for Applied Math majors at Endicott. Use this URL: `https://catalog.endicott.edu/preview_program.php?catoid=46&poid=5333`\n",
    "\n"
   ]
  },
  {
   "cell_type": "code",
   "execution_count": null,
   "metadata": {
    "cell_id": "99244e024a5b44e485d7998b41082781",
    "execution_millis": 0,
    "execution_start": 1676038237341,
    "source_hash": "e42804be"
   },
   "outputs": [],
   "source": [
    "# TODO Code goes here."
   ]
  },
  {
   "cell_type": "markdown",
   "metadata": {
    "cell_id": "5168c5d3d6b14b218cf0a21d109ec335",
    "tags": []
   },
   "source": [
    "## Synonyms\n",
    "\n",
    "Let's see if we can extract synonyms for a word from `https://www.merriam-webster.com/thesaurus/`. \n",
    "\n",
    "### Questions\n",
    "  1. how do we specify the URL of the page for the word we want to find synonyms for?\n",
    "  2. how can we extract synonyms?\n",
    "  3. can we extract the strength of synonyms? how?"
   ]
  },
  {
   "cell_type": "code",
   "execution_count": null,
   "metadata": {
    "cell_id": "0d7b371d56de4099bef5e409b6bf14c4",
    "execution_millis": 0,
    "execution_start": 1676038237341,
    "source_hash": "3eaf0c8c",
    "tags": []
   },
   "outputs": [],
   "source": [
    "def extractSynonyms(word):\n",
    "    # TODO implement\n",
    "    pass"
   ]
  },
  {
   "cell_type": "markdown",
   "metadata": {
    "cell_id": "7002cba84df64d0790a6450776efb274",
    "tags": []
   },
   "source": [
    "## Extracting birthdays from Wikipedia"
   ]
  },
  {
   "cell_type": "code",
   "execution_count": 6,
   "metadata": {
    "cell_id": "1f833ff35e1d489b9c33cab7cde61870",
    "tags": []
   },
   "outputs": [],
   "source": [
    "# TODO Write code that will extract the birthday from a Wikipedia page about a person. E.g., Pedro Pascal.\n",
    "\n",
    "wikiPage = requests.get('https://en.m.wikipedia.org/wiki/Pedro_Pascal', timeout=2)\n",
    "assert wikiPage.status_code == requests.codes.ALL_OK\n",
    "soup = BeautifulSoup(wikiPage.content, 'html.parser')"
   ]
  },
  {
   "cell_type": "code",
   "execution_count": 11,
   "metadata": {},
   "outputs": [
    {
     "data": {
      "text/plain": [
       "[<span class=\"bday\">1975-04-02</span>]"
      ]
     },
     "execution_count": 11,
     "metadata": {},
     "output_type": "execute_result"
    }
   ],
   "source": [
    "soup.find_all('span', class_='bday')\n",
    "soup.find_all('span', attrs={'class': 'bday'})\n",
    "soup.select('td.infobox-data span.bday')"
   ]
  },
  {
   "cell_type": "code",
   "execution_count": 12,
   "metadata": {},
   "outputs": [
    {
     "data": {
      "text/plain": [
       "'1975-04-02'"
      ]
     },
     "execution_count": 12,
     "metadata": {},
     "output_type": "execute_result"
    }
   ],
   "source": [
    "bday = soup.select('td.infobox-data span.bday')[0].text\n",
    "bday"
   ]
  },
  {
   "cell_type": "code",
   "execution_count": 15,
   "metadata": {},
   "outputs": [
    {
     "name": "stdout",
     "output_type": "stream",
     "text": [
      "2025-02-14 09:21:09.660907\n"
     ]
    }
   ],
   "source": [
    "import datetime\n",
    "print(datetime.datetime.now())"
   ]
  },
  {
   "cell_type": "code",
   "execution_count": 20,
   "metadata": {},
   "outputs": [
    {
     "name": "stdout",
     "output_type": "stream",
     "text": [
      "1975-04-02 00:00:00\n"
     ]
    }
   ],
   "source": [
    "print(datetime.datetime.strptime(bday, '%Y-%m-%d'))"
   ]
  },
  {
   "cell_type": "code",
   "execution_count": 23,
   "metadata": {},
   "outputs": [
    {
     "data": {
      "text/plain": [
       "49"
      ]
     },
     "execution_count": 23,
     "metadata": {},
     "output_type": "execute_result"
    }
   ],
   "source": [
    "(datetime.datetime.now() - datetime.datetime.strptime(bday, '%Y-%m-%d')).days // 365"
   ]
  },
  {
   "cell_type": "markdown",
   "metadata": {},
   "source": [
    "# Web scraping dynamically loaded pages\n",
    "\n",
    "Many web pages include JavaScript that loads additional HTML and data after the page is initially loaded. Using a regular `requests.get()` call will not trigger that JavaScript to run and therefore will not give you the complete page.\n",
    "\n",
    "To get this kind of content, we need a web browser and a bridge to connect our Python code to the browser so we can ask the browser to load a page the way it usually would, then get the HTML after the JavaScript has loaded. `Selenium` is a tool that works in browsers as well as in programming languages such as Python and Java (among others) that will talk to a browser. We'll use that and I'm using Firefox and the Firebox bridge (gecko). This code will not work on your system directly; you'll need to follow the instructions in [this article](https://scrape.do/blog/how-to-scrape-javascript-rendered-web-pages-with-python/) to setup your browser (Firefox, Chrome, etc.) and a bridge for that specific browser; you will likely need to hardcode a path to the bridge in your code.\n"
   ]
  },
  {
   "cell_type": "code",
   "execution_count": 24,
   "metadata": {},
   "outputs": [
    {
     "data": {
      "text/plain": [
       "[]"
      ]
     },
     "execution_count": 24,
     "metadata": {},
     "output_type": "execute_result"
    }
   ],
   "source": [
    "from bs4 import BeautifulSoup \n",
    "import requests\n",
    "\n",
    "url = 'https://canvas.endicott.edu/courses/51797'\n",
    "elementSelector = '.module-item-title span.external_link_icon'\n",
    "\n",
    "# Question 1: Write the code that will download the HTML for the given URL and parse it as a BeuatifulSoup object.\n",
    "canvasPage = requests.get(url, timeout=2)\n",
    "assert canvasPage.status_code == requests.codes.ALL_OK\n",
    "soup = BeautifulSoup(canvasPage.content, 'html.parser')\n",
    "\n",
    "\n",
    "# Display the selector.\n",
    "soup.select(elementSelector)"
   ]
  },
  {
   "cell_type": "code",
   "execution_count": 27,
   "metadata": {},
   "outputs": [
    {
     "name": "stdout",
     "output_type": "stream",
     "text": [
      "Found it!\n"
     ]
    }
   ],
   "source": [
    "from selenium import webdriver\n",
    "from selenium.webdriver.common.by import By\n",
    "from selenium.webdriver.support.ui import WebDriverWait\n",
    "from selenium.webdriver.support import expected_conditions as EC\n",
    "from bs4 import BeautifulSoup\n",
    "\n",
    "opts = webdriver.FirefoxOptions()\n",
    "# opts.add_argument('-headless') # This says: don't open a browser window; may not be aviaalble for every browser.\n",
    "service = webdriver.FirefoxService( executable_path='/snap/bin/geckodriver' )\n",
    "\n",
    "ffox_driver = webdriver.Firefox(options=opts, service=service)  \n",
    "\n",
    "ffox_driver.get(url)\n",
    "html1 = ffox_driver.page_source\n",
    "\n",
    "try:\n",
    "    # Wait for multiple elements to be present -- this is only waiting for one, but we could add more.\n",
    "    WebDriverWait(ffox_driver, 10).until(\n",
    "        EC.presence_of_all_elements_located((By.CSS_SELECTOR, elementSelector))\n",
    "    )\n",
    "    print(\"Found it!\")\n",
    "    \n",
    "except:\n",
    "    print(\"Elements not found within the time frame\")\n",
    "\n",
    "html = ffox_driver.page_source\n",
    "# # TODO output the element with BeautifulSoup.\n",
    "# soup = BeautifulSoup(html, 'html.parser')\n",
    "# soup.select(elementSelector)\n",
    "    \n",
    "# ffox_driver.quit() # Call this when you're all done."
   ]
  },
  {
   "cell_type": "code",
   "execution_count": 28,
   "metadata": {},
   "outputs": [
    {
     "data": {
      "text/plain": [
       "[<span class=\"external_link_icon\" role=\"presentation\" style=\"margin-inline-start: 5px; display: inline-block; text-indent: initial; \"><svg style=\"width:1em; height:1em; vertical-align:middle; fill:currentColor\" viewbox=\"0 0 1920 1920\" xmlns=\"http://www.w3.org/2000/svg\">\n",
       " <path d=\"M1226.667 267c88.213 0 160 71.787 160 160v426.667H1280v-160H106.667v800C106.667 1523 130.56 1547 160 1547h1066.667c29.44 0 53.333-24 53.333-53.333v-213.334h106.667v213.334c0 88.213-71.787 160-160 160H160c-88.213 0-160-71.787-160-160V427c0-88.213 71.787-160 160-160Zm357.706 442.293 320 320c20.8 20.8 20.8 54.614 0 75.414l-320 320-75.413-75.414 228.907-228.906H906.613V1013.72h831.254L1508.96 784.707l75.413-75.414Zm-357.706-335.626H160c-29.44 0-53.333 24-53.333 53.333v160H1280V427c0-29.333-23.893-53.333-53.333-53.333Z\" fill-rule=\"evenodd\"></path>\n",
       " </svg>\n",
       " <span class=\"screenreader-only\">Links to an external site.</span></span>,\n",
       " <span class=\"external_link_icon\" role=\"presentation\" style=\"margin-inline-start: 5px; display: inline-block; text-indent: initial; \"><svg style=\"width:1em; height:1em; vertical-align:middle; fill:currentColor\" viewbox=\"0 0 1920 1920\" xmlns=\"http://www.w3.org/2000/svg\">\n",
       " <path d=\"M1226.667 267c88.213 0 160 71.787 160 160v426.667H1280v-160H106.667v800C106.667 1523 130.56 1547 160 1547h1066.667c29.44 0 53.333-24 53.333-53.333v-213.334h106.667v213.334c0 88.213-71.787 160-160 160H160c-88.213 0-160-71.787-160-160V427c0-88.213 71.787-160 160-160Zm357.706 442.293 320 320c20.8 20.8 20.8 54.614 0 75.414l-320 320-75.413-75.414 228.907-228.906H906.613V1013.72h831.254L1508.96 784.707l75.413-75.414Zm-357.706-335.626H160c-29.44 0-53.333 24-53.333 53.333v160H1280V427c0-29.333-23.893-53.333-53.333-53.333Z\" fill-rule=\"evenodd\"></path>\n",
       " </svg>\n",
       " <span class=\"screenreader-only\">Links to an external site.</span></span>,\n",
       " <span class=\"external_link_icon\" role=\"presentation\" style=\"margin-inline-start: 5px; display: inline-block; text-indent: initial; \"><svg style=\"width:1em; height:1em; vertical-align:middle; fill:currentColor\" viewbox=\"0 0 1920 1920\" xmlns=\"http://www.w3.org/2000/svg\">\n",
       " <path d=\"M1226.667 267c88.213 0 160 71.787 160 160v426.667H1280v-160H106.667v800C106.667 1523 130.56 1547 160 1547h1066.667c29.44 0 53.333-24 53.333-53.333v-213.334h106.667v213.334c0 88.213-71.787 160-160 160H160c-88.213 0-160-71.787-160-160V427c0-88.213 71.787-160 160-160Zm357.706 442.293 320 320c20.8 20.8 20.8 54.614 0 75.414l-320 320-75.413-75.414 228.907-228.906H906.613V1013.72h831.254L1508.96 784.707l75.413-75.414Zm-357.706-335.626H160c-29.44 0-53.333 24-53.333 53.333v160H1280V427c0-29.333-23.893-53.333-53.333-53.333Z\" fill-rule=\"evenodd\"></path>\n",
       " </svg>\n",
       " <span class=\"screenreader-only\">Links to an external site.</span></span>,\n",
       " <span class=\"external_link_icon\" role=\"presentation\" style=\"margin-inline-start: 5px; display: inline-block; text-indent: initial; \"><svg style=\"width:1em; height:1em; vertical-align:middle; fill:currentColor\" viewbox=\"0 0 1920 1920\" xmlns=\"http://www.w3.org/2000/svg\">\n",
       " <path d=\"M1226.667 267c88.213 0 160 71.787 160 160v426.667H1280v-160H106.667v800C106.667 1523 130.56 1547 160 1547h1066.667c29.44 0 53.333-24 53.333-53.333v-213.334h106.667v213.334c0 88.213-71.787 160-160 160H160c-88.213 0-160-71.787-160-160V427c0-88.213 71.787-160 160-160Zm357.706 442.293 320 320c20.8 20.8 20.8 54.614 0 75.414l-320 320-75.413-75.414 228.907-228.906H906.613V1013.72h831.254L1508.96 784.707l75.413-75.414Zm-357.706-335.626H160c-29.44 0-53.333 24-53.333 53.333v160H1280V427c0-29.333-23.893-53.333-53.333-53.333Z\" fill-rule=\"evenodd\"></path>\n",
       " </svg>\n",
       " <span class=\"screenreader-only\">Links to an external site.</span></span>,\n",
       " <span class=\"external_link_icon\" role=\"presentation\" style=\"margin-inline-start: 5px; display: inline-block; text-indent: initial; \"><svg style=\"width:1em; height:1em; vertical-align:middle; fill:currentColor\" viewbox=\"0 0 1920 1920\" xmlns=\"http://www.w3.org/2000/svg\">\n",
       " <path d=\"M1226.667 267c88.213 0 160 71.787 160 160v426.667H1280v-160H106.667v800C106.667 1523 130.56 1547 160 1547h1066.667c29.44 0 53.333-24 53.333-53.333v-213.334h106.667v213.334c0 88.213-71.787 160-160 160H160c-88.213 0-160-71.787-160-160V427c0-88.213 71.787-160 160-160Zm357.706 442.293 320 320c20.8 20.8 20.8 54.614 0 75.414l-320 320-75.413-75.414 228.907-228.906H906.613V1013.72h831.254L1508.96 784.707l75.413-75.414Zm-357.706-335.626H160c-29.44 0-53.333 24-53.333 53.333v160H1280V427c0-29.333-23.893-53.333-53.333-53.333Z\" fill-rule=\"evenodd\"></path>\n",
       " </svg>\n",
       " <span class=\"screenreader-only\">Links to an external site.</span></span>,\n",
       " <span class=\"external_link_icon\" role=\"presentation\" style=\"margin-inline-start: 5px; display: inline-block; text-indent: initial; \"><svg style=\"width:1em; height:1em; vertical-align:middle; fill:currentColor\" viewbox=\"0 0 1920 1920\" xmlns=\"http://www.w3.org/2000/svg\">\n",
       " <path d=\"M1226.667 267c88.213 0 160 71.787 160 160v426.667H1280v-160H106.667v800C106.667 1523 130.56 1547 160 1547h1066.667c29.44 0 53.333-24 53.333-53.333v-213.334h106.667v213.334c0 88.213-71.787 160-160 160H160c-88.213 0-160-71.787-160-160V427c0-88.213 71.787-160 160-160Zm357.706 442.293 320 320c20.8 20.8 20.8 54.614 0 75.414l-320 320-75.413-75.414 228.907-228.906H906.613V1013.72h831.254L1508.96 784.707l75.413-75.414Zm-357.706-335.626H160c-29.44 0-53.333 24-53.333 53.333v160H1280V427c0-29.333-23.893-53.333-53.333-53.333Z\" fill-rule=\"evenodd\"></path>\n",
       " </svg>\n",
       " <span class=\"screenreader-only\">Links to an external site.</span></span>,\n",
       " <span class=\"external_link_icon\" role=\"presentation\" style=\"margin-inline-start: 5px; display: inline-block; text-indent: initial; \"><svg style=\"width:1em; height:1em; vertical-align:middle; fill:currentColor\" viewbox=\"0 0 1920 1920\" xmlns=\"http://www.w3.org/2000/svg\">\n",
       " <path d=\"M1226.667 267c88.213 0 160 71.787 160 160v426.667H1280v-160H106.667v800C106.667 1523 130.56 1547 160 1547h1066.667c29.44 0 53.333-24 53.333-53.333v-213.334h106.667v213.334c0 88.213-71.787 160-160 160H160c-88.213 0-160-71.787-160-160V427c0-88.213 71.787-160 160-160Zm357.706 442.293 320 320c20.8 20.8 20.8 54.614 0 75.414l-320 320-75.413-75.414 228.907-228.906H906.613V1013.72h831.254L1508.96 784.707l75.413-75.414Zm-357.706-335.626H160c-29.44 0-53.333 24-53.333 53.333v160H1280V427c0-29.333-23.893-53.333-53.333-53.333Z\" fill-rule=\"evenodd\"></path>\n",
       " </svg>\n",
       " <span class=\"screenreader-only\">Links to an external site.</span></span>]"
      ]
     },
     "execution_count": 28,
     "metadata": {},
     "output_type": "execute_result"
    }
   ],
   "source": [
    "# TODO output the element with BeautifulSoup.\n",
    "soup = BeautifulSoup(html1, 'html.parser')\n",
    "soup.select(elementSelector)\n",
    "\n",
    "# TODO output the element with BeautifulSoup.\n",
    "soup = BeautifulSoup(html, 'html.parser')\n",
    "soup.select(elementSelector)"
   ]
  },
  {
   "cell_type": "code",
   "execution_count": 29,
   "metadata": {},
   "outputs": [],
   "source": [
    "ffox_driver.get('https://www.endicott.edu')"
   ]
  }
 ],
 "metadata": {
  "kernelspec": {
   "display_name": "Python 3 (ipykernel)",
   "language": "python",
   "name": "python3"
  },
  "language_info": {
   "codemirror_mode": {
    "name": "ipython",
    "version": 3
   },
   "file_extension": ".py",
   "mimetype": "text/x-python",
   "name": "python",
   "nbconvert_exporter": "python",
   "pygments_lexer": "ipython3",
   "version": "3.12.3"
  }
 },
 "nbformat": 4,
 "nbformat_minor": 4
}
