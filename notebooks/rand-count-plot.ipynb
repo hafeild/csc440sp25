{
 "cells": [
  {
   "cell_type": "markdown",
   "metadata": {},
   "source": [
    "# Counting the distribution of randomly generated numbers\n",
    "\n",
    "Generates a list of random numb, then counts and plots each distinct number's frequency."
   ]
  },
  {
   "cell_type": "code",
   "execution_count": 1,
   "metadata": {},
   "outputs": [],
   "source": [
    "import sys\n",
    "sys.path.append('../scripts')"
   ]
  },
  {
   "cell_type": "code",
   "execution_count": 2,
   "metadata": {},
   "outputs": [],
   "source": [
    "import cli_argparse_demo as rand_generator \n",
    "import count\n",
    "import plot "
   ]
  },
  {
   "cell_type": "code",
   "execution_count": 3,
   "metadata": {},
   "outputs": [
    {
     "data": {
      "text/plain": [
       "['36', '9', '29', '33', '5', '9', '22', '1', '29', '38']"
      ]
     },
     "execution_count": 3,
     "metadata": {},
     "output_type": "execute_result"
    }
   ],
   "source": [
    "randomNumbersAsStr = [str(x) for x in rand_generator.printRandomNumbers(1, 50, 1000, True)]\n",
    "randomNumbersAsStr[:10]"
   ]
  },
  {
   "cell_type": "code",
   "execution_count": 5,
   "metadata": {},
   "outputs": [
    {
     "data": {
      "text/plain": [
       "['36 15',\n",
       " '9 24',\n",
       " '29 19',\n",
       " '33 23',\n",
       " '5 19',\n",
       " '22 17',\n",
       " '1 19',\n",
       " '38 20',\n",
       " '26 17',\n",
       " '46 16']"
      ]
     },
     "execution_count": 5,
     "metadata": {},
     "output_type": "execute_result"
    }
   ],
   "source": [
    "countsAsStr = [f'{key} {value}' for key,value in count.tallyLines(randomNumbersAsStr).items()]\n",
    "countsAsStr[:10]"
   ]
  },
  {
   "cell_type": "code",
   "execution_count": 6,
   "metadata": {},
   "outputs": [
    {
     "data": {
      "image/png": "[encoded data removed]",
      "text/plain": [
       "<Figure size 432x288 with 1 Axes>"
      ]
     },
     "metadata": {
      "needs_background": "light"
     },
     "output_type": "display_data"
    }
   ],
   "source": [
    "plot.plotFrequencies(countsAsStr, 'Random numbers', 'Frequencies')"
   ]
  }
 ],
 "metadata": {
  "kernelspec": {
   "display_name": "Python 3",
   "language": "python",
   "name": "python3"
  },
  "language_info": {
   "codemirror_mode": {
    "name": "ipython",
    "version": 3
   },
   "file_extension": ".py",
   "mimetype": "text/x-python",
   "name": "python",
   "nbconvert_exporter": "python",
   "pygments_lexer": "ipython3",
   "version": "3.8.10"
  }
 },
 "nbformat": 4,
 "nbformat_minor": 4
}
