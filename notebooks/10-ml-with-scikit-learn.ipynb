{
 "cells": [
  {
   "cell_type": "markdown",
   "metadata": {
    "cell_id": "947d62d1a1994f0eb1f183fc5b8dd19d",
    "deepnote_cell_type": "markdown"
   },
   "source": [
    "# Supervised learning with Pandas and Scikit Learn\n",
    "\n",
    "## Regression\n",
    "First, let's get some data."
   ]
  },
  {
   "cell_type": "code",
   "execution_count": 1,
   "metadata": {
    "cell_id": "561e833b37c6494180c10288d944fd22",
    "deepnote_cell_type": "code",
    "deepnote_to_be_reexecuted": false,
    "execution_millis": 231,
    "execution_start": 1683121571876,
    "source_hash": "aeb67d52"
   },
   "outputs": [
    {
     "data": {
      "text/html": [
       "<div>\n",
       "<style scoped>\n",
       "    .dataframe tbody tr th:only-of-type {\n",
       "        vertical-align: middle;\n",
       "    }\n",
       "\n",
       "    .dataframe tbody tr th {\n",
       "        vertical-align: top;\n",
       "    }\n",
       "\n",
       "    .dataframe thead th {\n",
       "        text-align: right;\n",
       "    }\n",
       "</style>\n",
       "<table border=\"1\" class=\"dataframe\">\n",
       "  <thead>\n",
       "    <tr style=\"text-align: right;\">\n",
       "      <th></th>\n",
       "      <th>longitude</th>\n",
       "      <th>latitude</th>\n",
       "      <th>housing_median_age</th>\n",
       "      <th>total_rooms</th>\n",
       "      <th>total_bedrooms</th>\n",
       "      <th>population</th>\n",
       "      <th>households</th>\n",
       "      <th>median_income</th>\n",
       "      <th>house_value</th>\n",
       "    </tr>\n",
       "  </thead>\n",
       "  <tbody>\n",
       "    <tr>\n",
       "      <th>0</th>\n",
       "      <td>-117.62</td>\n",
       "      <td>33.43</td>\n",
       "      <td>23.0</td>\n",
       "      <td>4052.0</td>\n",
       "      <td>955.0</td>\n",
       "      <td>1950.0</td>\n",
       "      <td>859.0</td>\n",
       "      <td>4.0647</td>\n",
       "      <td>240600.0</td>\n",
       "    </tr>\n",
       "    <tr>\n",
       "      <th>1</th>\n",
       "      <td>-118.37</td>\n",
       "      <td>33.81</td>\n",
       "      <td>36.0</td>\n",
       "      <td>2031.0</td>\n",
       "      <td>339.0</td>\n",
       "      <td>817.0</td>\n",
       "      <td>337.0</td>\n",
       "      <td>5.1271</td>\n",
       "      <td>458300.0</td>\n",
       "    </tr>\n",
       "    <tr>\n",
       "      <th>2</th>\n",
       "      <td>-117.87</td>\n",
       "      <td>34.07</td>\n",
       "      <td>21.0</td>\n",
       "      <td>4723.0</td>\n",
       "      <td>882.0</td>\n",
       "      <td>2210.0</td>\n",
       "      <td>768.0</td>\n",
       "      <td>3.8167</td>\n",
       "      <td>258700.0</td>\n",
       "    </tr>\n",
       "    <tr>\n",
       "      <th>3</th>\n",
       "      <td>-117.37</td>\n",
       "      <td>33.19</td>\n",
       "      <td>33.0</td>\n",
       "      <td>2205.0</td>\n",
       "      <td>453.0</td>\n",
       "      <td>1138.0</td>\n",
       "      <td>439.0</td>\n",
       "      <td>2.8819</td>\n",
       "      <td>208600.0</td>\n",
       "    </tr>\n",
       "    <tr>\n",
       "      <th>4</th>\n",
       "      <td>-119.34</td>\n",
       "      <td>36.62</td>\n",
       "      <td>26.0</td>\n",
       "      <td>1922.0</td>\n",
       "      <td>339.0</td>\n",
       "      <td>1148.0</td>\n",
       "      <td>332.0</td>\n",
       "      <td>2.6058</td>\n",
       "      <td>92200.0</td>\n",
       "    </tr>\n",
       "  </tbody>\n",
       "</table>\n",
       "</div>"
      ],
      "text/plain": [
       "   longitude  latitude  housing_median_age  total_rooms  total_bedrooms  \\\n",
       "0    -117.62     33.43                23.0       4052.0           955.0   \n",
       "1    -118.37     33.81                36.0       2031.0           339.0   \n",
       "2    -117.87     34.07                21.0       4723.0           882.0   \n",
       "3    -117.37     33.19                33.0       2205.0           453.0   \n",
       "4    -119.34     36.62                26.0       1922.0           339.0   \n",
       "\n",
       "   population  households  median_income  house_value  \n",
       "0      1950.0       859.0         4.0647     240600.0  \n",
       "1       817.0       337.0         5.1271     458300.0  \n",
       "2      2210.0       768.0         3.8167     258700.0  \n",
       "3      1138.0       439.0         2.8819     208600.0  \n",
       "4      1148.0       332.0         2.6058      92200.0  "
      ]
     },
     "execution_count": 1,
     "metadata": {},
     "output_type": "execute_result"
    }
   ],
   "source": [
    "import pandas as pd\n",
    "\n",
    "# File is in housing-all.csv\n",
    "housingDF = pd.read_csv('../data/housing-all.csv')\n",
    "\n",
    "housingDF.head()"
   ]
  },
  {
   "cell_type": "markdown",
   "metadata": {
    "cell_id": "0a5eb4ab8a114832ad4bcd84d2b8738a",
    "deepnote_cell_type": "markdown"
   },
   "source": [
    "Suppose we want to predict `house_value` (that's our target or dependent variable (DV)). Let's start by segmenting our feature columns from the DV."
   ]
  },
  {
   "cell_type": "code",
   "execution_count": 2,
   "metadata": {
    "cell_id": "f1cb3632f4a34ec18b23ff80496873a8",
    "deepnote_cell_type": "code",
    "deepnote_to_be_reexecuted": false,
    "execution_millis": 61,
    "execution_start": 1683121572089,
    "source_hash": "fe35beae"
   },
   "outputs": [
    {
     "data": {
      "text/html": [
       "<div>\n",
       "<style scoped>\n",
       "    .dataframe tbody tr th:only-of-type {\n",
       "        vertical-align: middle;\n",
       "    }\n",
       "\n",
       "    .dataframe tbody tr th {\n",
       "        vertical-align: top;\n",
       "    }\n",
       "\n",
       "    .dataframe thead th {\n",
       "        text-align: right;\n",
       "    }\n",
       "</style>\n",
       "<table border=\"1\" class=\"dataframe\">\n",
       "  <thead>\n",
       "    <tr style=\"text-align: right;\">\n",
       "      <th></th>\n",
       "      <th>longitude</th>\n",
       "      <th>latitude</th>\n",
       "      <th>housing_median_age</th>\n",
       "      <th>total_rooms</th>\n",
       "      <th>total_bedrooms</th>\n",
       "      <th>population</th>\n",
       "      <th>households</th>\n",
       "      <th>median_income</th>\n",
       "    </tr>\n",
       "  </thead>\n",
       "  <tbody>\n",
       "    <tr>\n",
       "      <th>0</th>\n",
       "      <td>-117.62</td>\n",
       "      <td>33.43</td>\n",
       "      <td>23.0</td>\n",
       "      <td>4052.0</td>\n",
       "      <td>955.0</td>\n",
       "      <td>1950.0</td>\n",
       "      <td>859.0</td>\n",
       "      <td>4.0647</td>\n",
       "    </tr>\n",
       "    <tr>\n",
       "      <th>1</th>\n",
       "      <td>-118.37</td>\n",
       "      <td>33.81</td>\n",
       "      <td>36.0</td>\n",
       "      <td>2031.0</td>\n",
       "      <td>339.0</td>\n",
       "      <td>817.0</td>\n",
       "      <td>337.0</td>\n",
       "      <td>5.1271</td>\n",
       "    </tr>\n",
       "    <tr>\n",
       "      <th>2</th>\n",
       "      <td>-117.87</td>\n",
       "      <td>34.07</td>\n",
       "      <td>21.0</td>\n",
       "      <td>4723.0</td>\n",
       "      <td>882.0</td>\n",
       "      <td>2210.0</td>\n",
       "      <td>768.0</td>\n",
       "      <td>3.8167</td>\n",
       "    </tr>\n",
       "    <tr>\n",
       "      <th>3</th>\n",
       "      <td>-117.37</td>\n",
       "      <td>33.19</td>\n",
       "      <td>33.0</td>\n",
       "      <td>2205.0</td>\n",
       "      <td>453.0</td>\n",
       "      <td>1138.0</td>\n",
       "      <td>439.0</td>\n",
       "      <td>2.8819</td>\n",
       "    </tr>\n",
       "    <tr>\n",
       "      <th>4</th>\n",
       "      <td>-119.34</td>\n",
       "      <td>36.62</td>\n",
       "      <td>26.0</td>\n",
       "      <td>1922.0</td>\n",
       "      <td>339.0</td>\n",
       "      <td>1148.0</td>\n",
       "      <td>332.0</td>\n",
       "      <td>2.6058</td>\n",
       "    </tr>\n",
       "  </tbody>\n",
       "</table>\n",
       "</div>"
      ],
      "text/plain": [
       "   longitude  latitude  housing_median_age  total_rooms  total_bedrooms  \\\n",
       "0    -117.62     33.43                23.0       4052.0           955.0   \n",
       "1    -118.37     33.81                36.0       2031.0           339.0   \n",
       "2    -117.87     34.07                21.0       4723.0           882.0   \n",
       "3    -117.37     33.19                33.0       2205.0           453.0   \n",
       "4    -119.34     36.62                26.0       1922.0           339.0   \n",
       "\n",
       "   population  households  median_income  \n",
       "0      1950.0       859.0         4.0647  \n",
       "1       817.0       337.0         5.1271  \n",
       "2      2210.0       768.0         3.8167  \n",
       "3      1138.0       439.0         2.8819  \n",
       "4      1148.0       332.0         2.6058  "
      ]
     },
     "execution_count": 2,
     "metadata": {},
     "output_type": "execute_result"
    }
   ],
   "source": [
    "features = housingDF.drop('house_value', axis=1)\n",
    "houseValues = housingDF['house_value']\n",
    "\n",
    "features.head()"
   ]
  },
  {
   "cell_type": "code",
   "execution_count": 3,
   "metadata": {
    "cell_id": "d64f4f19633e4f56997c91c96ded642a",
    "deepnote_cell_type": "code",
    "deepnote_to_be_reexecuted": false,
    "execution_millis": 36,
    "execution_start": 1683121572115,
    "source_hash": "bb7dbc3a"
   },
   "outputs": [
    {
     "data": {
      "text/plain": [
       "0    240600.0\n",
       "1    458300.0\n",
       "2    258700.0\n",
       "3    208600.0\n",
       "4     92200.0\n",
       "Name: house_value, dtype: float64"
      ]
     },
     "execution_count": 3,
     "metadata": {},
     "output_type": "execute_result"
    }
   ],
   "source": [
    "houseValues.head()"
   ]
  },
  {
   "cell_type": "markdown",
   "metadata": {
    "cell_id": "a1dc1a1ff3de400a8ae933cda26c1d64",
    "deepnote_cell_type": "markdown"
   },
   "source": [
    "## Make training, dev, and test splits\n",
    "\n",
    "We'll make them 60/20/20. We'll use a housing dataset to test with."
   ]
  },
  {
   "cell_type": "code",
   "execution_count": 4,
   "metadata": {
    "cell_id": "f104176a81d24fb69021b02313fc70fa",
    "deepnote_cell_type": "code",
    "deepnote_to_be_reexecuted": false,
    "execution_millis": 663,
    "execution_start": 1683121572159,
    "source_hash": "16a4440e"
   },
   "outputs": [
    {
     "name": "stdout",
     "output_type": "stream",
     "text": [
      "(12259, 8) (12259,) (4087, 8) (4087,) (4087, 8) (4087,)\n"
     ]
    }
   ],
   "source": [
    "from sklearn.model_selection import train_test_split\n",
    "\n",
    "# First, break into (training+dev, 80%) and (testing, 20%)\n",
    "trainDevFeatures, testFeatures, trainDevHouseValues, testHouseValues = \\\n",
    "    train_test_split(features, houseValues, train_size=.8)\n",
    "\n",
    "# Second, break the trainDev set into (training, 75%) and (dev, 25%):\n",
    "# trainFeatures and devFeatures\n",
    "# trainHouseValues and devHouseValue\n",
    "trainFeatures, devFeatures, trainHouseValues, devHouseValues = \\\n",
    "    train_test_split(trainDevFeatures, trainDevHouseValues, train_size=0.75)\n",
    "\n",
    "print(\n",
    "    trainFeatures.shape,\n",
    "    trainHouseValues.shape,\n",
    "    devFeatures.shape,\n",
    "    devHouseValues.shape,\n",
    "    testFeatures.shape,\n",
    "    testHouseValues.shape\n",
    ")\n",
    "\n",
    "### BIG NOTE: \n",
    "# If you are working with classification and your targets are labels,\n",
    "# you should stratify the observations relative to class label across\n",
    "# splits. You can do this by supplying `train_test_split` with the parameter\n",
    "# `stratify=ys` -- where where `ys` is the name of your target Series.\n",
    "# E.g., if `houseValues` was a Series of class labels rather than real values,\n",
    "# we could stratify it by doing `stratify=houseValues` in our call to `train_test_split`."
   ]
  },
  {
   "cell_type": "code",
   "execution_count": 5,
   "metadata": {
    "cell_id": "6719c74f177147b58fd626b39bae37ba",
    "deepnote_cell_type": "code",
    "deepnote_to_be_reexecuted": false,
    "execution_millis": 22,
    "execution_start": 1683121572823,
    "source_hash": "f1bf3d49"
   },
   "outputs": [
    {
     "data": {
      "text/plain": [
       "6796      59800.0\n",
       "4439     337300.0\n",
       "18003    500001.0\n",
       "9685     157800.0\n",
       "16350    153500.0\n",
       "           ...   \n",
       "14957    202700.0\n",
       "924      112500.0\n",
       "12354    500001.0\n",
       "4016     238500.0\n",
       "15031    234600.0\n",
       "Name: house_value, Length: 4087, dtype: float64"
      ]
     },
     "execution_count": 5,
     "metadata": {},
     "output_type": "execute_result"
    }
   ],
   "source": [
    "devHouseValues"
   ]
  },
  {
   "cell_type": "markdown",
   "metadata": {
    "cell_id": "bf1487bb8b52447aa51abad1112f5a67",
    "deepnote_cell_type": "markdown"
   },
   "source": [
    "## Next, we're going to scale the features\n",
    "\n",
    "Scaling will map all of the values of a particular feature into a given range; we'll do \\[0,1\\].\n",
    "\n",
    "We'll do this by creating (fitting) a scaling model with the training data -- that'll find the min and max of \"seen\" data. Then we will run the dev and test sets through that model. This way we don't use any extremes that occur only in the dev or test sets in our scaling model."
   ]
  },
  {
   "cell_type": "code",
   "execution_count": 6,
   "metadata": {
    "cell_id": "d560118c7162456a889845e17ccfc9bc",
    "deepnote_cell_type": "code",
    "deepnote_to_be_reexecuted": false,
    "execution_millis": 33,
    "execution_start": 1683121572823,
    "source_hash": "eb053004"
   },
   "outputs": [],
   "source": [
    "from sklearn.preprocessing import MinMaxScaler\n",
    "\n",
    "scaler = MinMaxScaler()\n",
    "\n",
    "trainFeaturesScaled = trainFeatures.copy()\n",
    "devFeaturesScaled = devFeatures.copy()\n",
    "testFeaturesScaled = testFeatures.copy()\n",
    "\n",
    "trainFeaturesScaled[trainFeaturesScaled.columns] = scaler.fit_transform(trainFeatures)\n",
    "\n",
    "# NOTE: we're using the scaler object fit to the training set for these;\n",
    "# for min-max scaling, that means the max and min of each feature of the training\n",
    "# set is used, which means some of the values in the dev or test may be outside of\n",
    "# the range [0,1].\n",
    "devFeaturesScaled[devFeaturesScaled.columns] = scaler.transform(devFeatures)\n",
    "testFeaturesScaled[testFeaturesScaled.columns] = scaler.transform(testFeatures)\n",
    "\n",
    "\n",
    "\n"
   ]
  },
  {
   "cell_type": "code",
   "execution_count": 7,
   "metadata": {
    "cell_id": "83d917c4493a4818be4244cb92186991",
    "deepnote_cell_type": "code",
    "deepnote_to_be_reexecuted": false,
    "execution_millis": 54,
    "execution_start": 1683121572843,
    "source_hash": "b34712d9"
   },
   "outputs": [
    {
     "data": {
      "text/html": [
       "<div>\n",
       "<style scoped>\n",
       "    .dataframe tbody tr th:only-of-type {\n",
       "        vertical-align: middle;\n",
       "    }\n",
       "\n",
       "    .dataframe tbody tr th {\n",
       "        vertical-align: top;\n",
       "    }\n",
       "\n",
       "    .dataframe thead th {\n",
       "        text-align: right;\n",
       "    }\n",
       "</style>\n",
       "<table border=\"1\" class=\"dataframe\">\n",
       "  <thead>\n",
       "    <tr style=\"text-align: right;\">\n",
       "      <th></th>\n",
       "      <th>longitude</th>\n",
       "      <th>latitude</th>\n",
       "      <th>housing_median_age</th>\n",
       "      <th>total_rooms</th>\n",
       "      <th>total_bedrooms</th>\n",
       "      <th>population</th>\n",
       "      <th>households</th>\n",
       "      <th>median_income</th>\n",
       "    </tr>\n",
       "  </thead>\n",
       "  <tbody>\n",
       "    <tr>\n",
       "      <th>13562</th>\n",
       "      <td>0.582996</td>\n",
       "      <td>0.170032</td>\n",
       "      <td>0.352941</td>\n",
       "      <td>0.039877</td>\n",
       "      <td>0.023898</td>\n",
       "      <td>0.012528</td>\n",
       "      <td>0.023680</td>\n",
       "      <td>0.693177</td>\n",
       "    </tr>\n",
       "    <tr>\n",
       "      <th>13051</th>\n",
       "      <td>0.452429</td>\n",
       "      <td>0.199787</td>\n",
       "      <td>0.411765</td>\n",
       "      <td>0.072490</td>\n",
       "      <td>0.076195</td>\n",
       "      <td>0.037277</td>\n",
       "      <td>0.080086</td>\n",
       "      <td>0.215894</td>\n",
       "    </tr>\n",
       "    <tr>\n",
       "      <th>18930</th>\n",
       "      <td>0.705466</td>\n",
       "      <td>0.120085</td>\n",
       "      <td>0.156863</td>\n",
       "      <td>0.407234</td>\n",
       "      <td>0.423184</td>\n",
       "      <td>0.202696</td>\n",
       "      <td>0.386285</td>\n",
       "      <td>0.198280</td>\n",
       "    </tr>\n",
       "    <tr>\n",
       "      <th>15860</th>\n",
       "      <td>0.256073</td>\n",
       "      <td>0.763018</td>\n",
       "      <td>0.803922</td>\n",
       "      <td>0.091218</td>\n",
       "      <td>0.107542</td>\n",
       "      <td>0.052580</td>\n",
       "      <td>0.111495</td>\n",
       "      <td>0.069413</td>\n",
       "    </tr>\n",
       "    <tr>\n",
       "      <th>13686</th>\n",
       "      <td>0.217611</td>\n",
       "      <td>0.702444</td>\n",
       "      <td>0.627451</td>\n",
       "      <td>0.032552</td>\n",
       "      <td>0.026847</td>\n",
       "      <td>0.012080</td>\n",
       "      <td>0.024009</td>\n",
       "      <td>0.181039</td>\n",
       "    </tr>\n",
       "    <tr>\n",
       "      <th>...</th>\n",
       "      <td>...</td>\n",
       "      <td>...</td>\n",
       "      <td>...</td>\n",
       "      <td>...</td>\n",
       "      <td>...</td>\n",
       "      <td>...</td>\n",
       "      <td>...</td>\n",
       "      <td>...</td>\n",
       "    </tr>\n",
       "    <tr>\n",
       "      <th>18194</th>\n",
       "      <td>0.217611</td>\n",
       "      <td>0.523911</td>\n",
       "      <td>0.764706</td>\n",
       "      <td>0.090636</td>\n",
       "      <td>0.060211</td>\n",
       "      <td>0.027523</td>\n",
       "      <td>0.059859</td>\n",
       "      <td>0.648446</td>\n",
       "    </tr>\n",
       "    <tr>\n",
       "      <th>12747</th>\n",
       "      <td>0.646761</td>\n",
       "      <td>0.155154</td>\n",
       "      <td>0.627451</td>\n",
       "      <td>0.167356</td>\n",
       "      <td>0.147579</td>\n",
       "      <td>0.098770</td>\n",
       "      <td>0.150140</td>\n",
       "      <td>0.269231</td>\n",
       "    </tr>\n",
       "    <tr>\n",
       "      <th>8491</th>\n",
       "      <td>0.186235</td>\n",
       "      <td>0.579171</td>\n",
       "      <td>0.607843</td>\n",
       "      <td>0.126774</td>\n",
       "      <td>0.097921</td>\n",
       "      <td>0.043107</td>\n",
       "      <td>0.102779</td>\n",
       "      <td>0.350285</td>\n",
       "    </tr>\n",
       "    <tr>\n",
       "      <th>15917</th>\n",
       "      <td>0.712551</td>\n",
       "      <td>0.056323</td>\n",
       "      <td>0.392157</td>\n",
       "      <td>0.062314</td>\n",
       "      <td>0.082713</td>\n",
       "      <td>0.026486</td>\n",
       "      <td>0.076632</td>\n",
       "      <td>0.192997</td>\n",
       "    </tr>\n",
       "    <tr>\n",
       "      <th>6857</th>\n",
       "      <td>0.300607</td>\n",
       "      <td>0.623804</td>\n",
       "      <td>0.117647</td>\n",
       "      <td>0.186636</td>\n",
       "      <td>0.142768</td>\n",
       "      <td>0.081645</td>\n",
       "      <td>0.145535</td>\n",
       "      <td>0.293499</td>\n",
       "    </tr>\n",
       "  </tbody>\n",
       "</table>\n",
       "<p>12259 rows × 8 columns</p>\n",
       "</div>"
      ],
      "text/plain": [
       "       longitude  latitude  housing_median_age  total_rooms  total_bedrooms  \\\n",
       "13562   0.582996  0.170032            0.352941     0.039877        0.023898   \n",
       "13051   0.452429  0.199787            0.411765     0.072490        0.076195   \n",
       "18930   0.705466  0.120085            0.156863     0.407234        0.423184   \n",
       "15860   0.256073  0.763018            0.803922     0.091218        0.107542   \n",
       "13686   0.217611  0.702444            0.627451     0.032552        0.026847   \n",
       "...          ...       ...                 ...          ...             ...   \n",
       "18194   0.217611  0.523911            0.764706     0.090636        0.060211   \n",
       "12747   0.646761  0.155154            0.627451     0.167356        0.147579   \n",
       "8491    0.186235  0.579171            0.607843     0.126774        0.097921   \n",
       "15917   0.712551  0.056323            0.392157     0.062314        0.082713   \n",
       "6857    0.300607  0.623804            0.117647     0.186636        0.142768   \n",
       "\n",
       "       population  households  median_income  \n",
       "13562    0.012528    0.023680       0.693177  \n",
       "13051    0.037277    0.080086       0.215894  \n",
       "18930    0.202696    0.386285       0.198280  \n",
       "15860    0.052580    0.111495       0.069413  \n",
       "13686    0.012080    0.024009       0.181039  \n",
       "...           ...         ...            ...  \n",
       "18194    0.027523    0.059859       0.648446  \n",
       "12747    0.098770    0.150140       0.269231  \n",
       "8491     0.043107    0.102779       0.350285  \n",
       "15917    0.026486    0.076632       0.192997  \n",
       "6857     0.081645    0.145535       0.293499  \n",
       "\n",
       "[12259 rows x 8 columns]"
      ]
     },
     "execution_count": 7,
     "metadata": {},
     "output_type": "execute_result"
    }
   ],
   "source": [
    "trainFeaturesScaled"
   ]
  },
  {
   "cell_type": "markdown",
   "metadata": {
    "cell_id": "8861444db42c443ca2c9371db2627ef9",
    "deepnote_cell_type": "markdown"
   },
   "source": [
    "## Linear regression"
   ]
  },
  {
   "cell_type": "markdown",
   "metadata": {
    "cell_id": "3d1d40f40eb342e792fb81098e22290e",
    "deepnote_cell_type": "markdown"
   },
   "source": [
    "Let's create a model where we use just the total rooms, total bedrooms, and the median income of the area as features, and house value as the dependent variable that we want to predict."
   ]
  },
  {
   "cell_type": "code",
   "execution_count": 8,
   "metadata": {
    "cell_id": "decc1e40a0244b5d82bab68929caa623",
    "deepnote_cell_type": "code",
    "deepnote_to_be_reexecuted": false,
    "execution_millis": 329,
    "execution_start": 1683121572881,
    "source_hash": "dbddb88e"
   },
   "outputs": [
    {
     "data": {
      "text/html": [
       "<style>#sk-container-id-1 {\n",
       "  /* Definition of color scheme common for light and dark mode */\n",
       "  --sklearn-color-text: #000;\n",
       "  --sklearn-color-text-muted: #666;\n",
       "  --sklearn-color-line: gray;\n",
       "  /* Definition of color scheme for unfitted estimators */\n",
       "  --sklearn-color-unfitted-level-0: #fff5e6;\n",
       "  --sklearn-color-unfitted-level-1: #f6e4d2;\n",
       "  --sklearn-color-unfitted-level-2: #ffe0b3;\n",
       "  --sklearn-color-unfitted-level-3: chocolate;\n",
       "  /* Definition of color scheme for fitted estimators */\n",
       "  --sklearn-color-fitted-level-0: #f0f8ff;\n",
       "  --sklearn-color-fitted-level-1: #d4ebff;\n",
       "  --sklearn-color-fitted-level-2: #b3dbfd;\n",
       "  --sklearn-color-fitted-level-3: cornflowerblue;\n",
       "\n",
       "  /* Specific color for light theme */\n",
       "  --sklearn-color-text-on-default-background: var(--sg-text-color, var(--theme-code-foreground, var(--jp-content-font-color1, black)));\n",
       "  --sklearn-color-background: var(--sg-background-color, var(--theme-background, var(--jp-layout-color0, white)));\n",
       "  --sklearn-color-border-box: var(--sg-text-color, var(--theme-code-foreground, var(--jp-content-font-color1, black)));\n",
       "  --sklearn-color-icon: #696969;\n",
       "\n",
       "  @media (prefers-color-scheme: dark) {\n",
       "    /* Redefinition of color scheme for dark theme */\n",
       "    --sklearn-color-text-on-default-background: var(--sg-text-color, var(--theme-code-foreground, var(--jp-content-font-color1, white)));\n",
       "    --sklearn-color-background: var(--sg-background-color, var(--theme-background, var(--jp-layout-color0, #111)));\n",
       "    --sklearn-color-border-box: var(--sg-text-color, var(--theme-code-foreground, var(--jp-content-font-color1, white)));\n",
       "    --sklearn-color-icon: #878787;\n",
       "  }\n",
       "}\n",
       "\n",
       "#sk-container-id-1 {\n",
       "  color: var(--sklearn-color-text);\n",
       "}\n",
       "\n",
       "#sk-container-id-1 pre {\n",
       "  padding: 0;\n",
       "}\n",
       "\n",
       "#sk-container-id-1 input.sk-hidden--visually {\n",
       "  border: 0;\n",
       "  clip: rect(1px 1px 1px 1px);\n",
       "  clip: rect(1px, 1px, 1px, 1px);\n",
       "  height: 1px;\n",
       "  margin: -1px;\n",
       "  overflow: hidden;\n",
       "  padding: 0;\n",
       "  position: absolute;\n",
       "  width: 1px;\n",
       "}\n",
       "\n",
       "#sk-container-id-1 div.sk-dashed-wrapped {\n",
       "  border: 1px dashed var(--sklearn-color-line);\n",
       "  margin: 0 0.4em 0.5em 0.4em;\n",
       "  box-sizing: border-box;\n",
       "  padding-bottom: 0.4em;\n",
       "  background-color: var(--sklearn-color-background);\n",
       "}\n",
       "\n",
       "#sk-container-id-1 div.sk-container {\n",
       "  /* jupyter's `normalize.less` sets `[hidden] { display: none; }`\n",
       "     but bootstrap.min.css set `[hidden] { display: none !important; }`\n",
       "     so we also need the `!important` here to be able to override the\n",
       "     default hidden behavior on the sphinx rendered scikit-learn.org.\n",
       "     See: https://github.com/scikit-learn/scikit-learn/issues/21755 */\n",
       "  display: inline-block !important;\n",
       "  position: relative;\n",
       "}\n",
       "\n",
       "#sk-container-id-1 div.sk-text-repr-fallback {\n",
       "  display: none;\n",
       "}\n",
       "\n",
       "div.sk-parallel-item,\n",
       "div.sk-serial,\n",
       "div.sk-item {\n",
       "  /* draw centered vertical line to link estimators */\n",
       "  background-image: linear-gradient(var(--sklearn-color-text-on-default-background), var(--sklearn-color-text-on-default-background));\n",
       "  background-size: 2px 100%;\n",
       "  background-repeat: no-repeat;\n",
       "  background-position: center center;\n",
       "}\n",
       "\n",
       "/* Parallel-specific style estimator block */\n",
       "\n",
       "#sk-container-id-1 div.sk-parallel-item::after {\n",
       "  content: \"\";\n",
       "  width: 100%;\n",
       "  border-bottom: 2px solid var(--sklearn-color-text-on-default-background);\n",
       "  flex-grow: 1;\n",
       "}\n",
       "\n",
       "#sk-container-id-1 div.sk-parallel {\n",
       "  display: flex;\n",
       "  align-items: stretch;\n",
       "  justify-content: center;\n",
       "  background-color: var(--sklearn-color-background);\n",
       "  position: relative;\n",
       "}\n",
       "\n",
       "#sk-container-id-1 div.sk-parallel-item {\n",
       "  display: flex;\n",
       "  flex-direction: column;\n",
       "}\n",
       "\n",
       "#sk-container-id-1 div.sk-parallel-item:first-child::after {\n",
       "  align-self: flex-end;\n",
       "  width: 50%;\n",
       "}\n",
       "\n",
       "#sk-container-id-1 div.sk-parallel-item:last-child::after {\n",
       "  align-self: flex-start;\n",
       "  width: 50%;\n",
       "}\n",
       "\n",
       "#sk-container-id-1 div.sk-parallel-item:only-child::after {\n",
       "  width: 0;\n",
       "}\n",
       "\n",
       "/* Serial-specific style estimator block */\n",
       "\n",
       "#sk-container-id-1 div.sk-serial {\n",
       "  display: flex;\n",
       "  flex-direction: column;\n",
       "  align-items: center;\n",
       "  background-color: var(--sklearn-color-background);\n",
       "  padding-right: 1em;\n",
       "  padding-left: 1em;\n",
       "}\n",
       "\n",
       "\n",
       "/* Toggleable style: style used for estimator/Pipeline/ColumnTransformer box that is\n",
       "clickable and can be expanded/collapsed.\n",
       "- Pipeline and ColumnTransformer use this feature and define the default style\n",
       "- Estimators will overwrite some part of the style using the `sk-estimator` class\n",
       "*/\n",
       "\n",
       "/* Pipeline and ColumnTransformer style (default) */\n",
       "\n",
       "#sk-container-id-1 div.sk-toggleable {\n",
       "  /* Default theme specific background. It is overwritten whether we have a\n",
       "  specific estimator or a Pipeline/ColumnTransformer */\n",
       "  background-color: var(--sklearn-color-background);\n",
       "}\n",
       "\n",
       "/* Toggleable label */\n",
       "#sk-container-id-1 label.sk-toggleable__label {\n",
       "  cursor: pointer;\n",
       "  display: flex;\n",
       "  width: 100%;\n",
       "  margin-bottom: 0;\n",
       "  padding: 0.5em;\n",
       "  box-sizing: border-box;\n",
       "  text-align: center;\n",
       "  align-items: start;\n",
       "  justify-content: space-between;\n",
       "  gap: 0.5em;\n",
       "}\n",
       "\n",
       "#sk-container-id-1 label.sk-toggleable__label .caption {\n",
       "  font-size: 0.6rem;\n",
       "  font-weight: lighter;\n",
       "  color: var(--sklearn-color-text-muted);\n",
       "}\n",
       "\n",
       "#sk-container-id-1 label.sk-toggleable__label-arrow:before {\n",
       "  /* Arrow on the left of the label */\n",
       "  content: \"▸\";\n",
       "  float: left;\n",
       "  margin-right: 0.25em;\n",
       "  color: var(--sklearn-color-icon);\n",
       "}\n",
       "\n",
       "#sk-container-id-1 label.sk-toggleable__label-arrow:hover:before {\n",
       "  color: var(--sklearn-color-text);\n",
       "}\n",
       "\n",
       "/* Toggleable content - dropdown */\n",
       "\n",
       "#sk-container-id-1 div.sk-toggleable__content {\n",
       "  max-height: 0;\n",
       "  max-width: 0;\n",
       "  overflow: hidden;\n",
       "  text-align: left;\n",
       "  /* unfitted */\n",
       "  background-color: var(--sklearn-color-unfitted-level-0);\n",
       "}\n",
       "\n",
       "#sk-container-id-1 div.sk-toggleable__content.fitted {\n",
       "  /* fitted */\n",
       "  background-color: var(--sklearn-color-fitted-level-0);\n",
       "}\n",
       "\n",
       "#sk-container-id-1 div.sk-toggleable__content pre {\n",
       "  margin: 0.2em;\n",
       "  border-radius: 0.25em;\n",
       "  color: var(--sklearn-color-text);\n",
       "  /* unfitted */\n",
       "  background-color: var(--sklearn-color-unfitted-level-0);\n",
       "}\n",
       "\n",
       "#sk-container-id-1 div.sk-toggleable__content.fitted pre {\n",
       "  /* unfitted */\n",
       "  background-color: var(--sklearn-color-fitted-level-0);\n",
       "}\n",
       "\n",
       "#sk-container-id-1 input.sk-toggleable__control:checked~div.sk-toggleable__content {\n",
       "  /* Expand drop-down */\n",
       "  max-height: 200px;\n",
       "  max-width: 100%;\n",
       "  overflow: auto;\n",
       "}\n",
       "\n",
       "#sk-container-id-1 input.sk-toggleable__control:checked~label.sk-toggleable__label-arrow:before {\n",
       "  content: \"▾\";\n",
       "}\n",
       "\n",
       "/* Pipeline/ColumnTransformer-specific style */\n",
       "\n",
       "#sk-container-id-1 div.sk-label input.sk-toggleable__control:checked~label.sk-toggleable__label {\n",
       "  color: var(--sklearn-color-text);\n",
       "  background-color: var(--sklearn-color-unfitted-level-2);\n",
       "}\n",
       "\n",
       "#sk-container-id-1 div.sk-label.fitted input.sk-toggleable__control:checked~label.sk-toggleable__label {\n",
       "  background-color: var(--sklearn-color-fitted-level-2);\n",
       "}\n",
       "\n",
       "/* Estimator-specific style */\n",
       "\n",
       "/* Colorize estimator box */\n",
       "#sk-container-id-1 div.sk-estimator input.sk-toggleable__control:checked~label.sk-toggleable__label {\n",
       "  /* unfitted */\n",
       "  background-color: var(--sklearn-color-unfitted-level-2);\n",
       "}\n",
       "\n",
       "#sk-container-id-1 div.sk-estimator.fitted input.sk-toggleable__control:checked~label.sk-toggleable__label {\n",
       "  /* fitted */\n",
       "  background-color: var(--sklearn-color-fitted-level-2);\n",
       "}\n",
       "\n",
       "#sk-container-id-1 div.sk-label label.sk-toggleable__label,\n",
       "#sk-container-id-1 div.sk-label label {\n",
       "  /* The background is the default theme color */\n",
       "  color: var(--sklearn-color-text-on-default-background);\n",
       "}\n",
       "\n",
       "/* On hover, darken the color of the background */\n",
       "#sk-container-id-1 div.sk-label:hover label.sk-toggleable__label {\n",
       "  color: var(--sklearn-color-text);\n",
       "  background-color: var(--sklearn-color-unfitted-level-2);\n",
       "}\n",
       "\n",
       "/* Label box, darken color on hover, fitted */\n",
       "#sk-container-id-1 div.sk-label.fitted:hover label.sk-toggleable__label.fitted {\n",
       "  color: var(--sklearn-color-text);\n",
       "  background-color: var(--sklearn-color-fitted-level-2);\n",
       "}\n",
       "\n",
       "/* Estimator label */\n",
       "\n",
       "#sk-container-id-1 div.sk-label label {\n",
       "  font-family: monospace;\n",
       "  font-weight: bold;\n",
       "  display: inline-block;\n",
       "  line-height: 1.2em;\n",
       "}\n",
       "\n",
       "#sk-container-id-1 div.sk-label-container {\n",
       "  text-align: center;\n",
       "}\n",
       "\n",
       "/* Estimator-specific */\n",
       "#sk-container-id-1 div.sk-estimator {\n",
       "  font-family: monospace;\n",
       "  border: 1px dotted var(--sklearn-color-border-box);\n",
       "  border-radius: 0.25em;\n",
       "  box-sizing: border-box;\n",
       "  margin-bottom: 0.5em;\n",
       "  /* unfitted */\n",
       "  background-color: var(--sklearn-color-unfitted-level-0);\n",
       "}\n",
       "\n",
       "#sk-container-id-1 div.sk-estimator.fitted {\n",
       "  /* fitted */\n",
       "  background-color: var(--sklearn-color-fitted-level-0);\n",
       "}\n",
       "\n",
       "/* on hover */\n",
       "#sk-container-id-1 div.sk-estimator:hover {\n",
       "  /* unfitted */\n",
       "  background-color: var(--sklearn-color-unfitted-level-2);\n",
       "}\n",
       "\n",
       "#sk-container-id-1 div.sk-estimator.fitted:hover {\n",
       "  /* fitted */\n",
       "  background-color: var(--sklearn-color-fitted-level-2);\n",
       "}\n",
       "\n",
       "/* Specification for estimator info (e.g. \"i\" and \"?\") */\n",
       "\n",
       "/* Common style for \"i\" and \"?\" */\n",
       "\n",
       ".sk-estimator-doc-link,\n",
       "a:link.sk-estimator-doc-link,\n",
       "a:visited.sk-estimator-doc-link {\n",
       "  float: right;\n",
       "  font-size: smaller;\n",
       "  line-height: 1em;\n",
       "  font-family: monospace;\n",
       "  background-color: var(--sklearn-color-background);\n",
       "  border-radius: 1em;\n",
       "  height: 1em;\n",
       "  width: 1em;\n",
       "  text-decoration: none !important;\n",
       "  margin-left: 0.5em;\n",
       "  text-align: center;\n",
       "  /* unfitted */\n",
       "  border: var(--sklearn-color-unfitted-level-1) 1pt solid;\n",
       "  color: var(--sklearn-color-unfitted-level-1);\n",
       "}\n",
       "\n",
       ".sk-estimator-doc-link.fitted,\n",
       "a:link.sk-estimator-doc-link.fitted,\n",
       "a:visited.sk-estimator-doc-link.fitted {\n",
       "  /* fitted */\n",
       "  border: var(--sklearn-color-fitted-level-1) 1pt solid;\n",
       "  color: var(--sklearn-color-fitted-level-1);\n",
       "}\n",
       "\n",
       "/* On hover */\n",
       "div.sk-estimator:hover .sk-estimator-doc-link:hover,\n",
       ".sk-estimator-doc-link:hover,\n",
       "div.sk-label-container:hover .sk-estimator-doc-link:hover,\n",
       ".sk-estimator-doc-link:hover {\n",
       "  /* unfitted */\n",
       "  background-color: var(--sklearn-color-unfitted-level-3);\n",
       "  color: var(--sklearn-color-background);\n",
       "  text-decoration: none;\n",
       "}\n",
       "\n",
       "div.sk-estimator.fitted:hover .sk-estimator-doc-link.fitted:hover,\n",
       ".sk-estimator-doc-link.fitted:hover,\n",
       "div.sk-label-container:hover .sk-estimator-doc-link.fitted:hover,\n",
       ".sk-estimator-doc-link.fitted:hover {\n",
       "  /* fitted */\n",
       "  background-color: var(--sklearn-color-fitted-level-3);\n",
       "  color: var(--sklearn-color-background);\n",
       "  text-decoration: none;\n",
       "}\n",
       "\n",
       "/* Span, style for the box shown on hovering the info icon */\n",
       ".sk-estimator-doc-link span {\n",
       "  display: none;\n",
       "  z-index: 9999;\n",
       "  position: relative;\n",
       "  font-weight: normal;\n",
       "  right: .2ex;\n",
       "  padding: .5ex;\n",
       "  margin: .5ex;\n",
       "  width: min-content;\n",
       "  min-width: 20ex;\n",
       "  max-width: 50ex;\n",
       "  color: var(--sklearn-color-text);\n",
       "  box-shadow: 2pt 2pt 4pt #999;\n",
       "  /* unfitted */\n",
       "  background: var(--sklearn-color-unfitted-level-0);\n",
       "  border: .5pt solid var(--sklearn-color-unfitted-level-3);\n",
       "}\n",
       "\n",
       ".sk-estimator-doc-link.fitted span {\n",
       "  /* fitted */\n",
       "  background: var(--sklearn-color-fitted-level-0);\n",
       "  border: var(--sklearn-color-fitted-level-3);\n",
       "}\n",
       "\n",
       ".sk-estimator-doc-link:hover span {\n",
       "  display: block;\n",
       "}\n",
       "\n",
       "/* \"?\"-specific style due to the `<a>` HTML tag */\n",
       "\n",
       "#sk-container-id-1 a.estimator_doc_link {\n",
       "  float: right;\n",
       "  font-size: 1rem;\n",
       "  line-height: 1em;\n",
       "  font-family: monospace;\n",
       "  background-color: var(--sklearn-color-background);\n",
       "  border-radius: 1rem;\n",
       "  height: 1rem;\n",
       "  width: 1rem;\n",
       "  text-decoration: none;\n",
       "  /* unfitted */\n",
       "  color: var(--sklearn-color-unfitted-level-1);\n",
       "  border: var(--sklearn-color-unfitted-level-1) 1pt solid;\n",
       "}\n",
       "\n",
       "#sk-container-id-1 a.estimator_doc_link.fitted {\n",
       "  /* fitted */\n",
       "  border: var(--sklearn-color-fitted-level-1) 1pt solid;\n",
       "  color: var(--sklearn-color-fitted-level-1);\n",
       "}\n",
       "\n",
       "/* On hover */\n",
       "#sk-container-id-1 a.estimator_doc_link:hover {\n",
       "  /* unfitted */\n",
       "  background-color: var(--sklearn-color-unfitted-level-3);\n",
       "  color: var(--sklearn-color-background);\n",
       "  text-decoration: none;\n",
       "}\n",
       "\n",
       "#sk-container-id-1 a.estimator_doc_link.fitted:hover {\n",
       "  /* fitted */\n",
       "  background-color: var(--sklearn-color-fitted-level-3);\n",
       "}\n",
       "</style><div id=\"sk-container-id-1\" class=\"sk-top-container\"><div class=\"sk-text-repr-fallback\"><pre>LinearRegression()</pre><b>In a Jupyter environment, please rerun this cell to show the HTML representation or trust the notebook. <br />On GitHub, the HTML representation is unable to render, please try loading this page with nbviewer.org.</b></div><div class=\"sk-container\" hidden><div class=\"sk-item\"><div class=\"sk-estimator fitted sk-toggleable\"><input class=\"sk-toggleable__control sk-hidden--visually\" id=\"sk-estimator-id-1\" type=\"checkbox\" checked><label for=\"sk-estimator-id-1\" class=\"sk-toggleable__label fitted sk-toggleable__label-arrow\"><div><div>LinearRegression</div></div><div><a class=\"sk-estimator-doc-link fitted\" rel=\"noreferrer\" target=\"_blank\" href=\"https://scikit-learn.org/1.6/modules/generated/sklearn.linear_model.LinearRegression.html\">?<span>Documentation for LinearRegression</span></a><span class=\"sk-estimator-doc-link fitted\">i<span>Fitted</span></span></div></label><div class=\"sk-toggleable__content fitted\"><pre>LinearRegression()</pre></div> </div></div></div></div>"
      ],
      "text/plain": [
       "LinearRegression()"
      ]
     },
     "execution_count": 8,
     "metadata": {},
     "output_type": "execute_result"
    }
   ],
   "source": [
    "from sklearn.linear_model import LinearRegression\n",
    "# from sklearn.linear_model import Ridge\n",
    "# from sklearn.linear_model import Lasso\n",
    "\n",
    "featureNames = ['total_rooms', 'total_bedrooms', 'median_income']\n",
    "model = LinearRegression()\n",
    "# TODO -- fit the model.\n",
    "model.fit(trainFeaturesScaled[featureNames], trainHouseValues)"
   ]
  },
  {
   "cell_type": "markdown",
   "metadata": {
    "cell_id": "c3fb13ea7ab7469292d7f4aa9acce127",
    "deepnote_cell_type": "markdown"
   },
   "source": [
    "### What do the coefficients tell us? How about the intercept?"
   ]
  },
  {
   "cell_type": "code",
   "execution_count": 9,
   "metadata": {
    "cell_id": "c986d9f7d7e942f2a3caddafb96d799f",
    "deepnote_cell_type": "code",
    "deepnote_to_be_reexecuted": false,
    "execution_millis": 24,
    "execution_start": 1683121573252,
    "source_hash": "d0c4b2e"
   },
   "outputs": [
    {
     "name": "stdout",
     "output_type": "stream",
     "text": [
      "[-1033299.50950648  1077233.42832477   715751.34922088] 34355.02082784398\n",
      "           intercept:     34355.02083\n",
      "         total_rooms:  -1033299.50951\n",
      "      total_bedrooms:   1077233.42832\n",
      "       median_income:    715751.34922\n",
      "\n"
     ]
    }
   ],
   "source": [
    "print(\n",
    "    model.coef_,\n",
    "    model.intercept_\n",
    ")\n",
    "\n",
    "print(f'{\"intercept\":>20}: {model.intercept_:>15.5f}')\n",
    "for coef,feature in zip(model.coef_, featureNames):\n",
    "    print(f'{feature:>20}: {coef:>15.5f}')\n",
    "print()"
   ]
  },
  {
   "cell_type": "code",
   "execution_count": 10,
   "metadata": {
    "cell_id": "8673dd028ee343848709dd694033245c",
    "deepnote_cell_type": "code",
    "deepnote_to_be_reexecuted": false,
    "execution_millis": 24,
    "execution_start": 1683121573252,
    "source_hash": "f9c313ad"
   },
   "outputs": [],
   "source": [
    "# Make predictions on the development set.\n",
    "devPredicted = model.predict(devFeaturesScaled[featureNames])"
   ]
  },
  {
   "cell_type": "code",
   "execution_count": 11,
   "metadata": {
    "cell_id": "c9d163842de5492d9bb96c1915f1536e",
    "deepnote_cell_type": "code",
    "deepnote_to_be_reexecuted": false,
    "execution_millis": 24,
    "execution_start": 1683121573253,
    "source_hash": "5acacf25"
   },
   "outputs": [
    {
     "data": {
      "text/plain": [
       "array([101023.11966785, 302662.93613836, 318606.05297501, ...,\n",
       "       481797.76292061, 187751.05257038, 229226.12053124], shape=(4087,))"
      ]
     },
     "execution_count": 11,
     "metadata": {},
     "output_type": "execute_result"
    }
   ],
   "source": [
    "devPredicted"
   ]
  },
  {
   "cell_type": "code",
   "execution_count": 12,
   "metadata": {
    "cell_id": "000e6c5e8d0043e2bb0fdaef61b89a01",
    "deepnote_cell_type": "code",
    "deepnote_to_be_reexecuted": false,
    "execution_millis": 8,
    "execution_start": 1683121573276,
    "source_hash": "f1bf3d49"
   },
   "outputs": [
    {
     "data": {
      "text/plain": [
       "6796      59800.0\n",
       "4439     337300.0\n",
       "18003    500001.0\n",
       "9685     157800.0\n",
       "16350    153500.0\n",
       "           ...   \n",
       "14957    202700.0\n",
       "924      112500.0\n",
       "12354    500001.0\n",
       "4016     238500.0\n",
       "15031    234600.0\n",
       "Name: house_value, Length: 4087, dtype: float64"
      ]
     },
     "execution_count": 12,
     "metadata": {},
     "output_type": "execute_result"
    }
   ],
   "source": [
    "devHouseValues"
   ]
  },
  {
   "cell_type": "markdown",
   "metadata": {
    "cell_id": "0767ed3a04eb43548d9926d8269ae58a",
    "deepnote_cell_type": "markdown"
   },
   "source": [
    "### Let's evaluate\n",
    "\n",
    "What do these mean?"
   ]
  },
  {
   "cell_type": "code",
   "execution_count": 13,
   "metadata": {
    "cell_id": "ac48803b3e0247379374d495d2b08bb2",
    "deepnote_cell_type": "code",
    "deepnote_to_be_reexecuted": false,
    "execution_millis": 22,
    "execution_start": 1683121573300,
    "source_hash": "1f5e6699"
   },
   "outputs": [
    {
     "name": "stdout",
     "output_type": "stream",
     "text": [
      "MSE: 6557614275.186522\n",
      "\tRMSE: 80979.09776718015\n",
      "r2: 0.5146009500372175\n",
      "MAE: 59775.11474457371\n"
     ]
    }
   ],
   "source": [
    "from sklearn.metrics import mean_squared_error\n",
    "from sklearn.metrics import r2_score\n",
    "from sklearn.metrics import mean_absolute_error\n",
    "import math\n",
    "\n",
    "\n",
    "print(f'MSE: {mean_squared_error(devHouseValues, devPredicted)}')\n",
    "print(f'\\tRMSE: {math.sqrt(mean_squared_error(devHouseValues, devPredicted))}')\n",
    "print(f'r2: {r2_score(devHouseValues, devPredicted)}')\n",
    "print(f'MAE: {mean_absolute_error(devHouseValues, devPredicted)}')\n"
   ]
  },
  {
   "cell_type": "markdown",
   "metadata": {
    "cell_id": "73ccc1df8a774b40a7c5e417869fd806",
    "deepnote_cell_type": "markdown"
   },
   "source": [
    "## Slightly different model\n",
    "\n",
    "Let's try making a model that uses *all* the features that aren't the DV (house value). -- Use the same training and development sets!"
   ]
  },
  {
   "cell_type": "code",
   "execution_count": 14,
   "metadata": {
    "cell_id": "b94011e95e84428d8d4e39df9ba46308",
    "deepnote_cell_type": "code",
    "deepnote_to_be_reexecuted": false,
    "execution_millis": 126,
    "execution_start": 1683121573302,
    "source_hash": "eec8390f"
   },
   "outputs": [
    {
     "name": "stdout",
     "output_type": "stream",
     "text": [
      "price = 366752.00491256744 + -425943.9284570983*longitude + -401285.9228415471*latitude + 59192.96345248074*housing_median_age + -300947.29804024455*total_rooms + 826845.3914293207*total_bedrooms + -1229966.2758847738*population + 162603.07715060015*households + 589409.5604728265*median_income \n",
      "MSE: 4874762352.318376\n",
      "\tRMSE: 69819.49836770797\n",
      "r2: 0.6391667891228057\n",
      "MAE: 51002.17468311095\n"
     ]
    }
   ],
   "source": [
    "# Choose the features.\n",
    "# \"Fit\" or \"learn\" the model\n",
    "#featureNames = ['total_rooms', 'total_bedrooms', 'median_income']\n",
    "featureNames = trainFeaturesScaled.columns\n",
    "model = LinearRegression()\n",
    "model.fit(trainFeaturesScaled[featureNames], trainHouseValues)\n",
    "\n",
    "# Describe the model.\n",
    "print(f'price = {model.intercept_} ', end=\"\")\n",
    "for coef,feature in zip(model.coef_, featureNames):\n",
    "    print(f'+ {coef}*{feature} ', end=\"\")\n",
    "print()\n",
    "\n",
    "# Make predictions with the model.\n",
    "devPredicted = model.predict(devFeaturesScaled[featureNames])\n",
    "\n",
    "# Evaluate the predictions.\n",
    "print(f'MSE: {mean_squared_error(devHouseValues, devPredicted)}')\n",
    "print(f'\\tRMSE: {math.sqrt(mean_squared_error(devHouseValues, devPredicted))}')\n",
    "print(f'r2: {r2_score(devHouseValues, devPredicted)}')\n",
    "print(f'MAE: {mean_absolute_error(devHouseValues, devPredicted)}')"
   ]
  },
  {
   "cell_type": "markdown",
   "metadata": {},
   "source": [
    "## Other regression algorithms\n",
    "\n",
    "You can do the same but using many other regression algorithms. [Here's a whole page of regression algorithms avaialble from Scikit Learn](https://scikit-learn.org/stable/supervised_learning.html)."
   ]
  },
  {
   "cell_type": "markdown",
   "metadata": {
    "cell_id": "8f041515aabc4ae6a4e646c0b93b3ff0",
    "deepnote_cell_type": "markdown"
   },
   "source": [
    "--------\n",
    "\n",
    "# Classification\n",
    "\n",
    "This is essentially the same thing as linear regression in terms of set up, etc. However, we'll be performing *binary classification*—we're trying to predict \"yes\"/\"no\" or \"class 1\"/\"class 2\". The scikit-learn classfication models want the Y values to be 0/1, so we need to map our class labels to 0/1.\n",
    "\n",
    "We can create a binary classification problem out of just about anything. For the housing dataset we processed above, let's look at the spread of house values in the training set and see if we can establish a \"really expensive\" vs. \"not really expensive\" class."
   ]
  },
  {
   "cell_type": "code",
   "execution_count": 15,
   "metadata": {
    "cell_id": "bc73440a01764e248b59aab872933dca",
    "deepnote_cell_type": "code",
    "deepnote_to_be_reexecuted": false,
    "execution_millis": 31,
    "execution_start": 1683121573398,
    "source_hash": "34084ccd"
   },
   "outputs": [
    {
     "data": {
      "text/plain": [
       "count     12259.000000\n",
       "mean     207297.266009\n",
       "std      115470.793635\n",
       "min       14999.000000\n",
       "25%      119950.000000\n",
       "50%      179800.000000\n",
       "75%      266000.000000\n",
       "max      500001.000000\n",
       "Name: house_value, dtype: float64"
      ]
     },
     "execution_count": 15,
     "metadata": {},
     "output_type": "execute_result"
    }
   ],
   "source": [
    "trainHouseValues.describe()"
   ]
  },
  {
   "cell_type": "code",
   "execution_count": 16,
   "metadata": {
    "cell_id": "7ca039248be4493fad6957f2d4689f75",
    "deepnote_cell_type": "code",
    "deepnote_to_be_reexecuted": false,
    "execution_millis": 941,
    "execution_start": 1683121573430,
    "source_hash": "d3a8c16a"
   },
   "outputs": [
    {
     "data": {
      "text/plain": [
       "<Axes: ylabel='Frequency'>"
      ]
     },
     "execution_count": 16,
     "metadata": {},
     "output_type": "execute_result"
    },
    {
     "data": {
      "image/png": "[encoded data removed]",
      "text/plain": [
       "<Figure size 640x480 with 1 Axes>"
      ]
     },
     "metadata": {},
     "output_type": "display_data"
    }
   ],
   "source": [
    "trainHouseValues.plot.hist()"
   ]
  },
  {
   "cell_type": "markdown",
   "metadata": {
    "cell_id": "650594ed251a46118505132d29cc9059",
    "deepnote_cell_type": "markdown"
   },
   "source": [
    "Looking at this, let's say anything that's at or over the 75th percentile (~\\$265,000) is \"really expensive\".\n",
    "\n",
    "Now we need to binaryize the housing values.  We can do this by *mapping* the current housing values (in dollars) to 0 or 1 using the `Series.map()` function:"
   ]
  },
  {
   "cell_type": "code",
   "execution_count": 17,
   "metadata": {
    "cell_id": "ba13f5e48f3d41b78989b9de05c2da99",
    "deepnote_cell_type": "code",
    "deepnote_to_be_reexecuted": false,
    "execution_millis": 206,
    "execution_start": 1683121574627,
    "source_hash": "c4770b67"
   },
   "outputs": [
    {
     "data": {
      "text/plain": [
       "13562    1\n",
       "13051    1\n",
       "18930    0\n",
       "15860    0\n",
       "13686    0\n",
       "Name: house_value, dtype: int64"
      ]
     },
     "execution_count": 17,
     "metadata": {},
     "output_type": "execute_result"
    }
   ],
   "source": [
    "expensiveThreshold = trainHouseValues.quantile(0.75)\n",
    "\n",
    "def houseValueToBinary(value):\n",
    "    if value <= expensiveThreshold:\n",
    "        return 0\n",
    "    return 1\n",
    "\n",
    "# TODO complete this\n",
    "trainHouseValueClass = trainHouseValues.map(houseValueToBinary)\n",
    "trainHouseValueClass.head()"
   ]
  },
  {
   "cell_type": "code",
   "execution_count": 18,
   "metadata": {
    "cell_id": "c801b4eaf52e4201af7366d78f79a897",
    "deepnote_cell_type": "code",
    "deepnote_to_be_reexecuted": false,
    "execution_millis": 54,
    "execution_start": 1683121574781,
    "source_hash": "ece4673e"
   },
   "outputs": [
    {
     "data": {
      "text/plain": [
       "13562    483100.0\n",
       "13051    312200.0\n",
       "18930    131800.0\n",
       "15860     66300.0\n",
       "13686    108000.0\n",
       "Name: house_value, dtype: float64"
      ]
     },
     "execution_count": 18,
     "metadata": {},
     "output_type": "execute_result"
    }
   ],
   "source": [
    "trainHouseValues.head()"
   ]
  },
  {
   "cell_type": "markdown",
   "metadata": {
    "cell_id": "30b0ef080a8947769769eb1a40bb8140",
    "deepnote_cell_type": "markdown"
   },
   "source": [
    "Now we do that for our development and test sets as well."
   ]
  },
  {
   "cell_type": "code",
   "execution_count": 19,
   "metadata": {
    "cell_id": "53610b9f77444e57940aae4e2ae58ee2",
    "deepnote_cell_type": "code",
    "deepnote_to_be_reexecuted": false,
    "execution_millis": 6,
    "execution_start": 1683121574831,
    "source_hash": "a56b3543"
   },
   "outputs": [],
   "source": [
    "devHouseValueClass = devHouseValues.map(houseValueToBinary)\n",
    "testHouseValueClass = testHouseValues.map(houseValueToBinary)"
   ]
  },
  {
   "cell_type": "markdown",
   "metadata": {
    "cell_id": "2797ea5084394457a64df98c15610c43",
    "deepnote_cell_type": "markdown"
   },
   "source": [
    "## k-Nearest Neighbors\n",
    "\n",
    "The next step is to train the model. This part looks a lot like linear regression; the only difference will be the name of the class and we'll use the binarized house values. Let's train a kNN model onall the features."
   ]
  },
  {
   "cell_type": "code",
   "execution_count": 20,
   "metadata": {},
   "outputs": [
    {
     "ename": "NameError",
     "evalue": "name 'accuracy_score' is not defined",
     "output_type": "error",
     "traceback": [
      "\u001b[0;31m---------------------------------------------------------------------------\u001b[0m",
      "\u001b[0;31mNameError\u001b[0m                                 Traceback (most recent call last)",
      "Cell \u001b[0;32mIn[20], line 11\u001b[0m\n\u001b[1;32m      7\u001b[0m devPredictedClass \u001b[38;5;241m=\u001b[39m modelKnn\u001b[38;5;241m.\u001b[39mpredict(devFeaturesScaled\u001b[38;5;241m.\u001b[39mvalues)\n\u001b[1;32m      8\u001b[0m devPredictedProbs \u001b[38;5;241m=\u001b[39m modelKnn\u001b[38;5;241m.\u001b[39mpredict_proba(devFeaturesScaled\u001b[38;5;241m.\u001b[39mvalues)\n\u001b[0;32m---> 11\u001b[0m \u001b[38;5;28mprint\u001b[39m(\u001b[38;5;124mf\u001b[39m\u001b[38;5;124m'\u001b[39m\u001b[38;5;124mAccuracy: \u001b[39m\u001b[38;5;132;01m{\u001b[39;00m\u001b[43maccuracy_score\u001b[49m(devHouseValueClass,\u001b[38;5;250m \u001b[39mdevPredictedClass)\u001b[38;5;132;01m}\u001b[39;00m\u001b[38;5;124m'\u001b[39m)\n\u001b[1;32m     12\u001b[0m \u001b[38;5;28mprint\u001b[39m(\u001b[38;5;124mf\u001b[39m\u001b[38;5;124m'\u001b[39m\u001b[38;5;124mPrecision: \u001b[39m\u001b[38;5;132;01m{\u001b[39;00mprecision_score(devHouseValueClass,\u001b[38;5;250m \u001b[39mdevPredictedClass)\u001b[38;5;132;01m}\u001b[39;00m\u001b[38;5;124m'\u001b[39m)\n\u001b[1;32m     13\u001b[0m \u001b[38;5;28mprint\u001b[39m(\u001b[38;5;124mf\u001b[39m\u001b[38;5;124m'\u001b[39m\u001b[38;5;124mRecall: \u001b[39m\u001b[38;5;132;01m{\u001b[39;00mrecall_score(devHouseValueClass,\u001b[38;5;250m \u001b[39mdevPredictedClass)\u001b[38;5;132;01m}\u001b[39;00m\u001b[38;5;124m'\u001b[39m)\n",
      "\u001b[0;31mNameError\u001b[0m: name 'accuracy_score' is not defined"
     ]
    }
   ],
   "source": [
    "from sklearn.neighbors import KNeighborsClassifier\n",
    "\n",
    "# Due to a warning that KNeighborsClassifier will output when you use DataFrames,\n",
    "# we're converting our feature DataFrames to numpy arrays:\n",
    "modelKnn = KNeighborsClassifier(5) # use k=5\n",
    "modelKnn.fit(trainFeaturesScaled.values, trainHouseValueClass)\n",
    "devPredictedClass = modelKnn.predict(devFeaturesScaled.values)\n",
    "devPredictedProbs = modelKnn.predict_proba(devFeaturesScaled.values)\n",
    "\n",
    "\n",
    "print(f'Accuracy: {accuracy_score(devHouseValueClass, devPredictedClass)}')\n",
    "print(f'Precision: {precision_score(devHouseValueClass, devPredictedClass)}')\n",
    "print(f'Recall: {recall_score(devHouseValueClass, devPredictedClass)}')\n",
    "print(f'F1: {f1_score(devHouseValueClass, devPredictedClass)}')\n",
    "print(f'AUC: {roc_auc_score(devHouseValueClass, devPredictedProbs[:,1])}')"
   ]
  },
  {
   "cell_type": "markdown",
   "metadata": {
    "cell_id": "39b340bf18c6454788f920510adc7eb8",
    "deepnote_cell_type": "markdown"
   },
   "source": [
    "## Logistic regression\n",
    "\n",
    "Now let's try  logistic regression."
   ]
  },
  {
   "cell_type": "code",
   "execution_count": null,
   "metadata": {
    "cell_id": "d9533d4a27314a72aa56bdd990f58402",
    "deepnote_cell_type": "code",
    "deepnote_to_be_reexecuted": false,
    "execution_millis": 574,
    "execution_start": 1683121574829,
    "source_hash": "ff575e03"
   },
   "outputs": [],
   "source": [
    "from sklearn.linear_model import LogisticRegression\n",
    "\n",
    "modelBinary = LogisticRegression()\n",
    "modelBinary.fit(trainFeaturesScaled, trainHouseValueClass)"
   ]
  },
  {
   "cell_type": "code",
   "execution_count": null,
   "metadata": {
    "cell_id": "edbe6ada4c324fbfb10f70ec24b0a278",
    "deepnote_cell_type": "code",
    "deepnote_to_be_reexecuted": false,
    "execution_millis": 44,
    "execution_start": 1683121575379,
    "source_hash": "b34712d9"
   },
   "outputs": [],
   "source": [
    "trainFeaturesScaled"
   ]
  },
  {
   "cell_type": "code",
   "execution_count": null,
   "metadata": {
    "cell_id": "19fd4000ff1f4f608317fcb046f621a2",
    "deepnote_cell_type": "code",
    "deepnote_to_be_reexecuted": false,
    "execution_millis": 43,
    "execution_start": 1683121575379,
    "source_hash": "892b6108"
   },
   "outputs": [],
   "source": [
    "# What are these?\n",
    "\n",
    "print(\n",
    "    modelBinary.coef_,\n",
    "    modelBinary.intercept_\n",
    ")\n",
    "\n",
    "print(f'{\"intercept\":>20}: {modelBinary.intercept_[0]:>15.5f}')\n",
    "for coef,feature in zip(modelBinary.coef_[0], featureNames):\n",
    "    print(f'{feature:>20}: {coef:>15.5f}')\n",
    "print()"
   ]
  },
  {
   "cell_type": "code",
   "execution_count": null,
   "metadata": {
    "cell_id": "4ba2db0569664356a32d3ca526dab0c8",
    "deepnote_cell_type": "code",
    "deepnote_to_be_reexecuted": false,
    "execution_millis": 25,
    "execution_start": 1683121575378,
    "source_hash": "bfd5a111"
   },
   "outputs": [],
   "source": [
    "# Make predictions on the development set.\n",
    "\n",
    "# Predict the class (0 or 1).\n",
    "devPredictedClass = modelBinary.predict(devFeaturesScaled)\n",
    "\n",
    "# Returns the raw probability of the 0 and 1 class. This is needed for some measures, like AUC.\n",
    "devPredictedProbs = modelBinary.predict_proba(devFeaturesScaled)\n",
    "devPredictedProbs"
   ]
  },
  {
   "cell_type": "code",
   "execution_count": null,
   "metadata": {
    "cell_id": "ec75e91c3db44bc296c60c21a9fd8d5a",
    "deepnote_cell_type": "code",
    "deepnote_to_be_reexecuted": false,
    "execution_millis": 18,
    "execution_start": 1683121575386,
    "source_hash": "5f2335ed"
   },
   "outputs": [],
   "source": [
    "devPredictedProbs[:,1]\n",
    "devPredictedProbs[2,:] # all columns, but just row index 3\n",
    "devPredictedProbs[2][:]\n"
   ]
  },
  {
   "cell_type": "markdown",
   "metadata": {
    "cell_id": "d6672a3169b140ad8c76af550ea1ef11",
    "deepnote_cell_type": "markdown"
   },
   "source": [
    "Evaluation is also similar, but different metrics. Area under the receiver operator characteristic curve (`roc_auc_score`) requires the predictions—what is the `[:,1]` bit about?"
   ]
  },
  {
   "cell_type": "code",
   "execution_count": null,
   "metadata": {
    "cell_id": "9bdf5afb630b4af9b6a9cac5174a1a43",
    "deepnote_cell_type": "code",
    "deepnote_to_be_reexecuted": false,
    "execution_millis": 21,
    "execution_start": 1683121575385,
    "source_hash": "f25b8192"
   },
   "outputs": [],
   "source": [
    "from sklearn.metrics import accuracy_score\n",
    "from sklearn.metrics import precision_score\n",
    "from sklearn.metrics import recall_score\n",
    "from sklearn.metrics import f1_score\n",
    "from sklearn.metrics import roc_auc_score\n",
    "\n",
    "print(f'Accuracy: {accuracy_score(devHouseValueClass, devPredictedClass)}')\n",
    "print(f'Precision: {precision_score(devHouseValueClass, devPredictedClass)}')\n",
    "print(f'Recall: {recall_score(devHouseValueClass, devPredictedClass)}')\n",
    "print(f'F1: {f1_score(devHouseValueClass, devPredictedClass)}')\n",
    "print(f'AUC: {roc_auc_score(devHouseValueClass, devPredictedProbs[:,1])}')"
   ]
  },
  {
   "cell_type": "markdown",
   "metadata": {
    "cell_id": "36e5261e13ac4866a21f01d2458ee4db",
    "deepnote_cell_type": "markdown"
   },
   "source": [
    "**Is our model any good?**"
   ]
  },
  {
   "cell_type": "markdown",
   "metadata": {
    "cell_id": "6e0c8855482c4077b46f05f0d8ef2643",
    "deepnote_cell_type": "markdown"
   },
   "source": [
    "## Decision Tree"
   ]
  },
  {
   "cell_type": "code",
   "execution_count": null,
   "metadata": {
    "cell_id": "2ee8b99b6f234b29b6aff33d979b645e",
    "deepnote_cell_type": "code",
    "deepnote_to_be_reexecuted": false,
    "execution_millis": 88,
    "execution_start": 1683121589627,
    "source_hash": "a2eacac3"
   },
   "outputs": [],
   "source": [
    "from sklearn.tree import DecisionTreeClassifier\n",
    "\n",
    "modelDT = DecisionTreeClassifier()\n",
    "modelDT.fit(trainFeaturesScaled.values, trainHouseValueClass)\n",
    "devPredictedClass = modelDT.predict(devFeaturesScaled.values)\n",
    "devPredictedProbs = modelDT.predict_proba(devFeaturesScaled.values)\n",
    "\n",
    "\n",
    "print(f'Accuracy: {accuracy_score(devHouseValueClass, devPredictedClass)}')\n",
    "print(f'Precision: {precision_score(devHouseValueClass, devPredictedClass)}')\n",
    "print(f'Recall: {recall_score(devHouseValueClass, devPredictedClass)}')\n",
    "print(f'F1: {f1_score(devHouseValueClass, devPredictedClass)}')\n",
    "print(f'AUC: {roc_auc_score(devHouseValueClass, devPredictedProbs[:,1])}')"
   ]
  },
  {
   "cell_type": "markdown",
   "metadata": {
    "cell_id": "7d5985f8e7ad4cef8f451ae836c18c9c",
    "deepnote_cell_type": "markdown"
   },
   "source": [
    "## Random Forest"
   ]
  },
  {
   "cell_type": "code",
   "execution_count": null,
   "metadata": {
    "cell_id": "230a2e8e3d5043dc869372f982dea923",
    "deepnote_cell_type": "code",
    "deepnote_to_be_reexecuted": true,
    "execution_millis": 2824882,
    "execution_start": 1683118750968,
    "source_hash": "a1dd0440"
   },
   "outputs": [],
   "source": [
    "from sklearn.ensemble import RandomForestClassifier\n",
    "\n",
    "# TODO"
   ]
  },
  {
   "cell_type": "markdown",
   "metadata": {
    "cell_id": "3a353e0a18db43ffb8b060a3ef9f3fc7",
    "deepnote_cell_type": "markdown"
   },
   "source": [
    "# Balancing datasets\n",
    "\n",
    "In classifictation, balanced datasets provide an equal number of observations corresponding to each class. If you have a dataset where there is an imbalance, there are several ways you can rectify it. A couple of simple approaches are:\n",
    "\n",
    "  * oversample observations of the class that is underrepresented\n",
    "  * undersample observations of the class that is overrepresented\n",
    "  * create synthetic observations of the class that is underrepresented\n",
    "  * some combination of these\n",
    "  \n",
    "The first is pretty simple and doesn't throw away data. It works as follows. Assume the underrepresented class is A and the overrepresented class is B. Let $n$ be the number of observations of class A and $m$ be the number of observations of class B. $m-n$ times we will randomly choose one of the $n$ observations of class A and add them to a separat set. The same observation can be picked multiple times (this is called random sampling with replacement). We now combine the $n$ original observations of class A, the $m-n$ duplicated observations, and the $m$ observations of class B to get our new balanced dataset.\n",
    "\n",
    "There are libraries that can do this for you, but it's easy enough to write:"
   ]
  },
  {
   "cell_type": "code",
   "execution_count": null,
   "metadata": {
    "cell_id": "960fec2720a946308eca83045cd4a784",
    "deepnote_cell_type": "code",
    "deepnote_to_be_reexecuted": true,
    "execution_millis": 2824692,
    "execution_start": 1683118751147,
    "source_hash": "251f891e"
   },
   "outputs": [],
   "source": [
    "import pandas as pd\n",
    "\n",
    "housingDF = pd.read_csv('../data/housing-all.csv')\n",
    "housingDF['is_really_expensive'] = housingDF['house_value'].map(lambda x: 1 if x >= expensiveThreshold else 0)\n",
    "housingDF['is_really_expensive'].plot.hist()"
   ]
  },
  {
   "cell_type": "code",
   "execution_count": null,
   "metadata": {
    "cell_id": "ab7a03cb06cf447eb6c659557fb3104f",
    "deepnote_cell_type": "code",
    "deepnote_to_be_reexecuted": true,
    "execution_millis": 2824323,
    "execution_start": 1683118751527,
    "source_hash": "10c8d0e0"
   },
   "outputs": [],
   "source": [
    "# We can see that the 1.0 class is the underrepresented class, so we'll oversample that.\n",
    "\n",
    "diff = len(housingDF[housingDF['is_really_expensive'] == 0]) - len(housingDF[housingDF['is_really_expensive'] == 1]) \n",
    "newSample = housingDF[housingDF['is_really_expensive'] == 1].sample(n=diff, replace=True)\n",
    "newSample.describe()"
   ]
  },
  {
   "cell_type": "code",
   "execution_count": null,
   "metadata": {
    "cell_id": "e4a89950608e452096eb63da6c21b1f3",
    "deepnote_cell_type": "code",
    "deepnote_to_be_reexecuted": true,
    "execution_millis": 2824243,
    "execution_start": 1683118751604,
    "source_hash": "50944679"
   },
   "outputs": [],
   "source": [
    "housingDFBalanced = pd.concat([housingDF, newSample])\n",
    "housingDFBalanced['is_really_expensive'].plot.hist()"
   ]
  },
  {
   "cell_type": "markdown",
   "metadata": {
    "cell_id": "48fac164378e4014b64dc9909abe6d17",
    "deepnote_cell_type": "markdown"
   },
   "source": [
    "Once you've made a balanced dataset, you can go ahead and make your training and development splits."
   ]
  },
  {
   "cell_type": "markdown",
   "metadata": {
    "cell_id": "3d06e0dea4fb49b3861feaceba261022",
    "deepnote_cell_type": "markdown"
   },
   "source": [
    "# Next steps\n",
    "\n",
    "There are LOTS of other classification and regression models out there—check out [the Scikit Learn website](https://scikit-learn.org/stable/index.html) for more. They follow pretty similar patterns. Each algorithm also has several parameters you can adjust, so be sure to read the documentation pages and guides to find out how to tweak them.\n",
    "\n",
    "Scikit Learn also has a construct called *pipelines*, which I haven't gone over in this notebook. You can find out more about those [here](https://scikit-learn.org/stable/modules/compose.html#combining-estimators).\n"
   ]
  }
 ],
 "metadata": {
  "deepnote_execution_queue": [],
  "deepnote_notebook_id": "5cc7fb8226c5496caf4134170218d6fa",
  "deepnote_persisted_session": {
   "createdAt": "2023-05-03T14:02:55.020Z"
  },
  "kernelspec": {
   "display_name": "Python 3 (ipykernel)",
   "language": "python",
   "name": "python3"
  },
  "language_info": {
   "codemirror_mode": {
    "name": "ipython",
    "version": 3
   },
   "file_extension": ".py",
   "mimetype": "text/x-python",
   "name": "python",
   "nbconvert_exporter": "python",
   "pygments_lexer": "ipython3",
   "version": "3.12.3"
  }
 },
 "nbformat": 4,
 "nbformat_minor": 4
}
