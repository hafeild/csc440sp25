{
 "cells": [
  {
   "cell_type": "markdown",
   "metadata": {
    "cell_id": "fc9183defd924a14ac37a3317dcacc84",
    "deepnote_cell_type": "markdown",
    "tags": []
   },
   "source": [
    "# Pandas\n",
    "\n",
    "This notebook contains examples of using Pandas to perform explorator data analysis (EDA) on tabular data."
   ]
  },
  {
   "cell_type": "code",
   "execution_count": 1,
   "metadata": {
    "cell_id": "0038d5c04efa44d4ac53bc6a9f29ab7e",
    "deepnote_cell_type": "code",
    "deepnote_to_be_reexecuted": false,
    "execution_millis": 1800733,
    "execution_start": 1677530310427,
    "source_hash": "d4fa2162",
    "tags": []
   },
   "outputs": [
    {
     "name": "stdout",
     "output_type": "stream",
     "text": [
      "Requirement already satisfied: pandas in /home/hfeild/python3.12/lib/python3.12/site-packages (2.2.3)\n",
      "Requirement already satisfied: numpy>=1.26.0 in /home/hfeild/python3.12/lib/python3.12/site-packages (from pandas) (2.2.3)\n",
      "Requirement already satisfied: python-dateutil>=2.8.2 in /home/hfeild/python3.12/lib/python3.12/site-packages (from pandas) (2.9.0.post0)\n",
      "Requirement already satisfied: pytz>=2020.1 in /home/hfeild/python3.12/lib/python3.12/site-packages (from pandas) (2025.1)\n",
      "Requirement already satisfied: tzdata>=2022.7 in /home/hfeild/python3.12/lib/python3.12/site-packages (from pandas) (2025.1)\n",
      "Requirement already satisfied: six>=1.5 in /home/hfeild/python3.12/lib/python3.12/site-packages (from python-dateutil>=2.8.2->pandas) (1.17.0)\n",
      "Note: you may need to restart the kernel to use updated packages.\n"
     ]
    }
   ],
   "source": [
    "# Only include this if you don't already have the pandas module installed. You can also do this on the command line.\n",
    "%pip install pandas \n",
    "\n",
    "import pandas as pd \n",
    "\n",
    "mouseDF = pd.read_csv('../data/mousew.csv')"
   ]
  },
  {
   "cell_type": "code",
   "execution_count": 2,
   "metadata": {
    "cell_id": "184ed01eca434ff5878cbf468f588f65",
    "deepnote_cell_type": "code",
    "deepnote_to_be_reexecuted": false,
    "execution_millis": 28,
    "execution_start": 1677530310430,
    "source_hash": "24eaf46d",
    "tags": []
   },
   "outputs": [
    {
     "data": {
      "text/html": [
       "<div>\n",
       "<style scoped>\n",
       "    .dataframe tbody tr th:only-of-type {\n",
       "        vertical-align: middle;\n",
       "    }\n",
       "\n",
       "    .dataframe tbody tr th {\n",
       "        vertical-align: top;\n",
       "    }\n",
       "\n",
       "    .dataframe thead th {\n",
       "        text-align: right;\n",
       "    }\n",
       "</style>\n",
       "<table border=\"1\" class=\"dataframe\">\n",
       "  <thead>\n",
       "    <tr style=\"text-align: right;\">\n",
       "      <th></th>\n",
       "      <th>strain</th>\n",
       "      <th>sex</th>\n",
       "      <th>weight</th>\n",
       "    </tr>\n",
       "  </thead>\n",
       "  <tbody>\n",
       "    <tr>\n",
       "      <th>0</th>\n",
       "      <td>C57Bl/6J</td>\n",
       "      <td>M</td>\n",
       "      <td>27.596753</td>\n",
       "    </tr>\n",
       "    <tr>\n",
       "      <th>1</th>\n",
       "      <td>C57Bl/6J</td>\n",
       "      <td>M</td>\n",
       "      <td>29.635837</td>\n",
       "    </tr>\n",
       "    <tr>\n",
       "      <th>2</th>\n",
       "      <td>C57Bl/6J</td>\n",
       "      <td>M</td>\n",
       "      <td>28.460685</td>\n",
       "    </tr>\n",
       "    <tr>\n",
       "      <th>3</th>\n",
       "      <td>C57Bl/6J</td>\n",
       "      <td>M</td>\n",
       "      <td>29.248225</td>\n",
       "    </tr>\n",
       "    <tr>\n",
       "      <th>4</th>\n",
       "      <td>C57Bl/6J</td>\n",
       "      <td>M</td>\n",
       "      <td>25.702118</td>\n",
       "    </tr>\n",
       "    <tr>\n",
       "      <th>...</th>\n",
       "      <td>...</td>\n",
       "      <td>...</td>\n",
       "      <td>...</td>\n",
       "    </tr>\n",
       "    <tr>\n",
       "      <th>395</th>\n",
       "      <td>DBA/2J</td>\n",
       "      <td>F</td>\n",
       "      <td>20.489587</td>\n",
       "    </tr>\n",
       "    <tr>\n",
       "      <th>396</th>\n",
       "      <td>DBA/2J</td>\n",
       "      <td>F</td>\n",
       "      <td>21.512789</td>\n",
       "    </tr>\n",
       "    <tr>\n",
       "      <th>397</th>\n",
       "      <td>DBA/2J</td>\n",
       "      <td>F</td>\n",
       "      <td>18.677338</td>\n",
       "    </tr>\n",
       "    <tr>\n",
       "      <th>398</th>\n",
       "      <td>DBA/2J</td>\n",
       "      <td>F</td>\n",
       "      <td>22.974729</td>\n",
       "    </tr>\n",
       "    <tr>\n",
       "      <th>399</th>\n",
       "      <td>DBA/2J</td>\n",
       "      <td>F</td>\n",
       "      <td>19.312054</td>\n",
       "    </tr>\n",
       "  </tbody>\n",
       "</table>\n",
       "<p>400 rows × 3 columns</p>\n",
       "</div>"
      ],
      "text/plain": [
       "       strain sex     weight\n",
       "0    C57Bl/6J   M  27.596753\n",
       "1    C57Bl/6J   M  29.635837\n",
       "2    C57Bl/6J   M  28.460685\n",
       "3    C57Bl/6J   M  29.248225\n",
       "4    C57Bl/6J   M  25.702118\n",
       "..        ...  ..        ...\n",
       "395    DBA/2J   F  20.489587\n",
       "396    DBA/2J   F  21.512789\n",
       "397    DBA/2J   F  18.677338\n",
       "398    DBA/2J   F  22.974729\n",
       "399    DBA/2J   F  19.312054\n",
       "\n",
       "[400 rows x 3 columns]"
      ]
     },
     "execution_count": 2,
     "metadata": {},
     "output_type": "execute_result"
    }
   ],
   "source": [
    "mouseDF"
   ]
  },
  {
   "cell_type": "code",
   "execution_count": 2,
   "metadata": {},
   "outputs": [
    {
     "data": {
      "text/html": [
       "<div>\n",
       "<style scoped>\n",
       "    .dataframe tbody tr th:only-of-type {\n",
       "        vertical-align: middle;\n",
       "    }\n",
       "\n",
       "    .dataframe tbody tr th {\n",
       "        vertical-align: top;\n",
       "    }\n",
       "\n",
       "    .dataframe thead th {\n",
       "        text-align: right;\n",
       "    }\n",
       "</style>\n",
       "<table border=\"1\" class=\"dataframe\">\n",
       "  <thead>\n",
       "    <tr style=\"text-align: right;\">\n",
       "      <th></th>\n",
       "      <th>strain</th>\n",
       "      <th>sex</th>\n",
       "      <th>weight</th>\n",
       "    </tr>\n",
       "  </thead>\n",
       "  <tbody>\n",
       "    <tr>\n",
       "      <th>0</th>\n",
       "      <td>C57Bl/6J</td>\n",
       "      <td>M</td>\n",
       "      <td>27.596753</td>\n",
       "    </tr>\n",
       "    <tr>\n",
       "      <th>1</th>\n",
       "      <td>C57Bl/6J</td>\n",
       "      <td>M</td>\n",
       "      <td>29.635837</td>\n",
       "    </tr>\n",
       "    <tr>\n",
       "      <th>2</th>\n",
       "      <td>C57Bl/6J</td>\n",
       "      <td>M</td>\n",
       "      <td>28.460685</td>\n",
       "    </tr>\n",
       "    <tr>\n",
       "      <th>3</th>\n",
       "      <td>C57Bl/6J</td>\n",
       "      <td>M</td>\n",
       "      <td>29.248225</td>\n",
       "    </tr>\n",
       "    <tr>\n",
       "      <th>4</th>\n",
       "      <td>C57Bl/6J</td>\n",
       "      <td>M</td>\n",
       "      <td>25.702118</td>\n",
       "    </tr>\n",
       "    <tr>\n",
       "      <th>...</th>\n",
       "      <td>...</td>\n",
       "      <td>...</td>\n",
       "      <td>...</td>\n",
       "    </tr>\n",
       "    <tr>\n",
       "      <th>395</th>\n",
       "      <td>DBA/2J</td>\n",
       "      <td>F</td>\n",
       "      <td>20.489587</td>\n",
       "    </tr>\n",
       "    <tr>\n",
       "      <th>396</th>\n",
       "      <td>DBA/2J</td>\n",
       "      <td>F</td>\n",
       "      <td>21.512789</td>\n",
       "    </tr>\n",
       "    <tr>\n",
       "      <th>397</th>\n",
       "      <td>DBA/2J</td>\n",
       "      <td>F</td>\n",
       "      <td>18.677338</td>\n",
       "    </tr>\n",
       "    <tr>\n",
       "      <th>398</th>\n",
       "      <td>DBA/2J</td>\n",
       "      <td>F</td>\n",
       "      <td>22.974729</td>\n",
       "    </tr>\n",
       "    <tr>\n",
       "      <th>399</th>\n",
       "      <td>DBA/2J</td>\n",
       "      <td>F</td>\n",
       "      <td>19.312054</td>\n",
       "    </tr>\n",
       "  </tbody>\n",
       "</table>\n",
       "<p>400 rows × 3 columns</p>\n",
       "</div>"
      ],
      "text/plain": [
       "       strain sex     weight\n",
       "0    C57Bl/6J   M  27.596753\n",
       "1    C57Bl/6J   M  29.635837\n",
       "2    C57Bl/6J   M  28.460685\n",
       "3    C57Bl/6J   M  29.248225\n",
       "4    C57Bl/6J   M  25.702118\n",
       "..        ...  ..        ...\n",
       "395    DBA/2J   F  20.489587\n",
       "396    DBA/2J   F  21.512789\n",
       "397    DBA/2J   F  18.677338\n",
       "398    DBA/2J   F  22.974729\n",
       "399    DBA/2J   F  19.312054\n",
       "\n",
       "[400 rows x 3 columns]"
      ]
     },
     "execution_count": 2,
     "metadata": {},
     "output_type": "execute_result"
    }
   ],
   "source": [
    "mouseDF = pd.read_csv('../data/mousew.csv.gz')\n",
    "mouseDF"
   ]
  },
  {
   "cell_type": "markdown",
   "metadata": {
    "cell_id": "40fd2a38c70345e68f595f4a01e79d59",
    "deepnote_cell_type": "markdown",
    "tags": []
   },
   "source": [
    "## Writing data out\n",
    "\n",
    "We can write a DataFrame to lots of formats. Here are some poular ones:\n",
    "  * CSV (comma separated values)\n",
    "  * TSV (tab separated values)\n",
    "  * JSON (JavaScript Object Notation)\n",
    "  * Excel"
   ]
  },
  {
   "cell_type": "code",
   "execution_count": null,
   "metadata": {
    "cell_id": "b78d94a5475348448a2685a0db4a71cd",
    "deepnote_cell_type": "code",
    "deepnote_to_be_reexecuted": false,
    "execution_millis": 4504,
    "execution_start": 1677530310471,
    "source_hash": "f3b28e05",
    "tags": []
   },
   "outputs": [],
   "source": [
    "# If you happen to be writing to or reading from an Excel (.xlsx or .xls) file (like we are in this cell), \n",
    "# you'll need to install the Python library openpyxl. Use the magic pip command for this:\n",
    "%pip install openpyxl\n",
    "\n",
    "# CSV (comma separated values):\n",
    "mouseDF.to_csv('../data/mousew2.csv')\n",
    "\n",
    "# TSV (tab separated values):\n",
    "mouseDF.to_csv('../data/mousew.tsv', sep='\\t')\n",
    "\n",
    "# JSON (JavaScript Object Notation -- lists each row in the DataFrame as a dictionary with columns \n",
    "# as keys and their data in that row as values.\n",
    "mouseDF.to_json('../data/mousew.json')\n",
    "\n",
    "# Excel:\n",
    "mouseDF.to_excel('../data/mousew.xlsx')\n",
    "\n",
    "# By default, the .to_*() calls will add an Index column; you can prevent that column from being \n",
    "# output by passing in an index=False argument:\n",
    "mouseDF.to_csv('../data/mousew-noindex.csv', index=False)\n",
    "\n",
    "\n"
   ]
  },
  {
   "cell_type": "markdown",
   "metadata": {
    "cell_id": "3ea3fd42858e4bf2b8c445da185028b9",
    "deepnote_cell_type": "markdown",
    "tags": []
   },
   "source": [
    "## Reading data in\n",
    "\n",
    "When we read data in, we use the pandas module directl (which we import as `pd` by convention). This is different from writing data out, where we call the `.to_*()` method on the DataFrame we want to save."
   ]
  },
  {
   "cell_type": "code",
   "execution_count": 4,
   "metadata": {
    "cell_id": "9e4cbc5b6eaa4d24947b3715c487592d",
    "deepnote_cell_type": "code",
    "deepnote_to_be_reexecuted": false,
    "execution_millis": 63,
    "execution_start": 1677530314971,
    "source_hash": "6dfcf345",
    "tags": []
   },
   "outputs": [
    {
     "data": {
      "text/html": [
       "<div>\n",
       "<style scoped>\n",
       "    .dataframe tbody tr th:only-of-type {\n",
       "        vertical-align: middle;\n",
       "    }\n",
       "\n",
       "    .dataframe tbody tr th {\n",
       "        vertical-align: top;\n",
       "    }\n",
       "\n",
       "    .dataframe thead th {\n",
       "        text-align: right;\n",
       "    }\n",
       "</style>\n",
       "<table border=\"1\" class=\"dataframe\">\n",
       "  <thead>\n",
       "    <tr style=\"text-align: right;\">\n",
       "      <th></th>\n",
       "      <th>Unnamed: 0</th>\n",
       "      <th>strain</th>\n",
       "      <th>sex</th>\n",
       "      <th>weight</th>\n",
       "    </tr>\n",
       "  </thead>\n",
       "  <tbody>\n",
       "    <tr>\n",
       "      <th>0</th>\n",
       "      <td>0</td>\n",
       "      <td>C57Bl/6J</td>\n",
       "      <td>M</td>\n",
       "      <td>27.596753</td>\n",
       "    </tr>\n",
       "    <tr>\n",
       "      <th>1</th>\n",
       "      <td>1</td>\n",
       "      <td>C57Bl/6J</td>\n",
       "      <td>M</td>\n",
       "      <td>29.635837</td>\n",
       "    </tr>\n",
       "    <tr>\n",
       "      <th>2</th>\n",
       "      <td>2</td>\n",
       "      <td>C57Bl/6J</td>\n",
       "      <td>M</td>\n",
       "      <td>28.460685</td>\n",
       "    </tr>\n",
       "    <tr>\n",
       "      <th>3</th>\n",
       "      <td>3</td>\n",
       "      <td>C57Bl/6J</td>\n",
       "      <td>M</td>\n",
       "      <td>29.248225</td>\n",
       "    </tr>\n",
       "    <tr>\n",
       "      <th>4</th>\n",
       "      <td>4</td>\n",
       "      <td>C57Bl/6J</td>\n",
       "      <td>M</td>\n",
       "      <td>25.702118</td>\n",
       "    </tr>\n",
       "    <tr>\n",
       "      <th>...</th>\n",
       "      <td>...</td>\n",
       "      <td>...</td>\n",
       "      <td>...</td>\n",
       "      <td>...</td>\n",
       "    </tr>\n",
       "    <tr>\n",
       "      <th>395</th>\n",
       "      <td>395</td>\n",
       "      <td>DBA/2J</td>\n",
       "      <td>F</td>\n",
       "      <td>20.489587</td>\n",
       "    </tr>\n",
       "    <tr>\n",
       "      <th>396</th>\n",
       "      <td>396</td>\n",
       "      <td>DBA/2J</td>\n",
       "      <td>F</td>\n",
       "      <td>21.512789</td>\n",
       "    </tr>\n",
       "    <tr>\n",
       "      <th>397</th>\n",
       "      <td>397</td>\n",
       "      <td>DBA/2J</td>\n",
       "      <td>F</td>\n",
       "      <td>18.677338</td>\n",
       "    </tr>\n",
       "    <tr>\n",
       "      <th>398</th>\n",
       "      <td>398</td>\n",
       "      <td>DBA/2J</td>\n",
       "      <td>F</td>\n",
       "      <td>22.974729</td>\n",
       "    </tr>\n",
       "    <tr>\n",
       "      <th>399</th>\n",
       "      <td>399</td>\n",
       "      <td>DBA/2J</td>\n",
       "      <td>F</td>\n",
       "      <td>19.312054</td>\n",
       "    </tr>\n",
       "  </tbody>\n",
       "</table>\n",
       "<p>400 rows × 4 columns</p>\n",
       "</div>"
      ],
      "text/plain": [
       "     Unnamed: 0    strain sex     weight\n",
       "0             0  C57Bl/6J   M  27.596753\n",
       "1             1  C57Bl/6J   M  29.635837\n",
       "2             2  C57Bl/6J   M  28.460685\n",
       "3             3  C57Bl/6J   M  29.248225\n",
       "4             4  C57Bl/6J   M  25.702118\n",
       "..          ...       ...  ..        ...\n",
       "395         395    DBA/2J   F  20.489587\n",
       "396         396    DBA/2J   F  21.512789\n",
       "397         397    DBA/2J   F  18.677338\n",
       "398         398    DBA/2J   F  22.974729\n",
       "399         399    DBA/2J   F  19.312054\n",
       "\n",
       "[400 rows x 4 columns]"
      ]
     },
     "execution_count": 4,
     "metadata": {},
     "output_type": "execute_result"
    }
   ],
   "source": [
    "# TSV\n",
    "df = pd.read_table('../data/mousew.tsv')\n",
    "df\n",
    "# # CSV\n",
    "# df = pd.read_csv('../data/mousew.csv')\n",
    "# # ***OR****\n",
    "# df = pd.read_table('../data/mousew.csv', delimiter=',')\n",
    "\n",
    "# # JSON\n",
    "# df = pd.read_json('../data/mousew.json')\n",
    "\n",
    "# # Excel\n",
    "# df = pd.read_excel('../data/mousew.xlsx')\n",
    "\n",
    "# # If you have a large file, pass in an argument for the `nrows` parameter,\n",
    "# # Here we're only reading in the first 100 rows:\n",
    "# df = pd.read_csv('../data/mousew.csv', nrows=100)"
   ]
  },
  {
   "cell_type": "code",
   "execution_count": 8,
   "metadata": {},
   "outputs": [],
   "source": [
    "\n",
    "mouseDF[(mouseDF['weight'] >= 28) & (mouseDF['weight'] < 29)].to_csv('../data/mousew-28oz.csv.gz')"
   ]
  },
  {
   "cell_type": "code",
   "execution_count": 9,
   "metadata": {
    "scrolled": true
   },
   "outputs": [
    {
     "data": {
      "text/html": [
       "<div>\n",
       "<style scoped>\n",
       "    .dataframe tbody tr th:only-of-type {\n",
       "        vertical-align: middle;\n",
       "    }\n",
       "\n",
       "    .dataframe tbody tr th {\n",
       "        vertical-align: top;\n",
       "    }\n",
       "\n",
       "    .dataframe thead th {\n",
       "        text-align: right;\n",
       "    }\n",
       "</style>\n",
       "<table border=\"1\" class=\"dataframe\">\n",
       "  <thead>\n",
       "    <tr style=\"text-align: right;\">\n",
       "      <th></th>\n",
       "      <th>Unnamed: 0</th>\n",
       "      <th>strain</th>\n",
       "      <th>sex</th>\n",
       "      <th>weight</th>\n",
       "    </tr>\n",
       "  </thead>\n",
       "  <tbody>\n",
       "    <tr>\n",
       "      <th>0</th>\n",
       "      <td>2</td>\n",
       "      <td>C57Bl/6J</td>\n",
       "      <td>M</td>\n",
       "      <td>28.460685</td>\n",
       "    </tr>\n",
       "    <tr>\n",
       "      <th>1</th>\n",
       "      <td>17</td>\n",
       "      <td>C57Bl/6J</td>\n",
       "      <td>M</td>\n",
       "      <td>28.131761</td>\n",
       "    </tr>\n",
       "    <tr>\n",
       "      <th>2</th>\n",
       "      <td>18</td>\n",
       "      <td>C57Bl/6J</td>\n",
       "      <td>M</td>\n",
       "      <td>28.724828</td>\n",
       "    </tr>\n",
       "    <tr>\n",
       "      <th>3</th>\n",
       "      <td>21</td>\n",
       "      <td>C57Bl/6J</td>\n",
       "      <td>M</td>\n",
       "      <td>28.393142</td>\n",
       "    </tr>\n",
       "    <tr>\n",
       "      <th>4</th>\n",
       "      <td>28</td>\n",
       "      <td>C57Bl/6J</td>\n",
       "      <td>M</td>\n",
       "      <td>28.248257</td>\n",
       "    </tr>\n",
       "    <tr>\n",
       "      <th>5</th>\n",
       "      <td>30</td>\n",
       "      <td>C57Bl/6J</td>\n",
       "      <td>M</td>\n",
       "      <td>28.431916</td>\n",
       "    </tr>\n",
       "    <tr>\n",
       "      <th>6</th>\n",
       "      <td>32</td>\n",
       "      <td>C57Bl/6J</td>\n",
       "      <td>M</td>\n",
       "      <td>28.900976</td>\n",
       "    </tr>\n",
       "    <tr>\n",
       "      <th>7</th>\n",
       "      <td>40</td>\n",
       "      <td>C57Bl/6J</td>\n",
       "      <td>M</td>\n",
       "      <td>28.227189</td>\n",
       "    </tr>\n",
       "    <tr>\n",
       "      <th>8</th>\n",
       "      <td>41</td>\n",
       "      <td>C57Bl/6J</td>\n",
       "      <td>M</td>\n",
       "      <td>28.427392</td>\n",
       "    </tr>\n",
       "    <tr>\n",
       "      <th>9</th>\n",
       "      <td>48</td>\n",
       "      <td>C57Bl/6J</td>\n",
       "      <td>M</td>\n",
       "      <td>28.531084</td>\n",
       "    </tr>\n",
       "    <tr>\n",
       "      <th>10</th>\n",
       "      <td>61</td>\n",
       "      <td>C57Bl/6J</td>\n",
       "      <td>M</td>\n",
       "      <td>28.212117</td>\n",
       "    </tr>\n",
       "    <tr>\n",
       "      <th>11</th>\n",
       "      <td>63</td>\n",
       "      <td>C57Bl/6J</td>\n",
       "      <td>M</td>\n",
       "      <td>28.148897</td>\n",
       "    </tr>\n",
       "    <tr>\n",
       "      <th>12</th>\n",
       "      <td>65</td>\n",
       "      <td>C57Bl/6J</td>\n",
       "      <td>M</td>\n",
       "      <td>28.539025</td>\n",
       "    </tr>\n",
       "    <tr>\n",
       "      <th>13</th>\n",
       "      <td>69</td>\n",
       "      <td>C57Bl/6J</td>\n",
       "      <td>M</td>\n",
       "      <td>28.807248</td>\n",
       "    </tr>\n",
       "    <tr>\n",
       "      <th>14</th>\n",
       "      <td>71</td>\n",
       "      <td>C57Bl/6J</td>\n",
       "      <td>M</td>\n",
       "      <td>28.999457</td>\n",
       "    </tr>\n",
       "    <tr>\n",
       "      <th>15</th>\n",
       "      <td>77</td>\n",
       "      <td>C57Bl/6J</td>\n",
       "      <td>M</td>\n",
       "      <td>28.984005</td>\n",
       "    </tr>\n",
       "    <tr>\n",
       "      <th>16</th>\n",
       "      <td>83</td>\n",
       "      <td>C57Bl/6J</td>\n",
       "      <td>M</td>\n",
       "      <td>28.276477</td>\n",
       "    </tr>\n",
       "    <tr>\n",
       "      <th>17</th>\n",
       "      <td>85</td>\n",
       "      <td>C57Bl/6J</td>\n",
       "      <td>M</td>\n",
       "      <td>28.281818</td>\n",
       "    </tr>\n",
       "    <tr>\n",
       "      <th>18</th>\n",
       "      <td>87</td>\n",
       "      <td>C57Bl/6J</td>\n",
       "      <td>M</td>\n",
       "      <td>28.535487</td>\n",
       "    </tr>\n",
       "    <tr>\n",
       "      <th>19</th>\n",
       "      <td>88</td>\n",
       "      <td>C57Bl/6J</td>\n",
       "      <td>M</td>\n",
       "      <td>28.038621</td>\n",
       "    </tr>\n",
       "    <tr>\n",
       "      <th>20</th>\n",
       "      <td>95</td>\n",
       "      <td>C57Bl/6J</td>\n",
       "      <td>M</td>\n",
       "      <td>28.456805</td>\n",
       "    </tr>\n",
       "    <tr>\n",
       "      <th>21</th>\n",
       "      <td>96</td>\n",
       "      <td>C57Bl/6J</td>\n",
       "      <td>M</td>\n",
       "      <td>28.181539</td>\n",
       "    </tr>\n",
       "    <tr>\n",
       "      <th>22</th>\n",
       "      <td>98</td>\n",
       "      <td>C57Bl/6J</td>\n",
       "      <td>M</td>\n",
       "      <td>28.059095</td>\n",
       "    </tr>\n",
       "    <tr>\n",
       "      <th>23</th>\n",
       "      <td>203</td>\n",
       "      <td>DBA/2J</td>\n",
       "      <td>M</td>\n",
       "      <td>28.852402</td>\n",
       "    </tr>\n",
       "    <tr>\n",
       "      <th>24</th>\n",
       "      <td>211</td>\n",
       "      <td>DBA/2J</td>\n",
       "      <td>M</td>\n",
       "      <td>28.058833</td>\n",
       "    </tr>\n",
       "    <tr>\n",
       "      <th>25</th>\n",
       "      <td>218</td>\n",
       "      <td>DBA/2J</td>\n",
       "      <td>M</td>\n",
       "      <td>28.572702</td>\n",
       "    </tr>\n",
       "    <tr>\n",
       "      <th>26</th>\n",
       "      <td>231</td>\n",
       "      <td>DBA/2J</td>\n",
       "      <td>M</td>\n",
       "      <td>28.622008</td>\n",
       "    </tr>\n",
       "    <tr>\n",
       "      <th>27</th>\n",
       "      <td>234</td>\n",
       "      <td>DBA/2J</td>\n",
       "      <td>M</td>\n",
       "      <td>28.187609</td>\n",
       "    </tr>\n",
       "    <tr>\n",
       "      <th>28</th>\n",
       "      <td>236</td>\n",
       "      <td>DBA/2J</td>\n",
       "      <td>M</td>\n",
       "      <td>28.027747</td>\n",
       "    </tr>\n",
       "    <tr>\n",
       "      <th>29</th>\n",
       "      <td>240</td>\n",
       "      <td>DBA/2J</td>\n",
       "      <td>M</td>\n",
       "      <td>28.890028</td>\n",
       "    </tr>\n",
       "    <tr>\n",
       "      <th>30</th>\n",
       "      <td>242</td>\n",
       "      <td>DBA/2J</td>\n",
       "      <td>M</td>\n",
       "      <td>28.380888</td>\n",
       "    </tr>\n",
       "    <tr>\n",
       "      <th>31</th>\n",
       "      <td>249</td>\n",
       "      <td>DBA/2J</td>\n",
       "      <td>M</td>\n",
       "      <td>28.726820</td>\n",
       "    </tr>\n",
       "    <tr>\n",
       "      <th>32</th>\n",
       "      <td>260</td>\n",
       "      <td>DBA/2J</td>\n",
       "      <td>M</td>\n",
       "      <td>28.353228</td>\n",
       "    </tr>\n",
       "    <tr>\n",
       "      <th>33</th>\n",
       "      <td>264</td>\n",
       "      <td>DBA/2J</td>\n",
       "      <td>M</td>\n",
       "      <td>28.352875</td>\n",
       "    </tr>\n",
       "    <tr>\n",
       "      <th>34</th>\n",
       "      <td>274</td>\n",
       "      <td>DBA/2J</td>\n",
       "      <td>M</td>\n",
       "      <td>28.142244</td>\n",
       "    </tr>\n",
       "    <tr>\n",
       "      <th>35</th>\n",
       "      <td>277</td>\n",
       "      <td>DBA/2J</td>\n",
       "      <td>M</td>\n",
       "      <td>28.754204</td>\n",
       "    </tr>\n",
       "    <tr>\n",
       "      <th>36</th>\n",
       "      <td>278</td>\n",
       "      <td>DBA/2J</td>\n",
       "      <td>M</td>\n",
       "      <td>28.136773</td>\n",
       "    </tr>\n",
       "    <tr>\n",
       "      <th>37</th>\n",
       "      <td>279</td>\n",
       "      <td>DBA/2J</td>\n",
       "      <td>M</td>\n",
       "      <td>28.863385</td>\n",
       "    </tr>\n",
       "    <tr>\n",
       "      <th>38</th>\n",
       "      <td>286</td>\n",
       "      <td>DBA/2J</td>\n",
       "      <td>M</td>\n",
       "      <td>28.886780</td>\n",
       "    </tr>\n",
       "    <tr>\n",
       "      <th>39</th>\n",
       "      <td>291</td>\n",
       "      <td>DBA/2J</td>\n",
       "      <td>M</td>\n",
       "      <td>28.082726</td>\n",
       "    </tr>\n",
       "    <tr>\n",
       "      <th>40</th>\n",
       "      <td>292</td>\n",
       "      <td>DBA/2J</td>\n",
       "      <td>M</td>\n",
       "      <td>28.988429</td>\n",
       "    </tr>\n",
       "  </tbody>\n",
       "</table>\n",
       "</div>"
      ],
      "text/plain": [
       "    Unnamed: 0    strain sex     weight\n",
       "0            2  C57Bl/6J   M  28.460685\n",
       "1           17  C57Bl/6J   M  28.131761\n",
       "2           18  C57Bl/6J   M  28.724828\n",
       "3           21  C57Bl/6J   M  28.393142\n",
       "4           28  C57Bl/6J   M  28.248257\n",
       "5           30  C57Bl/6J   M  28.431916\n",
       "6           32  C57Bl/6J   M  28.900976\n",
       "7           40  C57Bl/6J   M  28.227189\n",
       "8           41  C57Bl/6J   M  28.427392\n",
       "9           48  C57Bl/6J   M  28.531084\n",
       "10          61  C57Bl/6J   M  28.212117\n",
       "11          63  C57Bl/6J   M  28.148897\n",
       "12          65  C57Bl/6J   M  28.539025\n",
       "13          69  C57Bl/6J   M  28.807248\n",
       "14          71  C57Bl/6J   M  28.999457\n",
       "15          77  C57Bl/6J   M  28.984005\n",
       "16          83  C57Bl/6J   M  28.276477\n",
       "17          85  C57Bl/6J   M  28.281818\n",
       "18          87  C57Bl/6J   M  28.535487\n",
       "19          88  C57Bl/6J   M  28.038621\n",
       "20          95  C57Bl/6J   M  28.456805\n",
       "21          96  C57Bl/6J   M  28.181539\n",
       "22          98  C57Bl/6J   M  28.059095\n",
       "23         203    DBA/2J   M  28.852402\n",
       "24         211    DBA/2J   M  28.058833\n",
       "25         218    DBA/2J   M  28.572702\n",
       "26         231    DBA/2J   M  28.622008\n",
       "27         234    DBA/2J   M  28.187609\n",
       "28         236    DBA/2J   M  28.027747\n",
       "29         240    DBA/2J   M  28.890028\n",
       "30         242    DBA/2J   M  28.380888\n",
       "31         249    DBA/2J   M  28.726820\n",
       "32         260    DBA/2J   M  28.353228\n",
       "33         264    DBA/2J   M  28.352875\n",
       "34         274    DBA/2J   M  28.142244\n",
       "35         277    DBA/2J   M  28.754204\n",
       "36         278    DBA/2J   M  28.136773\n",
       "37         279    DBA/2J   M  28.863385\n",
       "38         286    DBA/2J   M  28.886780\n",
       "39         291    DBA/2J   M  28.082726\n",
       "40         292    DBA/2J   M  28.988429"
      ]
     },
     "execution_count": 9,
     "metadata": {},
     "output_type": "execute_result"
    }
   ],
   "source": [
    "mouseDF28Only = pd.read_csv('../data/mousew-28oz.csv.gz')\n",
    "mouseDF28Only"
   ]
  },
  {
   "cell_type": "code",
   "execution_count": 22,
   "metadata": {
    "scrolled": true
   },
   "outputs": [
    {
     "data": {
      "text/html": [
       "<div>\n",
       "<style scoped>\n",
       "    .dataframe tbody tr th:only-of-type {\n",
       "        vertical-align: middle;\n",
       "    }\n",
       "\n",
       "    .dataframe tbody tr th {\n",
       "        vertical-align: top;\n",
       "    }\n",
       "\n",
       "    .dataframe thead th {\n",
       "        text-align: right;\n",
       "    }\n",
       "</style>\n",
       "<table border=\"1\" class=\"dataframe\">\n",
       "  <thead>\n",
       "    <tr style=\"text-align: right;\">\n",
       "      <th></th>\n",
       "      <th>strain</th>\n",
       "      <th>sex</th>\n",
       "      <th>weight</th>\n",
       "    </tr>\n",
       "  </thead>\n",
       "  <tbody>\n",
       "    <tr>\n",
       "      <th>2</th>\n",
       "      <td>C57Bl/6J</td>\n",
       "      <td>M</td>\n",
       "      <td>28.460685</td>\n",
       "    </tr>\n",
       "    <tr>\n",
       "      <th>17</th>\n",
       "      <td>C57Bl/6J</td>\n",
       "      <td>M</td>\n",
       "      <td>28.131761</td>\n",
       "    </tr>\n",
       "    <tr>\n",
       "      <th>18</th>\n",
       "      <td>C57Bl/6J</td>\n",
       "      <td>M</td>\n",
       "      <td>28.724828</td>\n",
       "    </tr>\n",
       "    <tr>\n",
       "      <th>21</th>\n",
       "      <td>C57Bl/6J</td>\n",
       "      <td>M</td>\n",
       "      <td>28.393142</td>\n",
       "    </tr>\n",
       "    <tr>\n",
       "      <th>28</th>\n",
       "      <td>C57Bl/6J</td>\n",
       "      <td>M</td>\n",
       "      <td>28.248257</td>\n",
       "    </tr>\n",
       "    <tr>\n",
       "      <th>30</th>\n",
       "      <td>C57Bl/6J</td>\n",
       "      <td>M</td>\n",
       "      <td>28.431916</td>\n",
       "    </tr>\n",
       "    <tr>\n",
       "      <th>32</th>\n",
       "      <td>C57Bl/6J</td>\n",
       "      <td>M</td>\n",
       "      <td>28.900976</td>\n",
       "    </tr>\n",
       "    <tr>\n",
       "      <th>40</th>\n",
       "      <td>C57Bl/6J</td>\n",
       "      <td>M</td>\n",
       "      <td>28.227189</td>\n",
       "    </tr>\n",
       "    <tr>\n",
       "      <th>41</th>\n",
       "      <td>C57Bl/6J</td>\n",
       "      <td>M</td>\n",
       "      <td>28.427392</td>\n",
       "    </tr>\n",
       "    <tr>\n",
       "      <th>48</th>\n",
       "      <td>C57Bl/6J</td>\n",
       "      <td>M</td>\n",
       "      <td>28.531084</td>\n",
       "    </tr>\n",
       "    <tr>\n",
       "      <th>61</th>\n",
       "      <td>C57Bl/6J</td>\n",
       "      <td>M</td>\n",
       "      <td>28.212117</td>\n",
       "    </tr>\n",
       "    <tr>\n",
       "      <th>63</th>\n",
       "      <td>C57Bl/6J</td>\n",
       "      <td>M</td>\n",
       "      <td>28.148897</td>\n",
       "    </tr>\n",
       "    <tr>\n",
       "      <th>65</th>\n",
       "      <td>C57Bl/6J</td>\n",
       "      <td>M</td>\n",
       "      <td>28.539025</td>\n",
       "    </tr>\n",
       "    <tr>\n",
       "      <th>69</th>\n",
       "      <td>C57Bl/6J</td>\n",
       "      <td>M</td>\n",
       "      <td>28.807248</td>\n",
       "    </tr>\n",
       "    <tr>\n",
       "      <th>71</th>\n",
       "      <td>C57Bl/6J</td>\n",
       "      <td>M</td>\n",
       "      <td>28.999457</td>\n",
       "    </tr>\n",
       "    <tr>\n",
       "      <th>77</th>\n",
       "      <td>C57Bl/6J</td>\n",
       "      <td>M</td>\n",
       "      <td>28.984005</td>\n",
       "    </tr>\n",
       "    <tr>\n",
       "      <th>83</th>\n",
       "      <td>C57Bl/6J</td>\n",
       "      <td>M</td>\n",
       "      <td>28.276477</td>\n",
       "    </tr>\n",
       "    <tr>\n",
       "      <th>85</th>\n",
       "      <td>C57Bl/6J</td>\n",
       "      <td>M</td>\n",
       "      <td>28.281818</td>\n",
       "    </tr>\n",
       "    <tr>\n",
       "      <th>87</th>\n",
       "      <td>C57Bl/6J</td>\n",
       "      <td>M</td>\n",
       "      <td>28.535487</td>\n",
       "    </tr>\n",
       "    <tr>\n",
       "      <th>88</th>\n",
       "      <td>C57Bl/6J</td>\n",
       "      <td>M</td>\n",
       "      <td>28.038621</td>\n",
       "    </tr>\n",
       "    <tr>\n",
       "      <th>95</th>\n",
       "      <td>C57Bl/6J</td>\n",
       "      <td>M</td>\n",
       "      <td>28.456805</td>\n",
       "    </tr>\n",
       "    <tr>\n",
       "      <th>96</th>\n",
       "      <td>C57Bl/6J</td>\n",
       "      <td>M</td>\n",
       "      <td>28.181539</td>\n",
       "    </tr>\n",
       "    <tr>\n",
       "      <th>98</th>\n",
       "      <td>C57Bl/6J</td>\n",
       "      <td>M</td>\n",
       "      <td>28.059095</td>\n",
       "    </tr>\n",
       "    <tr>\n",
       "      <th>203</th>\n",
       "      <td>DBA/2J</td>\n",
       "      <td>M</td>\n",
       "      <td>28.852402</td>\n",
       "    </tr>\n",
       "    <tr>\n",
       "      <th>211</th>\n",
       "      <td>DBA/2J</td>\n",
       "      <td>M</td>\n",
       "      <td>28.058833</td>\n",
       "    </tr>\n",
       "    <tr>\n",
       "      <th>218</th>\n",
       "      <td>DBA/2J</td>\n",
       "      <td>M</td>\n",
       "      <td>28.572702</td>\n",
       "    </tr>\n",
       "    <tr>\n",
       "      <th>231</th>\n",
       "      <td>DBA/2J</td>\n",
       "      <td>M</td>\n",
       "      <td>28.622008</td>\n",
       "    </tr>\n",
       "    <tr>\n",
       "      <th>234</th>\n",
       "      <td>DBA/2J</td>\n",
       "      <td>M</td>\n",
       "      <td>28.187609</td>\n",
       "    </tr>\n",
       "    <tr>\n",
       "      <th>236</th>\n",
       "      <td>DBA/2J</td>\n",
       "      <td>M</td>\n",
       "      <td>28.027747</td>\n",
       "    </tr>\n",
       "    <tr>\n",
       "      <th>240</th>\n",
       "      <td>DBA/2J</td>\n",
       "      <td>M</td>\n",
       "      <td>28.890028</td>\n",
       "    </tr>\n",
       "    <tr>\n",
       "      <th>242</th>\n",
       "      <td>DBA/2J</td>\n",
       "      <td>M</td>\n",
       "      <td>28.380888</td>\n",
       "    </tr>\n",
       "    <tr>\n",
       "      <th>249</th>\n",
       "      <td>DBA/2J</td>\n",
       "      <td>M</td>\n",
       "      <td>28.726820</td>\n",
       "    </tr>\n",
       "    <tr>\n",
       "      <th>260</th>\n",
       "      <td>DBA/2J</td>\n",
       "      <td>M</td>\n",
       "      <td>28.353228</td>\n",
       "    </tr>\n",
       "    <tr>\n",
       "      <th>264</th>\n",
       "      <td>DBA/2J</td>\n",
       "      <td>M</td>\n",
       "      <td>28.352875</td>\n",
       "    </tr>\n",
       "    <tr>\n",
       "      <th>274</th>\n",
       "      <td>DBA/2J</td>\n",
       "      <td>M</td>\n",
       "      <td>28.142244</td>\n",
       "    </tr>\n",
       "    <tr>\n",
       "      <th>277</th>\n",
       "      <td>DBA/2J</td>\n",
       "      <td>M</td>\n",
       "      <td>28.754204</td>\n",
       "    </tr>\n",
       "    <tr>\n",
       "      <th>278</th>\n",
       "      <td>DBA/2J</td>\n",
       "      <td>M</td>\n",
       "      <td>28.136773</td>\n",
       "    </tr>\n",
       "    <tr>\n",
       "      <th>279</th>\n",
       "      <td>DBA/2J</td>\n",
       "      <td>M</td>\n",
       "      <td>28.863385</td>\n",
       "    </tr>\n",
       "    <tr>\n",
       "      <th>286</th>\n",
       "      <td>DBA/2J</td>\n",
       "      <td>M</td>\n",
       "      <td>28.886780</td>\n",
       "    </tr>\n",
       "    <tr>\n",
       "      <th>291</th>\n",
       "      <td>DBA/2J</td>\n",
       "      <td>M</td>\n",
       "      <td>28.082726</td>\n",
       "    </tr>\n",
       "    <tr>\n",
       "      <th>292</th>\n",
       "      <td>DBA/2J</td>\n",
       "      <td>M</td>\n",
       "      <td>28.988429</td>\n",
       "    </tr>\n",
       "  </tbody>\n",
       "</table>\n",
       "</div>"
      ],
      "text/plain": [
       "       strain sex     weight\n",
       "2    C57Bl/6J   M  28.460685\n",
       "17   C57Bl/6J   M  28.131761\n",
       "18   C57Bl/6J   M  28.724828\n",
       "21   C57Bl/6J   M  28.393142\n",
       "28   C57Bl/6J   M  28.248257\n",
       "30   C57Bl/6J   M  28.431916\n",
       "32   C57Bl/6J   M  28.900976\n",
       "40   C57Bl/6J   M  28.227189\n",
       "41   C57Bl/6J   M  28.427392\n",
       "48   C57Bl/6J   M  28.531084\n",
       "61   C57Bl/6J   M  28.212117\n",
       "63   C57Bl/6J   M  28.148897\n",
       "65   C57Bl/6J   M  28.539025\n",
       "69   C57Bl/6J   M  28.807248\n",
       "71   C57Bl/6J   M  28.999457\n",
       "77   C57Bl/6J   M  28.984005\n",
       "83   C57Bl/6J   M  28.276477\n",
       "85   C57Bl/6J   M  28.281818\n",
       "87   C57Bl/6J   M  28.535487\n",
       "88   C57Bl/6J   M  28.038621\n",
       "95   C57Bl/6J   M  28.456805\n",
       "96   C57Bl/6J   M  28.181539\n",
       "98   C57Bl/6J   M  28.059095\n",
       "203    DBA/2J   M  28.852402\n",
       "211    DBA/2J   M  28.058833\n",
       "218    DBA/2J   M  28.572702\n",
       "231    DBA/2J   M  28.622008\n",
       "234    DBA/2J   M  28.187609\n",
       "236    DBA/2J   M  28.027747\n",
       "240    DBA/2J   M  28.890028\n",
       "242    DBA/2J   M  28.380888\n",
       "249    DBA/2J   M  28.726820\n",
       "260    DBA/2J   M  28.353228\n",
       "264    DBA/2J   M  28.352875\n",
       "274    DBA/2J   M  28.142244\n",
       "277    DBA/2J   M  28.754204\n",
       "278    DBA/2J   M  28.136773\n",
       "279    DBA/2J   M  28.863385\n",
       "286    DBA/2J   M  28.886780\n",
       "291    DBA/2J   M  28.082726\n",
       "292    DBA/2J   M  28.988429"
      ]
     },
     "execution_count": 22,
     "metadata": {},
     "output_type": "execute_result"
    }
   ],
   "source": [
    "mouseDF28Only = pd.read_csv('../data/mousew-28oz.csv.gz', index_col=0)\n",
    "mouseDF28Only"
   ]
  },
  {
   "cell_type": "markdown",
   "metadata": {
    "cell_id": "447eede018214bf69ae8f63e3b212f5a",
    "deepnote_cell_type": "markdown",
    "tags": []
   },
   "source": [
    "## Creating DataFrames from a dictionary or set of lists"
   ]
  },
  {
   "cell_type": "code",
   "execution_count": 12,
   "metadata": {
    "cell_id": "66f7304c9a5545bd9085fe1ecc6d9b8d",
    "deepnote_cell_type": "code",
    "deepnote_to_be_reexecuted": false,
    "execution_millis": 5,
    "execution_start": 1677530315049,
    "source_hash": "c887dc8f",
    "tags": []
   },
   "outputs": [
    {
     "data": {
      "text/html": [
       "<div>\n",
       "<style scoped>\n",
       "    .dataframe tbody tr th:only-of-type {\n",
       "        vertical-align: middle;\n",
       "    }\n",
       "\n",
       "    .dataframe tbody tr th {\n",
       "        vertical-align: top;\n",
       "    }\n",
       "\n",
       "    .dataframe thead th {\n",
       "        text-align: right;\n",
       "    }\n",
       "</style>\n",
       "<table border=\"1\" class=\"dataframe\">\n",
       "  <thead>\n",
       "    <tr style=\"text-align: right;\">\n",
       "      <th></th>\n",
       "      <th>strain</th>\n",
       "      <th>sex</th>\n",
       "      <th>weight</th>\n",
       "    </tr>\n",
       "  </thead>\n",
       "  <tbody>\n",
       "    <tr>\n",
       "      <th>0</th>\n",
       "      <td>C57BI/6J</td>\n",
       "      <td>M</td>\n",
       "      <td>27.596753</td>\n",
       "    </tr>\n",
       "    <tr>\n",
       "      <th>1</th>\n",
       "      <td>C57BI/6J</td>\n",
       "      <td>M</td>\n",
       "      <td>29.248225</td>\n",
       "    </tr>\n",
       "  </tbody>\n",
       "</table>\n",
       "</div>"
      ],
      "text/plain": [
       "     strain sex     weight\n",
       "0  C57BI/6J   M  27.596753\n",
       "1  C57BI/6J   M  29.248225"
      ]
     },
     "execution_count": 12,
     "metadata": {},
     "output_type": "execute_result"
    }
   ],
   "source": [
    "# Creating a DataFrame from a list of dictionaries:\n",
    "rawData = [\n",
    "    {\n",
    "        'strain': 'C57BI/6J',\n",
    "        'sex': 'M',\n",
    "        'weight': 27.596753\n",
    "    },\n",
    "    {\n",
    "        'strain': 'C57BI/6J',\n",
    "        'sex': 'M',\n",
    "        'weight': 29.248225\n",
    "    },\n",
    "    # ...\n",
    "]\n",
    "data = pd.DataFrame(rawData)\n",
    "data"
   ]
  },
  {
   "cell_type": "code",
   "execution_count": 13,
   "metadata": {
    "cell_id": "1b0211cb49a54b2f99e5b596496bd486",
    "deepnote_cell_type": "code",
    "deepnote_to_be_reexecuted": false,
    "execution_millis": 3,
    "execution_start": 1677530315099,
    "source_hash": "84aeaead",
    "tags": []
   },
   "outputs": [
    {
     "data": {
      "text/html": [
       "<div>\n",
       "<style scoped>\n",
       "    .dataframe tbody tr th:only-of-type {\n",
       "        vertical-align: middle;\n",
       "    }\n",
       "\n",
       "    .dataframe tbody tr th {\n",
       "        vertical-align: top;\n",
       "    }\n",
       "\n",
       "    .dataframe thead th {\n",
       "        text-align: right;\n",
       "    }\n",
       "</style>\n",
       "<table border=\"1\" class=\"dataframe\">\n",
       "  <thead>\n",
       "    <tr style=\"text-align: right;\">\n",
       "      <th></th>\n",
       "      <th>strain</th>\n",
       "      <th>sex</th>\n",
       "      <th>weight</th>\n",
       "    </tr>\n",
       "  </thead>\n",
       "  <tbody>\n",
       "    <tr>\n",
       "      <th>0</th>\n",
       "      <td>C57BI/6J</td>\n",
       "      <td>M</td>\n",
       "      <td>27.596753</td>\n",
       "    </tr>\n",
       "    <tr>\n",
       "      <th>1</th>\n",
       "      <td>C57BI/6J</td>\n",
       "      <td>M</td>\n",
       "      <td>29.248225</td>\n",
       "    </tr>\n",
       "  </tbody>\n",
       "</table>\n",
       "</div>"
      ],
      "text/plain": [
       "     strain sex     weight\n",
       "0  C57BI/6J   M  27.596753\n",
       "1  C57BI/6J   M  29.248225"
      ]
     },
     "execution_count": 13,
     "metadata": {},
     "output_type": "execute_result"
    }
   ],
   "source": [
    "# Creating a DataFrame from a list of lists + column names:\n",
    "rawData = [\n",
    "    ['C57BI/6J', 'M', 27.596753],\n",
    "    ['C57BI/6J', 'M', 29.248225]\n",
    "]\n",
    "\n",
    "data = pd.DataFrame(rawData, columns=['strain', 'sex', 'weight'])\n",
    "data"
   ]
  },
  {
   "cell_type": "markdown",
   "metadata": {
    "cell_id": "bcefa6d81c46451b897d54fb4b6ab875",
    "deepnote_cell_type": "markdown",
    "tags": []
   },
   "source": [
    "## Basic pandas—examining DataFrames\n",
    "\n",
    "Some of the things we might\n"
   ]
  },
  {
   "cell_type": "code",
   "execution_count": 14,
   "metadata": {
    "cell_id": "96acd74ceb8a4799b1131ddc55d465ce",
    "deepnote_cell_type": "code",
    "deepnote_to_be_reexecuted": false,
    "execution_millis": 2,
    "execution_start": 1677530315100,
    "source_hash": "75b7d584",
    "tags": []
   },
   "outputs": [
    {
     "data": {
      "text/plain": [
       "400"
      ]
     },
     "execution_count": 14,
     "metadata": {},
     "output_type": "execute_result"
    }
   ],
   "source": [
    "# How many rows?\n",
    "# Finding the length (number of keys in) a dictionary:\n",
    "# x = {'key1': 1, 'key2': 2, 'key3': 3, 'key4': 4}\n",
    "# len(x.keys())\n",
    "\n",
    "# TODO\n",
    "len(mouseDF)"
   ]
  },
  {
   "cell_type": "code",
   "execution_count": 16,
   "metadata": {
    "cell_id": "d207a70dd1da4854be2fa0f2049560cc",
    "deepnote_cell_type": "code",
    "deepnote_to_be_reexecuted": false,
    "execution_millis": 25,
    "execution_start": 1677530315129,
    "source_hash": "73d0ee50",
    "tags": []
   },
   "outputs": [
    {
     "data": {
      "text/plain": [
       "3"
      ]
     },
     "execution_count": 16,
     "metadata": {},
     "output_type": "execute_result"
    }
   ],
   "source": [
    "# How many columns?\n",
    "\n",
    "# TODO\n",
    "len(mouseDF.columns)"
   ]
  },
  {
   "cell_type": "code",
   "execution_count": 17,
   "metadata": {
    "cell_id": "b45b625d9c134a5692abf9d3ca5fb0a1",
    "deepnote_cell_type": "code",
    "deepnote_to_be_reexecuted": false,
    "execution_millis": 24,
    "execution_start": 1677530315130,
    "source_hash": "d54edfcd",
    "tags": []
   },
   "outputs": [
    {
     "data": {
      "text/plain": [
       "(400, 3)"
      ]
     },
     "execution_count": 17,
     "metadata": {},
     "output_type": "execute_result"
    }
   ],
   "source": [
    "# We can ask for the shape of a DataFrame, which gives us a tuple with these values:\n",
    "\n",
    "# TODO\n",
    "mouseDF.shape"
   ]
  },
  {
   "cell_type": "code",
   "execution_count": 18,
   "metadata": {
    "cell_id": "4c390f1d94dc4cc3af1d25445a7b5b23",
    "deepnote_cell_type": "code",
    "deepnote_to_be_reexecuted": false,
    "execution_millis": 37,
    "execution_start": 1677530315130,
    "source_hash": "4f235eab",
    "tags": []
   },
   "outputs": [
    {
     "data": {
      "text/plain": [
       "400"
      ]
     },
     "execution_count": 18,
     "metadata": {},
     "output_type": "execute_result"
    }
   ],
   "source": [
    "# Get the number of rows using mouseDF.shape:\n",
    "\n",
    "# TODO\n",
    "mouseDF.shape[0]"
   ]
  },
  {
   "cell_type": "code",
   "execution_count": 19,
   "metadata": {
    "cell_id": "6e3a7c40c1764aec9328762b3b04d396",
    "deepnote_cell_type": "code",
    "deepnote_to_be_reexecuted": false,
    "execution_millis": 11,
    "execution_start": 1677530315164,
    "source_hash": "12060a6f",
    "tags": []
   },
   "outputs": [
    {
     "data": {
      "text/plain": [
       "0      27.596753\n",
       "1      29.635837\n",
       "2      28.460685\n",
       "3      29.248225\n",
       "4      25.702118\n",
       "         ...    \n",
       "395    20.489587\n",
       "396    21.512789\n",
       "397    18.677338\n",
       "398    22.974729\n",
       "399    19.312054\n",
       "Name: weight, Length: 400, dtype: float64"
      ]
     },
     "execution_count": 19,
     "metadata": {},
     "output_type": "execute_result"
    }
   ],
   "source": [
    "# Select the weight column, which is a Series object.\n",
    "# Preferred way:\n",
    "\n",
    "# TODO\n",
    "mouseDF['weight']"
   ]
  },
  {
   "cell_type": "code",
   "execution_count": 20,
   "metadata": {
    "scrolled": true
   },
   "outputs": [
    {
     "data": {
      "text/plain": [
       "2      28.460685\n",
       "17     28.131761\n",
       "18     28.724828\n",
       "21     28.393142\n",
       "28     28.248257\n",
       "30     28.431916\n",
       "32     28.900976\n",
       "40     28.227189\n",
       "41     28.427392\n",
       "48     28.531084\n",
       "61     28.212117\n",
       "63     28.148897\n",
       "65     28.539025\n",
       "69     28.807248\n",
       "71     28.999457\n",
       "77     28.984005\n",
       "83     28.276477\n",
       "85     28.281818\n",
       "87     28.535487\n",
       "88     28.038621\n",
       "95     28.456805\n",
       "96     28.181539\n",
       "98     28.059095\n",
       "203    28.852402\n",
       "211    28.058833\n",
       "218    28.572702\n",
       "231    28.622008\n",
       "234    28.187609\n",
       "236    28.027747\n",
       "240    28.890028\n",
       "242    28.380888\n",
       "249    28.726820\n",
       "260    28.353228\n",
       "264    28.352875\n",
       "274    28.142244\n",
       "277    28.754204\n",
       "278    28.136773\n",
       "279    28.863385\n",
       "286    28.886780\n",
       "291    28.082726\n",
       "292    28.988429\n",
       "Name: weight, dtype: float64"
      ]
     },
     "execution_count": 20,
     "metadata": {},
     "output_type": "execute_result"
    }
   ],
   "source": [
    "mouseDF28Only['weight']"
   ]
  },
  {
   "cell_type": "code",
   "execution_count": 21,
   "metadata": {
    "cell_id": "f77be6f35c6f45c5971f9d67f42eb816",
    "deepnote_cell_type": "code",
    "deepnote_to_be_reexecuted": false,
    "execution_millis": 11,
    "execution_start": 1677530315168,
    "source_hash": "ef8b9b5c",
    "tags": []
   },
   "outputs": [
    {
     "data": {
      "text/plain": [
       "0      27.596753\n",
       "1      29.635837\n",
       "2      28.460685\n",
       "3      29.248225\n",
       "4      25.702118\n",
       "         ...    \n",
       "395    20.489587\n",
       "396    21.512789\n",
       "397    18.677338\n",
       "398    22.974729\n",
       "399    19.312054\n",
       "Name: weight, Length: 400, dtype: float64"
      ]
     },
     "execution_count": 21,
     "metadata": {},
     "output_type": "execute_result"
    }
   ],
   "source": [
    "# Dot notation -- not preferred because:\n",
    "#   - it only works with column names that are valid Python identifiers (no spaces, starts with alpha+_, only contains alphanumeric+_)\n",
    "#   - since it can't be used everywhere, when you do use it, it'll cause inconsistencies\n",
    "#   - it's non-programatic (you can access a column whose name is stored in a variable this way)\n",
    "\n",
    "# TODO\n",
    "mouseDF.weight"
   ]
  },
  {
   "cell_type": "code",
   "execution_count": 7,
   "metadata": {
    "cell_id": "01eeea7eae5e40558955fefdd7be4a4a",
    "deepnote_cell_type": "code",
    "deepnote_to_be_reexecuted": false,
    "execution_millis": 14,
    "execution_start": 1677530315169,
    "source_hash": "a75c1e3b",
    "tags": []
   },
   "outputs": [
    {
     "data": {
      "text/html": [
       "<div>\n",
       "<style scoped>\n",
       "    .dataframe tbody tr th:only-of-type {\n",
       "        vertical-align: middle;\n",
       "    }\n",
       "\n",
       "    .dataframe tbody tr th {\n",
       "        vertical-align: top;\n",
       "    }\n",
       "\n",
       "    .dataframe thead th {\n",
       "        text-align: right;\n",
       "    }\n",
       "</style>\n",
       "<table border=\"1\" class=\"dataframe\">\n",
       "  <thead>\n",
       "    <tr style=\"text-align: right;\">\n",
       "      <th></th>\n",
       "      <th>strain</th>\n",
       "      <th>sex</th>\n",
       "      <th>weight</th>\n",
       "    </tr>\n",
       "  </thead>\n",
       "  <tbody>\n",
       "    <tr>\n",
       "      <th>0</th>\n",
       "      <td>C57Bl/6J</td>\n",
       "      <td>M</td>\n",
       "      <td>27.596753</td>\n",
       "    </tr>\n",
       "    <tr>\n",
       "      <th>1</th>\n",
       "      <td>C57Bl/6J</td>\n",
       "      <td>M</td>\n",
       "      <td>29.635837</td>\n",
       "    </tr>\n",
       "    <tr>\n",
       "      <th>2</th>\n",
       "      <td>C57Bl/6J</td>\n",
       "      <td>M</td>\n",
       "      <td>28.460685</td>\n",
       "    </tr>\n",
       "    <tr>\n",
       "      <th>3</th>\n",
       "      <td>C57Bl/6J</td>\n",
       "      <td>M</td>\n",
       "      <td>29.248225</td>\n",
       "    </tr>\n",
       "    <tr>\n",
       "      <th>4</th>\n",
       "      <td>C57Bl/6J</td>\n",
       "      <td>M</td>\n",
       "      <td>25.702118</td>\n",
       "    </tr>\n",
       "    <tr>\n",
       "      <th>5</th>\n",
       "      <td>C57Bl/6J</td>\n",
       "      <td>M</td>\n",
       "      <td>26.972696</td>\n",
       "    </tr>\n",
       "    <tr>\n",
       "      <th>6</th>\n",
       "      <td>C57Bl/6J</td>\n",
       "      <td>M</td>\n",
       "      <td>30.352504</td>\n",
       "    </tr>\n",
       "    <tr>\n",
       "      <th>7</th>\n",
       "      <td>C57Bl/6J</td>\n",
       "      <td>M</td>\n",
       "      <td>29.056024</td>\n",
       "    </tr>\n",
       "    <tr>\n",
       "      <th>8</th>\n",
       "      <td>C57Bl/6J</td>\n",
       "      <td>M</td>\n",
       "      <td>27.869612</td>\n",
       "    </tr>\n",
       "    <tr>\n",
       "      <th>9</th>\n",
       "      <td>C57Bl/6J</td>\n",
       "      <td>M</td>\n",
       "      <td>31.025558</td>\n",
       "    </tr>\n",
       "  </tbody>\n",
       "</table>\n",
       "</div>"
      ],
      "text/plain": [
       "     strain sex     weight\n",
       "0  C57Bl/6J   M  27.596753\n",
       "1  C57Bl/6J   M  29.635837\n",
       "2  C57Bl/6J   M  28.460685\n",
       "3  C57Bl/6J   M  29.248225\n",
       "4  C57Bl/6J   M  25.702118\n",
       "5  C57Bl/6J   M  26.972696\n",
       "6  C57Bl/6J   M  30.352504\n",
       "7  C57Bl/6J   M  29.056024\n",
       "8  C57Bl/6J   M  27.869612\n",
       "9  C57Bl/6J   M  31.025558"
      ]
     },
     "execution_count": 7,
     "metadata": {},
     "output_type": "execute_result"
    }
   ],
   "source": [
    "# See just the first 10 lines (if you omit the argument, the default is 5)\n",
    "\n",
    "# TODO\n",
    "mouseDF.head(10)"
   ]
  },
  {
   "cell_type": "code",
   "execution_count": 8,
   "metadata": {
    "cell_id": "5c99f3149b994d30b7fd526245c778db",
    "deepnote_cell_type": "code",
    "deepnote_to_be_reexecuted": false,
    "execution_millis": 42,
    "execution_start": 1677530315182,
    "source_hash": "54685b51",
    "tags": []
   },
   "outputs": [
    {
     "data": {
      "text/html": [
       "<div>\n",
       "<style scoped>\n",
       "    .dataframe tbody tr th:only-of-type {\n",
       "        vertical-align: middle;\n",
       "    }\n",
       "\n",
       "    .dataframe tbody tr th {\n",
       "        vertical-align: top;\n",
       "    }\n",
       "\n",
       "    .dataframe thead th {\n",
       "        text-align: right;\n",
       "    }\n",
       "</style>\n",
       "<table border=\"1\" class=\"dataframe\">\n",
       "  <thead>\n",
       "    <tr style=\"text-align: right;\">\n",
       "      <th></th>\n",
       "      <th>strain</th>\n",
       "      <th>sex</th>\n",
       "      <th>weight</th>\n",
       "    </tr>\n",
       "  </thead>\n",
       "  <tbody>\n",
       "    <tr>\n",
       "      <th>390</th>\n",
       "      <td>DBA/2J</td>\n",
       "      <td>F</td>\n",
       "      <td>23.008116</td>\n",
       "    </tr>\n",
       "    <tr>\n",
       "      <th>391</th>\n",
       "      <td>DBA/2J</td>\n",
       "      <td>F</td>\n",
       "      <td>19.084330</td>\n",
       "    </tr>\n",
       "    <tr>\n",
       "      <th>392</th>\n",
       "      <td>DBA/2J</td>\n",
       "      <td>F</td>\n",
       "      <td>18.807994</td>\n",
       "    </tr>\n",
       "    <tr>\n",
       "      <th>393</th>\n",
       "      <td>DBA/2J</td>\n",
       "      <td>F</td>\n",
       "      <td>22.977515</td>\n",
       "    </tr>\n",
       "    <tr>\n",
       "      <th>394</th>\n",
       "      <td>DBA/2J</td>\n",
       "      <td>F</td>\n",
       "      <td>22.153450</td>\n",
       "    </tr>\n",
       "    <tr>\n",
       "      <th>395</th>\n",
       "      <td>DBA/2J</td>\n",
       "      <td>F</td>\n",
       "      <td>20.489587</td>\n",
       "    </tr>\n",
       "    <tr>\n",
       "      <th>396</th>\n",
       "      <td>DBA/2J</td>\n",
       "      <td>F</td>\n",
       "      <td>21.512789</td>\n",
       "    </tr>\n",
       "    <tr>\n",
       "      <th>397</th>\n",
       "      <td>DBA/2J</td>\n",
       "      <td>F</td>\n",
       "      <td>18.677338</td>\n",
       "    </tr>\n",
       "    <tr>\n",
       "      <th>398</th>\n",
       "      <td>DBA/2J</td>\n",
       "      <td>F</td>\n",
       "      <td>22.974729</td>\n",
       "    </tr>\n",
       "    <tr>\n",
       "      <th>399</th>\n",
       "      <td>DBA/2J</td>\n",
       "      <td>F</td>\n",
       "      <td>19.312054</td>\n",
       "    </tr>\n",
       "  </tbody>\n",
       "</table>\n",
       "</div>"
      ],
      "text/plain": [
       "     strain sex     weight\n",
       "390  DBA/2J   F  23.008116\n",
       "391  DBA/2J   F  19.084330\n",
       "392  DBA/2J   F  18.807994\n",
       "393  DBA/2J   F  22.977515\n",
       "394  DBA/2J   F  22.153450\n",
       "395  DBA/2J   F  20.489587\n",
       "396  DBA/2J   F  21.512789\n",
       "397  DBA/2J   F  18.677338\n",
       "398  DBA/2J   F  22.974729\n",
       "399  DBA/2J   F  19.312054"
      ]
     },
     "execution_count": 8,
     "metadata": {},
     "output_type": "execute_result"
    }
   ],
   "source": [
    "# See just the last 10 lines (or 5 if the argument is omitted)\n",
    "\n",
    "mouseDF.tail(10)"
   ]
  },
  {
   "cell_type": "code",
   "execution_count": 14,
   "metadata": {},
   "outputs": [
    {
     "data": {
      "text/plain": [
       "0    C57Bl/6J\n",
       "1    C57Bl/6J\n",
       "2    C57Bl/6J\n",
       "3    C57Bl/6J\n",
       "4    C57Bl/6J\n",
       "Name: strain, dtype: object"
      ]
     },
     "execution_count": 14,
     "metadata": {},
     "output_type": "execute_result"
    }
   ],
   "source": [
    "mouseDF['strain'].head()"
   ]
  },
  {
   "cell_type": "code",
   "execution_count": 13,
   "metadata": {
    "cell_id": "fcb8388de9fa40739ac0da2f563bd214",
    "deepnote_cell_type": "code",
    "deepnote_to_be_reexecuted": false,
    "execution_millis": 23,
    "execution_start": 1677530315223,
    "source_hash": "f0b22714",
    "tags": []
   },
   "outputs": [
    {
     "data": {
      "text/plain": [
       "count    400.000000\n",
       "mean      24.002120\n",
       "std        3.536213\n",
       "min       17.411034\n",
       "25%       20.946523\n",
       "50%       23.474883\n",
       "75%       27.120553\n",
       "max       32.848227\n",
       "Name: weight, dtype: float64"
      ]
     },
     "execution_count": 13,
     "metadata": {},
     "output_type": "execute_result"
    }
   ],
   "source": [
    "# Get basic stats about each numeric column.\n",
    "\n",
    "mouseDF['weight'].describe()"
   ]
  },
  {
   "cell_type": "code",
   "execution_count": 12,
   "metadata": {
    "cell_id": "bbaf3d2c1eed496b80181c04bb396d01",
    "deepnote_cell_type": "code",
    "deepnote_to_be_reexecuted": false,
    "execution_millis": 7,
    "execution_start": 1677530315245,
    "source_hash": "6f6b8b00",
    "tags": []
   },
   "outputs": [
    {
     "data": {
      "text/html": [
       "<div>\n",
       "<style scoped>\n",
       "    .dataframe tbody tr th:only-of-type {\n",
       "        vertical-align: middle;\n",
       "    }\n",
       "\n",
       "    .dataframe tbody tr th {\n",
       "        vertical-align: top;\n",
       "    }\n",
       "\n",
       "    .dataframe thead th {\n",
       "        text-align: right;\n",
       "    }\n",
       "</style>\n",
       "<table border=\"1\" class=\"dataframe\">\n",
       "  <thead>\n",
       "    <tr style=\"text-align: right;\">\n",
       "      <th></th>\n",
       "      <th>weight</th>\n",
       "    </tr>\n",
       "  </thead>\n",
       "  <tbody>\n",
       "    <tr>\n",
       "      <th>count</th>\n",
       "      <td>400.000000</td>\n",
       "    </tr>\n",
       "    <tr>\n",
       "      <th>mean</th>\n",
       "      <td>24.002120</td>\n",
       "    </tr>\n",
       "    <tr>\n",
       "      <th>std</th>\n",
       "      <td>3.536213</td>\n",
       "    </tr>\n",
       "    <tr>\n",
       "      <th>min</th>\n",
       "      <td>17.411034</td>\n",
       "    </tr>\n",
       "    <tr>\n",
       "      <th>25%</th>\n",
       "      <td>20.946523</td>\n",
       "    </tr>\n",
       "    <tr>\n",
       "      <th>50%</th>\n",
       "      <td>23.474883</td>\n",
       "    </tr>\n",
       "    <tr>\n",
       "      <th>75%</th>\n",
       "      <td>27.120553</td>\n",
       "    </tr>\n",
       "    <tr>\n",
       "      <th>max</th>\n",
       "      <td>32.848227</td>\n",
       "    </tr>\n",
       "  </tbody>\n",
       "</table>\n",
       "</div>"
      ],
      "text/plain": [
       "           weight\n",
       "count  400.000000\n",
       "mean    24.002120\n",
       "std      3.536213\n",
       "min     17.411034\n",
       "25%     20.946523\n",
       "50%     23.474883\n",
       "75%     27.120553\n",
       "max     32.848227"
      ]
     },
     "execution_count": 12,
     "metadata": {},
     "output_type": "execute_result"
    }
   ],
   "source": [
    "# Summarize all of the numeric columns of a DataFrame:\n",
    "\n",
    "mouseDF.describe()"
   ]
  },
  {
   "cell_type": "code",
   "execution_count": 15,
   "metadata": {
    "cell_id": "5471010ec8b743f9b84e195904ebd13a",
    "deepnote_cell_type": "code",
    "deepnote_to_be_reexecuted": false,
    "execution_millis": 2,
    "execution_start": 1677530315296,
    "source_hash": "7b56a26b",
    "tags": []
   },
   "outputs": [
    {
     "data": {
      "text/plain": [
       "strain    C57Bl/6JC57Bl/6JC57Bl/6JC57Bl/6JC57Bl/6JC57Bl/...\n",
       "sex       MMMMMMMMMMMMMMMMMMMMMMMMMMMMMMMMMMMMMMMMMMMMMM...\n",
       "weight                                          9600.848108\n",
       "dtype: object"
      ]
     },
     "execution_count": 15,
     "metadata": {},
     "output_type": "execute_result"
    }
   ],
   "source": [
    "# Sum every column -- Question: what looks amiss about the result?\n",
    "\n",
    "mouseDF.sum()"
   ]
  },
  {
   "cell_type": "code",
   "execution_count": 16,
   "metadata": {},
   "outputs": [
    {
     "data": {
      "text/plain": [
       "np.float64(9600.848107922207)"
      ]
     },
     "execution_count": 16,
     "metadata": {},
     "output_type": "execute_result"
    }
   ],
   "source": [
    "mouseDF['weight'].sum()"
   ]
  },
  {
   "cell_type": "code",
   "execution_count": 18,
   "metadata": {
    "cell_id": "4ac645d2273d4baabb0476ffa36cbdaa",
    "deepnote_cell_type": "code",
    "deepnote_to_be_reexecuted": false,
    "execution_millis": 2,
    "execution_start": 1677530315296,
    "scrolled": true,
    "source_hash": "e4bad85b",
    "tags": []
   },
   "outputs": [
    {
     "name": "stdout",
     "output_type": "stream",
     "text": [
      "MIN:\n",
      " strain     C57Bl/6J\n",
      "sex               F\n",
      "weight    17.411034\n",
      "dtype: object\n",
      "\n",
      "MAX:\n",
      " strain       DBA/2J\n",
      "sex               M\n",
      "weight    32.848227\n",
      "dtype: object\n",
      "\n",
      "COUNT:\n",
      " strain    400\n",
      "sex       400\n",
      "weight    400\n",
      "dtype: int64\n"
     ]
    }
   ],
   "source": [
    "# Also, min, max, count, mean:\n",
    "\n",
    "print('MIN:\\n', mouseDF.min())\n",
    "print('\\nMAX:\\n', mouseDF.max())\n",
    "print('\\nCOUNT:\\n', mouseDF.count())\n",
    "# print('\\nMEAN:\\n', mouseDF.mean()) # <-- this will cause an error on non-numeric columns\n"
   ]
  },
  {
   "cell_type": "markdown",
   "metadata": {
    "cell_id": "32299c91f2964be5809b1c1e386674d0",
    "deepnote_cell_type": "markdown",
    "tags": []
   },
   "source": [
    "## Selecting data in pandas"
   ]
  },
  {
   "cell_type": "code",
   "execution_count": 20,
   "metadata": {
    "cell_id": "402f89f2fee645aaada45ed3e99ec4ed",
    "deepnote_cell_type": "code",
    "deepnote_to_be_reexecuted": false,
    "execution_millis": 4,
    "execution_start": 1677530315328,
    "source_hash": "aadf483",
    "tags": []
   },
   "outputs": [
    {
     "data": {
      "text/html": [
       "<div>\n",
       "<style scoped>\n",
       "    .dataframe tbody tr th:only-of-type {\n",
       "        vertical-align: middle;\n",
       "    }\n",
       "\n",
       "    .dataframe tbody tr th {\n",
       "        vertical-align: top;\n",
       "    }\n",
       "\n",
       "    .dataframe thead th {\n",
       "        text-align: right;\n",
       "    }\n",
       "</style>\n",
       "<table border=\"1\" class=\"dataframe\">\n",
       "  <thead>\n",
       "    <tr style=\"text-align: right;\">\n",
       "      <th></th>\n",
       "      <th>strain</th>\n",
       "      <th>weight</th>\n",
       "    </tr>\n",
       "  </thead>\n",
       "  <tbody>\n",
       "    <tr>\n",
       "      <th>0</th>\n",
       "      <td>C57Bl/6J</td>\n",
       "      <td>27.596753</td>\n",
       "    </tr>\n",
       "    <tr>\n",
       "      <th>1</th>\n",
       "      <td>C57Bl/6J</td>\n",
       "      <td>29.635837</td>\n",
       "    </tr>\n",
       "    <tr>\n",
       "      <th>2</th>\n",
       "      <td>C57Bl/6J</td>\n",
       "      <td>28.460685</td>\n",
       "    </tr>\n",
       "    <tr>\n",
       "      <th>3</th>\n",
       "      <td>C57Bl/6J</td>\n",
       "      <td>29.248225</td>\n",
       "    </tr>\n",
       "    <tr>\n",
       "      <th>4</th>\n",
       "      <td>C57Bl/6J</td>\n",
       "      <td>25.702118</td>\n",
       "    </tr>\n",
       "    <tr>\n",
       "      <th>...</th>\n",
       "      <td>...</td>\n",
       "      <td>...</td>\n",
       "    </tr>\n",
       "    <tr>\n",
       "      <th>395</th>\n",
       "      <td>DBA/2J</td>\n",
       "      <td>20.489587</td>\n",
       "    </tr>\n",
       "    <tr>\n",
       "      <th>396</th>\n",
       "      <td>DBA/2J</td>\n",
       "      <td>21.512789</td>\n",
       "    </tr>\n",
       "    <tr>\n",
       "      <th>397</th>\n",
       "      <td>DBA/2J</td>\n",
       "      <td>18.677338</td>\n",
       "    </tr>\n",
       "    <tr>\n",
       "      <th>398</th>\n",
       "      <td>DBA/2J</td>\n",
       "      <td>22.974729</td>\n",
       "    </tr>\n",
       "    <tr>\n",
       "      <th>399</th>\n",
       "      <td>DBA/2J</td>\n",
       "      <td>19.312054</td>\n",
       "    </tr>\n",
       "  </tbody>\n",
       "</table>\n",
       "<p>400 rows × 2 columns</p>\n",
       "</div>"
      ],
      "text/plain": [
       "       strain     weight\n",
       "0    C57Bl/6J  27.596753\n",
       "1    C57Bl/6J  29.635837\n",
       "2    C57Bl/6J  28.460685\n",
       "3    C57Bl/6J  29.248225\n",
       "4    C57Bl/6J  25.702118\n",
       "..        ...        ...\n",
       "395    DBA/2J  20.489587\n",
       "396    DBA/2J  21.512789\n",
       "397    DBA/2J  18.677338\n",
       "398    DBA/2J  22.974729\n",
       "399    DBA/2J  19.312054\n",
       "\n",
       "[400 rows x 2 columns]"
      ]
     },
     "execution_count": 20,
     "metadata": {},
     "output_type": "execute_result"
    }
   ],
   "source": [
    "# Selecting columns:\n",
    "mouseDF['weight'] # --> returns a Series (a single column)\n",
    "\n",
    "mouseDF[['strain', 'weight']] # --> returns a DataFrame (two or more columns)"
   ]
  },
  {
   "cell_type": "code",
   "execution_count": 21,
   "metadata": {
    "cell_id": "eb595e662e58466ca43924d75cbf15c9",
    "deepnote_cell_type": "code",
    "deepnote_to_be_reexecuted": false,
    "execution_millis": 4,
    "execution_start": 1677530315364,
    "source_hash": "37ff890e",
    "tags": []
   },
   "outputs": [
    {
     "data": {
      "text/html": [
       "<div>\n",
       "<style scoped>\n",
       "    .dataframe tbody tr th:only-of-type {\n",
       "        vertical-align: middle;\n",
       "    }\n",
       "\n",
       "    .dataframe tbody tr th {\n",
       "        vertical-align: top;\n",
       "    }\n",
       "\n",
       "    .dataframe thead th {\n",
       "        text-align: right;\n",
       "    }\n",
       "</style>\n",
       "<table border=\"1\" class=\"dataframe\">\n",
       "  <thead>\n",
       "    <tr style=\"text-align: right;\">\n",
       "      <th></th>\n",
       "      <th>strain</th>\n",
       "      <th>sex</th>\n",
       "      <th>weight</th>\n",
       "    </tr>\n",
       "  </thead>\n",
       "  <tbody>\n",
       "    <tr>\n",
       "      <th>0</th>\n",
       "      <td>C57Bl/6J</td>\n",
       "      <td>M</td>\n",
       "      <td>27.596753</td>\n",
       "    </tr>\n",
       "    <tr>\n",
       "      <th>1</th>\n",
       "      <td>C57Bl/6J</td>\n",
       "      <td>M</td>\n",
       "      <td>29.635837</td>\n",
       "    </tr>\n",
       "  </tbody>\n",
       "</table>\n",
       "</div>"
      ],
      "text/plain": [
       "     strain sex     weight\n",
       "0  C57Bl/6J   M  27.596753\n",
       "1  C57Bl/6J   M  29.635837"
      ]
     },
     "execution_count": 21,
     "metadata": {},
     "output_type": "execute_result"
    }
   ],
   "source": [
    "# Selecting columns:\n",
    "mouseDF['weight']\n",
    "# Selecting rows:\n",
    "mouseDF[0:2] # --> returns a DataFrame containing row indexes 0 and 1 -- this is just like list slicing"
   ]
  },
  {
   "cell_type": "code",
   "execution_count": 23,
   "metadata": {},
   "outputs": [
    {
     "data": {
      "text/html": [
       "<div>\n",
       "<style scoped>\n",
       "    .dataframe tbody tr th:only-of-type {\n",
       "        vertical-align: middle;\n",
       "    }\n",
       "\n",
       "    .dataframe tbody tr th {\n",
       "        vertical-align: top;\n",
       "    }\n",
       "\n",
       "    .dataframe thead th {\n",
       "        text-align: right;\n",
       "    }\n",
       "</style>\n",
       "<table border=\"1\" class=\"dataframe\">\n",
       "  <thead>\n",
       "    <tr style=\"text-align: right;\">\n",
       "      <th></th>\n",
       "      <th>strain</th>\n",
       "      <th>sex</th>\n",
       "      <th>weight</th>\n",
       "    </tr>\n",
       "  </thead>\n",
       "  <tbody>\n",
       "    <tr>\n",
       "      <th>2</th>\n",
       "      <td>C57Bl/6J</td>\n",
       "      <td>M</td>\n",
       "      <td>28.460685</td>\n",
       "    </tr>\n",
       "    <tr>\n",
       "      <th>17</th>\n",
       "      <td>C57Bl/6J</td>\n",
       "      <td>M</td>\n",
       "      <td>28.131761</td>\n",
       "    </tr>\n",
       "    <tr>\n",
       "      <th>18</th>\n",
       "      <td>C57Bl/6J</td>\n",
       "      <td>M</td>\n",
       "      <td>28.724828</td>\n",
       "    </tr>\n",
       "    <tr>\n",
       "      <th>21</th>\n",
       "      <td>C57Bl/6J</td>\n",
       "      <td>M</td>\n",
       "      <td>28.393142</td>\n",
       "    </tr>\n",
       "    <tr>\n",
       "      <th>28</th>\n",
       "      <td>C57Bl/6J</td>\n",
       "      <td>M</td>\n",
       "      <td>28.248257</td>\n",
       "    </tr>\n",
       "  </tbody>\n",
       "</table>\n",
       "</div>"
      ],
      "text/plain": [
       "      strain sex     weight\n",
       "2   C57Bl/6J   M  28.460685\n",
       "17  C57Bl/6J   M  28.131761\n",
       "18  C57Bl/6J   M  28.724828\n",
       "21  C57Bl/6J   M  28.393142\n",
       "28  C57Bl/6J   M  28.248257"
      ]
     },
     "execution_count": 23,
     "metadata": {},
     "output_type": "execute_result"
    }
   ],
   "source": [
    "mouseDF28Only.head()"
   ]
  },
  {
   "cell_type": "code",
   "execution_count": 24,
   "metadata": {},
   "outputs": [
    {
     "data": {
      "text/html": [
       "<div>\n",
       "<style scoped>\n",
       "    .dataframe tbody tr th:only-of-type {\n",
       "        vertical-align: middle;\n",
       "    }\n",
       "\n",
       "    .dataframe tbody tr th {\n",
       "        vertical-align: top;\n",
       "    }\n",
       "\n",
       "    .dataframe thead th {\n",
       "        text-align: right;\n",
       "    }\n",
       "</style>\n",
       "<table border=\"1\" class=\"dataframe\">\n",
       "  <thead>\n",
       "    <tr style=\"text-align: right;\">\n",
       "      <th></th>\n",
       "      <th>strain</th>\n",
       "      <th>sex</th>\n",
       "      <th>weight</th>\n",
       "    </tr>\n",
       "  </thead>\n",
       "  <tbody>\n",
       "    <tr>\n",
       "      <th>2</th>\n",
       "      <td>C57Bl/6J</td>\n",
       "      <td>M</td>\n",
       "      <td>28.460685</td>\n",
       "    </tr>\n",
       "    <tr>\n",
       "      <th>17</th>\n",
       "      <td>C57Bl/6J</td>\n",
       "      <td>M</td>\n",
       "      <td>28.131761</td>\n",
       "    </tr>\n",
       "  </tbody>\n",
       "</table>\n",
       "</div>"
      ],
      "text/plain": [
       "      strain sex     weight\n",
       "2   C57Bl/6J   M  28.460685\n",
       "17  C57Bl/6J   M  28.131761"
      ]
     },
     "execution_count": 24,
     "metadata": {},
     "output_type": "execute_result"
    }
   ],
   "source": [
    "# Question 1 -- what will this display?\n",
    "mouseDF28Only[0:2]"
   ]
  },
  {
   "cell_type": "code",
   "execution_count": 25,
   "metadata": {
    "cell_id": "9650296c5b2c4bbda86e15af7c461566",
    "deepnote_cell_type": "code",
    "deepnote_to_be_reexecuted": false,
    "execution_millis": 3,
    "execution_start": 1677530315365,
    "source_hash": "e3029208",
    "tags": []
   },
   "outputs": [
    {
     "data": {
      "text/plain": [
       "np.float64(29.635837290427972)"
      ]
     },
     "execution_count": 25,
     "metadata": {},
     "output_type": "execute_result"
    }
   ],
   "source": [
    "# Selecting both (an intersection of row and column):\n",
    "mouseDF['weight'][1] # --> the second row of the 'weight' column\n",
    "# mouseDF['weight'] -> returns a series\n",
    "# (^^^)[1] -- says \"get index 1 from the series\""
   ]
  },
  {
   "cell_type": "code",
   "execution_count": 26,
   "metadata": {},
   "outputs": [
    {
     "data": {
      "text/plain": [
       "1    29.635837\n",
       "2    28.460685\n",
       "Name: weight, dtype: float64"
      ]
     },
     "execution_count": 26,
     "metadata": {},
     "output_type": "execute_result"
    }
   ],
   "source": [
    "mouseDF['weight'][1:3]"
   ]
  },
  {
   "cell_type": "code",
   "execution_count": 27,
   "metadata": {
    "cell_id": "49a585a215634d39bd1da80e9f942a5e",
    "deepnote_cell_type": "code",
    "deepnote_to_be_reexecuted": false,
    "execution_millis": 2,
    "execution_start": 1677530315370,
    "source_hash": "f4da93ab",
    "tags": []
   },
   "outputs": [
    {
     "data": {
      "text/plain": [
       "np.float64(29.635837290427972)"
      ]
     },
     "execution_count": 27,
     "metadata": {},
     "output_type": "execute_result"
    }
   ],
   "source": [
    "# A second way of writing the same thing using .loc -- \"explicit location\"\n",
    "mouseDF.loc[1, 'weight']"
   ]
  },
  {
   "cell_type": "code",
   "execution_count": 28,
   "metadata": {
    "cell_id": "cd59f354cb974d578d349c6fe8e24b5e",
    "deepnote_cell_type": "code",
    "deepnote_to_be_reexecuted": false,
    "execution_millis": 23777225,
    "execution_start": 1677530315409,
    "source_hash": "2ed8e4ed",
    "tags": []
   },
   "outputs": [
    {
     "data": {
      "text/plain": [
       "np.float64(29.635837290427972)"
      ]
     },
     "execution_count": 28,
     "metadata": {},
     "output_type": "execute_result"
    }
   ],
   "source": [
    "# A third way using .iloc -- \"implicit location\"\n",
    "mouseDF.iloc[1, 2] # --> the 1 means \"row index 1\" and the 2 means \"column index 2\""
   ]
  },
  {
   "cell_type": "code",
   "execution_count": 31,
   "metadata": {},
   "outputs": [
    {
     "data": {
      "text/plain": [
       "np.float64(24.00212026980552)"
      ]
     },
     "execution_count": 31,
     "metadata": {},
     "output_type": "execute_result"
    }
   ],
   "source": [
    "mouseDF.describe()['weight']['mean']"
   ]
  },
  {
   "cell_type": "code",
   "execution_count": 33,
   "metadata": {},
   "outputs": [
    {
     "data": {
      "text/plain": [
       "np.float64(24.00212026980552)"
      ]
     },
     "execution_count": 33,
     "metadata": {},
     "output_type": "execute_result"
    }
   ],
   "source": [
    "mouseDF.describe().loc['mean', 'weight']"
   ]
  },
  {
   "cell_type": "code",
   "execution_count": 34,
   "metadata": {},
   "outputs": [
    {
     "data": {
      "text/plain": [
       "np.float64(24.00212026980552)"
      ]
     },
     "execution_count": 34,
     "metadata": {},
     "output_type": "execute_result"
    }
   ],
   "source": [
    "mouseDF.describe().iloc[1,0]"
   ]
  },
  {
   "cell_type": "code",
   "execution_count": 36,
   "metadata": {},
   "outputs": [
    {
     "data": {
      "text/plain": [
       "weight    24.00212\n",
       "Name: mean, dtype: float64"
      ]
     },
     "execution_count": 36,
     "metadata": {},
     "output_type": "execute_result"
    }
   ],
   "source": [
    "mouseDF.describe().loc['mean',] # <- gets all columns for the row with index label 'mean'"
   ]
  },
  {
   "cell_type": "code",
   "execution_count": 37,
   "metadata": {},
   "outputs": [
    {
     "data": {
      "text/plain": [
       "strain     C57Bl/6J\n",
       "sex               M\n",
       "weight    27.774557\n",
       "Name: 20, dtype: object"
      ]
     },
     "execution_count": 37,
     "metadata": {},
     "output_type": "execute_result"
    }
   ],
   "source": [
    "mouseDF.loc[20,]"
   ]
  },
  {
   "cell_type": "markdown",
   "metadata": {
    "cell_id": "9c7d4dbbb6844423a485046c94fd7fb0",
    "deepnote_cell_type": "markdown",
    "tags": []
   },
   "source": [
    "## Selecting rows based on criteria (filtering)"
   ]
  },
  {
   "cell_type": "code",
   "execution_count": 39,
   "metadata": {
    "cell_id": "52377e7965aa40c3b049eefc38ada0fa",
    "deepnote_cell_type": "code",
    "deepnote_to_be_reexecuted": false,
    "execution_millis": 3,
    "execution_start": 1677530315443,
    "source_hash": "c8bd16dc",
    "tags": []
   },
   "outputs": [
    {
     "data": {
      "text/html": [
       "<div>\n",
       "<style scoped>\n",
       "    .dataframe tbody tr th:only-of-type {\n",
       "        vertical-align: middle;\n",
       "    }\n",
       "\n",
       "    .dataframe tbody tr th {\n",
       "        vertical-align: top;\n",
       "    }\n",
       "\n",
       "    .dataframe thead th {\n",
       "        text-align: right;\n",
       "    }\n",
       "</style>\n",
       "<table border=\"1\" class=\"dataframe\">\n",
       "  <thead>\n",
       "    <tr style=\"text-align: right;\">\n",
       "      <th></th>\n",
       "      <th>strain</th>\n",
       "      <th>sex</th>\n",
       "      <th>weight</th>\n",
       "    </tr>\n",
       "  </thead>\n",
       "  <tbody>\n",
       "    <tr>\n",
       "      <th>0</th>\n",
       "      <td>C57Bl/6J</td>\n",
       "      <td>M</td>\n",
       "      <td>27.596753</td>\n",
       "    </tr>\n",
       "    <tr>\n",
       "      <th>1</th>\n",
       "      <td>C57Bl/6J</td>\n",
       "      <td>M</td>\n",
       "      <td>29.635837</td>\n",
       "    </tr>\n",
       "    <tr>\n",
       "      <th>2</th>\n",
       "      <td>C57Bl/6J</td>\n",
       "      <td>M</td>\n",
       "      <td>28.460685</td>\n",
       "    </tr>\n",
       "    <tr>\n",
       "      <th>3</th>\n",
       "      <td>C57Bl/6J</td>\n",
       "      <td>M</td>\n",
       "      <td>29.248225</td>\n",
       "    </tr>\n",
       "    <tr>\n",
       "      <th>4</th>\n",
       "      <td>C57Bl/6J</td>\n",
       "      <td>M</td>\n",
       "      <td>25.702118</td>\n",
       "    </tr>\n",
       "    <tr>\n",
       "      <th>...</th>\n",
       "      <td>...</td>\n",
       "      <td>...</td>\n",
       "      <td>...</td>\n",
       "    </tr>\n",
       "    <tr>\n",
       "      <th>297</th>\n",
       "      <td>DBA/2J</td>\n",
       "      <td>M</td>\n",
       "      <td>32.848227</td>\n",
       "    </tr>\n",
       "    <tr>\n",
       "      <th>298</th>\n",
       "      <td>DBA/2J</td>\n",
       "      <td>M</td>\n",
       "      <td>29.093883</td>\n",
       "    </tr>\n",
       "    <tr>\n",
       "      <th>299</th>\n",
       "      <td>DBA/2J</td>\n",
       "      <td>M</td>\n",
       "      <td>27.920858</td>\n",
       "    </tr>\n",
       "    <tr>\n",
       "      <th>314</th>\n",
       "      <td>DBA/2J</td>\n",
       "      <td>F</td>\n",
       "      <td>25.661969</td>\n",
       "    </tr>\n",
       "    <tr>\n",
       "      <th>356</th>\n",
       "      <td>DBA/2J</td>\n",
       "      <td>F</td>\n",
       "      <td>25.609933</td>\n",
       "    </tr>\n",
       "  </tbody>\n",
       "</table>\n",
       "<p>171 rows × 3 columns</p>\n",
       "</div>"
      ],
      "text/plain": [
       "       strain sex     weight\n",
       "0    C57Bl/6J   M  27.596753\n",
       "1    C57Bl/6J   M  29.635837\n",
       "2    C57Bl/6J   M  28.460685\n",
       "3    C57Bl/6J   M  29.248225\n",
       "4    C57Bl/6J   M  25.702118\n",
       "..        ...  ..        ...\n",
       "297    DBA/2J   M  32.848227\n",
       "298    DBA/2J   M  29.093883\n",
       "299    DBA/2J   M  27.920858\n",
       "314    DBA/2J   F  25.661969\n",
       "356    DBA/2J   F  25.609933\n",
       "\n",
       "[171 rows x 3 columns]"
      ]
     },
     "execution_count": 39,
     "metadata": {},
     "output_type": "execute_result"
    }
   ],
   "source": [
    "# How would you find all mice with weights greater than 25?\n",
    "\n",
    "mouseDF[mouseDF['weight'] > 25]\n",
    "\n",
    "# NOTE: 171 rows were returned out of the 400 mice."
   ]
  },
  {
   "cell_type": "code",
   "execution_count": 38,
   "metadata": {
    "cell_id": "809f840ce3ff4d65be04ea8be73c72eb",
    "deepnote_cell_type": "code",
    "deepnote_to_be_reexecuted": false,
    "execution_millis": 6,
    "execution_start": 1677530315444,
    "source_hash": "8cb27d08",
    "tags": []
   },
   "outputs": [
    {
     "data": {
      "text/plain": [
       "0       True\n",
       "1       True\n",
       "2       True\n",
       "3       True\n",
       "4       True\n",
       "       ...  \n",
       "395    False\n",
       "396    False\n",
       "397    False\n",
       "398    False\n",
       "399    False\n",
       "Name: weight, Length: 400, dtype: bool"
      ]
     },
     "execution_count": 38,
     "metadata": {},
     "output_type": "execute_result"
    }
   ],
   "source": [
    "# Let's break it down here.\n",
    "\n",
    "# This creates a boolean Series (basically a bitmask) such that a True corresponds to a \n",
    "# row where the condition (weight > 25) holds, and False otherwise.\n",
    "mouseDF['weight'] > 25\n",
    "\n",
    "\n",
    "# Passing this bitmask into the square brackets tells the DataFrame to only return the rows of data that\n",
    "# correspond with the rows in the bitmap that are True."
   ]
  },
  {
   "cell_type": "code",
   "execution_count": 40,
   "metadata": {
    "cell_id": "37fce74dc5bb43788fba0190c547b84f",
    "deepnote_cell_type": "code",
    "deepnote_to_be_reexecuted": false,
    "execution_millis": 3,
    "execution_start": 1677530315495,
    "source_hash": "9c70b5f",
    "tags": []
   },
   "outputs": [
    {
     "data": {
      "text/html": [
       "<div>\n",
       "<style scoped>\n",
       "    .dataframe tbody tr th:only-of-type {\n",
       "        vertical-align: middle;\n",
       "    }\n",
       "\n",
       "    .dataframe tbody tr th {\n",
       "        vertical-align: top;\n",
       "    }\n",
       "\n",
       "    .dataframe thead th {\n",
       "        text-align: right;\n",
       "    }\n",
       "</style>\n",
       "<table border=\"1\" class=\"dataframe\">\n",
       "  <thead>\n",
       "    <tr style=\"text-align: right;\">\n",
       "      <th></th>\n",
       "      <th>strain</th>\n",
       "      <th>sex</th>\n",
       "      <th>weight</th>\n",
       "    </tr>\n",
       "  </thead>\n",
       "  <tbody>\n",
       "    <tr>\n",
       "      <th>216</th>\n",
       "      <td>DBA/2J</td>\n",
       "      <td>M</td>\n",
       "      <td>20.948356</td>\n",
       "    </tr>\n",
       "    <tr>\n",
       "      <th>226</th>\n",
       "      <td>DBA/2J</td>\n",
       "      <td>M</td>\n",
       "      <td>21.997478</td>\n",
       "    </tr>\n",
       "    <tr>\n",
       "      <th>244</th>\n",
       "      <td>DBA/2J</td>\n",
       "      <td>M</td>\n",
       "      <td>21.001669</td>\n",
       "    </tr>\n",
       "    <tr>\n",
       "      <th>267</th>\n",
       "      <td>DBA/2J</td>\n",
       "      <td>M</td>\n",
       "      <td>20.988524</td>\n",
       "    </tr>\n",
       "  </tbody>\n",
       "</table>\n",
       "</div>"
      ],
      "text/plain": [
       "     strain sex     weight\n",
       "216  DBA/2J   M  20.948356\n",
       "226  DBA/2J   M  21.997478\n",
       "244  DBA/2J   M  21.001669\n",
       "267  DBA/2J   M  20.988524"
      ]
     },
     "execution_count": 40,
     "metadata": {},
     "output_type": "execute_result"
    }
   ],
   "source": [
    "# Let's try a trickier one...select all mice who are male AND have a weight *below* 22.\n",
    "\n",
    "mouseDF[(mouseDF['weight'] < 22) & (mouseDF['sex'] == 'M')]\n",
    "\n",
    "# We need to use the bitwise AND operator (a single ampersand) to combine the bitmap from each of the\n",
    "# subexpressions. It's important that both subexpression are wrapped in parentheses, otherwise \n",
    "# Bad Things Will Happen (TM). If we want to OR two bitmaps, we use | (single pipe)."
   ]
  },
  {
   "cell_type": "code",
   "execution_count": 42,
   "metadata": {
    "scrolled": true
   },
   "outputs": [
    {
     "ename": "TypeError",
     "evalue": "Cannot perform 'rand_' with a dtyped [object] array and scalar of type [bool]",
     "output_type": "error",
     "traceback": [
      "\u001b[0;31m---------------------------------------------------------------------------\u001b[0m",
      "\u001b[0;31mTypeError\u001b[0m                                 Traceback (most recent call last)",
      "File \u001b[0;32m~/python3.12/lib/python3.12/site-packages/pandas/core/ops/array_ops.py:362\u001b[0m, in \u001b[0;36mna_logical_op\u001b[0;34m(x, y, op)\u001b[0m\n\u001b[1;32m    353\u001b[0m \u001b[38;5;28;01mtry\u001b[39;00m:\n\u001b[1;32m    354\u001b[0m     \u001b[38;5;66;03m# For exposition, write:\u001b[39;00m\n\u001b[1;32m    355\u001b[0m     \u001b[38;5;66;03m#  yarr = isinstance(y, np.ndarray)\u001b[39;00m\n\u001b[0;32m   (...)\u001b[0m\n\u001b[1;32m    360\u001b[0m     \u001b[38;5;66;03m# Then Cases where this goes through without raising include:\u001b[39;00m\n\u001b[1;32m    361\u001b[0m     \u001b[38;5;66;03m#  (xint or xbool) and (yint or bool)\u001b[39;00m\n\u001b[0;32m--> 362\u001b[0m     result \u001b[38;5;241m=\u001b[39m \u001b[43mop\u001b[49m\u001b[43m(\u001b[49m\u001b[43mx\u001b[49m\u001b[43m,\u001b[49m\u001b[43m \u001b[49m\u001b[43my\u001b[49m\u001b[43m)\u001b[49m\n\u001b[1;32m    363\u001b[0m \u001b[38;5;28;01mexcept\u001b[39;00m \u001b[38;5;167;01mTypeError\u001b[39;00m:\n",
      "File \u001b[0;32m~/python3.12/lib/python3.12/site-packages/pandas/core/roperator.py:54\u001b[0m, in \u001b[0;36mrand_\u001b[0;34m(left, right)\u001b[0m\n\u001b[1;32m     53\u001b[0m \u001b[38;5;28;01mdef\u001b[39;00m\u001b[38;5;250m \u001b[39m\u001b[38;5;21mrand_\u001b[39m(left, right):\n\u001b[0;32m---> 54\u001b[0m     \u001b[38;5;28;01mreturn\u001b[39;00m \u001b[43moperator\u001b[49m\u001b[38;5;241;43m.\u001b[39;49m\u001b[43mand_\u001b[49m\u001b[43m(\u001b[49m\u001b[43mright\u001b[49m\u001b[43m,\u001b[49m\u001b[43m \u001b[49m\u001b[43mleft\u001b[49m\u001b[43m)\u001b[49m\n",
      "\u001b[0;31mTypeError\u001b[0m: unsupported operand type(s) for &: 'int' and 'str'",
      "\nDuring handling of the above exception, another exception occurred:\n",
      "\u001b[0;31mTypeError\u001b[0m                                 Traceback (most recent call last)",
      "File \u001b[0;32m~/python3.12/lib/python3.12/site-packages/pandas/core/ops/array_ops.py:376\u001b[0m, in \u001b[0;36mna_logical_op\u001b[0;34m(x, y, op)\u001b[0m\n\u001b[1;32m    375\u001b[0m \u001b[38;5;28;01mtry\u001b[39;00m:\n\u001b[0;32m--> 376\u001b[0m     result \u001b[38;5;241m=\u001b[39m \u001b[43mlibops\u001b[49m\u001b[38;5;241;43m.\u001b[39;49m\u001b[43mscalar_binop\u001b[49m\u001b[43m(\u001b[49m\u001b[43mx\u001b[49m\u001b[43m,\u001b[49m\u001b[43m \u001b[49m\u001b[43my\u001b[49m\u001b[43m,\u001b[49m\u001b[43m \u001b[49m\u001b[43mop\u001b[49m\u001b[43m)\u001b[49m\n\u001b[1;32m    377\u001b[0m \u001b[38;5;28;01mexcept\u001b[39;00m (\n\u001b[1;32m    378\u001b[0m     \u001b[38;5;167;01mTypeError\u001b[39;00m,\n\u001b[1;32m    379\u001b[0m     \u001b[38;5;167;01mValueError\u001b[39;00m,\n\u001b[0;32m   (...)\u001b[0m\n\u001b[1;32m    382\u001b[0m     \u001b[38;5;167;01mNotImplementedError\u001b[39;00m,\n\u001b[1;32m    383\u001b[0m ) \u001b[38;5;28;01mas\u001b[39;00m err:\n",
      "File \u001b[0;32mops.pyx:210\u001b[0m, in \u001b[0;36mpandas._libs.ops.scalar_binop\u001b[0;34m()\u001b[0m\n",
      "File \u001b[0;32m~/python3.12/lib/python3.12/site-packages/pandas/core/roperator.py:54\u001b[0m, in \u001b[0;36mrand_\u001b[0;34m(left, right)\u001b[0m\n\u001b[1;32m     53\u001b[0m \u001b[38;5;28;01mdef\u001b[39;00m\u001b[38;5;250m \u001b[39m\u001b[38;5;21mrand_\u001b[39m(left, right):\n\u001b[0;32m---> 54\u001b[0m     \u001b[38;5;28;01mreturn\u001b[39;00m \u001b[43moperator\u001b[49m\u001b[38;5;241;43m.\u001b[39;49m\u001b[43mand_\u001b[49m\u001b[43m(\u001b[49m\u001b[43mright\u001b[49m\u001b[43m,\u001b[49m\u001b[43m \u001b[49m\u001b[43mleft\u001b[49m\u001b[43m)\u001b[49m\n",
      "\u001b[0;31mTypeError\u001b[0m: unsupported operand type(s) for &: 'bool' and 'str'",
      "\nThe above exception was the direct cause of the following exception:\n",
      "\u001b[0;31mTypeError\u001b[0m                                 Traceback (most recent call last)",
      "Cell \u001b[0;32mIn[42], line 1\u001b[0m\n\u001b[0;32m----> 1\u001b[0m mouseDF[mouseDF[\u001b[38;5;124m'\u001b[39m\u001b[38;5;124mweight\u001b[39m\u001b[38;5;124m'\u001b[39m] \u001b[38;5;241m<\u001b[39m \u001b[38;5;241;43m22\u001b[39;49m\u001b[43m \u001b[49m\u001b[38;5;241;43m&\u001b[39;49m\u001b[43m \u001b[49m\u001b[43mmouseDF\u001b[49m\u001b[43m[\u001b[49m\u001b[38;5;124;43m'\u001b[39;49m\u001b[38;5;124;43msex\u001b[39;49m\u001b[38;5;124;43m'\u001b[39;49m\u001b[43m]\u001b[49m \u001b[38;5;241m==\u001b[39m \u001b[38;5;124m'\u001b[39m\u001b[38;5;124mM\u001b[39m\u001b[38;5;124m'\u001b[39m]\n",
      "File \u001b[0;32m~/python3.12/lib/python3.12/site-packages/pandas/core/ops/common.py:76\u001b[0m, in \u001b[0;36m_unpack_zerodim_and_defer.<locals>.new_method\u001b[0;34m(self, other)\u001b[0m\n\u001b[1;32m     72\u001b[0m             \u001b[38;5;28;01mreturn\u001b[39;00m \u001b[38;5;28mNotImplemented\u001b[39m\n\u001b[1;32m     74\u001b[0m other \u001b[38;5;241m=\u001b[39m item_from_zerodim(other)\n\u001b[0;32m---> 76\u001b[0m \u001b[38;5;28;01mreturn\u001b[39;00m \u001b[43mmethod\u001b[49m\u001b[43m(\u001b[49m\u001b[38;5;28;43mself\u001b[39;49m\u001b[43m,\u001b[49m\u001b[43m \u001b[49m\u001b[43mother\u001b[49m\u001b[43m)\u001b[49m\n",
      "File \u001b[0;32m~/python3.12/lib/python3.12/site-packages/pandas/core/arraylike.py:74\u001b[0m, in \u001b[0;36mOpsMixin.__rand__\u001b[0;34m(self, other)\u001b[0m\n\u001b[1;32m     72\u001b[0m \u001b[38;5;129m@unpack_zerodim_and_defer\u001b[39m(\u001b[38;5;124m\"\u001b[39m\u001b[38;5;124m__rand__\u001b[39m\u001b[38;5;124m\"\u001b[39m)\n\u001b[1;32m     73\u001b[0m \u001b[38;5;28;01mdef\u001b[39;00m\u001b[38;5;250m \u001b[39m\u001b[38;5;21m__rand__\u001b[39m(\u001b[38;5;28mself\u001b[39m, other):\n\u001b[0;32m---> 74\u001b[0m     \u001b[38;5;28;01mreturn\u001b[39;00m \u001b[38;5;28;43mself\u001b[39;49m\u001b[38;5;241;43m.\u001b[39;49m\u001b[43m_logical_method\u001b[49m\u001b[43m(\u001b[49m\u001b[43mother\u001b[49m\u001b[43m,\u001b[49m\u001b[43m \u001b[49m\u001b[43mroperator\u001b[49m\u001b[38;5;241;43m.\u001b[39;49m\u001b[43mrand_\u001b[49m\u001b[43m)\u001b[49m\n",
      "File \u001b[0;32m~/python3.12/lib/python3.12/site-packages/pandas/core/series.py:6130\u001b[0m, in \u001b[0;36mSeries._logical_method\u001b[0;34m(self, other, op)\u001b[0m\n\u001b[1;32m   6127\u001b[0m lvalues \u001b[38;5;241m=\u001b[39m \u001b[38;5;28mself\u001b[39m\u001b[38;5;241m.\u001b[39m_values\n\u001b[1;32m   6128\u001b[0m rvalues \u001b[38;5;241m=\u001b[39m extract_array(other, extract_numpy\u001b[38;5;241m=\u001b[39m\u001b[38;5;28;01mTrue\u001b[39;00m, extract_range\u001b[38;5;241m=\u001b[39m\u001b[38;5;28;01mTrue\u001b[39;00m)\n\u001b[0;32m-> 6130\u001b[0m res_values \u001b[38;5;241m=\u001b[39m \u001b[43mops\u001b[49m\u001b[38;5;241;43m.\u001b[39;49m\u001b[43mlogical_op\u001b[49m\u001b[43m(\u001b[49m\u001b[43mlvalues\u001b[49m\u001b[43m,\u001b[49m\u001b[43m \u001b[49m\u001b[43mrvalues\u001b[49m\u001b[43m,\u001b[49m\u001b[43m \u001b[49m\u001b[43mop\u001b[49m\u001b[43m)\u001b[49m\n\u001b[1;32m   6131\u001b[0m \u001b[38;5;28;01mreturn\u001b[39;00m \u001b[38;5;28mself\u001b[39m\u001b[38;5;241m.\u001b[39m_construct_result(res_values, name\u001b[38;5;241m=\u001b[39mres_name)\n",
      "File \u001b[0;32m~/python3.12/lib/python3.12/site-packages/pandas/core/ops/array_ops.py:454\u001b[0m, in \u001b[0;36mlogical_op\u001b[0;34m(left, right, op)\u001b[0m\n\u001b[1;32m    450\u001b[0m \u001b[38;5;28;01melse\u001b[39;00m:\n\u001b[1;32m    451\u001b[0m     \u001b[38;5;66;03m# i.e. scalar\u001b[39;00m\n\u001b[1;32m    452\u001b[0m     is_other_int_dtype \u001b[38;5;241m=\u001b[39m lib\u001b[38;5;241m.\u001b[39mis_integer(rvalues)\n\u001b[0;32m--> 454\u001b[0m res_values \u001b[38;5;241m=\u001b[39m \u001b[43mna_logical_op\u001b[49m\u001b[43m(\u001b[49m\u001b[43mlvalues\u001b[49m\u001b[43m,\u001b[49m\u001b[43m \u001b[49m\u001b[43mrvalues\u001b[49m\u001b[43m,\u001b[49m\u001b[43m \u001b[49m\u001b[43mop\u001b[49m\u001b[43m)\u001b[49m\n\u001b[1;32m    456\u001b[0m \u001b[38;5;66;03m# For int vs int `^`, `|`, `&` are bitwise operators and return\u001b[39;00m\n\u001b[1;32m    457\u001b[0m \u001b[38;5;66;03m#   integer dtypes.  Otherwise these are boolean ops\u001b[39;00m\n\u001b[1;32m    458\u001b[0m \u001b[38;5;28;01mif\u001b[39;00m \u001b[38;5;129;01mnot\u001b[39;00m (left\u001b[38;5;241m.\u001b[39mdtype\u001b[38;5;241m.\u001b[39mkind \u001b[38;5;129;01min\u001b[39;00m \u001b[38;5;124m\"\u001b[39m\u001b[38;5;124miu\u001b[39m\u001b[38;5;124m\"\u001b[39m \u001b[38;5;129;01mand\u001b[39;00m is_other_int_dtype):\n",
      "File \u001b[0;32m~/python3.12/lib/python3.12/site-packages/pandas/core/ops/array_ops.py:385\u001b[0m, in \u001b[0;36mna_logical_op\u001b[0;34m(x, y, op)\u001b[0m\n\u001b[1;32m    377\u001b[0m         \u001b[38;5;28;01mexcept\u001b[39;00m (\n\u001b[1;32m    378\u001b[0m             \u001b[38;5;167;01mTypeError\u001b[39;00m,\n\u001b[1;32m    379\u001b[0m             \u001b[38;5;167;01mValueError\u001b[39;00m,\n\u001b[0;32m   (...)\u001b[0m\n\u001b[1;32m    382\u001b[0m             \u001b[38;5;167;01mNotImplementedError\u001b[39;00m,\n\u001b[1;32m    383\u001b[0m         ) \u001b[38;5;28;01mas\u001b[39;00m err:\n\u001b[1;32m    384\u001b[0m             typ \u001b[38;5;241m=\u001b[39m \u001b[38;5;28mtype\u001b[39m(y)\u001b[38;5;241m.\u001b[39m\u001b[38;5;18m__name__\u001b[39m\n\u001b[0;32m--> 385\u001b[0m             \u001b[38;5;28;01mraise\u001b[39;00m \u001b[38;5;167;01mTypeError\u001b[39;00m(\n\u001b[1;32m    386\u001b[0m                 \u001b[38;5;124mf\u001b[39m\u001b[38;5;124m\"\u001b[39m\u001b[38;5;124mCannot perform \u001b[39m\u001b[38;5;124m'\u001b[39m\u001b[38;5;132;01m{\u001b[39;00mop\u001b[38;5;241m.\u001b[39m\u001b[38;5;18m__name__\u001b[39m\u001b[38;5;132;01m}\u001b[39;00m\u001b[38;5;124m'\u001b[39m\u001b[38;5;124m with a dtyped [\u001b[39m\u001b[38;5;132;01m{\u001b[39;00mx\u001b[38;5;241m.\u001b[39mdtype\u001b[38;5;132;01m}\u001b[39;00m\u001b[38;5;124m] array \u001b[39m\u001b[38;5;124m\"\u001b[39m\n\u001b[1;32m    387\u001b[0m                 \u001b[38;5;124mf\u001b[39m\u001b[38;5;124m\"\u001b[39m\u001b[38;5;124mand scalar of type [\u001b[39m\u001b[38;5;132;01m{\u001b[39;00mtyp\u001b[38;5;132;01m}\u001b[39;00m\u001b[38;5;124m]\u001b[39m\u001b[38;5;124m\"\u001b[39m\n\u001b[1;32m    388\u001b[0m             ) \u001b[38;5;28;01mfrom\u001b[39;00m\u001b[38;5;250m \u001b[39m\u001b[38;5;21;01merr\u001b[39;00m\n\u001b[1;32m    390\u001b[0m \u001b[38;5;28;01mreturn\u001b[39;00m result\u001b[38;5;241m.\u001b[39mreshape(x\u001b[38;5;241m.\u001b[39mshape)\n",
      "\u001b[0;31mTypeError\u001b[0m: Cannot perform 'rand_' with a dtyped [object] array and scalar of type [bool]"
     ]
    }
   ],
   "source": [
    "mouseDF[mouseDF['weight'] < 22 & mouseDF['sex'] == 'M'] # <- Don't forget the parentheses!"
   ]
  },
  {
   "cell_type": "code",
   "execution_count": 43,
   "metadata": {
    "cell_id": "b4b01714aa1c4e6cae9a651cca7e5f54",
    "deepnote_cell_type": "code",
    "deepnote_to_be_reexecuted": false,
    "execution_millis": 45,
    "execution_start": 1677530315496,
    "source_hash": "3b8f8f65",
    "tags": []
   },
   "outputs": [
    {
     "data": {
      "text/html": [
       "<div>\n",
       "<style scoped>\n",
       "    .dataframe tbody tr th:only-of-type {\n",
       "        vertical-align: middle;\n",
       "    }\n",
       "\n",
       "    .dataframe tbody tr th {\n",
       "        vertical-align: top;\n",
       "    }\n",
       "\n",
       "    .dataframe thead th {\n",
       "        text-align: right;\n",
       "    }\n",
       "</style>\n",
       "<table border=\"1\" class=\"dataframe\">\n",
       "  <thead>\n",
       "    <tr style=\"text-align: right;\">\n",
       "      <th></th>\n",
       "      <th>strain</th>\n",
       "      <th>sex</th>\n",
       "      <th>weight</th>\n",
       "    </tr>\n",
       "  </thead>\n",
       "  <tbody>\n",
       "  </tbody>\n",
       "</table>\n",
       "</div>"
      ],
      "text/plain": [
       "Empty DataFrame\n",
       "Columns: [strain, sex, weight]\n",
       "Index: []"
      ]
     },
     "execution_count": 43,
     "metadata": {},
     "output_type": "execute_result"
    }
   ],
   "source": [
    "# Find missing weights  (there is no missing data in mouseDF, so this' isn't interesting here):\n",
    "mouseDF[mouseDF['weight'].isna()]\n"
   ]
  },
  {
   "cell_type": "code",
   "execution_count": 44,
   "metadata": {
    "cell_id": "575ab36a5bdf4829b1250273e07daba5",
    "deepnote_cell_type": "code",
    "deepnote_to_be_reexecuted": false,
    "execution_millis": 2,
    "execution_start": 1677530315540,
    "source_hash": "4e6d3b75",
    "tags": []
   },
   "outputs": [
    {
     "data": {
      "text/html": [
       "<div>\n",
       "<style scoped>\n",
       "    .dataframe tbody tr th:only-of-type {\n",
       "        vertical-align: middle;\n",
       "    }\n",
       "\n",
       "    .dataframe tbody tr th {\n",
       "        vertical-align: top;\n",
       "    }\n",
       "\n",
       "    .dataframe thead th {\n",
       "        text-align: right;\n",
       "    }\n",
       "</style>\n",
       "<table border=\"1\" class=\"dataframe\">\n",
       "  <thead>\n",
       "    <tr style=\"text-align: right;\">\n",
       "      <th></th>\n",
       "      <th>strain</th>\n",
       "      <th>sex</th>\n",
       "      <th>weight</th>\n",
       "    </tr>\n",
       "  </thead>\n",
       "  <tbody>\n",
       "  </tbody>\n",
       "</table>\n",
       "</div>"
      ],
      "text/plain": [
       "Empty DataFrame\n",
       "Columns: [strain, sex, weight]\n",
       "Index: []"
      ]
     },
     "execution_count": 44,
     "metadata": {},
     "output_type": "execute_result"
    }
   ],
   "source": [
    "# Find rows where at least one column value is missing:\n",
    "mouseDF[ mouseDF.isna().any(axis=1) ]\n",
    "\n",
    "# The `axis=1` tells the any() method to aggregate across the columns in each row."
   ]
  },
  {
   "cell_type": "code",
   "execution_count": null,
   "metadata": {
    "cell_id": "ae2cf0f1e30c4262ab82df0af1f586ec",
    "deepnote_cell_type": "code",
    "deepnote_to_be_reexecuted": false,
    "execution_millis": 3,
    "execution_start": 1677530315563,
    "source_hash": "217aba05",
    "tags": []
   },
   "outputs": [],
   "source": [
    "# Find if a column value is in a list -- not that interesting here, as we only have two \n",
    "# strains and two sexes.\n",
    "\n",
    "mouseDF[mouseDF['strain'].isin(['DBA/2J', 'DBA/2M'])]"
   ]
  },
  {
   "cell_type": "markdown",
   "metadata": {
    "cell_id": "e6345e07aef34494a501fd5e5429f20e",
    "deepnote_cell_type": "markdown",
    "tags": []
   },
   "source": [
    "## Removing data"
   ]
  },
  {
   "cell_type": "code",
   "execution_count": null,
   "metadata": {
    "cell_id": "cbf5386a4e60499c934cdb156abf6fdd",
    "deepnote_cell_type": "code",
    "deepnote_to_be_reexecuted": false,
    "execution_millis": 3,
    "execution_start": 1677530315651,
    "source_hash": "bcd3fd95",
    "tags": []
   },
   "outputs": [],
   "source": [
    "# For the axis parameter -- 1 = column, 0 = row\n",
    "mouseDF.drop('sex', axis=1) # This returns a \"view\" of the DataFrame without the 'sex' column"
   ]
  },
  {
   "cell_type": "code",
   "execution_count": null,
   "metadata": {
    "cell_id": "a2fe7e9ab16e4bc5be1633aefd4508f2",
    "deepnote_cell_type": "code",
    "deepnote_to_be_reexecuted": false,
    "execution_millis": 23,
    "execution_start": 1677530315652,
    "source_hash": "e6dbda95",
    "tags": []
   },
   "outputs": [],
   "source": [
    "# The original data is unaltered, though:\n",
    "mouseDF"
   ]
  },
  {
   "cell_type": "code",
   "execution_count": null,
   "metadata": {
    "cell_id": "489d9d55f32440b78e532be6ed2e9dc9",
    "deepnote_cell_type": "code",
    "deepnote_to_be_reexecuted": false,
    "execution_millis": 4,
    "execution_start": 1677530315674,
    "source_hash": "ca1cdeb2",
    "tags": []
   },
   "outputs": [],
   "source": [
    "# You can also remove data in place. \n",
    "# Here, I'm making a copy of mouseDF first so I can use the original data later.\n",
    "mouseDF2 = mouseDF.copy()\n",
    "mouseDF2.drop('sex', axis=1, inplace=True)\n",
    "mouseDF2"
   ]
  },
  {
   "cell_type": "code",
   "execution_count": null,
   "metadata": {
    "cell_id": "43f07e4219a346d7a170930d55d6f008",
    "deepnote_cell_type": "code",
    "deepnote_to_be_reexecuted": false,
    "execution_millis": 48,
    "execution_start": 1677530315723,
    "source_hash": "72615894",
    "tags": []
   },
   "outputs": [],
   "source": [
    "# You can drop just missing data. We will discuss dealing with missing data in \n",
    "# more detail later -- this is but one option, and is not necessarily the best option.\n",
    "\n",
    "# Drop any row with one or missing value:\n",
    "mouseDF.dropna() \n",
    "# Same as:\n",
    "mouseDF.dropna(how='any', axis=0, inplace=False)\n",
    "\n",
    "# Drop any row missing all values.\n",
    "mouseDF.dropna(how='all', axis=0, inplace=False)\n",
    "\n",
    "# Drop any row missing all values in the columns 'sex' and 'weight'\n",
    "mouseDF.dropna(how='all', axis=0, inplace=False, subset=['weight', 'sex'])\n",
    "\n",
    "# Drop any column with at least one missing value:\n",
    "mouseDF.dropna(how='any', axis=1, inplace=False)"
   ]
  },
  {
   "cell_type": "markdown",
   "metadata": {
    "cell_id": "9059723b3af241c4955fe8dcf32e5840",
    "deepnote_cell_type": "markdown",
    "tags": []
   },
   "source": [
    "## Working with data"
   ]
  },
  {
   "cell_type": "code",
   "execution_count": null,
   "metadata": {
    "cell_id": "b8d66490f2a54a0f8168f5eb642bdb80",
    "deepnote_cell_type": "code",
    "deepnote_to_be_reexecuted": false,
    "execution_millis": 4,
    "execution_start": 1677530315769,
    "source_hash": "114515d4",
    "tags": []
   },
   "outputs": [],
   "source": [
    "maxWeight = mouseDF['weight'].max()\n",
    "minWeight = mouseDF['weight'].min()\n",
    "\n",
    "# Here's an example of broadcasting\n",
    "# -- scalar values (that's what we call single values vs. structured values like lists or dictionaries) \n",
    "# are *broadcast* along the dimension of a Series.\n",
    "mouseDF['scaledWeight'] = (maxWeight - mouseDF['weight'])/(maxWeight-minWeight)\n",
    "mouseDF"
   ]
  },
  {
   "cell_type": "code",
   "execution_count": null,
   "metadata": {
    "cell_id": "f42ca1702aec43fab4ee4c18d639fa91",
    "deepnote_cell_type": "code",
    "deepnote_to_be_reexecuted": false,
    "execution_millis": 3,
    "execution_start": 1677530315815,
    "source_hash": "2efe3aa6",
    "tags": []
   },
   "outputs": [],
   "source": [
    "# You can also broadcast scalar values across an entire DataFrame:\n",
    "# We can perform row-wise operations on Series. The following\n",
    "# adds the value of mouseDF['weight'][i] with mouseDF['scaledWeight'][i] \n",
    "# for each i in len(mouseDF)\n",
    "mouseDF['weight'] + mouseDF['scaledWeight']"
   ]
  },
  {
   "cell_type": "code",
   "execution_count": null,
   "metadata": {
    "cell_id": "5f4acc3c032c4c2a85dfacb5d2384f5f",
    "deepnote_cell_type": "code",
    "deepnote_to_be_reexecuted": false,
    "execution_millis": 2,
    "execution_start": 1677530315816,
    "source_hash": "47d503aa",
    "tags": []
   },
   "outputs": [],
   "source": [
    "# We can also do it like this.\n",
    "mouseDF['weight'].add(mouseDF['scaledWeight'])"
   ]
  },
  {
   "cell_type": "markdown",
   "metadata": {
    "cell_id": "4e8a8e03a56040f0acaa03bb1cafa3f9",
    "deepnote_cell_type": "markdown",
    "tags": []
   },
   "source": [
    "You can do some other cool things with `add()`, `sub()`, `mul()`, `div()`, `mod()`, `pow()` with DataFrames—[check out this documentation on add](https://pandas.pydata.org/pandas-docs/stable/reference/api/pandas.DataFrame.add.html?highlight=add)."
   ]
  },
  {
   "cell_type": "code",
   "execution_count": null,
   "metadata": {
    "cell_id": "4d9f430220814360baf517045d5071a6",
    "deepnote_cell_type": "code",
    "deepnote_to_be_reexecuted": false,
    "execution_millis": 21,
    "execution_start": 1677530315863,
    "source_hash": "cec2e9b1",
    "tags": []
   },
   "outputs": [],
   "source": [
    "# Apply a function to every element in a Series (this is slow!):\n",
    "mouseDF['weight'].apply(lambda elem: (6-elem)/2)"
   ]
  },
  {
   "cell_type": "code",
   "execution_count": null,
   "metadata": {
    "cell_id": "5e64bce9cfb7488bb75548e29dc0888c",
    "deepnote_cell_type": "code",
    "deepnote_to_be_reexecuted": false,
    "execution_start": 1677530315864,
    "source_hash": "277437ff",
    "tags": []
   },
   "outputs": [],
   "source": [
    "# With DataFrame, we can apply a function to every row or column:\n",
    "mouseDF.apply(lambda row: row['weight']/(row['scaledWeight']+2),axis=1)"
   ]
  },
  {
   "cell_type": "markdown",
   "metadata": {
    "cell_id": "2f4e7eae8308469691f535e9340008a6",
    "deepnote_cell_type": "markdown",
    "tags": []
   },
   "source": [
    "## Sorting"
   ]
  },
  {
   "cell_type": "code",
   "execution_count": null,
   "metadata": {
    "cell_id": "f6bcfb7fa80148d4a123ce0398f887e6",
    "deepnote_cell_type": "code",
    "deepnote_to_be_reexecuted": false,
    "execution_millis": 23,
    "execution_start": 1677530315864,
    "source_hash": "5a410a1c",
    "tags": []
   },
   "outputs": [],
   "source": [
    " # Sort the DataFrame rows by weight.\n",
    " mouseDF.sort_values(['weight'])"
   ]
  },
  {
   "cell_type": "markdown",
   "metadata": {
    "cell_id": "fd39883eb74649b285bd4467ba1e17e9",
    "deepnote_cell_type": "markdown",
    "tags": []
   },
   "source": [
    "## Grouping\n",
    "\n",
    "Follows a \"split-apply-combine\" model. This is similar to the group by in SQL and pivot table in Excel."
   ]
  },
  {
   "cell_type": "code",
   "execution_count": null,
   "metadata": {
    "cell_id": "92d60bec74d440c98618d36b99a5aa1e",
    "deepnote_cell_type": "code",
    "deepnote_to_be_reexecuted": false,
    "execution_millis": 4,
    "execution_start": 1677530315947,
    "source_hash": "fcd57b51",
    "tags": []
   },
   "outputs": [],
   "source": [
    "# Split\n",
    "groupedByStrain = mouseDF[['strain', 'weight', 'scaledWeight']].groupby('strain')\n",
    "\n",
    "# Apply\n",
    "groupedByStrain.agg(['min', 'mean', 'max'])"
   ]
  },
  {
   "cell_type": "markdown",
   "metadata": {
    "cell_id": "394afe78aa6b4990910159de31b9ceb6",
    "deepnote_cell_type": "markdown",
    "tags": []
   },
   "source": [
    "### Activity\n",
    "\n",
    "Let's load in one of the Apache files and see what we can do with it..."
   ]
  },
  {
   "cell_type": "code",
   "execution_count": null,
   "metadata": {
    "cell_id": "42a07497c35347ef80e33d45596b2406",
    "deepnote_cell_type": "code",
    "deepnote_to_be_reexecuted": false,
    "execution_millis": 1,
    "execution_start": 1677530315995,
    "source_hash": "cf445ff5",
    "tags": []
   },
   "outputs": [],
   "source": [
    "# TODO"
   ]
  }
 ],
 "metadata": {
  "deepnote_execution_queue": [],
  "deepnote_notebook_id": "8e90b6c721ca461cb8994d4578a90c30",
  "kernelspec": {
   "display_name": "Python 3 (ipykernel)",
   "language": "python",
   "name": "python3"
  },
  "language_info": {
   "codemirror_mode": {
    "name": "ipython",
    "version": 3
   },
   "file_extension": ".py",
   "mimetype": "text/x-python",
   "name": "python",
   "nbconvert_exporter": "python",
   "pygments_lexer": "ipython3",
   "version": "3.12.3"
  }
 },
 "nbformat": 4,
 "nbformat_minor": 4
}
