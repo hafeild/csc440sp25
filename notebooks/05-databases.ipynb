{
 "cells": [
  {
   "cell_type": "markdown",
   "metadata": {
    "cell_id": "557e03db25824551b4988a3ad324a0a5",
    "deepnote_cell_type": "markdown"
   },
   "source": [
    "# SQL in Python\n",
    "\n",
    "In this example, we'll connect to an SQLite3 database—SQLite is a light-weight DMBS. This exact code may not work with other DBMSs (e.g., MySQL, SQL Server, Oracle, etc.), but something similar should work. Different databases support different flavors of SQL (column types are a big difference), but again, the example below should work with other DBMSs with slight modifications.\n",
    "\n",
    "This demonstration uses a benchmark/testing database called Chinook that consists of data pulled from iTunes. [Check out the GitHub page if you want to learn more](https://github.com/lerocha/chinook-database).\n",
    "\n",
    "Here is the entity-relation diagram (ERD):\n",
    "\n",
    "![Picture title](chinook-erd.png)"
   ]
  },
  {
   "cell_type": "code",
   "execution_count": 2,
   "metadata": {
    "cell_id": "e5d8df1f59e34e50a6de8402a73d332c",
    "deepnote_cell_type": "code",
    "deepnote_to_be_reexecuted": false,
    "execution_millis": 4,
    "execution_start": 1677076164711,
    "source_hash": "fd7020f6"
   },
   "outputs": [
    {
     "data": {
      "text/plain": [
       "[(1, 'For Those About To Rock We Salute You', 1),\n",
       " (2, 'Balls to the Wall', 2),\n",
       " (3, 'Restless and Wild', 2),\n",
       " (4, 'Let There Be Rock', 1),\n",
       " (5, 'Big Ones', 3),\n",
       " (6, 'Jagged Little Pill', 4),\n",
       " (7, 'Facelift', 5),\n",
       " (8, 'Warner 25 Anos', 6),\n",
       " (9, 'Plays Metallica By Four Cellos', 7),\n",
       " (10, 'Audioslave', 8)]"
      ]
     },
     "execution_count": 2,
     "metadata": {},
     "output_type": "execute_result"
    }
   ],
   "source": [
    "import sqlite3\n",
    "# If you don't have this, install with pip: python3 -m pip install sqlite3\n",
    "\n",
    "# Step 1, make a connection; for sqlite3, we need the name of the database file.\n",
    "connection = sqlite3.connect(\"../data/Chinook_Sqlite.sqlite\")\n",
    "\n",
    "# Step 2, get a cursor.\n",
    "cursor = connection.cursor()\n",
    "\n",
    "# Step 3, execute SQL statement(s).\n",
    "cursor.execute(\"select * from Album limit 10\")\n",
    "# -- for select statements, do something with the results using\n",
    "#   * cursor.fetchone() -- get the first result\n",
    "#   * cursor.fetchmany(n) -- get a list of the first n results\n",
    "#   * cursor.fetchall() -- get a list of all the results\n",
    "cursor.fetchall()\n",
    "\n",
    "\n",
    "# Step 4, commit -- ONLY IF MODIFYING THE DATABASE; skip this step for SELECTs.\n",
    "# connection.commit()\n",
    "\n",
    "# Step 5, close the connection when you're done.\n",
    "# connection.close()\n",
    "\n"
   ]
  },
  {
   "cell_type": "code",
   "execution_count": 3,
   "metadata": {
    "cell_id": "ce194fa5d0fa42338d42b933d4ca658f",
    "deepnote_cell_type": "code",
    "deepnote_to_be_reexecuted": false,
    "execution_millis": 3,
    "execution_start": 1677076164712,
    "source_hash": "c759c619"
   },
   "outputs": [
    {
     "data": {
      "text/plain": [
       "[(1, 'For Those About To Rock We Salute You', 1),\n",
       " (2, 'Balls to the Wall', 2),\n",
       " (3, 'Restless and Wild', 2),\n",
       " (4, 'Let There Be Rock', 1),\n",
       " (5, 'Big Ones', 3),\n",
       " (6, 'Jagged Little Pill', 4),\n",
       " (7, 'Facelift', 5),\n",
       " (8, 'Warner 25 Anos', 6),\n",
       " (9, 'Plays Metallica By Four Cellos', 7),\n",
       " (10, 'Audioslave', 8)]"
      ]
     },
     "execution_count": 3,
     "metadata": {},
     "output_type": "execute_result"
    }
   ],
   "source": [
    "# Get and print the first 10 rows of the Album table.\n",
    "cursor.execute(\"select * from Album\")\n",
    "cursor.fetchmany(10)"
   ]
  },
  {
   "cell_type": "code",
   "execution_count": 4,
   "metadata": {
    "cell_id": "a53d323c80dc4237b471472ace9242fe",
    "deepnote_cell_type": "code",
    "deepnote_to_be_reexecuted": false,
    "execution_millis": 20,
    "execution_start": 1677076164713,
    "source_hash": "7544bd5f"
   },
   "outputs": [
    {
     "data": {
      "text/plain": [
       "[('For Those About To Rock We Salute You',),\n",
       " ('Balls to the Wall',),\n",
       " ('Restless and Wild',),\n",
       " ('Let There Be Rock',),\n",
       " ('Big Ones',),\n",
       " ('Jagged Little Pill',),\n",
       " ('Facelift',),\n",
       " ('Warner 25 Anos',),\n",
       " ('Plays Metallica By Four Cellos',),\n",
       " ('Audioslave',)]"
      ]
     },
     "execution_count": 4,
     "metadata": {},
     "output_type": "execute_result"
    }
   ],
   "source": [
    "# Get just the album titles.\n",
    "cursor.execute(\"select Title from Album\")\n",
    "cursor.fetchmany(10)"
   ]
  },
  {
   "cell_type": "code",
   "execution_count": 21,
   "metadata": {
    "cell_id": "c863b90ac9ee47bca3617e039951fadc",
    "deepnote_cell_type": "code",
    "deepnote_to_be_reexecuted": false,
    "execution_millis": 4,
    "execution_start": 1677076164730,
    "source_hash": "e76803d3"
   },
   "outputs": [
    {
     "data": {
      "text/plain": [
       "[('...And Justice For All',),\n",
       " ('20th Century Masters - The Millennium Collection: The Best of Scorpions',),\n",
       " ('A Copland Celebration, Vol. I',),\n",
       " ('A Matter of Life and Death',),\n",
       " ('A Real Dead One',),\n",
       " ('A Real Live One',),\n",
       " ('A Soprano Inspired',),\n",
       " ('A TempestadeTempestade Ou O Livro Dos Dias',),\n",
       " ('A-Sides',),\n",
       " ('Ace Of Spades',)]"
      ]
     },
     "execution_count": 21,
     "metadata": {},
     "output_type": "execute_result"
    }
   ],
   "source": [
    "# (Question 1)\n",
    "# Order album titles alphabetically.\n"
   ]
  },
  {
   "cell_type": "code",
   "execution_count": 22,
   "metadata": {
    "cell_id": "41bd0d9e20f04a20af70a04c829206a7",
    "deepnote_cell_type": "code",
    "deepnote_to_be_reexecuted": false,
    "execution_millis": 4,
    "execution_start": 1677076164731,
    "source_hash": "e126bbd3",
    "tags": []
   },
   "outputs": [
    {
     "data": {
      "text/plain": [
       "[('[1997] Black Light Syndrome',),\n",
       " ('Zooropa',),\n",
       " ('Worlds',),\n",
       " ('Weill: The Seven Deadly Sins',),\n",
       " ('Warner 25 Anos',),\n",
       " ('War',),\n",
       " ('Walking Into Clarksdale',),\n",
       " ('Wagner: Favourite Overtures',),\n",
       " ('Vs.',),\n",
       " ('Vozes do MPB',)]"
      ]
     },
     "execution_count": 22,
     "metadata": {},
     "output_type": "execute_result"
    }
   ],
   "source": [
    "# Order album titles reverse alphabetically.\n"
   ]
  },
  {
   "cell_type": "code",
   "execution_count": 23,
   "metadata": {
    "cell_id": "da91e7e2e6204f578c361512ad69b9d4",
    "deepnote_cell_type": "code",
    "deepnote_to_be_reexecuted": false,
    "execution_millis": 3,
    "execution_start": 1677076164749,
    "source_hash": "de392511"
   },
   "outputs": [
    {
     "data": {
      "text/plain": [
       "(347,)"
      ]
     },
     "execution_count": 23,
     "metadata": {},
     "output_type": "execute_result"
    }
   ],
   "source": [
    "# How many albums are in the database?\n"
   ]
  },
  {
   "cell_type": "markdown",
   "metadata": {
    "cell_id": "b95013fbe748428d8a0f455024f24acd",
    "deepnote_cell_type": "markdown",
    "tags": []
   },
   "source": [
    "## Joins"
   ]
  },
  {
   "cell_type": "code",
   "execution_count": 24,
   "metadata": {
    "cell_id": "d163d15ebe4440c287ebea7d094b68eb",
    "deepnote_cell_type": "code",
    "deepnote_to_be_reexecuted": false,
    "execution_millis": 0,
    "execution_start": 1677076164750,
    "source_hash": "efa451a7",
    "tags": []
   },
   "outputs": [],
   "source": [
    "# cursor.execute(\"select InvoiceLine.*, Track.Name from InvoiceLine join Track\")\n",
    "# result = cursor.fetchall()\n",
    "# print(len(result))\n",
    "# result[:3]"
   ]
  },
  {
   "cell_type": "code",
   "execution_count": 25,
   "metadata": {
    "cell_id": "42e8cbfcf615451c8c4a41b5fca3bc77",
    "deepnote_cell_type": "code",
    "deepnote_to_be_reexecuted": false,
    "execution_millis": 43,
    "execution_start": 1677076164751,
    "source_hash": "6791b54b",
    "tags": []
   },
   "outputs": [
    {
     "name": "stdout",
     "output_type": "stream",
     "text": [
      "2240\n"
     ]
    },
    {
     "data": {
      "text/plain": [
       "[(1, 1, 2, 0.99, 1, 'Balls to the Wall'),\n",
       " (2, 1, 4, 0.99, 1, 'Restless and Wild'),\n",
       " (3, 2, 6, 0.99, 1, 'Put The Finger On You')]"
      ]
     },
     "execution_count": 25,
     "metadata": {},
     "output_type": "execute_result"
    }
   ],
   "source": [
    "cursor.execute(\"select InvoiceLine.*, Track.Name from InvoiceLine join Track on InvoiceLine.TrackId = Track.TrackId\")\n",
    "result = cursor.fetchall()\n",
    "print(len(result))\n",
    "result[:3]"
   ]
  },
  {
   "cell_type": "code",
   "execution_count": 26,
   "metadata": {
    "cell_id": "13eef434f6e14266809aa1bcf8a1debf",
    "deepnote_cell_type": "code",
    "deepnote_to_be_reexecuted": false,
    "execution_millis": 13,
    "execution_start": 1677076164793,
    "source_hash": "739e3d49"
   },
   "outputs": [
    {
     "data": {
      "text/plain": [
       "[(1, 10),\n",
       " (2, 1),\n",
       " (3, 3),\n",
       " (4, 8),\n",
       " (5, 15),\n",
       " (6, 13),\n",
       " (7, 12),\n",
       " (8, 14),\n",
       " (9, 8),\n",
       " (10, 14)]"
      ]
     },
     "execution_count": 26,
     "metadata": {},
     "output_type": "execute_result"
    }
   ],
   "source": [
    "# How many tracks are there per album?\n",
    "cursor.execute(\"select Album.AlbumId, count(*) \\\n",
    "    from Track join Album \\\n",
    "        on Track.AlbumId = Album.AlbumId \\\n",
    "    group by Album.AlbumId\")\n",
    "cursor.fetchmany(10)"
   ]
  },
  {
   "cell_type": "code",
   "execution_count": 28,
   "metadata": {
    "cell_id": "0900277047c24b33af47b3c5428c1380",
    "deepnote_cell_type": "code",
    "deepnote_to_be_reexecuted": false,
    "execution_millis": 13,
    "execution_start": 1677076211692,
    "source_hash": "af507083"
   },
   "outputs": [
    {
     "data": {
      "text/plain": [
       "[(141, 57),\n",
       " (23, 34),\n",
       " (73, 30),\n",
       " (229, 26),\n",
       " (230, 25),\n",
       " (251, 25),\n",
       " (83, 24),\n",
       " (231, 24),\n",
       " (253, 24),\n",
       " (24, 23)]"
      ]
     },
     "execution_count": 28,
     "metadata": {},
     "output_type": "execute_result"
    }
   ],
   "source": [
    "# Order these by track count, highest first\n",
    "cursor.execute(\"select Album.AlbumId, count(*) as TrackCount  \\\n",
    "    from Track join Album \\\n",
    "        on Track.AlbumId = Album.AlbumId \\\n",
    "    group by Album.AlbumId \\\n",
    "    order by TrackCount desc\")\n",
    "cursor.fetchmany(10)"
   ]
  },
  {
   "cell_type": "code",
   "execution_count": 29,
   "metadata": {
    "cell_id": "94685e49a4c54d83b3980743135c9fba",
    "deepnote_cell_type": "code",
    "deepnote_to_be_reexecuted": false,
    "execution_millis": 4,
    "execution_start": 1677076432832,
    "source_hash": "785cd27f"
   },
   "outputs": [
    {
     "data": {
      "text/plain": [
       "[('Greatest Hits', 141, 57),\n",
       " ('Minha Historia', 23, 34),\n",
       " ('Unplugged', 73, 30),\n",
       " ('Lost, Season 3', 229, 26),\n",
       " ('Lost, Season 1', 230, 25),\n",
       " ('The Office, Season 3', 251, 25),\n",
       " ('My Way: The Best Of Frank Sinatra [Disc 1]', 83, 24),\n",
       " ('Lost, Season 2', 231, 24),\n",
       " ('Battlestar Galactica (Classic), Season 1', 253, 24),\n",
       " ('Afrociberdelia', 24, 23)]"
      ]
     },
     "execution_count": 29,
     "metadata": {},
     "output_type": "execute_result"
    }
   ],
   "source": [
    "# Find the album titles that go with the album ids.\n",
    "cursor.execute(\"select Album.Title, Album.AlbumId, count(*) as TrackCount  \\\n",
    "    from Track join Album \\\n",
    "        on Track.AlbumId = Album.AlbumId \\\n",
    "    group by Album.AlbumId \\\n",
    "    order by TrackCount desc\")\n",
    "cursor.fetchmany(10)"
   ]
  },
  {
   "cell_type": "code",
   "execution_count": 31,
   "metadata": {
    "cell_id": "7329ec449be742afbdd64b23ff8bfd5f",
    "deepnote_cell_type": "code",
    "deepnote_to_be_reexecuted": false,
    "execution_millis": 15,
    "execution_start": 1677076621209,
    "source_hash": "d6fc88c0"
   },
   "outputs": [
    {
     "data": {
      "text/plain": [
       "[('Lenny Kravitz', 'Greatest Hits', 141, 57),\n",
       " ('Chico Buarque', 'Minha Historia', 23, 34),\n",
       " ('Eric Clapton', 'Unplugged', 73, 30),\n",
       " ('Lost', 'Lost, Season 3', 229, 26),\n",
       " ('Lost', 'Lost, Season 1', 230, 25),\n",
       " ('The Office', 'The Office, Season 3', 251, 25),\n",
       " ('Frank Sinatra', 'My Way: The Best Of Frank Sinatra [Disc 1]', 83, 24),\n",
       " ('Lost', 'Lost, Season 2', 231, 24),\n",
       " ('Battlestar Galactica (Classic)',\n",
       "  'Battlestar Galactica (Classic), Season 1',\n",
       "  253,\n",
       "  24),\n",
       " ('Chico Science & Nação Zumbi', 'Afrociberdelia', 24, 23)]"
      ]
     },
     "execution_count": 31,
     "metadata": {},
     "output_type": "execute_result"
    }
   ],
   "source": [
    "# Find the *artist and album titles* that go with the album ids.\n",
    "cursor.execute(\"select Artist.Name, Album.Title, Album.AlbumId, count(*) as TrackCount  \\\n",
    "    from Track join Album  \\\n",
    "        on Track.AlbumId = Album.AlbumId \\\n",
    "    join Artist \\\n",
    "        on Album.ArtistId = Artist.ArtistId \\\n",
    "    group by Album.AlbumId \\\n",
    "    order by TrackCount desc\")\n",
    "cursor.fetchmany(10)"
   ]
  },
  {
   "cell_type": "code",
   "execution_count": 35,
   "metadata": {
    "cell_id": "7d69993d42944ccda1335832d00bcd7d",
    "deepnote_cell_type": "code",
    "deepnote_to_be_reexecuted": false,
    "execution_millis": 2,
    "execution_start": 1677076866112,
    "source_hash": "b70c4c4",
    "tags": []
   },
   "outputs": [
    {
     "data": {
      "text/plain": [
       "['z', 'b', 'c']"
      ]
     },
     "execution_count": 35,
     "metadata": {},
     "output_type": "execute_result"
    }
   ],
   "source": [
    "aTuple = ('a', 'b', 'c')\n",
    "aListVersionOfATuple = list(aTuple)\n",
    "# aTuple[0] = 'z'\n",
    "aListVersionOfATuple[0] = 'z'\n",
    "aListVersionOfATuple"
   ]
  },
  {
   "cell_type": "markdown",
   "metadata": {
    "cell_id": "cc6a65e60bbc4d758a867565bc86afaf",
    "deepnote_cell_type": "markdown",
    "tags": []
   },
   "source": [
    "## Getting column names from an SQLite database"
   ]
  },
  {
   "cell_type": "code",
   "execution_count": 36,
   "metadata": {
    "cell_id": "45878a7e38c041a0a7a8b13d766ba247",
    "deepnote_cell_type": "code",
    "deepnote_to_be_reexecuted": false,
    "execution_millis": 1,
    "execution_start": 1677076938024,
    "source_hash": "fe27838f"
   },
   "outputs": [],
   "source": [
    "connection.row_factory = sqlite3.Row\n",
    "cursor = connection.cursor()"
   ]
  },
  {
   "cell_type": "code",
   "execution_count": 38,
   "metadata": {
    "cell_id": "c3bca4586ac84b0ebfc9ee1e26a685c1",
    "deepnote_cell_type": "code",
    "deepnote_to_be_reexecuted": false,
    "execution_millis": 1,
    "execution_start": 1677076985400,
    "source_hash": "afca87f6"
   },
   "outputs": [],
   "source": [
    "# Run one of our earlier queries...\n",
    "\n",
    "cursor.execute(\"select Artist.Name, Album.Title, Album.AlbumId, count(*) as TrackCount  \\\n",
    "    from Track join Album  \\\n",
    "        on Track.AlbumId = Album.AlbumId \\\n",
    "    join Artist \\\n",
    "        on Album.ArtistId = Artist.ArtistId \\\n",
    "    group by Album.AlbumId \\\n",
    "    order by TrackCount desc\")\n",
    "results = cursor.fetchmany(10)"
   ]
  },
  {
   "cell_type": "code",
   "execution_count": 43,
   "metadata": {
    "cell_id": "f4a7d12650d845d98ed4343d0856c889",
    "deepnote_cell_type": "code",
    "deepnote_to_be_reexecuted": false,
    "execution_millis": 6,
    "execution_start": 1677077086078,
    "source_hash": "ddf0a90d",
    "tags": []
   },
   "outputs": [
    {
     "data": {
      "text/plain": [
       "'Greatest Hits'"
      ]
     },
     "execution_count": 43,
     "metadata": {},
     "output_type": "execute_result"
    }
   ],
   "source": [
    "results[0]['Name']\n",
    "results[0]['Title']"
   ]
  },
  {
   "cell_type": "code",
   "execution_count": 44,
   "metadata": {
    "cell_id": "4013a16b05cb4c499da1e63fc7841026",
    "deepnote_cell_type": "code",
    "deepnote_to_be_reexecuted": false,
    "execution_millis": 2,
    "execution_start": 1677077125444,
    "source_hash": "25a3ee6c"
   },
   "outputs": [],
   "source": [
    "from collections import namedtuple\n",
    "\n",
    "def namedtuple_factory(cursor, row):\n",
    "    fields = [column[0] for column in cursor.description]\n",
    "    cls = namedtuple(\"Row\", fields)\n",
    "    return cls._make(row)\n",
    "\n",
    "connection.row_factory = namedtuple_factory\n",
    "cursor = connection.cursor()\n",
    "\n",
    "## Run the same query again"
   ]
  },
  {
   "cell_type": "code",
   "execution_count": 45,
   "metadata": {
    "cell_id": "2f9ea7a56d8c4dc08923a0bcc236c29d",
    "deepnote_cell_type": "code",
    "deepnote_to_be_reexecuted": false,
    "execution_millis": 1,
    "execution_start": 1677077140424,
    "source_hash": "5adf846b"
   },
   "outputs": [],
   "source": [
    "cursor.execute(\"select Artist.Name, Album.Title, Album.AlbumId, count(*) as TrackCount  \\\n",
    "    from Track join Album  \\\n",
    "        on Track.AlbumId = Album.AlbumId \\\n",
    "    join Artist \\\n",
    "        on Album.ArtistId = Artist.ArtistId \\\n",
    "    group by Album.AlbumId \\\n",
    "    order by TrackCount desc\")\n",
    "results = cursor.fetchmany(10)"
   ]
  },
  {
   "cell_type": "code",
   "execution_count": 46,
   "metadata": {
    "cell_id": "6c13e29604e147c6805f5163f970d447",
    "deepnote_cell_type": "code",
    "deepnote_to_be_reexecuted": false,
    "execution_millis": 10,
    "execution_start": 1677077144959,
    "source_hash": "4a35c05a",
    "tags": []
   },
   "outputs": [
    {
     "data": {
      "text/plain": [
       "[Row(Name='Lenny Kravitz', Title='Greatest Hits', AlbumId=141, TrackCount=57),\n",
       " Row(Name='Chico Buarque', Title='Minha Historia', AlbumId=23, TrackCount=34),\n",
       " Row(Name='Eric Clapton', Title='Unplugged', AlbumId=73, TrackCount=30),\n",
       " Row(Name='Lost', Title='Lost, Season 3', AlbumId=229, TrackCount=26),\n",
       " Row(Name='Lost', Title='Lost, Season 1', AlbumId=230, TrackCount=25),\n",
       " Row(Name='The Office', Title='The Office, Season 3', AlbumId=251, TrackCount=25),\n",
       " Row(Name='Frank Sinatra', Title='My Way: The Best Of Frank Sinatra [Disc 1]', AlbumId=83, TrackCount=24),\n",
       " Row(Name='Lost', Title='Lost, Season 2', AlbumId=231, TrackCount=24),\n",
       " Row(Name='Battlestar Galactica (Classic)', Title='Battlestar Galactica (Classic), Season 1', AlbumId=253, TrackCount=24),\n",
       " Row(Name='Chico Science & Nação Zumbi', Title='Afrociberdelia', AlbumId=24, TrackCount=23)]"
      ]
     },
     "execution_count": 46,
     "metadata": {},
     "output_type": "execute_result"
    }
   ],
   "source": [
    "results"
   ]
  },
  {
   "cell_type": "code",
   "execution_count": 48,
   "metadata": {
    "cell_id": "0b1638a35c684317830d16a2255fce41",
    "deepnote_cell_type": "code",
    "deepnote_to_be_reexecuted": false,
    "execution_millis": 13,
    "execution_start": 1677077176790,
    "source_hash": "739d0740",
    "tags": []
   },
   "outputs": [
    {
     "data": {
      "text/plain": [
       "'Lenny Kravitz'"
      ]
     },
     "execution_count": 48,
     "metadata": {},
     "output_type": "execute_result"
    }
   ],
   "source": [
    "results[0].Name"
   ]
  }
 ],
 "metadata": {
  "deepnote_execution_queue": [],
  "deepnote_notebook_id": "67574bfc947f45c09f372e4deee599ce",
  "kernelspec": {
   "display_name": "Python 3 (ipykernel)",
   "language": "python",
   "name": "python3"
  },
  "language_info": {
   "codemirror_mode": {
    "name": "ipython",
    "version": 3
   },
   "file_extension": ".py",
   "mimetype": "text/x-python",
   "name": "python",
   "nbconvert_exporter": "python",
   "pygments_lexer": "ipython3",
   "version": "3.12.3"
  }
 },
 "nbformat": 4,
 "nbformat_minor": 4
}
